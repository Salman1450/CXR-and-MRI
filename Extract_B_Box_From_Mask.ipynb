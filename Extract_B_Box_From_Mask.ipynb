{
  "nbformat": 4,
  "nbformat_minor": 0,
  "metadata": {
    "colab": {
      "provenance": [],
      "authorship_tag": "ABX9TyPPFBm0mSAG5yXKssjBEJs5",
      "include_colab_link": true
    },
    "kernelspec": {
      "name": "python3",
      "display_name": "Python 3"
    },
    "language_info": {
      "name": "python"
    }
  },
  "cells": [
    {
      "cell_type": "markdown",
      "metadata": {
        "id": "view-in-github",
        "colab_type": "text"
      },
      "source": [
        "<a href=\"https://colab.research.google.com/github/Salman1450/CXR-and-MRI/blob/main/Extract_B_Box_From_Mask.ipynb\" target=\"_parent\"><img src=\"https://colab.research.google.com/assets/colab-badge.svg\" alt=\"Open In Colab\"/></a>"
      ]
    },
    {
      "cell_type": "code",
      "execution_count": null,
      "metadata": {
        "colab": {
          "base_uri": "https://localhost:8080/"
        },
        "id": "GCu1So7AKpz9",
        "outputId": "7b3dd476-0348-4e45-8469-bebc62670af6"
      },
      "outputs": [
        {
          "output_type": "stream",
          "name": "stdout",
          "text": [
            "Mounted at /content/drive\n"
          ]
        }
      ],
      "source": [
        "from google.colab import drive\n",
        "drive.mount('/content/drive')"
      ]
    },
    {
      "cell_type": "code",
      "source": [
        "import os\n",
        "import numpy as np\n",
        "import cv2\n",
        "from glob import glob\n",
        "from tqdm import tqdm\n",
        "from skimage.measure import label, regionprops, find_contours"
      ],
      "metadata": {
        "id": "WwODL8EpK66N"
      },
      "execution_count": null,
      "outputs": []
    },
    {
      "cell_type": "code",
      "source": [
        "def mask_to_border(mask):\n",
        "    h, w = mask.shape\n",
        "    border = np.zeros((h, w))\n",
        "\n",
        "    contours = find_contours(mask, 128)\n",
        "    for contour in contours:\n",
        "        for c in contour:\n",
        "            x = int(c[0])\n",
        "            y = int(c[1])\n",
        "            border[x][y] = 255\n",
        "\n",
        "    return border"
      ],
      "metadata": {
        "id": "QXawg4dlO2nN"
      },
      "execution_count": null,
      "outputs": []
    },
    {
      "cell_type": "code",
      "source": [
        "def mask_to_bbox(mask):\n",
        "    bboxes = []\n",
        "\n",
        "    mask = mask_to_border(mask)\n",
        "    lbl = label(mask)\n",
        "    props = regionprops(lbl)\n",
        "    for prop in props:\n",
        "        x1 = prop.bbox[1]\n",
        "        y1 = prop.bbox[0]\n",
        "\n",
        "        x2 = prop.bbox[3]\n",
        "        y2 = prop.bbox[2]\n",
        "\n",
        "        bboxes.append([x1, y1, x2, y2])\n",
        "\n",
        "    return bboxes"
      ],
      "metadata": {
        "id": "HN9E4H0TQvVL"
      },
      "execution_count": null,
      "outputs": []
    },
    {
      "cell_type": "code",
      "source": [
        "image = \"/content/drive/MyDrive/Colab Notebooks/Test Tumors/with mask/MRI/2.png\"\n",
        "mask = \"/content/drive/MyDrive/Colab Notebooks/Test Tumors/with mask/Mask/2.png\""
      ],
      "metadata": {
        "id": "niCDqWZHMlOm"
      },
      "execution_count": null,
      "outputs": []
    },
    {
      "cell_type": "code",
      "source": [
        "#Finding the border\n",
        "y = cv2.imread(mask, cv2.IMREAD_GRAYSCALE)\n",
        "border = mask_to_border(y)\n",
        "cv2.imwrite(f\"border.png\", border)"
      ],
      "metadata": {
        "id": "YNJqQ3h5NInE"
      },
      "execution_count": null,
      "outputs": []
    },
    {
      "cell_type": "code",
      "source": [
        "img = cv2.imread(image, cv2.IMREAD_COLOR)\n",
        "img = cv2.resize(img, (256, 256))"
      ],
      "metadata": {
        "id": "OEnUBUxoSgXY"
      },
      "execution_count": null,
      "outputs": []
    },
    {
      "cell_type": "code",
      "source": [
        "mask= cv2.imread(mask, cv2.IMREAD_GRAYSCALE)\n",
        "mask= cv2.resize(mask, (256,256))#make sure mri and mask sizes are identical"
      ],
      "metadata": {
        "id": "aajJ_E8QSiH3"
      },
      "execution_count": null,
      "outputs": []
    },
    {
      "cell_type": "code",
      "source": [
        "        #\"\"\" Detecting bounding boxes \"\"\"\n",
        "bboxes = mask_to_bbox(mask)\n",
        "\n",
        "        #\"\"\" marking bounding box on image \"\"\"\n",
        "for bbox in bboxes:\n",
        "      img = cv2.rectangle(img, (bbox[0], bbox[1]), (bbox[2], bbox[3]), (255, 0, 0), 2)\n",
        "\n",
        "        #\"\"\" Saving the image \"\"\"\n",
        "cv2.imwrite(f\"output.png\", img)"
      ],
      "metadata": {
        "colab": {
          "base_uri": "https://localhost:8080/"
        },
        "id": "br_BP_3GSiRM",
        "outputId": "ddb8cef5-e8dd-48e8-9a4a-7dae603de518"
      },
      "execution_count": null,
      "outputs": [
        {
          "output_type": "execute_result",
          "data": {
            "text/plain": [
              "True"
            ]
          },
          "metadata": {},
          "execution_count": 35
        }
      ]
    },
    {
      "cell_type": "code",
      "source": [],
      "metadata": {
        "id": "s0g2uheOSiVp"
      },
      "execution_count": null,
      "outputs": []
    }
  ]
}