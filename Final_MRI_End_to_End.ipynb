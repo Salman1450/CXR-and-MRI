{
  "nbformat": 4,
  "nbformat_minor": 0,
  "metadata": {
    "colab": {
      "provenance": [],
      "authorship_tag": "ABX9TyPOQDZBByJbac83LjBKRQ8u",
      "include_colab_link": true
    },
    "kernelspec": {
      "name": "python3",
      "display_name": "Python 3"
    },
    "language_info": {
      "name": "python"
    },
    "gpuClass": "standard",
    "accelerator": "GPU"
  },
  "cells": [
    {
      "cell_type": "markdown",
      "metadata": {
        "id": "view-in-github",
        "colab_type": "text"
      },
      "source": [
        "<a href=\"https://colab.research.google.com/github/Salman1450/CXR-and-MRI/blob/main/Final_MRI_End_to_End.ipynb\" target=\"_parent\"><img src=\"https://colab.research.google.com/assets/colab-badge.svg\" alt=\"Open In Colab\"/></a>"
      ]
    },
    {
      "cell_type": "code",
      "execution_count": 1,
      "metadata": {
        "id": "uPbx3We68dtx"
      },
      "outputs": [],
      "source": [
        "#First Run the segmentation then classification then annotation.\n",
        "import matplotlib.pyplot as plt\n",
        "from tensorflow.keras.models import Model\n",
        "from tensorflow.keras.layers import GlobalAveragePooling2D, Dense\n",
        "from tensorflow.keras.applications import vgg16\n",
        "from tensorflow.keras.optimizers import Adam, SGD\n",
        "import scipy  #Used to upsample our image\n",
        "\n",
        "import os\n",
        "import cv2\n",
        "from PIL import Image\n",
        "import numpy as np\n",
        "from scipy import ndimage as nd #For Gaussian Filter"
      ]
    },
    {
      "cell_type": "code",
      "source": [
        "from google.colab import drive\n",
        "drive.mount('/content/drive')"
      ],
      "metadata": {
        "colab": {
          "base_uri": "https://localhost:8080/"
        },
        "id": "4__FDQS5_LVa",
        "outputId": "854eef43-868f-43ac-ef95-8803a402616a"
      },
      "execution_count": 2,
      "outputs": [
        {
          "output_type": "stream",
          "name": "stdout",
          "text": [
            "Mounted at /content/drive\n"
          ]
        }
      ]
    },
    {
      "cell_type": "markdown",
      "source": [
        "**Segmenting the tumor From MRI**"
      ],
      "metadata": {
        "id": "JbyGU7gVsLxx"
      }
    },
    {
      "cell_type": "code",
      "source": [
        "from tensorflow.keras.layers import Conv2D, BatchNormalization, Activation, MaxPool2D, Conv2DTranspose, Concatenate, Input\n",
        "from tensorflow.keras.models import Model"
      ],
      "metadata": {
        "id": "UDfBqvSyjYeg"
      },
      "execution_count": 3,
      "outputs": []
    },
    {
      "cell_type": "code",
      "source": [
        " def conv_block(input, num_filters):\n",
        "    x = Conv2D(num_filters, 3, padding=\"same\")(input)\n",
        "    x = BatchNormalization()(x)\n",
        "    x = Activation(\"relu\")(x)\n",
        "\n",
        "    x = Conv2D(num_filters, 3, padding=\"same\")(x)\n",
        "    x = BatchNormalization()(x)\n",
        "    x = Activation(\"relu\")(x)\n",
        "\n",
        "    return x"
      ],
      "metadata": {
        "id": "Qa_owxg4sSSN"
      },
      "execution_count": 4,
      "outputs": []
    },
    {
      "cell_type": "code",
      "source": [
        "def encoder_block(input, num_filters):\n",
        "    x = conv_block(input, num_filters)\n",
        "    p = MaxPool2D((2, 2))(x)\n",
        "    return x, p"
      ],
      "metadata": {
        "id": "DpyWeVC6se_r"
      },
      "execution_count": 5,
      "outputs": []
    },
    {
      "cell_type": "code",
      "source": [
        "def decoder_block(input, skip_features, num_filters):\n",
        "    x = Conv2DTranspose(num_filters, (2, 2), strides=2, padding=\"same\")(input)\n",
        "    x = Concatenate()([x, skip_features])\n",
        "    x = conv_block(x, num_filters)\n",
        "    return x"
      ],
      "metadata": {
        "id": "FGwuM5dmsfDT"
      },
      "execution_count": 6,
      "outputs": []
    },
    {
      "cell_type": "code",
      "source": [
        "def build_unet(input_shape):\n",
        "    inputs = Input(input_shape)\n",
        "\n",
        "    s1, p1 = encoder_block(inputs, 64)\n",
        "    s2, p2 = encoder_block(p1, 128)\n",
        "    s3, p3 = encoder_block(p2, 256)\n",
        "    s4, p4 = encoder_block(p3, 512)\n",
        "\n",
        "    b1 = conv_block(p4, 1024)\n",
        "\n",
        "    d1 = decoder_block(b1, s4, 512)\n",
        "    d2 = decoder_block(d1, s3, 256)\n",
        "    d3 = decoder_block(d2, s2, 128)\n",
        "    d4 = decoder_block(d3, s1, 64)\n",
        "\n",
        "    outputs = Conv2D(1, 1, padding=\"same\", activation=\"sigmoid\")(d4)\n",
        "\n",
        "    u_model = Model(inputs, outputs, name=\"U-Net\")\n",
        "    return u_model"
      ],
      "metadata": {
        "id": "5z0EkACNsqti"
      },
      "execution_count": 7,
      "outputs": []
    },
    {
      "cell_type": "code",
      "source": [
        "if __name__ == \"__main__\":\n",
        "    input_shape = (512, 512, 3)\n",
        "    u_model = build_unet(input_shape)\n",
        "    u_model.summary()"
      ],
      "metadata": {
        "colab": {
          "base_uri": "https://localhost:8080/"
        },
        "id": "bbqtIUiAsxJB",
        "outputId": "cecace26-cfb6-49b4-8d14-2e6219204aa6"
      },
      "execution_count": 8,
      "outputs": [
        {
          "output_type": "stream",
          "name": "stdout",
          "text": [
            "Model: \"U-Net\"\n",
            "__________________________________________________________________________________________________\n",
            " Layer (type)                   Output Shape         Param #     Connected to                     \n",
            "==================================================================================================\n",
            " input_1 (InputLayer)           [(None, 512, 512, 3  0           []                               \n",
            "                                )]                                                                \n",
            "                                                                                                  \n",
            " conv2d (Conv2D)                (None, 512, 512, 64  1792        ['input_1[0][0]']                \n",
            "                                )                                                                 \n",
            "                                                                                                  \n",
            " batch_normalization (BatchNorm  (None, 512, 512, 64  256        ['conv2d[0][0]']                 \n",
            " alization)                     )                                                                 \n",
            "                                                                                                  \n",
            " activation (Activation)        (None, 512, 512, 64  0           ['batch_normalization[0][0]']    \n",
            "                                )                                                                 \n",
            "                                                                                                  \n",
            " conv2d_1 (Conv2D)              (None, 512, 512, 64  36928       ['activation[0][0]']             \n",
            "                                )                                                                 \n",
            "                                                                                                  \n",
            " batch_normalization_1 (BatchNo  (None, 512, 512, 64  256        ['conv2d_1[0][0]']               \n",
            " rmalization)                   )                                                                 \n",
            "                                                                                                  \n",
            " activation_1 (Activation)      (None, 512, 512, 64  0           ['batch_normalization_1[0][0]']  \n",
            "                                )                                                                 \n",
            "                                                                                                  \n",
            " max_pooling2d (MaxPooling2D)   (None, 256, 256, 64  0           ['activation_1[0][0]']           \n",
            "                                )                                                                 \n",
            "                                                                                                  \n",
            " conv2d_2 (Conv2D)              (None, 256, 256, 12  73856       ['max_pooling2d[0][0]']          \n",
            "                                8)                                                                \n",
            "                                                                                                  \n",
            " batch_normalization_2 (BatchNo  (None, 256, 256, 12  512        ['conv2d_2[0][0]']               \n",
            " rmalization)                   8)                                                                \n",
            "                                                                                                  \n",
            " activation_2 (Activation)      (None, 256, 256, 12  0           ['batch_normalization_2[0][0]']  \n",
            "                                8)                                                                \n",
            "                                                                                                  \n",
            " conv2d_3 (Conv2D)              (None, 256, 256, 12  147584      ['activation_2[0][0]']           \n",
            "                                8)                                                                \n",
            "                                                                                                  \n",
            " batch_normalization_3 (BatchNo  (None, 256, 256, 12  512        ['conv2d_3[0][0]']               \n",
            " rmalization)                   8)                                                                \n",
            "                                                                                                  \n",
            " activation_3 (Activation)      (None, 256, 256, 12  0           ['batch_normalization_3[0][0]']  \n",
            "                                8)                                                                \n",
            "                                                                                                  \n",
            " max_pooling2d_1 (MaxPooling2D)  (None, 128, 128, 12  0          ['activation_3[0][0]']           \n",
            "                                8)                                                                \n",
            "                                                                                                  \n",
            " conv2d_4 (Conv2D)              (None, 128, 128, 25  295168      ['max_pooling2d_1[0][0]']        \n",
            "                                6)                                                                \n",
            "                                                                                                  \n",
            " batch_normalization_4 (BatchNo  (None, 128, 128, 25  1024       ['conv2d_4[0][0]']               \n",
            " rmalization)                   6)                                                                \n",
            "                                                                                                  \n",
            " activation_4 (Activation)      (None, 128, 128, 25  0           ['batch_normalization_4[0][0]']  \n",
            "                                6)                                                                \n",
            "                                                                                                  \n",
            " conv2d_5 (Conv2D)              (None, 128, 128, 25  590080      ['activation_4[0][0]']           \n",
            "                                6)                                                                \n",
            "                                                                                                  \n",
            " batch_normalization_5 (BatchNo  (None, 128, 128, 25  1024       ['conv2d_5[0][0]']               \n",
            " rmalization)                   6)                                                                \n",
            "                                                                                                  \n",
            " activation_5 (Activation)      (None, 128, 128, 25  0           ['batch_normalization_5[0][0]']  \n",
            "                                6)                                                                \n",
            "                                                                                                  \n",
            " max_pooling2d_2 (MaxPooling2D)  (None, 64, 64, 256)  0          ['activation_5[0][0]']           \n",
            "                                                                                                  \n",
            " conv2d_6 (Conv2D)              (None, 64, 64, 512)  1180160     ['max_pooling2d_2[0][0]']        \n",
            "                                                                                                  \n",
            " batch_normalization_6 (BatchNo  (None, 64, 64, 512)  2048       ['conv2d_6[0][0]']               \n",
            " rmalization)                                                                                     \n",
            "                                                                                                  \n",
            " activation_6 (Activation)      (None, 64, 64, 512)  0           ['batch_normalization_6[0][0]']  \n",
            "                                                                                                  \n",
            " conv2d_7 (Conv2D)              (None, 64, 64, 512)  2359808     ['activation_6[0][0]']           \n",
            "                                                                                                  \n",
            " batch_normalization_7 (BatchNo  (None, 64, 64, 512)  2048       ['conv2d_7[0][0]']               \n",
            " rmalization)                                                                                     \n",
            "                                                                                                  \n",
            " activation_7 (Activation)      (None, 64, 64, 512)  0           ['batch_normalization_7[0][0]']  \n",
            "                                                                                                  \n",
            " max_pooling2d_3 (MaxPooling2D)  (None, 32, 32, 512)  0          ['activation_7[0][0]']           \n",
            "                                                                                                  \n",
            " conv2d_8 (Conv2D)              (None, 32, 32, 1024  4719616     ['max_pooling2d_3[0][0]']        \n",
            "                                )                                                                 \n",
            "                                                                                                  \n",
            " batch_normalization_8 (BatchNo  (None, 32, 32, 1024  4096       ['conv2d_8[0][0]']               \n",
            " rmalization)                   )                                                                 \n",
            "                                                                                                  \n",
            " activation_8 (Activation)      (None, 32, 32, 1024  0           ['batch_normalization_8[0][0]']  \n",
            "                                )                                                                 \n",
            "                                                                                                  \n",
            " conv2d_9 (Conv2D)              (None, 32, 32, 1024  9438208     ['activation_8[0][0]']           \n",
            "                                )                                                                 \n",
            "                                                                                                  \n",
            " batch_normalization_9 (BatchNo  (None, 32, 32, 1024  4096       ['conv2d_9[0][0]']               \n",
            " rmalization)                   )                                                                 \n",
            "                                                                                                  \n",
            " activation_9 (Activation)      (None, 32, 32, 1024  0           ['batch_normalization_9[0][0]']  \n",
            "                                )                                                                 \n",
            "                                                                                                  \n",
            " conv2d_transpose (Conv2DTransp  (None, 64, 64, 512)  2097664    ['activation_9[0][0]']           \n",
            " ose)                                                                                             \n",
            "                                                                                                  \n",
            " concatenate (Concatenate)      (None, 64, 64, 1024  0           ['conv2d_transpose[0][0]',       \n",
            "                                )                                 'activation_7[0][0]']           \n",
            "                                                                                                  \n",
            " conv2d_10 (Conv2D)             (None, 64, 64, 512)  4719104     ['concatenate[0][0]']            \n",
            "                                                                                                  \n",
            " batch_normalization_10 (BatchN  (None, 64, 64, 512)  2048       ['conv2d_10[0][0]']              \n",
            " ormalization)                                                                                    \n",
            "                                                                                                  \n",
            " activation_10 (Activation)     (None, 64, 64, 512)  0           ['batch_normalization_10[0][0]'] \n",
            "                                                                                                  \n",
            " conv2d_11 (Conv2D)             (None, 64, 64, 512)  2359808     ['activation_10[0][0]']          \n",
            "                                                                                                  \n",
            " batch_normalization_11 (BatchN  (None, 64, 64, 512)  2048       ['conv2d_11[0][0]']              \n",
            " ormalization)                                                                                    \n",
            "                                                                                                  \n",
            " activation_11 (Activation)     (None, 64, 64, 512)  0           ['batch_normalization_11[0][0]'] \n",
            "                                                                                                  \n",
            " conv2d_transpose_1 (Conv2DTran  (None, 128, 128, 25  524544     ['activation_11[0][0]']          \n",
            " spose)                         6)                                                                \n",
            "                                                                                                  \n",
            " concatenate_1 (Concatenate)    (None, 128, 128, 51  0           ['conv2d_transpose_1[0][0]',     \n",
            "                                2)                                'activation_5[0][0]']           \n",
            "                                                                                                  \n",
            " conv2d_12 (Conv2D)             (None, 128, 128, 25  1179904     ['concatenate_1[0][0]']          \n",
            "                                6)                                                                \n",
            "                                                                                                  \n",
            " batch_normalization_12 (BatchN  (None, 128, 128, 25  1024       ['conv2d_12[0][0]']              \n",
            " ormalization)                  6)                                                                \n",
            "                                                                                                  \n",
            " activation_12 (Activation)     (None, 128, 128, 25  0           ['batch_normalization_12[0][0]'] \n",
            "                                6)                                                                \n",
            "                                                                                                  \n",
            " conv2d_13 (Conv2D)             (None, 128, 128, 25  590080      ['activation_12[0][0]']          \n",
            "                                6)                                                                \n",
            "                                                                                                  \n",
            " batch_normalization_13 (BatchN  (None, 128, 128, 25  1024       ['conv2d_13[0][0]']              \n",
            " ormalization)                  6)                                                                \n",
            "                                                                                                  \n",
            " activation_13 (Activation)     (None, 128, 128, 25  0           ['batch_normalization_13[0][0]'] \n",
            "                                6)                                                                \n",
            "                                                                                                  \n",
            " conv2d_transpose_2 (Conv2DTran  (None, 256, 256, 12  131200     ['activation_13[0][0]']          \n",
            " spose)                         8)                                                                \n",
            "                                                                                                  \n",
            " concatenate_2 (Concatenate)    (None, 256, 256, 25  0           ['conv2d_transpose_2[0][0]',     \n",
            "                                6)                                'activation_3[0][0]']           \n",
            "                                                                                                  \n",
            " conv2d_14 (Conv2D)             (None, 256, 256, 12  295040      ['concatenate_2[0][0]']          \n",
            "                                8)                                                                \n",
            "                                                                                                  \n",
            " batch_normalization_14 (BatchN  (None, 256, 256, 12  512        ['conv2d_14[0][0]']              \n",
            " ormalization)                  8)                                                                \n",
            "                                                                                                  \n",
            " activation_14 (Activation)     (None, 256, 256, 12  0           ['batch_normalization_14[0][0]'] \n",
            "                                8)                                                                \n",
            "                                                                                                  \n",
            " conv2d_15 (Conv2D)             (None, 256, 256, 12  147584      ['activation_14[0][0]']          \n",
            "                                8)                                                                \n",
            "                                                                                                  \n",
            " batch_normalization_15 (BatchN  (None, 256, 256, 12  512        ['conv2d_15[0][0]']              \n",
            " ormalization)                  8)                                                                \n",
            "                                                                                                  \n",
            " activation_15 (Activation)     (None, 256, 256, 12  0           ['batch_normalization_15[0][0]'] \n",
            "                                8)                                                                \n",
            "                                                                                                  \n",
            " conv2d_transpose_3 (Conv2DTran  (None, 512, 512, 64  32832      ['activation_15[0][0]']          \n",
            " spose)                         )                                                                 \n",
            "                                                                                                  \n",
            " concatenate_3 (Concatenate)    (None, 512, 512, 12  0           ['conv2d_transpose_3[0][0]',     \n",
            "                                8)                                'activation_1[0][0]']           \n",
            "                                                                                                  \n",
            " conv2d_16 (Conv2D)             (None, 512, 512, 64  73792       ['concatenate_3[0][0]']          \n",
            "                                )                                                                 \n",
            "                                                                                                  \n",
            " batch_normalization_16 (BatchN  (None, 512, 512, 64  256        ['conv2d_16[0][0]']              \n",
            " ormalization)                  )                                                                 \n",
            "                                                                                                  \n",
            " activation_16 (Activation)     (None, 512, 512, 64  0           ['batch_normalization_16[0][0]'] \n",
            "                                )                                                                 \n",
            "                                                                                                  \n",
            " conv2d_17 (Conv2D)             (None, 512, 512, 64  36928       ['activation_16[0][0]']          \n",
            "                                )                                                                 \n",
            "                                                                                                  \n",
            " batch_normalization_17 (BatchN  (None, 512, 512, 64  256        ['conv2d_17[0][0]']              \n",
            " ormalization)                  )                                                                 \n",
            "                                                                                                  \n",
            " activation_17 (Activation)     (None, 512, 512, 64  0           ['batch_normalization_17[0][0]'] \n",
            "                                )                                                                 \n",
            "                                                                                                  \n",
            " conv2d_18 (Conv2D)             (None, 512, 512, 1)  65          ['activation_17[0][0]']          \n",
            "                                                                                                  \n",
            "==================================================================================================\n",
            "Total params: 31,055,297\n",
            "Trainable params: 31,043,521\n",
            "Non-trainable params: 11,776\n",
            "__________________________________________________________________________________________________\n"
          ]
        }
      ]
    },
    {
      "cell_type": "code",
      "source": [
        "import numpy as np\n",
        "import tensorflow as tf\n",
        "from tensorflow.keras import backend as K\n",
        "\n",
        "def iou(y_true, y_pred):\n",
        "    def f(y_true, y_pred):\n",
        "        intersection = (y_true * y_pred).sum()\n",
        "        union = y_true.sum() + y_pred.sum() - intersection\n",
        "        x = (intersection + 1e-15) / (union + 1e-15)\n",
        "        x = x.astype(np.float32)\n",
        "        return x\n",
        "    return tf.numpy_function(f, [y_true, y_pred], tf.float32)\n",
        "\n",
        "smooth = 1e-15\n",
        "def dice_coef(y_true, y_pred):\n",
        "    y_true = tf.keras.layers.Flatten()(y_true)\n",
        "    y_pred = tf.keras.layers.Flatten()(y_pred)\n",
        "    intersection = tf.reduce_sum(y_true * y_pred)\n",
        "    return (2. * intersection + smooth) / (tf.reduce_sum(y_true) + tf.reduce_sum(y_pred) + smooth)\n",
        "\n",
        "def dice_loss(y_true, y_pred):\n",
        "    return 1.0 - dice_coef(y_true, y_pred)"
      ],
      "metadata": {
        "id": "LknzZPvusxNA"
      },
      "execution_count": 9,
      "outputs": []
    },
    {
      "cell_type": "code",
      "source": [
        "import os\n",
        "os.environ[\"TF_CPP_MIN_LOG_LEVEL\"] = \"2\"\n",
        "\n",
        "import numpy as np\n",
        "import cv2\n",
        "from glob import glob\n",
        "from sklearn.utils import shuffle\n",
        "import tensorflow as tf\n",
        "from tensorflow.keras.callbacks import ModelCheckpoint, CSVLogger, ReduceLROnPlateau, EarlyStopping, TensorBoard\n",
        "from tensorflow.keras.optimizers import Adam\n",
        "from sklearn.model_selection import train_test_split"
      ],
      "metadata": {
        "id": "M1rhFsGmsq2z"
      },
      "execution_count": 10,
      "outputs": []
    },
    {
      "cell_type": "code",
      "source": [
        "\"\"\" Global parameters \"\"\"\n",
        "H = 256\n",
        "W = 256\n",
        "\n",
        "def create_dir(path):\n",
        "    if not os.path.exists(path):\n",
        "        os.makedirs(path)\n",
        "\n",
        "def load_dataset(path, split=0.2):\n",
        "    images = sorted(glob(os.path.join(path, \"images\", \"*.png\")))\n",
        "    masks = sorted(glob(os.path.join(path, \"masks\", \"*.png\")))\n",
        "\n",
        "    split_size = int(len(images) * split)\n",
        "\n",
        "    train_x, valid_x = train_test_split(images, test_size=split_size, random_state=42)\n",
        "    train_y, valid_y = train_test_split(masks, test_size=split_size, random_state=42)\n",
        "\n",
        "    train_x, test_x = train_test_split(train_x, test_size=split_size, random_state=42)\n",
        "    train_y, test_y = train_test_split(train_y, test_size=split_size, random_state=42)\n",
        "\n",
        "    return (train_x, train_y), (valid_x, valid_y), (test_x, test_y)\n",
        "\n",
        "def read_image(path):\n",
        "    path = path.decode()\n",
        "    x = cv2.imread(path, cv2.IMREAD_COLOR)\n",
        "    x = cv2.resize(x, (W, H))\n",
        "    x = x / 255.0\n",
        "    x = x.astype(np.float32)\n",
        "    return x\n",
        "\n",
        "def read_mask(path):\n",
        "    path = path.decode()\n",
        "    x = cv2.imread(path, cv2.IMREAD_GRAYSCALE)  ## (h, w)\n",
        "    x = cv2.resize(x, (W, H))   ## (h, w)\n",
        "    x = x / 255.0               ## (h, w)\n",
        "    x = x.astype(np.float32)    ## (h, w)\n",
        "    x = np.expand_dims(x, axis=-1)## (h, w, 1)\n",
        "    return x\n",
        "\n",
        "def tf_parse(x, y):\n",
        "    def _parse(x, y):\n",
        "        x = read_image(x)\n",
        "        y = read_mask(y)\n",
        "        return x, y\n",
        "\n",
        "    x, y = tf.numpy_function(_parse, [x, y], [tf.float32, tf.float32])\n",
        "    x.set_shape([H, W, 3])\n",
        "    y.set_shape([H, W, 1])\n",
        "    return x, y\n",
        "\n",
        "def tf_dataset(X, Y, batch=2):\n",
        "    dataset = tf.data.Dataset.from_tensor_slices((X, Y))\n",
        "    dataset = dataset.map(tf_parse)\n",
        "    dataset = dataset.batch(batch)\n",
        "    dataset = dataset.prefetch(10)\n",
        "    return dataset\n"
      ],
      "metadata": {
        "id": "2ggINz4VsSVA"
      },
      "execution_count": 11,
      "outputs": []
    },
    {
      "cell_type": "code",
      "source": [
        "if __name__ == \"__main__\":\n",
        "    \"\"\" Seeding \"\"\"\n",
        "    np.random.seed(42)\n",
        "    tf.random.set_seed(42)\n",
        "\n",
        "    \"\"\" Directory for storing files \"\"\"\n",
        "    create_dir(\"files\")\n",
        "\n",
        "    \"\"\" Hyperparameters \"\"\"\n",
        "    batch_size = 16 \n",
        "    lr = 1e-4\n",
        "    num_epochs = 30\n",
        "    model_path = os.path.join(\"files\", \"model.h5\")\n",
        "    csv_path = os.path.join(\"files\", \"log.csv\")\n",
        "\n",
        "    \"\"\" Dataset \"\"\"\n",
        "    dataset_path = \"/content/drive/MyDrive/Colab Notebooks/Tumor Segmentation\"\n",
        "    (train_x, train_y), (valid_x, valid_y), (test_x, test_y) = load_dataset(dataset_path)\n",
        "\n",
        "    print(f\"Train: {len(train_x)} - {len(train_y)}\")\n",
        "    print(f\"Valid: {len(valid_x)} - {len(valid_y)}\")\n",
        "    print(f\"Test : {len(test_x)} - {len(test_y)}\")\n",
        "\n",
        "    train_dataset = tf_dataset(train_x, train_y, batch=batch_size)\n",
        "    valid_dataset = tf_dataset(valid_x, valid_y, batch=batch_size)\n",
        "\n",
        "    \"\"\" Model \"\"\" \n",
        "    #Add IoU, accuracy here\n",
        "    u_model = build_unet((H, W, 3))\n",
        "    metrics = [dice_coef, iou]\n",
        "    u_model.compile(loss=dice_loss, optimizer=Adam(lr), metrics=[\"accuracy\",metrics])\n",
        "\n",
        "    callbacks = [\n",
        "        ModelCheckpoint(model_path, verbose=1, save_best_only=True),\n",
        "        ReduceLROnPlateau(monitor='val_loss', factor=0.1, patience=5, min_lr=1e-7, verbose=1),\n",
        "        CSVLogger(csv_path),\n",
        "        EarlyStopping(monitor='val_loss', patience=10, restore_best_weights=False),\n",
        "    ]\n",
        "\n",
        "    u_model.fit(\n",
        "        train_dataset,\n",
        "        epochs=num_epochs,\n",
        "        validation_data=valid_dataset,\n",
        "        callbacks=callbacks\n",
        "    )"
      ],
      "metadata": {
        "colab": {
          "base_uri": "https://localhost:8080/"
        },
        "id": "tujgndKptSmq",
        "outputId": "c8432cdc-db20-4c6f-f6cb-86ff97e93457"
      },
      "execution_count": 14,
      "outputs": [
        {
          "output_type": "stream",
          "name": "stderr",
          "text": [
            "WARNING:tensorflow:From /usr/local/lib/python3.8/dist-packages/tensorflow/python/autograph/pyct/static_analysis/liveness.py:83: Analyzer.lamba_check (from tensorflow.python.autograph.pyct.static_analysis.liveness) is deprecated and will be removed after 2023-09-23.\n",
            "Instructions for updating:\n",
            "Lambda fuctions will be no more assumed to be used in the statement where they are used, or at least in the same block. https://github.com/tensorflow/tensorflow/issues/56089\n"
          ]
        },
        {
          "output_type": "stream",
          "name": "stdout",
          "text": [
            "Train: 1852 - 1852\n",
            "Valid: 616 - 616\n",
            "Test : 616 - 616\n",
            "Epoch 1/30\n",
            "58/58 [==============================] - ETA: 0s - loss: 0.9041 - accuracy: 0.7291 - dice_coef: 0.0960 - iou: 0.0508 \n",
            "Epoch 1: val_loss improved from inf to 0.96971, saving model to files/model.h5\n",
            "58/58 [==============================] - 984s 15s/step - loss: 0.9041 - accuracy: 0.7291 - dice_coef: 0.0960 - iou: 0.0508 - val_loss: 0.9697 - val_accuracy: 0.0156 - val_dice_coef: 0.0303 - val_iou: 0.0154 - lr: 1.0000e-04\n",
            "Epoch 2/30\n",
            "58/58 [==============================] - ETA: 0s - loss: 0.7992 - accuracy: 0.9493 - dice_coef: 0.2009 - iou: 0.1121\n",
            "Epoch 2: val_loss did not improve from 0.96971\n",
            "58/58 [==============================] - 124s 2s/step - loss: 0.7992 - accuracy: 0.9493 - dice_coef: 0.2009 - iou: 0.1121 - val_loss: 0.9751 - val_accuracy: 0.9836 - val_dice_coef: 0.0248 - val_iou: 0.0126 - lr: 1.0000e-04\n",
            "Epoch 3/30\n",
            "58/58 [==============================] - ETA: 0s - loss: 0.7335 - accuracy: 0.9719 - dice_coef: 0.2666 - iou: 0.1543\n",
            "Epoch 3: val_loss did not improve from 0.96971\n",
            "58/58 [==============================] - 123s 2s/step - loss: 0.7335 - accuracy: 0.9719 - dice_coef: 0.2666 - iou: 0.1543 - val_loss: 0.9868 - val_accuracy: 0.8690 - val_dice_coef: 0.0131 - val_iou: 0.0066 - lr: 1.0000e-04\n",
            "Epoch 4/30\n",
            "58/58 [==============================] - ETA: 0s - loss: 0.6822 - accuracy: 0.9796 - dice_coef: 0.3180 - iou: 0.1896\n",
            "Epoch 4: val_loss did not improve from 0.96971\n",
            "58/58 [==============================] - 123s 2s/step - loss: 0.6822 - accuracy: 0.9796 - dice_coef: 0.3180 - iou: 0.1896 - val_loss: 0.9816 - val_accuracy: 0.9556 - val_dice_coef: 0.0184 - val_iou: 0.0093 - lr: 1.0000e-04\n",
            "Epoch 5/30\n",
            "58/58 [==============================] - ETA: 0s - loss: 0.6258 - accuracy: 0.9847 - dice_coef: 0.3743 - iou: 0.2309\n",
            "Epoch 5: val_loss did not improve from 0.96971\n",
            "58/58 [==============================] - 123s 2s/step - loss: 0.6258 - accuracy: 0.9847 - dice_coef: 0.3743 - iou: 0.2309 - val_loss: 0.9912 - val_accuracy: 0.8444 - val_dice_coef: 0.0087 - val_iou: 0.0044 - lr: 1.0000e-04\n",
            "Epoch 6/30\n",
            "58/58 [==============================] - ETA: 0s - loss: 0.5799 - accuracy: 0.9868 - dice_coef: 0.4202 - iou: 0.2667\n",
            "Epoch 6: val_loss did not improve from 0.96971\n",
            "\n",
            "Epoch 6: ReduceLROnPlateau reducing learning rate to 9.999999747378752e-06.\n",
            "58/58 [==============================] - 123s 2s/step - loss: 0.5799 - accuracy: 0.9868 - dice_coef: 0.4202 - iou: 0.2667 - val_loss: 0.9704 - val_accuracy: 0.9153 - val_dice_coef: 0.0289 - val_iou: 0.0147 - lr: 1.0000e-04\n",
            "Epoch 7/30\n",
            "58/58 [==============================] - ETA: 0s - loss: 0.5372 - accuracy: 0.9893 - dice_coef: 0.4629 - iou: 0.3018\n",
            "Epoch 7: val_loss improved from 0.96971 to 0.92103, saving model to files/model.h5\n",
            "58/58 [==============================] - 125s 2s/step - loss: 0.5372 - accuracy: 0.9893 - dice_coef: 0.4629 - iou: 0.3018 - val_loss: 0.9210 - val_accuracy: 0.9658 - val_dice_coef: 0.0775 - val_iou: 0.0406 - lr: 1.0000e-05\n",
            "Epoch 8/30\n",
            "58/58 [==============================] - ETA: 0s - loss: 0.5176 - accuracy: 0.9909 - dice_coef: 0.4825 - iou: 0.3186\n",
            "Epoch 8: val_loss improved from 0.92103 to 0.82582, saving model to files/model.h5\n",
            "58/58 [==============================] - 125s 2s/step - loss: 0.5176 - accuracy: 0.9909 - dice_coef: 0.4825 - iou: 0.3186 - val_loss: 0.8258 - val_accuracy: 0.9785 - val_dice_coef: 0.1722 - val_iou: 0.0948 - lr: 1.0000e-05\n",
            "Epoch 9/30\n",
            "58/58 [==============================] - ETA: 0s - loss: 0.5068 - accuracy: 0.9916 - dice_coef: 0.4933 - iou: 0.3281\n",
            "Epoch 9: val_loss improved from 0.82582 to 0.71643, saving model to files/model.h5\n",
            "58/58 [==============================] - 115s 2s/step - loss: 0.5068 - accuracy: 0.9916 - dice_coef: 0.4933 - iou: 0.3281 - val_loss: 0.7164 - val_accuracy: 0.9835 - val_dice_coef: 0.2781 - val_iou: 0.1628 - lr: 1.0000e-05\n",
            "Epoch 10/30\n",
            "58/58 [==============================] - ETA: 0s - loss: 0.4977 - accuracy: 0.9921 - dice_coef: 0.5024 - iou: 0.3361\n",
            "Epoch 10: val_loss improved from 0.71643 to 0.64311, saving model to files/model.h5\n",
            "58/58 [==============================] - 115s 2s/step - loss: 0.4977 - accuracy: 0.9921 - dice_coef: 0.5024 - iou: 0.3361 - val_loss: 0.6431 - val_accuracy: 0.9870 - val_dice_coef: 0.3554 - val_iou: 0.2174 - lr: 1.0000e-05\n",
            "Epoch 11/30\n",
            "58/58 [==============================] - ETA: 0s - loss: 0.4891 - accuracy: 0.9925 - dice_coef: 0.5110 - iou: 0.3439\n",
            "Epoch 11: val_loss improved from 0.64311 to 0.59622, saving model to files/model.h5\n",
            "58/58 [==============================] - 125s 2s/step - loss: 0.4891 - accuracy: 0.9925 - dice_coef: 0.5110 - iou: 0.3439 - val_loss: 0.5962 - val_accuracy: 0.9889 - val_dice_coef: 0.4045 - val_iou: 0.2546 - lr: 1.0000e-05\n",
            "Epoch 12/30\n",
            "58/58 [==============================] - ETA: 0s - loss: 0.4812 - accuracy: 0.9929 - dice_coef: 0.5189 - iou: 0.3510\n",
            "Epoch 12: val_loss improved from 0.59622 to 0.57165, saving model to files/model.h5\n",
            "58/58 [==============================] - 125s 2s/step - loss: 0.4812 - accuracy: 0.9929 - dice_coef: 0.5189 - iou: 0.3510 - val_loss: 0.5716 - val_accuracy: 0.9895 - val_dice_coef: 0.4290 - val_iou: 0.2738 - lr: 1.0000e-05\n",
            "Epoch 13/30\n",
            "58/58 [==============================] - ETA: 0s - loss: 0.4734 - accuracy: 0.9933 - dice_coef: 0.5266 - iou: 0.3581\n",
            "Epoch 13: val_loss improved from 0.57165 to 0.55855, saving model to files/model.h5\n",
            "58/58 [==============================] - 125s 2s/step - loss: 0.4734 - accuracy: 0.9933 - dice_coef: 0.5266 - iou: 0.3581 - val_loss: 0.5586 - val_accuracy: 0.9911 - val_dice_coef: 0.4419 - val_iou: 0.2844 - lr: 1.0000e-05\n",
            "Epoch 14/30\n",
            "58/58 [==============================] - ETA: 0s - loss: 0.4663 - accuracy: 0.9936 - dice_coef: 0.5337 - iou: 0.3647\n",
            "Epoch 14: val_loss improved from 0.55855 to 0.54776, saving model to files/model.h5\n",
            "58/58 [==============================] - 125s 2s/step - loss: 0.4663 - accuracy: 0.9936 - dice_coef: 0.5337 - iou: 0.3647 - val_loss: 0.5478 - val_accuracy: 0.9909 - val_dice_coef: 0.4525 - val_iou: 0.2931 - lr: 1.0000e-05\n",
            "Epoch 15/30\n",
            "58/58 [==============================] - ETA: 0s - loss: 0.4591 - accuracy: 0.9939 - dice_coef: 0.5410 - iou: 0.3715\n",
            "Epoch 15: val_loss improved from 0.54776 to 0.54315, saving model to files/model.h5\n",
            "58/58 [==============================] - 125s 2s/step - loss: 0.4591 - accuracy: 0.9939 - dice_coef: 0.5410 - iou: 0.3715 - val_loss: 0.5431 - val_accuracy: 0.9917 - val_dice_coef: 0.4575 - val_iou: 0.2973 - lr: 1.0000e-05\n",
            "Epoch 16/30\n",
            "58/58 [==============================] - ETA: 0s - loss: 0.4518 - accuracy: 0.9942 - dice_coef: 0.5482 - iou: 0.3783\n",
            "Epoch 16: val_loss improved from 0.54315 to 0.53925, saving model to files/model.h5\n",
            "58/58 [==============================] - 125s 2s/step - loss: 0.4518 - accuracy: 0.9942 - dice_coef: 0.5482 - iou: 0.3783 - val_loss: 0.5393 - val_accuracy: 0.9913 - val_dice_coef: 0.4610 - val_iou: 0.3002 - lr: 1.0000e-05\n",
            "Epoch 17/30\n",
            "58/58 [==============================] - ETA: 0s - loss: 0.4456 - accuracy: 0.9945 - dice_coef: 0.5545 - iou: 0.3843\n",
            "Epoch 17: val_loss did not improve from 0.53925\n",
            "58/58 [==============================] - 123s 2s/step - loss: 0.4456 - accuracy: 0.9945 - dice_coef: 0.5545 - iou: 0.3843 - val_loss: 0.5409 - val_accuracy: 0.9917 - val_dice_coef: 0.4597 - val_iou: 0.2991 - lr: 1.0000e-05\n",
            "Epoch 18/30\n",
            "58/58 [==============================] - ETA: 0s - loss: 0.4402 - accuracy: 0.9946 - dice_coef: 0.5599 - iou: 0.3895\n",
            "Epoch 18: val_loss improved from 0.53925 to 0.53748, saving model to files/model.h5\n",
            "58/58 [==============================] - 115s 2s/step - loss: 0.4402 - accuracy: 0.9946 - dice_coef: 0.5599 - iou: 0.3895 - val_loss: 0.5375 - val_accuracy: 0.9918 - val_dice_coef: 0.4635 - val_iou: 0.3023 - lr: 1.0000e-05\n",
            "Epoch 19/30\n",
            "58/58 [==============================] - ETA: 0s - loss: 0.4348 - accuracy: 0.9948 - dice_coef: 0.5652 - iou: 0.3947\n",
            "Epoch 19: val_loss improved from 0.53748 to 0.53499, saving model to files/model.h5\n",
            "58/58 [==============================] - 125s 2s/step - loss: 0.4348 - accuracy: 0.9948 - dice_coef: 0.5652 - iou: 0.3947 - val_loss: 0.5350 - val_accuracy: 0.9917 - val_dice_coef: 0.4657 - val_iou: 0.3043 - lr: 1.0000e-05\n",
            "Epoch 20/30\n",
            "58/58 [==============================] - ETA: 0s - loss: 0.4283 - accuracy: 0.9950 - dice_coef: 0.5717 - iou: 0.4010\n",
            "Epoch 20: val_loss improved from 0.53499 to 0.52599, saving model to files/model.h5\n",
            "58/58 [==============================] - 125s 2s/step - loss: 0.4283 - accuracy: 0.9950 - dice_coef: 0.5717 - iou: 0.4010 - val_loss: 0.5260 - val_accuracy: 0.9918 - val_dice_coef: 0.4748 - val_iou: 0.3120 - lr: 1.0000e-05\n",
            "Epoch 21/30\n",
            "58/58 [==============================] - ETA: 0s - loss: 0.4219 - accuracy: 0.9952 - dice_coef: 0.5782 - iou: 0.4074\n",
            "Epoch 21: val_loss improved from 0.52599 to 0.51391, saving model to files/model.h5\n",
            "58/58 [==============================] - 125s 2s/step - loss: 0.4219 - accuracy: 0.9952 - dice_coef: 0.5782 - iou: 0.4074 - val_loss: 0.5139 - val_accuracy: 0.9914 - val_dice_coef: 0.4867 - val_iou: 0.3223 - lr: 1.0000e-05\n",
            "Epoch 22/30\n",
            "58/58 [==============================] - ETA: 0s - loss: 0.4156 - accuracy: 0.9954 - dice_coef: 0.5844 - iou: 0.4136\n",
            "Epoch 22: val_loss improved from 0.51391 to 0.51316, saving model to files/model.h5\n",
            "58/58 [==============================] - 125s 2s/step - loss: 0.4156 - accuracy: 0.9954 - dice_coef: 0.5844 - iou: 0.4136 - val_loss: 0.5132 - val_accuracy: 0.9919 - val_dice_coef: 0.4879 - val_iou: 0.3233 - lr: 1.0000e-05\n",
            "Epoch 23/30\n",
            "58/58 [==============================] - ETA: 0s - loss: 0.4096 - accuracy: 0.9956 - dice_coef: 0.5905 - iou: 0.4197\n",
            "Epoch 23: val_loss improved from 0.51316 to 0.51086, saving model to files/model.h5\n",
            "58/58 [==============================] - 115s 2s/step - loss: 0.4096 - accuracy: 0.9956 - dice_coef: 0.5905 - iou: 0.4197 - val_loss: 0.5109 - val_accuracy: 0.9918 - val_dice_coef: 0.4899 - val_iou: 0.3251 - lr: 1.0000e-05\n",
            "Epoch 24/30\n",
            "58/58 [==============================] - ETA: 0s - loss: 0.4046 - accuracy: 0.9957 - dice_coef: 0.5955 - iou: 0.4247\n",
            "Epoch 24: val_loss improved from 0.51086 to 0.50805, saving model to files/model.h5\n",
            "58/58 [==============================] - 125s 2s/step - loss: 0.4046 - accuracy: 0.9957 - dice_coef: 0.5955 - iou: 0.4247 - val_loss: 0.5081 - val_accuracy: 0.9917 - val_dice_coef: 0.4932 - val_iou: 0.3280 - lr: 1.0000e-05\n",
            "Epoch 25/30\n",
            "58/58 [==============================] - ETA: 0s - loss: 0.3993 - accuracy: 0.9959 - dice_coef: 0.6007 - iou: 0.4300\n",
            "Epoch 25: val_loss improved from 0.50805 to 0.50578, saving model to files/model.h5\n",
            "58/58 [==============================] - 125s 2s/step - loss: 0.3993 - accuracy: 0.9959 - dice_coef: 0.6007 - iou: 0.4300 - val_loss: 0.5058 - val_accuracy: 0.9913 - val_dice_coef: 0.4952 - val_iou: 0.3297 - lr: 1.0000e-05\n",
            "Epoch 26/30\n",
            "58/58 [==============================] - ETA: 0s - loss: 0.3952 - accuracy: 0.9960 - dice_coef: 0.6048 - iou: 0.4342\n",
            "Epoch 26: val_loss improved from 0.50578 to 0.50207, saving model to files/model.h5\n",
            "58/58 [==============================] - 125s 2s/step - loss: 0.3952 - accuracy: 0.9960 - dice_coef: 0.6048 - iou: 0.4342 - val_loss: 0.5021 - val_accuracy: 0.9918 - val_dice_coef: 0.4984 - val_iou: 0.3325 - lr: 1.0000e-05\n",
            "Epoch 27/30\n",
            "58/58 [==============================] - ETA: 0s - loss: 0.3913 - accuracy: 0.9959 - dice_coef: 0.6088 - iou: 0.4383\n",
            "Epoch 27: val_loss improved from 0.50207 to 0.49987, saving model to files/model.h5\n",
            "58/58 [==============================] - 125s 2s/step - loss: 0.3913 - accuracy: 0.9959 - dice_coef: 0.6088 - iou: 0.4383 - val_loss: 0.4999 - val_accuracy: 0.9924 - val_dice_coef: 0.5011 - val_iou: 0.3351 - lr: 1.0000e-05\n",
            "Epoch 28/30\n",
            "58/58 [==============================] - ETA: 0s - loss: 0.3870 - accuracy: 0.9960 - dice_coef: 0.6130 - iou: 0.4427\n",
            "Epoch 28: val_loss improved from 0.49987 to 0.49455, saving model to files/model.h5\n",
            "58/58 [==============================] - 116s 2s/step - loss: 0.3870 - accuracy: 0.9960 - dice_coef: 0.6130 - iou: 0.4427 - val_loss: 0.4946 - val_accuracy: 0.9916 - val_dice_coef: 0.5060 - val_iou: 0.3393 - lr: 1.0000e-05\n",
            "Epoch 29/30\n",
            "58/58 [==============================] - ETA: 0s - loss: 0.3821 - accuracy: 0.9962 - dice_coef: 0.6180 - iou: 0.4479\n",
            "Epoch 29: val_loss improved from 0.49455 to 0.49023, saving model to files/model.h5\n",
            "58/58 [==============================] - 125s 2s/step - loss: 0.3821 - accuracy: 0.9962 - dice_coef: 0.6180 - iou: 0.4479 - val_loss: 0.4902 - val_accuracy: 0.9918 - val_dice_coef: 0.5095 - val_iou: 0.3425 - lr: 1.0000e-05\n",
            "Epoch 30/30\n",
            "58/58 [==============================] - ETA: 0s - loss: 0.3788 - accuracy: 0.9962 - dice_coef: 0.6212 - iou: 0.4513\n",
            "Epoch 30: val_loss did not improve from 0.49023\n",
            "58/58 [==============================] - 123s 2s/step - loss: 0.3788 - accuracy: 0.9962 - dice_coef: 0.6212 - iou: 0.4513 - val_loss: 0.4976 - val_accuracy: 0.9927 - val_dice_coef: 0.5035 - val_iou: 0.3372 - lr: 1.0000e-05\n"
          ]
        }
      ]
    },
    {
      "cell_type": "code",
      "source": [
        "import os\n",
        "os.environ[\"TF_CPP_MIN_LOG_LEVEL\"] = \"2\"\n",
        "import numpy as np\n",
        "import cv2\n",
        "from glob import glob\n",
        "from tqdm import tqdm\n",
        "import tensorflow as tf\n",
        "from tensorflow.keras.utils import CustomObjectScope "
      ],
      "metadata": {
        "id": "DfaYa5iLtSrl"
      },
      "execution_count": 15,
      "outputs": []
    },
    {
      "cell_type": "markdown",
      "source": [
        "**Test Some Tumors Having Ground Truths**"
      ],
      "metadata": {
        "id": "1o1LAJKbvlPM"
      }
    },
    {
      "cell_type": "code",
      "source": [
        "if __name__ == \"__main__\":\n",
        " \n",
        "    \"\"\" Loading model \"\"\"\n",
        "    with CustomObjectScope({'iou': iou, 'dice_coef': dice_coef, 'dice_loss': dice_loss}):\n",
        "        u_model = tf.keras.models.load_model(\"files/model.h5\")\n",
        "\n",
        "    \"\"\" Dataset \"\"\"\n",
        "    path = \"/content/drive/MyDrive/Colab Notebooks/Test Tumors/with mask\"\n",
        "    test_img=sorted(glob(os.path.join(path,\"MRI\" ,\"*.png\")))\n",
        "    ground_truth=sorted(glob(os.path.join(path,\"Mask\" ,\"*.png\")))\n",
        "    t=1\n",
        "    \"\"\" Predicting the mask \"\"\"\n",
        "    for x, y  in tqdm(zip(test_img,ground_truth), total=len(test_img)):\n",
        "        \"\"\" Extracing the image name. \"\"\"\n",
        "        image_name = x.split(\"/\")[-1]\n",
        "\n",
        "        \"\"\" Reading the image \"\"\"\n",
        "        img = cv2.imread(x, cv2.IMREAD_COLOR)\n",
        "        img = cv2.resize(img, (W, H))\n",
        "        img = cv2.cvtColor(img, cv2.COLOR_BGR2RGB)\n",
        "        x = img/255.0\n",
        "        x = x.astype(np.float32)\n",
        "        x = np.expand_dims(x, axis=0)\n",
        "\n",
        "        \"\"\" Reading the mask \"\"\"\n",
        "        img_y = cv2.imread(y, cv2.IMREAD_GRAYSCALE)\n",
        "        img_y = cv2.resize(img_y, (W, H))\n",
        "        img_y = np.expand_dims(img_y, axis=-1) \n",
        "        img_y = np.concatenate([img_y, img_y, img_y], axis=-1) \n",
        "\n",
        "        \"\"\" Predicting the mask. \"\"\"\n",
        "        y_pred = u_model.predict(x)[0] > 0.5\n",
        "        y_pred = y_pred.astype(np.int32)\n",
        "\n",
        "        \"\"\" Saving the predicted mask along with the image and GT \"\"\"\n",
        "        save_image_path = f\"/content/drive/MyDrive/Colab Notebooks/Results/{image_name}\"\n",
        "        y_pred = np.concatenate([y_pred, y_pred, y_pred], axis=-1)\n",
        "\n",
        "        sep_line = np.ones((H, 10, 3)) * 255\n",
        "\n",
        "        output_image = np.concatenate([img, sep_line, img_y, sep_line, y_pred*255], axis=1)\n",
        "        cv2.imwrite(save_image_path, output_image)"
      ],
      "metadata": {
        "colab": {
          "base_uri": "https://localhost:8080/"
        },
        "id": "XG4hi7rjtKGa",
        "outputId": "029a8ecb-fa42-47a6-ec04-c1cb7473f89a"
      },
      "execution_count": 16,
      "outputs": [
        {
          "output_type": "stream",
          "name": "stderr",
          "text": [
            "\r  0%|          | 0/7 [00:00<?, ?it/s]"
          ]
        },
        {
          "output_type": "stream",
          "name": "stdout",
          "text": [
            "1/1 [==============================] - 2s 2s/step\n"
          ]
        },
        {
          "output_type": "stream",
          "name": "stderr",
          "text": [
            "\r 14%|█▍        | 1/7 [00:03<00:23,  3.87s/it]"
          ]
        },
        {
          "output_type": "stream",
          "name": "stdout",
          "text": [
            "1/1 [==============================] - 0s 22ms/step\n"
          ]
        },
        {
          "output_type": "stream",
          "name": "stderr",
          "text": [
            "\r 29%|██▊       | 2/7 [00:04<00:10,  2.08s/it]"
          ]
        },
        {
          "output_type": "stream",
          "name": "stdout",
          "text": [
            "1/1 [==============================] - 0s 23ms/step\n"
          ]
        },
        {
          "output_type": "stream",
          "name": "stderr",
          "text": [
            "\r 43%|████▎     | 3/7 [00:05<00:06,  1.60s/it]"
          ]
        },
        {
          "output_type": "stream",
          "name": "stdout",
          "text": [
            "1/1 [==============================] - 0s 24ms/step\n"
          ]
        },
        {
          "output_type": "stream",
          "name": "stderr",
          "text": [
            "\r 57%|█████▋    | 4/7 [00:06<00:04,  1.37s/it]"
          ]
        },
        {
          "output_type": "stream",
          "name": "stdout",
          "text": [
            "1/1 [==============================] - 0s 22ms/step\n"
          ]
        },
        {
          "output_type": "stream",
          "name": "stderr",
          "text": [
            "\r 71%|███████▏  | 5/7 [00:07<00:02,  1.24s/it]"
          ]
        },
        {
          "output_type": "stream",
          "name": "stdout",
          "text": [
            "1/1 [==============================] - 0s 21ms/step\n"
          ]
        },
        {
          "output_type": "stream",
          "name": "stderr",
          "text": [
            "\r 86%|████████▌ | 6/7 [00:08<00:01,  1.14s/it]"
          ]
        },
        {
          "output_type": "stream",
          "name": "stdout",
          "text": [
            "1/1 [==============================] - 0s 21ms/step\n"
          ]
        },
        {
          "output_type": "stream",
          "name": "stderr",
          "text": [
            "100%|██████████| 7/7 [00:09<00:00,  1.38s/it]\n"
          ]
        }
      ]
    },
    {
      "cell_type": "markdown",
      "source": [
        "**To Segment a Single Random Image**"
      ],
      "metadata": {
        "id": "WpV-fOgzwFQA"
      }
    },
    {
      "cell_type": "code",
      "source": [
        "#For random image\n",
        "if __name__ == \"__main__\":\n",
        "\n",
        "    \"\"\" Loading model \"\"\"\n",
        "    with CustomObjectScope({'iou': iou, 'dice_coef': dice_coef, 'dice_loss': dice_loss}):\n",
        "        model = tf.keras.models.load_model(\"files/model.h5\")\n",
        "\n",
        "    img = cv2.imread(\"/content/drive/MyDrive/Nickparver_156MB/Testing/meningioma/Te-me_0014.jpg\", cv2.IMREAD_COLOR)\n",
        "    img = cv2.resize(img, (W, H))\n",
        "    x = img/255.0\n",
        "    x = x.astype(np.float32)\n",
        "    x = np.expand_dims(x, axis=0)\n",
        "\n",
        "    y_pred = u_model.predict(x)[0] > 0.7\n",
        "    y_pred = y_pred.astype(np.int32)\n",
        "    y_pred = np.concatenate([y_pred, y_pred, y_pred], axis=-1)\n",
        "\n",
        "    sep_line = np.ones((H, 10, 3)) * 255\n",
        "    output_img = np.concatenate([img,sep_line,y_pred*255], axis=1)\n",
        "    cv2.imwrite(\"Output_d.png\", output_img)"
      ],
      "metadata": {
        "colab": {
          "base_uri": "https://localhost:8080/"
        },
        "id": "kQrdZtmcsSXn",
        "outputId": "afdc3420-9d32-434b-ab25-1df68f495bbc"
      },
      "execution_count": 17,
      "outputs": [
        {
          "output_type": "stream",
          "name": "stdout",
          "text": [
            "1/1 [==============================] - 0s 35ms/step\n"
          ]
        }
      ]
    },
    {
      "cell_type": "markdown",
      "source": [
        "**Tumor Type Classification**"
      ],
      "metadata": {
        "id": "NlKAq371rVdc"
      }
    },
    {
      "cell_type": "code",
      "source": [
        "image_directory = '/content/drive/MyDrive/Nickparver_156MB/Training/'\n",
        "SIZE = 224\n",
        "dataset = []  #Many ways to handle data, you can use pandas. Here, we are using a list format.  \n",
        "label = []  #Placeholders to define add labels. We will add [0,1,2,3] to [glioma,meningioma,no tumor,pituitary]"
      ],
      "metadata": {
        "id": "NEybomK6_RaC"
      },
      "execution_count": 18,
      "outputs": []
    },
    {
      "cell_type": "code",
      "source": [
        "glioma_images = os.listdir(image_directory + 'glioma/')\n",
        "for i, image_name in enumerate(glioma_images):    \n",
        "    \n",
        "    if (image_name.split('.')[1] == 'jpg'):\n",
        "        image = cv2.imread(image_directory + 'glioma/' + image_name)\n",
        "        image = Image.fromarray(image, 'RGB')\n",
        "        image = image.resize((SIZE, SIZE))\n",
        "        image = nd.gaussian_filter(image, sigma=1)\n",
        "        dataset.append(np.array(image))\n",
        "        label.append(0)\n",
        "\n",
        "\n",
        "\n",
        "meningioma_images = os.listdir(image_directory + 'meningioma/')\n",
        "for i, image_name in enumerate(meningioma_images):\n",
        "    if (image_name.split('.')[1] == 'jpg'):\n",
        "        image = cv2.imread(image_directory + 'meningioma/' + image_name)\n",
        "        image = Image.fromarray(image, 'RGB')\n",
        "        image = image.resize((SIZE, SIZE))\n",
        "        image = nd.gaussian_filter(image, sigma=1)\n",
        "        dataset.append(np.array(image))\n",
        "        label.append(1)\n",
        "\n",
        "notumor_images = os.listdir(image_directory + 'notumor/')\n",
        "for i, image_name in enumerate(notumor_images):\n",
        "    if (image_name.split('.')[1] == 'jpg'):\n",
        "        image = cv2.imread(image_directory + 'notumor/' + image_name)\n",
        "        image = Image.fromarray(image, 'RGB')\n",
        "        image = image.resize((SIZE, SIZE))\n",
        "        image = nd.gaussian_filter(image, sigma=1)\n",
        "        dataset.append(np.array(image))\n",
        "        label.append(2)\n",
        "\n",
        "pituitary_images = os.listdir(image_directory + 'pituitary/')\n",
        "for i, image_name in enumerate(pituitary_images):\n",
        "    if (image_name.split('.')[1] == 'jpg'):\n",
        "        image = cv2.imread(image_directory + 'pituitary/' + image_name)\n",
        "        image = Image.fromarray(image, 'RGB')\n",
        "        image = image.resize((SIZE, SIZE))\n",
        "        image = nd.gaussian_filter(image, sigma=1)\n",
        "        dataset.append(np.array(image))\n",
        "        label.append(3)"
      ],
      "metadata": {
        "id": "NHzZ9RMl_dXb"
      },
      "execution_count": 19,
      "outputs": []
    },
    {
      "cell_type": "code",
      "source": [
        "dataset = np.array(dataset)\n",
        "label = np.array(label)"
      ],
      "metadata": {
        "id": "eQmkZvOK_g5R"
      },
      "execution_count": 20,
      "outputs": []
    },
    {
      "cell_type": "code",
      "source": [
        "#Split into train and test data sets\n",
        "from sklearn.model_selection import train_test_split\n",
        "X_train, X_test, y_train, y_test = train_test_split(dataset, label, test_size = 0.20, random_state = 0)"
      ],
      "metadata": {
        "id": "8tPGbKwJAIgM"
      },
      "execution_count": 21,
      "outputs": []
    },
    {
      "cell_type": "code",
      "source": [
        "#Let us setup the model as multiclass with total classes as 4.\n",
        "#This way the model can be used for other multiclass examples. \n",
        "#Since we will be using categorical cross entropy loss, we need to convert our Y values to categorical. \n",
        "from tensorflow.keras.utils import to_categorical\n",
        "y_train = to_categorical(y_train)\n",
        "y_test = to_categorical(y_test)"
      ],
      "metadata": {
        "id": "JfAeX7mCALfe"
      },
      "execution_count": 22,
      "outputs": []
    },
    {
      "cell_type": "code",
      "source": [
        "#Define the model. \n",
        "#Here, we use pre-trained VGG16 layers and add GlobalAveragePooling and dense prediction layers.\n",
        "#You can define any model. \n",
        "#Also, here we set the first few convolutional blocks as non-trainable and only train the last block.\n",
        "#This is just to speed up the training. You can train all layers if you want. \n",
        "def get_model(input_shape = (224,224,3)):\n",
        "    \n",
        "    vgg = vgg16.VGG16(weights='imagenet', include_top=False, input_shape = input_shape)\n",
        "\n",
        "    \n",
        "    for layer in vgg.layers[:-5]:    #Set block5 trainable, all others as non-trainable\n",
        "        print(layer.name)\n",
        "        layer.trainable = False #All others as non-trainable.\n",
        "\n",
        "    x = vgg.output\n",
        "    x = GlobalAveragePooling2D()(x) #Use GlobalAveragePooling and NOT flatten. \n",
        "    x = Dense(4, activation=\"softmax\")(x)  #We are defining this as multiclass problem. \n",
        "\n",
        "    model = Model(vgg.input, x)\n",
        "    model.compile(loss = \"categorical_crossentropy\", \n",
        "                  optimizer = SGD(learning_rate=0.0001, momentum=0.9), metrics=[\"accuracy\"])\n",
        "    \n",
        "    return model\n",
        "   \n",
        "model = get_model(input_shape = (224,224,3))\n",
        "print(model.summary())"
      ],
      "metadata": {
        "id": "09i3FuzJAOFG",
        "colab": {
          "base_uri": "https://localhost:8080/"
        },
        "outputId": "aac4cb1d-7244-4d1d-8e48-034b3ee6350c"
      },
      "execution_count": 24,
      "outputs": [
        {
          "output_type": "stream",
          "name": "stdout",
          "text": [
            "input_4\n",
            "block1_conv1\n",
            "block1_conv2\n",
            "block1_pool\n",
            "block2_conv1\n",
            "block2_conv2\n",
            "block2_pool\n",
            "block3_conv1\n",
            "block3_conv2\n",
            "block3_conv3\n",
            "block3_pool\n",
            "block4_conv1\n",
            "block4_conv2\n",
            "block4_conv3\n",
            "Model: \"model_1\"\n",
            "_________________________________________________________________\n",
            " Layer (type)                Output Shape              Param #   \n",
            "=================================================================\n",
            " input_4 (InputLayer)        [(None, 224, 224, 3)]     0         \n",
            "                                                                 \n",
            " block1_conv1 (Conv2D)       (None, 224, 224, 64)      1792      \n",
            "                                                                 \n",
            " block1_conv2 (Conv2D)       (None, 224, 224, 64)      36928     \n",
            "                                                                 \n",
            " block1_pool (MaxPooling2D)  (None, 112, 112, 64)      0         \n",
            "                                                                 \n",
            " block2_conv1 (Conv2D)       (None, 112, 112, 128)     73856     \n",
            "                                                                 \n",
            " block2_conv2 (Conv2D)       (None, 112, 112, 128)     147584    \n",
            "                                                                 \n",
            " block2_pool (MaxPooling2D)  (None, 56, 56, 128)       0         \n",
            "                                                                 \n",
            " block3_conv1 (Conv2D)       (None, 56, 56, 256)       295168    \n",
            "                                                                 \n",
            " block3_conv2 (Conv2D)       (None, 56, 56, 256)       590080    \n",
            "                                                                 \n",
            " block3_conv3 (Conv2D)       (None, 56, 56, 256)       590080    \n",
            "                                                                 \n",
            " block3_pool (MaxPooling2D)  (None, 28, 28, 256)       0         \n",
            "                                                                 \n",
            " block4_conv1 (Conv2D)       (None, 28, 28, 512)       1180160   \n",
            "                                                                 \n",
            " block4_conv2 (Conv2D)       (None, 28, 28, 512)       2359808   \n",
            "                                                                 \n",
            " block4_conv3 (Conv2D)       (None, 28, 28, 512)       2359808   \n",
            "                                                                 \n",
            " block4_pool (MaxPooling2D)  (None, 14, 14, 512)       0         \n",
            "                                                                 \n",
            " block5_conv1 (Conv2D)       (None, 14, 14, 512)       2359808   \n",
            "                                                                 \n",
            " block5_conv2 (Conv2D)       (None, 14, 14, 512)       2359808   \n",
            "                                                                 \n",
            " block5_conv3 (Conv2D)       (None, 14, 14, 512)       2359808   \n",
            "                                                                 \n",
            " block5_pool (MaxPooling2D)  (None, 7, 7, 512)         0         \n",
            "                                                                 \n",
            " global_average_pooling2d_1   (None, 512)              0         \n",
            " (GlobalAveragePooling2D)                                        \n",
            "                                                                 \n",
            " dense_1 (Dense)             (None, 4)                 2052      \n",
            "                                                                 \n",
            "=================================================================\n",
            "Total params: 14,716,740\n",
            "Trainable params: 7,081,476\n",
            "Non-trainable params: 7,635,264\n",
            "_________________________________________________________________\n",
            "None\n"
          ]
        }
      ]
    },
    {
      "cell_type": "code",
      "source": [
        "history = model.fit(X_train, y_train, batch_size=16, epochs=10, verbose = 1, \n",
        "                    validation_data=(X_test,y_test))"
      ],
      "metadata": {
        "id": "lSKc95JPAbHy",
        "colab": {
          "base_uri": "https://localhost:8080/"
        },
        "outputId": "77a7a5d9-0cd2-4b54-d7cc-36dca2a67f61"
      },
      "execution_count": 25,
      "outputs": [
        {
          "output_type": "stream",
          "name": "stdout",
          "text": [
            "Epoch 1/10\n",
            "286/286 [==============================] - 36s 113ms/step - loss: 0.3891 - accuracy: 0.8652 - val_loss: 0.2502 - val_accuracy: 0.9169\n",
            "Epoch 2/10\n",
            "286/286 [==============================] - 28s 97ms/step - loss: 0.1203 - accuracy: 0.9599 - val_loss: 0.1878 - val_accuracy: 0.9475\n",
            "Epoch 3/10\n",
            "286/286 [==============================] - 28s 98ms/step - loss: 0.0661 - accuracy: 0.9794 - val_loss: 0.1568 - val_accuracy: 0.9519\n",
            "Epoch 4/10\n",
            "286/286 [==============================] - 28s 98ms/step - loss: 0.0373 - accuracy: 0.9917 - val_loss: 0.1513 - val_accuracy: 0.9606\n",
            "Epoch 5/10\n",
            "286/286 [==============================] - 28s 97ms/step - loss: 0.0233 - accuracy: 0.9961 - val_loss: 0.1421 - val_accuracy: 0.9641\n",
            "Epoch 6/10\n",
            "286/286 [==============================] - 28s 96ms/step - loss: 0.0147 - accuracy: 0.9985 - val_loss: 0.1614 - val_accuracy: 0.9545\n",
            "Epoch 7/10\n",
            "286/286 [==============================] - 28s 97ms/step - loss: 0.0097 - accuracy: 0.9991 - val_loss: 0.1490 - val_accuracy: 0.9615\n",
            "Epoch 8/10\n",
            "286/286 [==============================] - 28s 98ms/step - loss: 0.0069 - accuracy: 0.9998 - val_loss: 0.1428 - val_accuracy: 0.9641\n",
            "Epoch 9/10\n",
            "286/286 [==============================] - 28s 97ms/step - loss: 0.0053 - accuracy: 0.9998 - val_loss: 0.1468 - val_accuracy: 0.9606\n",
            "Epoch 10/10\n",
            "286/286 [==============================] - 28s 97ms/step - loss: 0.0043 - accuracy: 1.0000 - val_loss: 0.1466 - val_accuracy: 0.9641\n"
          ]
        }
      ]
    },
    {
      "cell_type": "code",
      "source": [
        "# save it as a h5 file\n",
        "from tensorflow.keras.models import load_model\n",
        "model.save('model_mri.h5')"
      ],
      "metadata": {
        "id": "wL7cOBb_Anq8"
      },
      "execution_count": 26,
      "outputs": []
    },
    {
      "cell_type": "code",
      "source": [
        "#plot the training and validation accuracy and loss at each epoch\n",
        "loss = history.history['loss']\n",
        "val_loss = history.history['val_loss']\n",
        "epochs = range(1, len(loss) + 1)\n",
        "plt.plot(epochs, loss, 'y', label='Training loss')\n",
        "plt.plot(epochs, val_loss, 'r', label='Validation loss')\n",
        "plt.title('Training and validation loss')\n",
        "plt.xlabel('Epochs')\n",
        "plt.ylabel('Loss')\n",
        "plt.legend()\n",
        "plt.show()"
      ],
      "metadata": {
        "colab": {
          "base_uri": "https://localhost:8080/",
          "height": 295
        },
        "id": "ZJpnLu4kCLMX",
        "outputId": "a4c59e12-db4f-4319-b4cb-a57a4178ae9b"
      },
      "execution_count": 27,
      "outputs": [
        {
          "output_type": "display_data",
          "data": {
            "text/plain": [
              "<Figure size 432x288 with 1 Axes>"
            ],
            "image/png": "[encoded data removed]"
          },
          "metadata": {
            "needs_background": "light"
          }
        }
      ]
    },
    {
      "cell_type": "code",
      "source": [
        "acc = history.history['accuracy']\n",
        "val_acc = history.history['val_accuracy']\n",
        "plt.plot(epochs, acc, 'y', label='Training acc')\n",
        "plt.plot(epochs, val_acc, 'r', label='Validation acc')\n",
        "plt.title('Training and validation accuracy')\n",
        "plt.xlabel('Epochs')\n",
        "plt.ylabel('Accuracy')\n",
        "plt.legend()\n",
        "plt.show()"
      ],
      "metadata": {
        "colab": {
          "base_uri": "https://localhost:8080/",
          "height": 295
        },
        "id": "kvcRxNn7CYxl",
        "outputId": "a46ec934-53c5-4909-f41e-e16f4ce221ee"
      },
      "execution_count": 28,
      "outputs": [
        {
          "output_type": "display_data",
          "data": {
            "text/plain": [
              "<Figure size 432x288 with 1 Axes>"
            ],
            "image/png": "[encoded data removed]"
          },
          "metadata": {
            "needs_background": "light"
          }
        }
      ]
    },
    {
      "cell_type": "code",
      "source": [
        "#Test on single image.\n",
        "n=10  #Select the index of image to be loaded for testing\n",
        "img = X_test[n]\n",
        "plt.imshow(img)\n",
        "input_img = np.expand_dims(img, axis=0) #Expand dims so the input is (num images, x, y, class)\n",
        "print(\"The prediction for this image is: \", np.argmax(model.predict(input_img)))\n",
        "print(\"The actual label for this image is: \", np.argmax(y_test[n]))"
      ],
      "metadata": {
        "colab": {
          "base_uri": "https://localhost:8080/",
          "height": 321
        },
        "id": "yoR9T4JUCbuV",
        "outputId": "e078fb8e-175d-42d2-eaf4-b648fb6edd12"
      },
      "execution_count": 29,
      "outputs": [
        {
          "output_type": "stream",
          "name": "stdout",
          "text": [
            "1/1 [==============================] - 1s 908ms/step\n",
            "The prediction for this image is:  0\n",
            "The actual label for this image is:  0\n"
          ]
        },
        {
          "output_type": "display_data",
          "data": {
            "text/plain": [
              "<Figure size 432x288 with 1 Axes>"
            ],
            "image/png": "[encoded data removed]"
          },
          "metadata": {
            "needs_background": "light"
          }
        }
      ]
    },
    {
      "cell_type": "code",
      "source": [
        "#Test on single image from other sources.\n",
        "  \n",
        "img = '/content/drive/MyDrive/Nickparver_156MB/Testing/pituitary/Te-piTr_0000.jpg'\n",
        "image = cv2.imread(img)\n",
        "image = Image.fromarray(image, 'RGB')\n",
        "image = image.resize((SIZE, SIZE))\n",
        "plt.imshow(image)\n",
        "input_img = np.expand_dims(image, axis=0) #Expand dims so the input is (num images, x, y, class)\n",
        "print(\"The prediction for this image is: \", np.argmax(model.predict(input_img)))"
      ],
      "metadata": {
        "colab": {
          "base_uri": "https://localhost:8080/",
          "height": 304
        },
        "id": "qnnmCsj4CgCq",
        "outputId": "51783d64-d3b0-475e-8c3d-be0d98230447"
      },
      "execution_count": 30,
      "outputs": [
        {
          "output_type": "stream",
          "name": "stdout",
          "text": [
            "1/1 [==============================] - 0s 23ms/step\n",
            "The prediction for this image is:  3\n"
          ]
        },
        {
          "output_type": "display_data",
          "data": {
            "text/plain": [
              "<Figure size 432x288 with 1 Axes>"
            ],
            "image/png": "[encoded data removed]"
          },
          "metadata": {
            "needs_background": "light"
          }
        }
      ]
    },
    {
      "cell_type": "code",
      "source": [
        "#Print confusion matrix on Validation Set\n",
        "from sklearn.metrics import classification_report, confusion_matrix, ConfusionMatrixDisplay\n",
        "import seaborn as sns\n",
        "\n",
        "y_pred = np.argmax(model.predict(X_test), axis=1)\n",
        "cm=confusion_matrix(np.argmax(y_test, axis=1), y_pred)  \n",
        "ax = sns.heatmap(cm, annot=True, fmt = 'd')\n",
        "ax.xaxis.set_ticklabels(['glioma', 'meningioma','no_tumor', 'pituitary'])\n",
        "ax.yaxis.set_ticklabels(['glioma', 'meningioma','no_tumor', 'pituitary']) "
      ],
      "metadata": {
        "colab": {
          "base_uri": "https://localhost:8080/",
          "height": 353
        },
        "id": "Tt8s83ouPLdr",
        "outputId": "656ce07d-a5dd-42de-f0a6-c39c920d921d"
      },
      "execution_count": 31,
      "outputs": [
        {
          "output_type": "stream",
          "name": "stdout",
          "text": [
            "36/36 [==============================] - 10s 199ms/step\n"
          ]
        },
        {
          "output_type": "execute_result",
          "data": {
            "text/plain": [
              "[Text(0, 0.5, 'glioma'),\n",
              " Text(0, 1.5, 'meningioma'),\n",
              " Text(0, 2.5, 'no_tumor'),\n",
              " Text(0, 3.5, 'pituitary')]"
            ]
          },
          "metadata": {},
          "execution_count": 31
        },
        {
          "output_type": "display_data",
          "data": {
            "text/plain": [
              "<Figure size 432x288 with 2 Axes>"
            ],
            "image/png": "[encoded data removed]"
          },
          "metadata": {
            "needs_background": "light"
          }
        }
      ]
    },
    {
      "cell_type": "code",
      "source": [
        "#Classifiction Report of Validation Set\n",
        "classification_report = classification_report(np.argmax(y_test, axis=1), y_pred, target_names=['glioma', 'meningioma','no_tumor', 'pituitary'])\n",
        "print(classification_report)"
      ],
      "metadata": {
        "colab": {
          "base_uri": "https://localhost:8080/"
        },
        "id": "hWH5sLQYPUl6",
        "outputId": "c39f113f-5431-4c80-e894-18e4162fefa5"
      },
      "execution_count": 32,
      "outputs": [
        {
          "output_type": "stream",
          "name": "stdout",
          "text": [
            "              precision    recall  f1-score   support\n",
            "\n",
            "      glioma       0.97      0.93      0.95       257\n",
            "  meningioma       0.92      0.95      0.93       276\n",
            "    no_tumor       0.98      0.98      0.98       325\n",
            "   pituitary       0.98      0.99      0.98       285\n",
            "\n",
            "    accuracy                           0.96      1143\n",
            "   macro avg       0.96      0.96      0.96      1143\n",
            "weighted avg       0.96      0.96      0.96      1143\n",
            "\n"
          ]
        }
      ]
    },
    {
      "cell_type": "code",
      "source": [
        "#Test set Results"
      ],
      "metadata": {
        "id": "zbwh2Q1ur1EF"
      },
      "execution_count": 33,
      "outputs": []
    },
    {
      "cell_type": "code",
      "source": [
        "new_data_directory = '/content/drive/MyDrive/Nickparver_156MB/Testing/'\n",
        "\n",
        "SIZE = 224\n",
        "new_dataset = []  #Many ways to handle data, you can use pandas. Here, we are using a list format.  \n",
        "new_label = [] "
      ],
      "metadata": {
        "id": "iGAQM3yDr1NI"
      },
      "execution_count": 34,
      "outputs": []
    },
    {
      "cell_type": "code",
      "source": [
        "glioma_images = os.listdir(new_data_directory + 'glioma/')\n",
        "for i, image_name in enumerate(glioma_images):    \n",
        "    \n",
        "    if (image_name.split('.')[1] == 'jpg'):\n",
        "        image = cv2.imread(new_data_directory + 'glioma/' + image_name)\n",
        "        image = Image.fromarray(image, 'RGB')\n",
        "        image = image.resize((SIZE, SIZE))\n",
        "        image = nd.gaussian_filter(image, sigma=1)\n",
        "        new_dataset.append(np.array(image))\n",
        "        new_label.append(0)\n",
        "\n",
        "\n",
        "\n",
        "meningioma_images = os.listdir(new_data_directory + 'meningioma/')\n",
        "for i, image_name in enumerate(meningioma_images):\n",
        "    if (image_name.split('.')[1] == 'jpg'):\n",
        "        image = cv2.imread(new_data_directory + 'meningioma/' + image_name)\n",
        "        image = Image.fromarray(image, 'RGB')\n",
        "        image = image.resize((SIZE, SIZE))\n",
        "        image = nd.gaussian_filter(image, sigma=1)\n",
        "        new_dataset.append(np.array(image))\n",
        "        new_label.append(1)\n",
        "\n",
        "notumor_images = os.listdir(new_data_directory + 'notumor/')\n",
        "for i, image_name in enumerate(notumor_images):\n",
        "    if (image_name.split('.')[1] == 'jpg'):\n",
        "        image = cv2.imread(new_data_directory + 'notumor/' + image_name)\n",
        "        image = Image.fromarray(image, 'RGB')\n",
        "        image = image.resize((SIZE, SIZE))\n",
        "        image = nd.gaussian_filter(image, sigma=1)\n",
        "        new_dataset.append(np.array(image))\n",
        "        new_label.append(2)\n",
        "\n",
        "pituitary_images = os.listdir(new_data_directory + 'pituitary/')\n",
        "for i, image_name in enumerate(pituitary_images):\n",
        "    if (image_name.split('.')[1] == 'jpg'):\n",
        "        image = cv2.imread(new_data_directory + 'pituitary/' + image_name)\n",
        "        image = Image.fromarray(image, 'RGB')\n",
        "        image = image.resize((SIZE, SIZE))\n",
        "        image = nd.gaussian_filter(image, sigma=1)\n",
        "        new_dataset.append(np.array(image))\n",
        "        new_label.append(3)"
      ],
      "metadata": {
        "id": "89eyrLVor1Tl"
      },
      "execution_count": 35,
      "outputs": []
    },
    {
      "cell_type": "code",
      "source": [
        "new_dataset = np.array(new_dataset)\n",
        "new_label = np.array(new_label)"
      ],
      "metadata": {
        "id": "qILV-DhMQdYu"
      },
      "execution_count": 36,
      "outputs": []
    },
    {
      "cell_type": "code",
      "source": [
        "from sklearn.model_selection import train_test_split\n",
        "X_train_new, X_test_new, y_train_new, y_test_new = train_test_split(new_dataset, new_label, test_size = 0.999, random_state = 0)"
      ],
      "metadata": {
        "id": "FjDlBKjQUZo9"
      },
      "execution_count": 37,
      "outputs": []
    },
    {
      "cell_type": "code",
      "source": [
        "from tensorflow.keras.utils import to_categorical\n",
        "y_train_new = to_categorical(y_train_new)\n",
        "y_test_new = to_categorical(y_test_new)"
      ],
      "metadata": {
        "id": "4ssT_7_IUhOO"
      },
      "execution_count": 38,
      "outputs": []
    },
    {
      "cell_type": "code",
      "source": [
        "_, acc = model.evaluate(X_test_new, y_test_new)\n",
        "print(\"Accuracy = \", (acc * 100.0), \"%\")"
      ],
      "metadata": {
        "colab": {
          "base_uri": "https://localhost:8080/"
        },
        "id": "hemAsYr4x3we",
        "outputId": "a87779c7-a7f1-49ca-8b51-890e025353fd"
      },
      "execution_count": 39,
      "outputs": [
        {
          "output_type": "stream",
          "name": "stdout",
          "text": [
            "41/41 [==============================] - 9s 208ms/step - loss: 0.1246 - accuracy: 0.9664\n",
            "Accuracy =  96.64121866226196 %\n"
          ]
        }
      ]
    },
    {
      "cell_type": "code",
      "source": [
        "#Print confusion matrix for Test Set\n",
        "from sklearn.metrics import classification_report, confusion_matrix, ConfusionMatrixDisplay\n",
        "import seaborn as sns\n",
        "\n",
        "y_pred_new = np.argmax(model.predict(X_test_new), axis=1)\n",
        "cm=confusion_matrix(np.argmax(y_test_new, axis=1), y_pred_new)  \n",
        "ax = sns.heatmap(cm, annot=True, fmt = 'd')\n",
        "ax.xaxis.set_ticklabels(['glioma', 'meningioma','no_tumor', 'pituitary'])\n",
        "ax.yaxis.set_ticklabels(['glioma', 'meningioma','no_tumor', 'pituitary']) "
      ],
      "metadata": {
        "colab": {
          "base_uri": "https://localhost:8080/",
          "height": 356
        },
        "id": "4bOiKya1x3zM",
        "outputId": "e3eb9179-78d5-4cba-b348-8b4a095f2510"
      },
      "execution_count": 40,
      "outputs": [
        {
          "output_type": "stream",
          "name": "stdout",
          "text": [
            "41/41 [==============================] - 6s 140ms/step\n"
          ]
        },
        {
          "output_type": "execute_result",
          "data": {
            "text/plain": [
              "[Text(0, 0.5, 'glioma'),\n",
              " Text(0, 1.5, 'meningioma'),\n",
              " Text(0, 2.5, 'no_tumor'),\n",
              " Text(0, 3.5, 'pituitary')]"
            ]
          },
          "metadata": {},
          "execution_count": 40
        },
        {
          "output_type": "display_data",
          "data": {
            "text/plain": [
              "<Figure size 432x288 with 2 Axes>"
            ],
            "image/png": "[encoded data removed]"
          },
          "metadata": {
            "needs_background": "light"
          }
        }
      ]
    },
    {
      "cell_type": "code",
      "source": [
        "#Classifiction Report for Test Set\n",
        "classification_report = classification_report(np.argmax(y_test_new, axis=1), y_pred_new, target_names=['glioma', 'meningioma','no_tumor', 'pituitary'])\n",
        "print(classification_report)"
      ],
      "metadata": {
        "colab": {
          "base_uri": "https://localhost:8080/"
        },
        "id": "yxToXt7_x_fN",
        "outputId": "1d4b9829-272a-4599-da37-08edc830c021"
      },
      "execution_count": 41,
      "outputs": [
        {
          "output_type": "stream",
          "name": "stdout",
          "text": [
            "              precision    recall  f1-score   support\n",
            "\n",
            "      glioma       0.98      0.92      0.95       300\n",
            "  meningioma       0.91      0.95      0.93       306\n",
            "    no_tumor       0.99      1.00      0.99       404\n",
            "   pituitary       0.98      0.98      0.98       300\n",
            "\n",
            "    accuracy                           0.97      1310\n",
            "   macro avg       0.97      0.96      0.96      1310\n",
            "weighted avg       0.97      0.97      0.97      1310\n",
            "\n"
          ]
        }
      ]
    },
    {
      "cell_type": "code",
      "source": [],
      "metadata": {
        "id": "flx7vfNZx_k4"
      },
      "execution_count": null,
      "outputs": []
    },
    {
      "cell_type": "markdown",
      "source": [
        "\n",
        "**Annotate tumor type with Bounding Box**"
      ],
      "metadata": {
        "id": "wiKVp7Lrk6v7"
      }
    },
    {
      "cell_type": "code",
      "source": [
        "import os\n",
        "import numpy as np\n",
        "import cv2\n",
        "from glob import glob\n",
        "from tqdm import tqdm\n",
        "from skimage.measure import label, regionprops, find_contours"
      ],
      "metadata": {
        "id": "ZcS6MkBChGSQ"
      },
      "execution_count": 42,
      "outputs": []
    },
    {
      "cell_type": "code",
      "source": [
        "\"\"\" Creating a directory \"\"\"\n",
        "def create_dir(path):\n",
        "    if not os.path.exists(path):\n",
        "        os.makedirs(path)"
      ],
      "metadata": {
        "id": "CIT88Ws3hJIh"
      },
      "execution_count": 43,
      "outputs": []
    },
    {
      "cell_type": "code",
      "source": [
        "\"\"\" Convert a mask to border image \"\"\"\n",
        "def mask_to_border(mask):\n",
        "    h, w = mask.shape\n",
        "    border = np.zeros((h, w))\n",
        "\n",
        "    contours = find_contours(mask, 128)\n",
        "    for contour in contours:\n",
        "        for c in contour:\n",
        "            x = int(c[0])\n",
        "            y = int(c[1])\n",
        "            border[x][y] = 255\n",
        "\n",
        "    return border"
      ],
      "metadata": {
        "id": "Ie9hxTvUhNOt"
      },
      "execution_count": 44,
      "outputs": []
    },
    {
      "cell_type": "code",
      "source": [
        "\"\"\" Mask to bounding boxes \"\"\"\n",
        "def mask_to_bbox(mask):\n",
        "    bboxes = []\n",
        "\n",
        "    mask = mask_to_border(mask)\n",
        "    lbl = label(mask)\n",
        "    props = regionprops(lbl)\n",
        "    for prop in props:\n",
        "        x1 = prop.bbox[1]\n",
        "        y1 = prop.bbox[0]\n",
        "\n",
        "        x2 = prop.bbox[3]\n",
        "        y2 = prop.bbox[2]\n",
        "\n",
        "        bboxes.append([x1, y1, x2, y2])\n",
        "\n",
        "    return bboxes"
      ],
      "metadata": {
        "id": "VbONA28ghRFJ"
      },
      "execution_count": 45,
      "outputs": []
    },
    {
      "cell_type": "code",
      "source": [
        "def parse_mask(mask):\n",
        "    mask = np.expand_dims(mask, axis=-1)\n",
        "    mask = np.concatenate([mask, mask, mask], axis=-1)\n",
        "    return mask"
      ],
      "metadata": {
        "id": "Rm6M-GaVhWmf"
      },
      "execution_count": 46,
      "outputs": []
    },
    {
      "cell_type": "markdown",
      "source": [
        "**Segmentation, Classification and Annotation of MRI**"
      ],
      "metadata": {
        "id": "3JI4IVqKxCSC"
      }
    },
    {
      "cell_type": "code",
      "source": [
        "from matplotlib import colors\n",
        "import matplotlib.pyplot as plt\n",
        "\n",
        "#first take the required MRI and predict the tumor class\n",
        "test_mri_path = \"/content/drive/MyDrive/Nickparver_156MB/Testing/glioma/Te-gl_0014.jpg\"\n",
        "img = test_mri_path\n",
        "image = cv2.imread(img)\n",
        "image = Image.fromarray(image, 'RGB')\n",
        "image = image.resize((SIZE, SIZE))\n",
        "plt.imshow(image)\n",
        "input_img = np.expand_dims(image, axis=0) #Expand dims so the input is (num images, x, y, class)\n",
        "print(\"The prediction for this image is: \", np.argmax(model.predict(input_img)))\n",
        "\n"
      ],
      "metadata": {
        "colab": {
          "base_uri": "https://localhost:8080/",
          "height": 304
        },
        "id": "FGK4JQhNjAt7",
        "outputId": "670ca079-9e9f-4dee-9a96-aec4ef4b8840"
      },
      "execution_count": 47,
      "outputs": [
        {
          "output_type": "stream",
          "name": "stdout",
          "text": [
            "1/1 [==============================] - 0s 79ms/step\n",
            "The prediction for this image is:  0\n"
          ]
        },
        {
          "output_type": "display_data",
          "data": {
            "text/plain": [
              "<Figure size 432x288 with 1 Axes>"
            ],
            "image/png": "[encoded data removed]"
          },
          "metadata": {
            "needs_background": "light"
          }
        }
      ]
    },
    {
      "cell_type": "code",
      "source": [
        "#then show the tumor type"
      ],
      "metadata": {
        "id": "Nv3FXWpIqMdh"
      },
      "execution_count": null,
      "outputs": []
    },
    {
      "cell_type": "code",
      "source": [
        "prediction = np.argmax(model.predict(input_img))\n",
        "#print(prediction)\n",
        "if prediction==0:\n",
        "  tumor = 'Glioma'\n",
        "elif prediction==1:\n",
        "  tumor = 'Meningioma'\n",
        "elif prediction==2:\n",
        "  tumor = 'No Tumor'\n",
        "else:\n",
        "  tumor = 'pituitary'\n",
        "\n",
        "\n",
        "print(tumor)"
      ],
      "metadata": {
        "colab": {
          "base_uri": "https://localhost:8080/"
        },
        "id": "2eQgMsFcqXJY",
        "outputId": "99155f9d-1899-4a45-ebb9-f11c25ad3844"
      },
      "execution_count": 48,
      "outputs": [
        {
          "output_type": "stream",
          "name": "stdout",
          "text": [
            "1/1 [==============================] - 0s 21ms/step\n",
            "Glioma\n"
          ]
        }
      ]
    },
    {
      "cell_type": "code",
      "source": [
        "#Now Segment the tumor part"
      ],
      "metadata": {
        "id": "u1hdn8VBrKWZ"
      },
      "execution_count": null,
      "outputs": []
    },
    {
      "cell_type": "code",
      "source": [
        "img = cv2.imread(img, cv2.IMREAD_COLOR)\n",
        "img = cv2.resize(img, (W, H))\n",
        "x = img/255.0\n",
        "x = x.astype(np.float32)\n",
        "x = np.expand_dims(x, axis=0)\n",
        "\n",
        "\n",
        "y_pred = u_model.predict(x)[0] > 0.7\n",
        "y_pred = y_pred.astype(np.int32)\n",
        "y_pred = np.concatenate([y_pred, y_pred, y_pred], axis=-1)\n",
        "\n",
        "sep_line = np.ones((H, 10, 3)) * 255\n",
        "output_img = np.concatenate([img,sep_line,y_pred*255], axis=1)\n",
        "cv2.imwrite(\"seg_result.png\", output_img)\n",
        "cv2.imwrite(\"seg_tumor_mask.png\", y_pred*255)#Save this for further use"
      ],
      "metadata": {
        "colab": {
          "base_uri": "https://localhost:8080/"
        },
        "id": "ebBWysu4rXQd",
        "outputId": "5143ba36-96e5-4959-824d-8358f4e24645"
      },
      "execution_count": 49,
      "outputs": [
        {
          "output_type": "stream",
          "name": "stdout",
          "text": [
            "1/1 [==============================] - 0s 25ms/step\n"
          ]
        },
        {
          "output_type": "execute_result",
          "data": {
            "text/plain": [
              "True"
            ]
          },
          "metadata": {},
          "execution_count": 49
        }
      ]
    },
    {
      "cell_type": "code",
      "source": [
        "#Create the bounding box "
      ],
      "metadata": {
        "id": "Rn-gnAF-rXUV"
      },
      "execution_count": null,
      "outputs": []
    },
    {
      "cell_type": "code",
      "source": [
        "images = test_mri_path\n",
        "img = cv2.imread(images, cv2.IMREAD_COLOR)\n",
        "img = cv2.resize(img, (256, 256))\n",
        "#cv2.imwrite(\"new.jpg\",img)"
      ],
      "metadata": {
        "id": "4wiErH4b5Spt"
      },
      "execution_count": 50,
      "outputs": []
    },
    {
      "cell_type": "code",
      "source": [
        "mask1 = \"/content/seg_tumor_mask.png\"\n",
        "mask_1 = cv2.imread(mask1, cv2.IMREAD_GRAYSCALE)\n",
        "mask_1 = cv2.resize(mask_1, (256,256))#make sure mri and mask sizes are identical"
      ],
      "metadata": {
        "id": "E4L8vgm484fv"
      },
      "execution_count": 51,
      "outputs": []
    },
    {
      "cell_type": "code",
      "source": [
        "\n",
        "        #\"\"\" Detecting bounding boxes \"\"\"\n",
        "bboxes = mask_to_bbox(mask_1)\n",
        "\n",
        "        #\"\"\" marking bounding box on image \"\"\"\n",
        "for bbox in bboxes:\n",
        "      img = cv2.rectangle(img, (bbox[0], bbox[1]), (bbox[2], bbox[3]), (255, 0, 0), 2)\n",
        "\n",
        "        #\"\"\" Saving the image \"\"\"\n",
        "cat_image = np.concatenate([img, parse_mask(mask_1)], axis=1)\n",
        "Tumor = tumor #taken from prediction\n",
        "cv2.putText(cat_image,Tumor, (bbox[0], bbox[1]), cv2.FONT_HERSHEY_SIMPLEX, 0.5, (255,255,255))\n",
        "cv2.imwrite(f\"output.png\", cat_image)"
      ],
      "metadata": {
        "colab": {
          "base_uri": "https://localhost:8080/"
        },
        "id": "liop4sS09fSM",
        "outputId": "0b6a0103-6d85-4667-e7d5-9ddf2f2d20e0"
      },
      "execution_count": 52,
      "outputs": [
        {
          "output_type": "execute_result",
          "data": {
            "text/plain": [
              "True"
            ]
          },
          "metadata": {},
          "execution_count": 52
        }
      ]
    },
    {
      "cell_type": "code",
      "source": [],
      "metadata": {
        "id": "rASlRbeUB0zV"
      },
      "execution_count": null,
      "outputs": []
    }
  ]
}