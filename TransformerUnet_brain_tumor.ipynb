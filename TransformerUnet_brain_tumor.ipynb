{
  "nbformat": 4,
  "nbformat_minor": 0,
  "metadata": {
    "colab": {
      "provenance": [],
      "include_colab_link": true
    },
    "kernelspec": {
      "name": "python3",
      "display_name": "Python 3"
    },
    "language_info": {
      "name": "python"
    },
    "accelerator": "GPU",
    "gpuClass": "standard"
  },
  "cells": [
    {
      "cell_type": "markdown",
      "metadata": {
        "id": "view-in-github",
        "colab_type": "text"
      },
      "source": [
        "<a href=\"https://colab.research.google.com/github/Salman1450/CXR-and-MRI/blob/main/TransformerUnet_brain_tumor.ipynb\" target=\"_parent\"><img src=\"https://colab.research.google.com/assets/colab-badge.svg\" alt=\"Open In Colab\"/></a>"
      ]
    },
    {
      "cell_type": "code",
      "execution_count": null,
      "metadata": {
        "colab": {
          "base_uri": "https://localhost:8080/"
        },
        "id": "KTk2Ukmc5w-F",
        "outputId": "2cfb6df9-60c4-4b72-8aac-5940d814bfce"
      },
      "outputs": [
        {
          "output_type": "stream",
          "name": "stdout",
          "text": [
            "Looking in indexes: https://pypi.org/simple, https://us-python.pkg.dev/colab-wheels/public/simple/\n",
            "Requirement already satisfied: tensorflow in /usr/local/lib/python3.8/dist-packages (2.9.2)\n",
            "Requirement already satisfied: google-pasta>=0.1.1 in /usr/local/lib/python3.8/dist-packages (from tensorflow) (0.2.0)\n",
            "Requirement already satisfied: tensorflow-estimator<2.10.0,>=2.9.0rc0 in /usr/local/lib/python3.8/dist-packages (from tensorflow) (2.9.0)\n",
            "Requirement already satisfied: setuptools in /usr/local/lib/python3.8/dist-packages (from tensorflow) (57.4.0)\n",
            "Requirement already satisfied: libclang>=13.0.0 in /usr/local/lib/python3.8/dist-packages (from tensorflow) (15.0.6.1)\n",
            "Requirement already satisfied: absl-py>=1.0.0 in /usr/local/lib/python3.8/dist-packages (from tensorflow) (1.4.0)\n",
            "Requirement already satisfied: gast<=0.4.0,>=0.2.1 in /usr/local/lib/python3.8/dist-packages (from tensorflow) (0.4.0)\n",
            "Requirement already satisfied: grpcio<2.0,>=1.24.3 in /usr/local/lib/python3.8/dist-packages (from tensorflow) (1.51.1)\n",
            "Requirement already satisfied: typing-extensions>=3.6.6 in /usr/local/lib/python3.8/dist-packages (from tensorflow) (4.4.0)\n",
            "Requirement already satisfied: wrapt>=1.11.0 in /usr/local/lib/python3.8/dist-packages (from tensorflow) (1.14.1)\n",
            "Requirement already satisfied: tensorboard<2.10,>=2.9 in /usr/local/lib/python3.8/dist-packages (from tensorflow) (2.9.1)\n",
            "Requirement already satisfied: numpy>=1.20 in /usr/local/lib/python3.8/dist-packages (from tensorflow) (1.21.6)\n",
            "Requirement already satisfied: keras<2.10.0,>=2.9.0rc0 in /usr/local/lib/python3.8/dist-packages (from tensorflow) (2.9.0)\n",
            "Requirement already satisfied: keras-preprocessing>=1.1.1 in /usr/local/lib/python3.8/dist-packages (from tensorflow) (1.1.2)\n",
            "Requirement already satisfied: termcolor>=1.1.0 in /usr/local/lib/python3.8/dist-packages (from tensorflow) (2.2.0)\n",
            "Requirement already satisfied: protobuf<3.20,>=3.9.2 in /usr/local/lib/python3.8/dist-packages (from tensorflow) (3.19.6)\n",
            "Requirement already satisfied: astunparse>=1.6.0 in /usr/local/lib/python3.8/dist-packages (from tensorflow) (1.6.3)\n",
            "Requirement already satisfied: h5py>=2.9.0 in /usr/local/lib/python3.8/dist-packages (from tensorflow) (3.1.0)\n",
            "Requirement already satisfied: six>=1.12.0 in /usr/local/lib/python3.8/dist-packages (from tensorflow) (1.15.0)\n",
            "Requirement already satisfied: packaging in /usr/local/lib/python3.8/dist-packages (from tensorflow) (23.0)\n",
            "Requirement already satisfied: tensorflow-io-gcs-filesystem>=0.23.1 in /usr/local/lib/python3.8/dist-packages (from tensorflow) (0.30.0)\n",
            "Requirement already satisfied: flatbuffers<2,>=1.12 in /usr/local/lib/python3.8/dist-packages (from tensorflow) (1.12)\n",
            "Requirement already satisfied: opt-einsum>=2.3.2 in /usr/local/lib/python3.8/dist-packages (from tensorflow) (3.3.0)\n",
            "Requirement already satisfied: wheel<1.0,>=0.23.0 in /usr/local/lib/python3.8/dist-packages (from astunparse>=1.6.0->tensorflow) (0.38.4)\n",
            "Requirement already satisfied: google-auth<3,>=1.6.3 in /usr/local/lib/python3.8/dist-packages (from tensorboard<2.10,>=2.9->tensorflow) (2.16.0)\n",
            "Requirement already satisfied: requests<3,>=2.21.0 in /usr/local/lib/python3.8/dist-packages (from tensorboard<2.10,>=2.9->tensorflow) (2.25.1)\n",
            "Requirement already satisfied: google-auth-oauthlib<0.5,>=0.4.1 in /usr/local/lib/python3.8/dist-packages (from tensorboard<2.10,>=2.9->tensorflow) (0.4.6)\n",
            "Requirement already satisfied: werkzeug>=1.0.1 in /usr/local/lib/python3.8/dist-packages (from tensorboard<2.10,>=2.9->tensorflow) (1.0.1)\n",
            "Requirement already satisfied: tensorboard-plugin-wit>=1.6.0 in /usr/local/lib/python3.8/dist-packages (from tensorboard<2.10,>=2.9->tensorflow) (1.8.1)\n",
            "Requirement already satisfied: markdown>=2.6.8 in /usr/local/lib/python3.8/dist-packages (from tensorboard<2.10,>=2.9->tensorflow) (3.4.1)\n",
            "Requirement already satisfied: tensorboard-data-server<0.7.0,>=0.6.0 in /usr/local/lib/python3.8/dist-packages (from tensorboard<2.10,>=2.9->tensorflow) (0.6.1)\n",
            "Requirement already satisfied: pyasn1-modules>=0.2.1 in /usr/local/lib/python3.8/dist-packages (from google-auth<3,>=1.6.3->tensorboard<2.10,>=2.9->tensorflow) (0.2.8)\n",
            "Requirement already satisfied: rsa<5,>=3.1.4 in /usr/local/lib/python3.8/dist-packages (from google-auth<3,>=1.6.3->tensorboard<2.10,>=2.9->tensorflow) (4.9)\n",
            "Requirement already satisfied: cachetools<6.0,>=2.0.0 in /usr/local/lib/python3.8/dist-packages (from google-auth<3,>=1.6.3->tensorboard<2.10,>=2.9->tensorflow) (5.3.0)\n",
            "Requirement already satisfied: requests-oauthlib>=0.7.0 in /usr/local/lib/python3.8/dist-packages (from google-auth-oauthlib<0.5,>=0.4.1->tensorboard<2.10,>=2.9->tensorflow) (1.3.1)\n",
            "Requirement already satisfied: importlib-metadata>=4.4 in /usr/local/lib/python3.8/dist-packages (from markdown>=2.6.8->tensorboard<2.10,>=2.9->tensorflow) (6.0.0)\n",
            "Requirement already satisfied: idna<3,>=2.5 in /usr/local/lib/python3.8/dist-packages (from requests<3,>=2.21.0->tensorboard<2.10,>=2.9->tensorflow) (2.10)\n",
            "Requirement already satisfied: urllib3<1.27,>=1.21.1 in /usr/local/lib/python3.8/dist-packages (from requests<3,>=2.21.0->tensorboard<2.10,>=2.9->tensorflow) (1.24.3)\n",
            "Requirement already satisfied: certifi>=2017.4.17 in /usr/local/lib/python3.8/dist-packages (from requests<3,>=2.21.0->tensorboard<2.10,>=2.9->tensorflow) (2022.12.7)\n",
            "Requirement already satisfied: chardet<5,>=3.0.2 in /usr/local/lib/python3.8/dist-packages (from requests<3,>=2.21.0->tensorboard<2.10,>=2.9->tensorflow) (4.0.0)\n",
            "Requirement already satisfied: zipp>=0.5 in /usr/local/lib/python3.8/dist-packages (from importlib-metadata>=4.4->markdown>=2.6.8->tensorboard<2.10,>=2.9->tensorflow) (3.12.0)\n",
            "Requirement already satisfied: pyasn1<0.5.0,>=0.4.6 in /usr/local/lib/python3.8/dist-packages (from pyasn1-modules>=0.2.1->google-auth<3,>=1.6.3->tensorboard<2.10,>=2.9->tensorflow) (0.4.8)\n",
            "Requirement already satisfied: oauthlib>=3.0.0 in /usr/local/lib/python3.8/dist-packages (from requests-oauthlib>=0.7.0->google-auth-oauthlib<0.5,>=0.4.1->tensorboard<2.10,>=2.9->tensorflow) (3.2.2)\n",
            "Looking in indexes: https://pypi.org/simple, https://us-python.pkg.dev/colab-wheels/public/simple/\n",
            "Collecting keras-unet-collection==0.1.13\n",
            "  Downloading keras_unet_collection-0.1.13-py3-none-any.whl (67 kB)\n",
            "\u001b[2K     \u001b[90m━━━━━━━━━━━━━━━━━━━━━━━━━━━━━━━━━━━━━━━━\u001b[0m \u001b[32m67.9/67.9 KB\u001b[0m \u001b[31m1.2 MB/s\u001b[0m eta \u001b[36m0:00:00\u001b[0m\n",
            "\u001b[?25hInstalling collected packages: keras-unet-collection\n",
            "Successfully installed keras-unet-collection-0.1.13\n"
          ]
        }
      ],
      "source": [
        "!pip install tensorflow\n",
        "!pip install keras-unet-collection==0.1.13"
      ]
    },
    {
      "cell_type": "code",
      "source": [
        "!pip install --upgrade --no-cache-dir gdown\n",
        "!gdown --id 11hcgbRcs_9mV1QkiDq8Eb6FKENQClI2f\n",
        "!pip install patool\n",
        "import patoolib\n",
        "patoolib.extract_archive('archive.zip')\n"
      ],
      "metadata": {
        "colab": {
          "base_uri": "https://localhost:8080/",
          "height": 663
        },
        "id": "Yiifv3Lz534T",
        "outputId": "588fe1b5-acbc-4531-db25-251d5edd2a39"
      },
      "execution_count": null,
      "outputs": [
        {
          "output_type": "stream",
          "name": "stdout",
          "text": [
            "Looking in indexes: https://pypi.org/simple, https://us-python.pkg.dev/colab-wheels/public/simple/\n",
            "Requirement already satisfied: gdown in /usr/local/lib/python3.8/dist-packages (4.4.0)\n",
            "Collecting gdown\n",
            "  Downloading gdown-4.6.0-py3-none-any.whl (14 kB)\n",
            "Requirement already satisfied: filelock in /usr/local/lib/python3.8/dist-packages (from gdown) (3.9.0)\n",
            "Requirement already satisfied: tqdm in /usr/local/lib/python3.8/dist-packages (from gdown) (4.64.1)\n",
            "Requirement already satisfied: six in /usr/local/lib/python3.8/dist-packages (from gdown) (1.15.0)\n",
            "Requirement already satisfied: requests[socks] in /usr/local/lib/python3.8/dist-packages (from gdown) (2.25.1)\n",
            "Requirement already satisfied: beautifulsoup4 in /usr/local/lib/python3.8/dist-packages (from gdown) (4.6.3)\n",
            "Requirement already satisfied: idna<3,>=2.5 in /usr/local/lib/python3.8/dist-packages (from requests[socks]->gdown) (2.10)\n",
            "Requirement already satisfied: certifi>=2017.4.17 in /usr/local/lib/python3.8/dist-packages (from requests[socks]->gdown) (2022.12.7)\n",
            "Requirement already satisfied: urllib3<1.27,>=1.21.1 in /usr/local/lib/python3.8/dist-packages (from requests[socks]->gdown) (1.24.3)\n",
            "Requirement already satisfied: chardet<5,>=3.0.2 in /usr/local/lib/python3.8/dist-packages (from requests[socks]->gdown) (4.0.0)\n",
            "Requirement already satisfied: PySocks!=1.5.7,>=1.5.6 in /usr/local/lib/python3.8/dist-packages (from requests[socks]->gdown) (1.7.1)\n",
            "Installing collected packages: gdown\n",
            "  Attempting uninstall: gdown\n",
            "    Found existing installation: gdown 4.4.0\n",
            "    Uninstalling gdown-4.4.0:\n",
            "      Successfully uninstalled gdown-4.4.0\n",
            "Successfully installed gdown-4.6.0\n",
            "/usr/local/lib/python3.8/dist-packages/gdown/cli.py:121: FutureWarning: Option `--id` was deprecated in version 4.3.1 and will be removed in 5.0. You don't need to pass it anymore to use a file ID.\n",
            "  warnings.warn(\n",
            "Downloading...\n",
            "From: https://drive.google.com/uc?id=11hcgbRcs_9mV1QkiDq8Eb6FKENQClI2f\n",
            "To: /content/archive.zip\n",
            "100% 327M/327M [00:02<00:00, 146MB/s]\n",
            "Looking in indexes: https://pypi.org/simple, https://us-python.pkg.dev/colab-wheels/public/simple/\n",
            "Collecting patool\n",
            "  Downloading patool-1.12-py2.py3-none-any.whl (77 kB)\n",
            "\u001b[2K     \u001b[90m━━━━━━━━━━━━━━━━━━━━━━━━━━━━━━━━━━━━━━━━\u001b[0m \u001b[32m77.5/77.5 KB\u001b[0m \u001b[31m8.4 MB/s\u001b[0m eta \u001b[36m0:00:00\u001b[0m\n",
            "\u001b[?25hInstalling collected packages: patool\n",
            "Successfully installed patool-1.12\n",
            "patool: Extracting archive.zip ...\n",
            "patool: running /usr/bin/7z x -o./Unpack_69cg3alw -- archive.zip\n",
            "patool: ... archive.zip extracted to `archive' (multiple files in root).\n"
          ]
        },
        {
          "output_type": "execute_result",
          "data": {
            "text/plain": [
              "'archive'"
            ],
            "application/vnd.google.colaboratory.intrinsic+json": {
              "type": "string"
            }
          },
          "metadata": {},
          "execution_count": 2
        }
      ]
    },
    {
      "cell_type": "code",
      "source": [
        "import os\n",
        "os.environ[\"TF_CPP_MIN_LOG_LEVEL\"] = \"2\"\n",
        "\n",
        "import numpy as np\n",
        "import cv2\n",
        "from glob import glob\n",
        "from sklearn.utils import shuffle\n",
        "import tensorflow as tf\n",
        "from tensorflow.keras.callbacks import ModelCheckpoint, CSVLogger, ReduceLROnPlateau, EarlyStopping, TensorBoard\n",
        "from tensorflow.keras.optimizers import Adam\n",
        "from sklearn.model_selection import train_test_split\n",
        "from tensorflow.keras.metrics import Recall, Precision\n",
        "\n",
        "\n",
        "\"\"\" Global parameters \"\"\"\n",
        "H = 128\n",
        "W = 128\n",
        "\n",
        "def create_dir(path):\n",
        "    if not os.path.exists(path):\n",
        "        os.makedirs(path)\n",
        "\n",
        "\n",
        "def load_dataset(path, split=0.2):\n",
        "    images = sorted(glob(os.path.join(path, \"images\", \"*.png\")))\n",
        "    masks = sorted(glob(os.path.join(path, \"masks\", \"*.png\")))\n",
        "\n",
        "    split_size = int(len(images) * split)\n",
        "\n",
        "    train_x, valid_x = train_test_split(images, test_size=split_size, random_state=42)\n",
        "    train_y, valid_y = train_test_split(masks, test_size=split_size, random_state=42)\n",
        "\n",
        "    train_x, test_x = train_test_split(train_x, test_size=split_size, random_state=42)\n",
        "    train_y, test_y = train_test_split(train_y, test_size=split_size, random_state=42)\n",
        "\n",
        "    return (train_x, train_y), (valid_x, valid_y), (test_x, test_y)\n",
        "def read_image(path):\n",
        "    path = path.decode()\n",
        "    x = cv2.imread(path, cv2.IMREAD_COLOR)\n",
        "    x = cv2.resize(x, (W, H))\n",
        "    x = x / 255.0\n",
        "    x = x.astype(np.float32)\n",
        "    return x\n",
        "\n",
        "def read_mask(path):\n",
        "    path = path.decode()\n",
        "    x = cv2.imread(path, cv2.IMREAD_GRAYSCALE)  ## (h, w)\n",
        "    x = cv2.resize(x, (W, H))   ## (h, w)\n",
        "    x = x / 255.0               ## (h, w)\n",
        "    x = x.astype(np.float32)    ## (h, w)\n",
        "    x = np.expand_dims(x, axis=-1)## (h, w, 1)\n",
        "    return x\n",
        "\n",
        "def tf_parse(x, y):\n",
        "    def _parse(x, y):\n",
        "        x = read_image(x)\n",
        "        y = read_mask(y)\n",
        "        return x, y\n",
        "\n",
        "    x, y = tf.numpy_function(_parse, [x, y], [tf.float32, tf.float32])\n",
        "    x.set_shape([H, W, 3])\n",
        "    y.set_shape([H, W, 1])\n",
        "    return x, y\n",
        "\n",
        "def tf_dataset(X, Y, batch=2):\n",
        "    dataset = tf.data.Dataset.from_tensor_slices((X, Y))\n",
        "    dataset = dataset.map(tf_parse)\n",
        "    dataset = dataset.batch(batch)\n",
        "    dataset = dataset.prefetch(10)\n",
        "    return dataset\n",
        "     "
      ],
      "metadata": {
        "id": "EW1zPkBp56Z2"
      },
      "execution_count": null,
      "outputs": []
    },
    {
      "cell_type": "code",
      "source": [
        "import numpy as np\n",
        "import tensorflow as tf\n",
        "from tensorflow.keras import backend as K\n",
        "from tensorflow.keras.layers import Reshape,Input\n",
        "from tensorflow import float32\n",
        "\n",
        "\n",
        "def iou(y_true, y_pred):\n",
        "    def f(y_true, y_pred):\n",
        "        intersection = (y_true * y_pred).sum()\n",
        "        union = y_true.sum() + y_pred.sum() - intersection\n",
        "        x = (intersection + 1e-15) / (union + 1e-15)\n",
        "        x = x.astype(np.float32)\n",
        "        return x\n",
        "    return tf.numpy_function(f, [y_true, y_pred], tf.float32)\n",
        "\n",
        "smooth = 1e-15\n",
        "def dice_coef(y_true, y_pred):\n",
        "    y_true = tf.keras.layers.Flatten()(y_true)\n",
        "    y_pred = tf.keras.layers.Flatten()(y_pred)\n",
        "    intersection = tf.reduce_sum(y_true * y_pred)\n",
        "    return (2. * intersection + smooth) / (tf.reduce_sum(y_true) + tf.reduce_sum(y_pred) + smooth)\n",
        "\n",
        "def dice_loss(y_true, y_pred):\n",
        "    return 1.0 - dice_coef(y_true, y_pred)"
      ],
      "metadata": {
        "id": "Xej3u0Gj59w6"
      },
      "execution_count": null,
      "outputs": []
    },
    {
      "cell_type": "code",
      "source": [
        "from keras_unet_collection import models\n",
        "if __name__ == \"__main__\":\n",
        "    \"\"\" Seeding \"\"\"\n",
        "    np.random.seed(42)\n",
        "    tf.random.set_seed(42)\n",
        "\n",
        "    \"\"\" Directory for storing files \"\"\"\n",
        "    create_dir(\"files\")\n",
        "\n",
        "    \"\"\" Hyperparameters \"\"\"\n",
        "    batch_size = 16\n",
        "    lr = 1e-3\n",
        "    num_epochs = 30\n",
        "    model_path = os.path.join(\"files\", \"trans_Unet_model.h5\")\n",
        "    csv_path = os.path.join(\"files\", \"trans_UNET_data.csv\")\n",
        "\n",
        "    \"\"\" Dataset \"\"\"\n",
        "    dataset_path = \"/content/archive\"\n",
        "    (train_x, train_y), (valid_x, valid_y), (test_x, test_y) = load_dataset(dataset_path)\n",
        "\n",
        "    print(f\"Train: {len(train_x)} - {len(train_y)}\")\n",
        "    print(f\"Valid: {len(valid_x)} - {len(valid_y)}\")\n",
        "    print(f\"Test : {len(test_x)} - {len(test_y)}\")\n",
        "   \n",
        "\n",
        "    train_dataset = tf_dataset(train_x, train_y, batch=batch_size)\n",
        "    valid_dataset = tf_dataset(valid_x, valid_y, batch=batch_size)\n",
        "    model_tran_unet = models.transunet_2d((128, 128, 3), filter_num=[64, 128, 256, 512, 1024],\n",
        "                         n_labels=1, stack_num_down=2,\n",
        "                         stack_num_up=2,\n",
        "                         embed_dim=768, num_mlp = 3072, num_heads=12, num_transformer=12,\n",
        "                         activation='ReLU', mlp_activation='GELU', output_activation='Sigmoid', batch_norm=True, pool=False, unpool=False, \n",
        "                         backbone='VGG19', weights='imagenet', freeze_backbone=True, freeze_batch_norm=True, name='transunet')\n",
        "\n",
        "    model_tran_unet.compile(loss=dice_loss, optimizer=Adam(lr =lr),   #dice_loss can be used instead of binary_crossentropy\n",
        "                         metrics=['accuracy', dice_coef,iou])\n",
        "    print(model_tran_unet.summary())"
      ],
      "metadata": {
        "colab": {
          "base_uri": "https://localhost:8080/"
        },
        "id": "SPx_sFX75_53",
        "outputId": "14a099e9-3043-4b78-b657-6998d133027e"
      },
      "execution_count": null,
      "outputs": [
        {
          "output_type": "stream",
          "name": "stdout",
          "text": [
            "Train: 1840 - 1840\n",
            "Valid: 612 - 612\n",
            "Test : 612 - 612\n",
            "Downloading data from https://storage.googleapis.com/tensorflow/keras-applications/vgg19/vgg19_weights_tf_dim_ordering_tf_kernels_notop.h5\n",
            "80134624/80134624 [==============================] - 4s 0us/step\n",
            "Model: \"transunet_model\"\n",
            "__________________________________________________________________________________________________\n",
            " Layer (type)                   Output Shape         Param #     Connected to                     \n",
            "==================================================================================================\n",
            " input_1 (InputLayer)           [(None, 128, 128, 3  0           []                               \n",
            "                                )]                                                                \n",
            "                                                                                                  \n",
            " VGG19_backbone (Functional)    [(None, 128, 128, 6  20024384    ['input_1[0][0]']                \n",
            "                                4),                                                               \n",
            "                                 (None, 64, 64, 128                                               \n",
            "                                ),                                                                \n",
            "                                 (None, 32, 32, 256                                               \n",
            "                                ),                                                                \n",
            "                                 (None, 16, 16, 512                                               \n",
            "                                ),                                                                \n",
            "                                 (None, 8, 8, 512)]                                               \n",
            "                                                                                                  \n",
            " transunet_conv_trans_before (C  (None, 8, 8, 1024)  524288      ['VGG19_backbone[0][4]']         \n",
            " onv2D)                                                                                           \n",
            "                                                                                                  \n",
            " patch_extract (patch_extract)  (None, 64, 1024)     0           ['transunet_conv_trans_before[0][\n",
            "                                                                 0]']                             \n",
            "                                                                                                  \n",
            " patch_embedding (patch_embeddi  (None, 64, 768)     836352      ['patch_extract[0][0]']          \n",
            " ng)                                                                                              \n",
            "                                                                                                  \n",
            " transunet_ViT_0_layer_norm_1 (  (None, 64, 768)     1536        ['patch_embedding[0][0]']        \n",
            " LayerNormalization)                                                                              \n",
            "                                                                                                  \n",
            " transunet_ViT_0_atten (MultiHe  (None, 64, 768)     28339968    ['transunet_ViT_0_layer_norm_1[0]\n",
            " adAttention)                                                    [0]',                            \n",
            "                                                                  'transunet_ViT_0_layer_norm_1[0]\n",
            "                                                                 [0]']                            \n",
            "                                                                                                  \n",
            " transunet_ViT_0_skip_1 (Add)   (None, 64, 768)      0           ['transunet_ViT_0_atten[0][0]',  \n",
            "                                                                  'patch_embedding[0][0]']        \n",
            "                                                                                                  \n",
            " transunet_ViT_0_layer_norm_2 (  (None, 64, 768)     1536        ['transunet_ViT_0_skip_1[0][0]'] \n",
            " LayerNormalization)                                                                              \n",
            "                                                                                                  \n",
            " transunet_ViT_0_mlp_dense_0 (D  (None, 64, 3072)    2362368     ['transunet_ViT_0_layer_norm_2[0]\n",
            " ense)                                                           [0]']                            \n",
            "                                                                                                  \n",
            " transunet_ViT_0_mlp_activation  (None, 64, 3072)    0           ['transunet_ViT_0_mlp_dense_0[0][\n",
            " _0 (GELU)                                                       0]']                             \n",
            "                                                                                                  \n",
            " transunet_ViT_0_mlp_dense_1 (D  (None, 64, 768)     2360064     ['transunet_ViT_0_mlp_activation_\n",
            " ense)                                                           0[0][0]']                        \n",
            "                                                                                                  \n",
            " transunet_ViT_0_mlp_activation  (None, 64, 768)     0           ['transunet_ViT_0_mlp_dense_1[0][\n",
            " _1 (GELU)                                                       0]']                             \n",
            "                                                                                                  \n",
            " transunet_ViT_0_skip_2 (Add)   (None, 64, 768)      0           ['transunet_ViT_0_mlp_activation_\n",
            "                                                                 1[0][0]',                        \n",
            "                                                                  'transunet_ViT_0_skip_1[0][0]'] \n",
            "                                                                                                  \n",
            " transunet_ViT_1_layer_norm_1 (  (None, 64, 768)     1536        ['transunet_ViT_0_skip_2[0][0]'] \n",
            " LayerNormalization)                                                                              \n",
            "                                                                                                  \n",
            " transunet_ViT_1_atten (MultiHe  (None, 64, 768)     28339968    ['transunet_ViT_1_layer_norm_1[0]\n",
            " adAttention)                                                    [0]',                            \n",
            "                                                                  'transunet_ViT_1_layer_norm_1[0]\n",
            "                                                                 [0]']                            \n",
            "                                                                                                  \n",
            " transunet_ViT_1_skip_1 (Add)   (None, 64, 768)      0           ['transunet_ViT_1_atten[0][0]',  \n",
            "                                                                  'transunet_ViT_0_skip_2[0][0]'] \n",
            "                                                                                                  \n",
            " transunet_ViT_1_layer_norm_2 (  (None, 64, 768)     1536        ['transunet_ViT_1_skip_1[0][0]'] \n",
            " LayerNormalization)                                                                              \n",
            "                                                                                                  \n",
            " transunet_ViT_1_mlp_dense_0 (D  (None, 64, 3072)    2362368     ['transunet_ViT_1_layer_norm_2[0]\n",
            " ense)                                                           [0]']                            \n",
            "                                                                                                  \n",
            " transunet_ViT_1_mlp_activation  (None, 64, 3072)    0           ['transunet_ViT_1_mlp_dense_0[0][\n",
            " _0 (GELU)                                                       0]']                             \n",
            "                                                                                                  \n",
            " transunet_ViT_1_mlp_dense_1 (D  (None, 64, 768)     2360064     ['transunet_ViT_1_mlp_activation_\n",
            " ense)                                                           0[0][0]']                        \n",
            "                                                                                                  \n",
            " transunet_ViT_1_mlp_activation  (None, 64, 768)     0           ['transunet_ViT_1_mlp_dense_1[0][\n",
            " _1 (GELU)                                                       0]']                             \n",
            "                                                                                                  \n",
            " transunet_ViT_1_skip_2 (Add)   (None, 64, 768)      0           ['transunet_ViT_1_mlp_activation_\n",
            "                                                                 1[0][0]',                        \n",
            "                                                                  'transunet_ViT_1_skip_1[0][0]'] \n",
            "                                                                                                  \n",
            " transunet_ViT_2_layer_norm_1 (  (None, 64, 768)     1536        ['transunet_ViT_1_skip_2[0][0]'] \n"
          ]
        },
        {
          "output_type": "stream",
          "name": "stderr",
          "text": [
            "/usr/local/lib/python3.8/dist-packages/keras/optimizers/optimizer_v2/adam.py:110: UserWarning: The `lr` argument is deprecated, use `learning_rate` instead.\n",
            "  super(Adam, self).__init__(name, **kwargs)\n"
          ]
        },
        {
          "output_type": "stream",
          "name": "stdout",
          "text": [
            " LayerNormalization)                                                                              \n",
            "                                                                                                  \n",
            " transunet_ViT_2_atten (MultiHe  (None, 64, 768)     28339968    ['transunet_ViT_2_layer_norm_1[0]\n",
            " adAttention)                                                    [0]',                            \n",
            "                                                                  'transunet_ViT_2_layer_norm_1[0]\n",
            "                                                                 [0]']                            \n",
            "                                                                                                  \n",
            " transunet_ViT_2_skip_1 (Add)   (None, 64, 768)      0           ['transunet_ViT_2_atten[0][0]',  \n",
            "                                                                  'transunet_ViT_1_skip_2[0][0]'] \n",
            "                                                                                                  \n",
            " transunet_ViT_2_layer_norm_2 (  (None, 64, 768)     1536        ['transunet_ViT_2_skip_1[0][0]'] \n",
            " LayerNormalization)                                                                              \n",
            "                                                                                                  \n",
            " transunet_ViT_2_mlp_dense_0 (D  (None, 64, 3072)    2362368     ['transunet_ViT_2_layer_norm_2[0]\n",
            " ense)                                                           [0]']                            \n",
            "                                                                                                  \n",
            " transunet_ViT_2_mlp_activation  (None, 64, 3072)    0           ['transunet_ViT_2_mlp_dense_0[0][\n",
            " _0 (GELU)                                                       0]']                             \n",
            "                                                                                                  \n",
            " transunet_ViT_2_mlp_dense_1 (D  (None, 64, 768)     2360064     ['transunet_ViT_2_mlp_activation_\n",
            " ense)                                                           0[0][0]']                        \n",
            "                                                                                                  \n",
            " transunet_ViT_2_mlp_activation  (None, 64, 768)     0           ['transunet_ViT_2_mlp_dense_1[0][\n",
            " _1 (GELU)                                                       0]']                             \n",
            "                                                                                                  \n",
            " transunet_ViT_2_skip_2 (Add)   (None, 64, 768)      0           ['transunet_ViT_2_mlp_activation_\n",
            "                                                                 1[0][0]',                        \n",
            "                                                                  'transunet_ViT_2_skip_1[0][0]'] \n",
            "                                                                                                  \n",
            " transunet_ViT_3_layer_norm_1 (  (None, 64, 768)     1536        ['transunet_ViT_2_skip_2[0][0]'] \n",
            " LayerNormalization)                                                                              \n",
            "                                                                                                  \n",
            " transunet_ViT_3_atten (MultiHe  (None, 64, 768)     28339968    ['transunet_ViT_3_layer_norm_1[0]\n",
            " adAttention)                                                    [0]',                            \n",
            "                                                                  'transunet_ViT_3_layer_norm_1[0]\n",
            "                                                                 [0]']                            \n",
            "                                                                                                  \n",
            " transunet_ViT_3_skip_1 (Add)   (None, 64, 768)      0           ['transunet_ViT_3_atten[0][0]',  \n",
            "                                                                  'transunet_ViT_2_skip_2[0][0]'] \n",
            "                                                                                                  \n",
            " transunet_ViT_3_layer_norm_2 (  (None, 64, 768)     1536        ['transunet_ViT_3_skip_1[0][0]'] \n",
            " LayerNormalization)                                                                              \n",
            "                                                                                                  \n",
            " transunet_ViT_3_mlp_dense_0 (D  (None, 64, 3072)    2362368     ['transunet_ViT_3_layer_norm_2[0]\n",
            " ense)                                                           [0]']                            \n",
            "                                                                                                  \n",
            " transunet_ViT_3_mlp_activation  (None, 64, 3072)    0           ['transunet_ViT_3_mlp_dense_0[0][\n",
            " _0 (GELU)                                                       0]']                             \n",
            "                                                                                                  \n",
            " transunet_ViT_3_mlp_dense_1 (D  (None, 64, 768)     2360064     ['transunet_ViT_3_mlp_activation_\n",
            " ense)                                                           0[0][0]']                        \n",
            "                                                                                                  \n",
            " transunet_ViT_3_mlp_activation  (None, 64, 768)     0           ['transunet_ViT_3_mlp_dense_1[0][\n",
            " _1 (GELU)                                                       0]']                             \n",
            "                                                                                                  \n",
            " transunet_ViT_3_skip_2 (Add)   (None, 64, 768)      0           ['transunet_ViT_3_mlp_activation_\n",
            "                                                                 1[0][0]',                        \n",
            "                                                                  'transunet_ViT_3_skip_1[0][0]'] \n",
            "                                                                                                  \n",
            " transunet_ViT_4_layer_norm_1 (  (None, 64, 768)     1536        ['transunet_ViT_3_skip_2[0][0]'] \n",
            " LayerNormalization)                                                                              \n",
            "                                                                                                  \n",
            " transunet_ViT_4_atten (MultiHe  (None, 64, 768)     28339968    ['transunet_ViT_4_layer_norm_1[0]\n",
            " adAttention)                                                    [0]',                            \n",
            "                                                                  'transunet_ViT_4_layer_norm_1[0]\n",
            "                                                                 [0]']                            \n",
            "                                                                                                  \n",
            " transunet_ViT_4_skip_1 (Add)   (None, 64, 768)      0           ['transunet_ViT_4_atten[0][0]',  \n",
            "                                                                  'transunet_ViT_3_skip_2[0][0]'] \n",
            "                                                                                                  \n",
            " transunet_ViT_4_layer_norm_2 (  (None, 64, 768)     1536        ['transunet_ViT_4_skip_1[0][0]'] \n",
            " LayerNormalization)                                                                              \n",
            "                                                                                                  \n",
            " transunet_ViT_4_mlp_dense_0 (D  (None, 64, 3072)    2362368     ['transunet_ViT_4_layer_norm_2[0]\n",
            " ense)                                                           [0]']                            \n",
            "                                                                                                  \n",
            " transunet_ViT_4_mlp_activation  (None, 64, 3072)    0           ['transunet_ViT_4_mlp_dense_0[0][\n",
            " _0 (GELU)                                                       0]']                             \n",
            "                                                                                                  \n",
            " transunet_ViT_4_mlp_dense_1 (D  (None, 64, 768)     2360064     ['transunet_ViT_4_mlp_activation_\n",
            " ense)                                                           0[0][0]']                        \n",
            "                                                                                                  \n",
            " transunet_ViT_4_mlp_activation  (None, 64, 768)     0           ['transunet_ViT_4_mlp_dense_1[0][\n",
            " _1 (GELU)                                                       0]']                             \n",
            "                                                                                                  \n",
            " transunet_ViT_4_skip_2 (Add)   (None, 64, 768)      0           ['transunet_ViT_4_mlp_activation_\n",
            "                                                                 1[0][0]',                        \n",
            "                                                                  'transunet_ViT_4_skip_1[0][0]'] \n",
            "                                                                                                  \n",
            " transunet_ViT_5_layer_norm_1 (  (None, 64, 768)     1536        ['transunet_ViT_4_skip_2[0][0]'] \n",
            " LayerNormalization)                                                                              \n",
            "                                                                                                  \n",
            " transunet_ViT_5_atten (MultiHe  (None, 64, 768)     28339968    ['transunet_ViT_5_layer_norm_1[0]\n",
            " adAttention)                                                    [0]',                            \n",
            "                                                                  'transunet_ViT_5_layer_norm_1[0]\n",
            "                                                                 [0]']                            \n",
            "                                                                                                  \n",
            " transunet_ViT_5_skip_1 (Add)   (None, 64, 768)      0           ['transunet_ViT_5_atten[0][0]',  \n",
            "                                                                  'transunet_ViT_4_skip_2[0][0]'] \n",
            "                                                                                                  \n",
            " transunet_ViT_5_layer_norm_2 (  (None, 64, 768)     1536        ['transunet_ViT_5_skip_1[0][0]'] \n",
            " LayerNormalization)                                                                              \n",
            "                                                                                                  \n",
            " transunet_ViT_5_mlp_dense_0 (D  (None, 64, 3072)    2362368     ['transunet_ViT_5_layer_norm_2[0]\n",
            " ense)                                                           [0]']                            \n",
            "                                                                                                  \n",
            " transunet_ViT_5_mlp_activation  (None, 64, 3072)    0           ['transunet_ViT_5_mlp_dense_0[0][\n",
            " _0 (GELU)                                                       0]']                             \n",
            "                                                                                                  \n",
            " transunet_ViT_5_mlp_dense_1 (D  (None, 64, 768)     2360064     ['transunet_ViT_5_mlp_activation_\n",
            " ense)                                                           0[0][0]']                        \n",
            "                                                                                                  \n",
            " transunet_ViT_5_mlp_activation  (None, 64, 768)     0           ['transunet_ViT_5_mlp_dense_1[0][\n",
            " _1 (GELU)                                                       0]']                             \n",
            "                                                                                                  \n",
            " transunet_ViT_5_skip_2 (Add)   (None, 64, 768)      0           ['transunet_ViT_5_mlp_activation_\n",
            "                                                                 1[0][0]',                        \n",
            "                                                                  'transunet_ViT_5_skip_1[0][0]'] \n",
            "                                                                                                  \n",
            " transunet_ViT_6_layer_norm_1 (  (None, 64, 768)     1536        ['transunet_ViT_5_skip_2[0][0]'] \n",
            " LayerNormalization)                                                                              \n",
            "                                                                                                  \n",
            " transunet_ViT_6_atten (MultiHe  (None, 64, 768)     28339968    ['transunet_ViT_6_layer_norm_1[0]\n",
            " adAttention)                                                    [0]',                            \n",
            "                                                                  'transunet_ViT_6_layer_norm_1[0]\n",
            "                                                                 [0]']                            \n",
            "                                                                                                  \n",
            " transunet_ViT_6_skip_1 (Add)   (None, 64, 768)      0           ['transunet_ViT_6_atten[0][0]',  \n",
            "                                                                  'transunet_ViT_5_skip_2[0][0]'] \n",
            "                                                                                                  \n",
            " transunet_ViT_6_layer_norm_2 (  (None, 64, 768)     1536        ['transunet_ViT_6_skip_1[0][0]'] \n",
            " LayerNormalization)                                                                              \n",
            "                                                                                                  \n",
            " transunet_ViT_6_mlp_dense_0 (D  (None, 64, 3072)    2362368     ['transunet_ViT_6_layer_norm_2[0]\n",
            " ense)                                                           [0]']                            \n",
            "                                                                                                  \n",
            " transunet_ViT_6_mlp_activation  (None, 64, 3072)    0           ['transunet_ViT_6_mlp_dense_0[0][\n",
            " _0 (GELU)                                                       0]']                             \n",
            "                                                                                                  \n",
            " transunet_ViT_6_mlp_dense_1 (D  (None, 64, 768)     2360064     ['transunet_ViT_6_mlp_activation_\n",
            " ense)                                                           0[0][0]']                        \n",
            "                                                                                                  \n",
            " transunet_ViT_6_mlp_activation  (None, 64, 768)     0           ['transunet_ViT_6_mlp_dense_1[0][\n",
            " _1 (GELU)                                                       0]']                             \n",
            "                                                                                                  \n",
            " transunet_ViT_6_skip_2 (Add)   (None, 64, 768)      0           ['transunet_ViT_6_mlp_activation_\n",
            "                                                                 1[0][0]',                        \n",
            "                                                                  'transunet_ViT_6_skip_1[0][0]'] \n",
            "                                                                                                  \n",
            " transunet_ViT_7_layer_norm_1 (  (None, 64, 768)     1536        ['transunet_ViT_6_skip_2[0][0]'] \n",
            " LayerNormalization)                                                                              \n",
            "                                                                                                  \n",
            " transunet_ViT_7_atten (MultiHe  (None, 64, 768)     28339968    ['transunet_ViT_7_layer_norm_1[0]\n",
            " adAttention)                                                    [0]',                            \n",
            "                                                                  'transunet_ViT_7_layer_norm_1[0]\n",
            "                                                                 [0]']                            \n",
            "                                                                                                  \n",
            " transunet_ViT_7_skip_1 (Add)   (None, 64, 768)      0           ['transunet_ViT_7_atten[0][0]',  \n",
            "                                                                  'transunet_ViT_6_skip_2[0][0]'] \n",
            "                                                                                                  \n",
            " transunet_ViT_7_layer_norm_2 (  (None, 64, 768)     1536        ['transunet_ViT_7_skip_1[0][0]'] \n",
            " LayerNormalization)                                                                              \n",
            "                                                                                                  \n",
            " transunet_ViT_7_mlp_dense_0 (D  (None, 64, 3072)    2362368     ['transunet_ViT_7_layer_norm_2[0]\n",
            " ense)                                                           [0]']                            \n",
            "                                                                                                  \n",
            " transunet_ViT_7_mlp_activation  (None, 64, 3072)    0           ['transunet_ViT_7_mlp_dense_0[0][\n",
            " _0 (GELU)                                                       0]']                             \n",
            "                                                                                                  \n",
            " transunet_ViT_7_mlp_dense_1 (D  (None, 64, 768)     2360064     ['transunet_ViT_7_mlp_activation_\n",
            " ense)                                                           0[0][0]']                        \n",
            "                                                                                                  \n",
            " transunet_ViT_7_mlp_activation  (None, 64, 768)     0           ['transunet_ViT_7_mlp_dense_1[0][\n",
            " _1 (GELU)                                                       0]']                             \n",
            "                                                                                                  \n",
            " transunet_ViT_7_skip_2 (Add)   (None, 64, 768)      0           ['transunet_ViT_7_mlp_activation_\n",
            "                                                                 1[0][0]',                        \n",
            "                                                                  'transunet_ViT_7_skip_1[0][0]'] \n",
            "                                                                                                  \n",
            " transunet_ViT_8_layer_norm_1 (  (None, 64, 768)     1536        ['transunet_ViT_7_skip_2[0][0]'] \n",
            " LayerNormalization)                                                                              \n",
            "                                                                                                  \n",
            " transunet_ViT_8_atten (MultiHe  (None, 64, 768)     28339968    ['transunet_ViT_8_layer_norm_1[0]\n",
            " adAttention)                                                    [0]',                            \n",
            "                                                                  'transunet_ViT_8_layer_norm_1[0]\n",
            "                                                                 [0]']                            \n",
            "                                                                                                  \n",
            " transunet_ViT_8_skip_1 (Add)   (None, 64, 768)      0           ['transunet_ViT_8_atten[0][0]',  \n",
            "                                                                  'transunet_ViT_7_skip_2[0][0]'] \n",
            "                                                                                                  \n",
            " transunet_ViT_8_layer_norm_2 (  (None, 64, 768)     1536        ['transunet_ViT_8_skip_1[0][0]'] \n",
            " LayerNormalization)                                                                              \n",
            "                                                                                                  \n",
            " transunet_ViT_8_mlp_dense_0 (D  (None, 64, 3072)    2362368     ['transunet_ViT_8_layer_norm_2[0]\n",
            " ense)                                                           [0]']                            \n",
            "                                                                                                  \n",
            " transunet_ViT_8_mlp_activation  (None, 64, 3072)    0           ['transunet_ViT_8_mlp_dense_0[0][\n",
            " _0 (GELU)                                                       0]']                             \n",
            "                                                                                                  \n",
            " transunet_ViT_8_mlp_dense_1 (D  (None, 64, 768)     2360064     ['transunet_ViT_8_mlp_activation_\n",
            " ense)                                                           0[0][0]']                        \n",
            "                                                                                                  \n",
            " transunet_ViT_8_mlp_activation  (None, 64, 768)     0           ['transunet_ViT_8_mlp_dense_1[0][\n",
            " _1 (GELU)                                                       0]']                             \n",
            "                                                                                                  \n",
            " transunet_ViT_8_skip_2 (Add)   (None, 64, 768)      0           ['transunet_ViT_8_mlp_activation_\n",
            "                                                                 1[0][0]',                        \n",
            "                                                                  'transunet_ViT_8_skip_1[0][0]'] \n",
            "                                                                                                  \n",
            " transunet_ViT_9_layer_norm_1 (  (None, 64, 768)     1536        ['transunet_ViT_8_skip_2[0][0]'] \n",
            " LayerNormalization)                                                                              \n",
            "                                                                                                  \n",
            " transunet_ViT_9_atten (MultiHe  (None, 64, 768)     28339968    ['transunet_ViT_9_layer_norm_1[0]\n",
            " adAttention)                                                    [0]',                            \n",
            "                                                                  'transunet_ViT_9_layer_norm_1[0]\n",
            "                                                                 [0]']                            \n",
            "                                                                                                  \n",
            " transunet_ViT_9_skip_1 (Add)   (None, 64, 768)      0           ['transunet_ViT_9_atten[0][0]',  \n",
            "                                                                  'transunet_ViT_8_skip_2[0][0]'] \n",
            "                                                                                                  \n",
            " transunet_ViT_9_layer_norm_2 (  (None, 64, 768)     1536        ['transunet_ViT_9_skip_1[0][0]'] \n",
            " LayerNormalization)                                                                              \n",
            "                                                                                                  \n",
            " transunet_ViT_9_mlp_dense_0 (D  (None, 64, 3072)    2362368     ['transunet_ViT_9_layer_norm_2[0]\n",
            " ense)                                                           [0]']                            \n",
            "                                                                                                  \n",
            " transunet_ViT_9_mlp_activation  (None, 64, 3072)    0           ['transunet_ViT_9_mlp_dense_0[0][\n",
            " _0 (GELU)                                                       0]']                             \n",
            "                                                                                                  \n",
            " transunet_ViT_9_mlp_dense_1 (D  (None, 64, 768)     2360064     ['transunet_ViT_9_mlp_activation_\n",
            " ense)                                                           0[0][0]']                        \n",
            "                                                                                                  \n",
            " transunet_ViT_9_mlp_activation  (None, 64, 768)     0           ['transunet_ViT_9_mlp_dense_1[0][\n",
            " _1 (GELU)                                                       0]']                             \n",
            "                                                                                                  \n",
            " transunet_ViT_9_skip_2 (Add)   (None, 64, 768)      0           ['transunet_ViT_9_mlp_activation_\n",
            "                                                                 1[0][0]',                        \n",
            "                                                                  'transunet_ViT_9_skip_1[0][0]'] \n",
            "                                                                                                  \n",
            " transunet_ViT_10_layer_norm_1   (None, 64, 768)     1536        ['transunet_ViT_9_skip_2[0][0]'] \n",
            " (LayerNormalization)                                                                             \n",
            "                                                                                                  \n",
            " transunet_ViT_10_atten (MultiH  (None, 64, 768)     28339968    ['transunet_ViT_10_layer_norm_1[0\n",
            " eadAttention)                                                   ][0]',                           \n",
            "                                                                  'transunet_ViT_10_layer_norm_1[0\n",
            "                                                                 ][0]']                           \n",
            "                                                                                                  \n",
            " transunet_ViT_10_skip_1 (Add)  (None, 64, 768)      0           ['transunet_ViT_10_atten[0][0]', \n",
            "                                                                  'transunet_ViT_9_skip_2[0][0]'] \n",
            "                                                                                                  \n",
            " transunet_ViT_10_layer_norm_2   (None, 64, 768)     1536        ['transunet_ViT_10_skip_1[0][0]']\n",
            " (LayerNormalization)                                                                             \n",
            "                                                                                                  \n",
            " transunet_ViT_10_mlp_dense_0 (  (None, 64, 3072)    2362368     ['transunet_ViT_10_layer_norm_2[0\n",
            " Dense)                                                          ][0]']                           \n",
            "                                                                                                  \n",
            " transunet_ViT_10_mlp_activatio  (None, 64, 3072)    0           ['transunet_ViT_10_mlp_dense_0[0]\n",
            " n_0 (GELU)                                                      [0]']                            \n",
            "                                                                                                  \n",
            " transunet_ViT_10_mlp_dense_1 (  (None, 64, 768)     2360064     ['transunet_ViT_10_mlp_activation\n",
            " Dense)                                                          _0[0][0]']                       \n",
            "                                                                                                  \n",
            " transunet_ViT_10_mlp_activatio  (None, 64, 768)     0           ['transunet_ViT_10_mlp_dense_1[0]\n",
            " n_1 (GELU)                                                      [0]']                            \n",
            "                                                                                                  \n",
            " transunet_ViT_10_skip_2 (Add)  (None, 64, 768)      0           ['transunet_ViT_10_mlp_activation\n",
            "                                                                 _1[0][0]',                       \n",
            "                                                                  'transunet_ViT_10_skip_1[0][0]']\n",
            "                                                                                                  \n",
            " transunet_ViT_11_layer_norm_1   (None, 64, 768)     1536        ['transunet_ViT_10_skip_2[0][0]']\n",
            " (LayerNormalization)                                                                             \n",
            "                                                                                                  \n",
            " transunet_ViT_11_atten (MultiH  (None, 64, 768)     28339968    ['transunet_ViT_11_layer_norm_1[0\n",
            " eadAttention)                                                   ][0]',                           \n",
            "                                                                  'transunet_ViT_11_layer_norm_1[0\n",
            "                                                                 ][0]']                           \n",
            "                                                                                                  \n",
            " transunet_ViT_11_skip_1 (Add)  (None, 64, 768)      0           ['transunet_ViT_11_atten[0][0]', \n",
            "                                                                  'transunet_ViT_10_skip_2[0][0]']\n",
            "                                                                                                  \n",
            " transunet_ViT_11_layer_norm_2   (None, 64, 768)     1536        ['transunet_ViT_11_skip_1[0][0]']\n",
            " (LayerNormalization)                                                                             \n",
            "                                                                                                  \n",
            " transunet_ViT_11_mlp_dense_0 (  (None, 64, 3072)    2362368     ['transunet_ViT_11_layer_norm_2[0\n",
            " Dense)                                                          ][0]']                           \n",
            "                                                                                                  \n",
            " transunet_ViT_11_mlp_activatio  (None, 64, 3072)    0           ['transunet_ViT_11_mlp_dense_0[0]\n",
            " n_0 (GELU)                                                      [0]']                            \n",
            "                                                                                                  \n",
            " transunet_ViT_11_mlp_dense_1 (  (None, 64, 768)     2360064     ['transunet_ViT_11_mlp_activation\n",
            " Dense)                                                          _0[0][0]']                       \n",
            "                                                                                                  \n",
            " transunet_ViT_11_mlp_activatio  (None, 64, 768)     0           ['transunet_ViT_11_mlp_dense_1[0]\n",
            " n_1 (GELU)                                                      [0]']                            \n",
            "                                                                                                  \n",
            " transunet_ViT_11_skip_2 (Add)  (None, 64, 768)      0           ['transunet_ViT_11_mlp_activation\n",
            "                                                                 _1[0][0]',                       \n",
            "                                                                  'transunet_ViT_11_skip_1[0][0]']\n",
            "                                                                                                  \n",
            " tf.reshape (TFOpLambda)        (None, 8, 8, 768)    0           ['transunet_ViT_11_skip_2[0][0]']\n",
            "                                                                                                  \n",
            " transunet_conv_trans_after (Co  (None, 8, 8, 1024)  786432      ['tf.reshape[0][0]']             \n",
            " nv2D)                                                                                            \n",
            "                                                                                                  \n",
            " transunet_up0_decode_trans_con  (None, 16, 16, 512)  4719104    ['transunet_conv_trans_after[0][0\n",
            " v (Conv2DTranspose)                                             ]']                              \n",
            "                                                                                                  \n",
            " transunet_up0_decode_bn (Batch  (None, 16, 16, 512)  2048       ['transunet_up0_decode_trans_conv\n",
            " Normalization)                                                  [0][0]']                         \n",
            "                                                                                                  \n",
            " transunet_up0_decode_activatio  (None, 16, 16, 512)  0          ['transunet_up0_decode_bn[0][0]']\n",
            " n (ReLU)                                                                                         \n",
            "                                                                                                  \n",
            " transunet_up0_conv_before_conc  (None, 16, 16, 512)  2359296    ['transunet_up0_decode_activation\n",
            " at_0 (Conv2D)                                                   [0][0]']                         \n",
            "                                                                                                  \n",
            " transunet_up0_conv_before_conc  (None, 16, 16, 512)  2048       ['transunet_up0_conv_before_conca\n",
            " at_0_bn (BatchNormalization)                                    t_0[0][0]']                      \n",
            "                                                                                                  \n",
            " transunet_up0_conv_before_conc  (None, 16, 16, 512)  0          ['transunet_up0_conv_before_conca\n",
            " at_0_activation (ReLU)                                          t_0_bn[0][0]']                   \n",
            "                                                                                                  \n",
            " transunet_up0_concat (Concaten  (None, 16, 16, 1024  0          ['transunet_up0_conv_before_conca\n",
            " ate)                           )                                t_0_activation[0][0]',           \n",
            "                                                                  'VGG19_backbone[0][3]']         \n",
            "                                                                                                  \n",
            " transunet_up0_conv_after_conca  (None, 16, 16, 512)  4718592    ['transunet_up0_concat[0][0]']   \n",
            " t_0 (Conv2D)                                                                                     \n",
            "                                                                                                  \n",
            " transunet_up0_conv_after_conca  (None, 16, 16, 512)  2048       ['transunet_up0_conv_after_concat\n",
            " t_0_bn (BatchNormalization)                                     _0[0][0]']                       \n",
            "                                                                                                  \n",
            " transunet_up0_conv_after_conca  (None, 16, 16, 512)  0          ['transunet_up0_conv_after_concat\n",
            " t_0_activation (ReLU)                                           _0_bn[0][0]']                    \n",
            "                                                                                                  \n",
            " transunet_up0_conv_after_conca  (None, 16, 16, 512)  2359296    ['transunet_up0_conv_after_concat\n",
            " t_1 (Conv2D)                                                    _0_activation[0][0]']            \n",
            "                                                                                                  \n",
            " transunet_up0_conv_after_conca  (None, 16, 16, 512)  2048       ['transunet_up0_conv_after_concat\n",
            " t_1_bn (BatchNormalization)                                     _1[0][0]']                       \n",
            "                                                                                                  \n",
            " transunet_up0_conv_after_conca  (None, 16, 16, 512)  0          ['transunet_up0_conv_after_concat\n",
            " t_1_activation (ReLU)                                           _1_bn[0][0]']                    \n",
            "                                                                                                  \n",
            " transunet_up1_decode_trans_con  (None, 32, 32, 256)  1179904    ['transunet_up0_conv_after_concat\n",
            " v (Conv2DTranspose)                                             _1_activation[0][0]']            \n",
            "                                                                                                  \n",
            " transunet_up1_decode_bn (Batch  (None, 32, 32, 256)  1024       ['transunet_up1_decode_trans_conv\n",
            " Normalization)                                                  [0][0]']                         \n",
            "                                                                                                  \n",
            " transunet_up1_decode_activatio  (None, 32, 32, 256)  0          ['transunet_up1_decode_bn[0][0]']\n",
            " n (ReLU)                                                                                         \n",
            "                                                                                                  \n",
            " transunet_up1_conv_before_conc  (None, 32, 32, 256)  589824     ['transunet_up1_decode_activation\n",
            " at_0 (Conv2D)                                                   [0][0]']                         \n",
            "                                                                                                  \n",
            " transunet_up1_conv_before_conc  (None, 32, 32, 256)  1024       ['transunet_up1_conv_before_conca\n",
            " at_0_bn (BatchNormalization)                                    t_0[0][0]']                      \n",
            "                                                                                                  \n",
            " transunet_up1_conv_before_conc  (None, 32, 32, 256)  0          ['transunet_up1_conv_before_conca\n",
            " at_0_activation (ReLU)                                          t_0_bn[0][0]']                   \n",
            "                                                                                                  \n",
            " transunet_up1_concat (Concaten  (None, 32, 32, 512)  0          ['transunet_up1_conv_before_conca\n",
            " ate)                                                            t_0_activation[0][0]',           \n",
            "                                                                  'VGG19_backbone[0][2]']         \n",
            "                                                                                                  \n",
            " transunet_up1_conv_after_conca  (None, 32, 32, 256)  1179648    ['transunet_up1_concat[0][0]']   \n",
            " t_0 (Conv2D)                                                                                     \n",
            "                                                                                                  \n",
            " transunet_up1_conv_after_conca  (None, 32, 32, 256)  1024       ['transunet_up1_conv_after_concat\n",
            " t_0_bn (BatchNormalization)                                     _0[0][0]']                       \n",
            "                                                                                                  \n",
            " transunet_up1_conv_after_conca  (None, 32, 32, 256)  0          ['transunet_up1_conv_after_concat\n",
            " t_0_activation (ReLU)                                           _0_bn[0][0]']                    \n",
            "                                                                                                  \n",
            " transunet_up1_conv_after_conca  (None, 32, 32, 256)  589824     ['transunet_up1_conv_after_concat\n",
            " t_1 (Conv2D)                                                    _0_activation[0][0]']            \n",
            "                                                                                                  \n",
            " transunet_up1_conv_after_conca  (None, 32, 32, 256)  1024       ['transunet_up1_conv_after_concat\n",
            " t_1_bn (BatchNormalization)                                     _1[0][0]']                       \n",
            "                                                                                                  \n",
            " transunet_up1_conv_after_conca  (None, 32, 32, 256)  0          ['transunet_up1_conv_after_concat\n",
            " t_1_activation (ReLU)                                           _1_bn[0][0]']                    \n",
            "                                                                                                  \n",
            " transunet_up2_decode_trans_con  (None, 64, 64, 128)  295040     ['transunet_up1_conv_after_concat\n",
            " v (Conv2DTranspose)                                             _1_activation[0][0]']            \n",
            "                                                                                                  \n",
            " transunet_up2_decode_bn (Batch  (None, 64, 64, 128)  512        ['transunet_up2_decode_trans_conv\n",
            " Normalization)                                                  [0][0]']                         \n",
            "                                                                                                  \n",
            " transunet_up2_decode_activatio  (None, 64, 64, 128)  0          ['transunet_up2_decode_bn[0][0]']\n",
            " n (ReLU)                                                                                         \n",
            "                                                                                                  \n",
            " transunet_up2_conv_before_conc  (None, 64, 64, 128)  147456     ['transunet_up2_decode_activation\n",
            " at_0 (Conv2D)                                                   [0][0]']                         \n",
            "                                                                                                  \n",
            " transunet_up2_conv_before_conc  (None, 64, 64, 128)  512        ['transunet_up2_conv_before_conca\n",
            " at_0_bn (BatchNormalization)                                    t_0[0][0]']                      \n",
            "                                                                                                  \n",
            " transunet_up2_conv_before_conc  (None, 64, 64, 128)  0          ['transunet_up2_conv_before_conca\n",
            " at_0_activation (ReLU)                                          t_0_bn[0][0]']                   \n",
            "                                                                                                  \n",
            " transunet_up2_concat (Concaten  (None, 64, 64, 256)  0          ['transunet_up2_conv_before_conca\n",
            " ate)                                                            t_0_activation[0][0]',           \n",
            "                                                                  'VGG19_backbone[0][1]']         \n",
            "                                                                                                  \n",
            " transunet_up2_conv_after_conca  (None, 64, 64, 128)  294912     ['transunet_up2_concat[0][0]']   \n",
            " t_0 (Conv2D)                                                                                     \n",
            "                                                                                                  \n",
            " transunet_up2_conv_after_conca  (None, 64, 64, 128)  512        ['transunet_up2_conv_after_concat\n",
            " t_0_bn (BatchNormalization)                                     _0[0][0]']                       \n",
            "                                                                                                  \n",
            " transunet_up2_conv_after_conca  (None, 64, 64, 128)  0          ['transunet_up2_conv_after_concat\n",
            " t_0_activation (ReLU)                                           _0_bn[0][0]']                    \n",
            "                                                                                                  \n",
            " transunet_up2_conv_after_conca  (None, 64, 64, 128)  147456     ['transunet_up2_conv_after_concat\n",
            " t_1 (Conv2D)                                                    _0_activation[0][0]']            \n",
            "                                                                                                  \n",
            " transunet_up2_conv_after_conca  (None, 64, 64, 128)  512        ['transunet_up2_conv_after_concat\n",
            " t_1_bn (BatchNormalization)                                     _1[0][0]']                       \n",
            "                                                                                                  \n",
            " transunet_up2_conv_after_conca  (None, 64, 64, 128)  0          ['transunet_up2_conv_after_concat\n",
            " t_1_activation (ReLU)                                           _1_bn[0][0]']                    \n",
            "                                                                                                  \n",
            " transunet_up3_decode_trans_con  (None, 128, 128, 64  73792      ['transunet_up2_conv_after_concat\n",
            " v (Conv2DTranspose)            )                                _1_activation[0][0]']            \n",
            "                                                                                                  \n",
            " transunet_up3_decode_bn (Batch  (None, 128, 128, 64  256        ['transunet_up3_decode_trans_conv\n",
            " Normalization)                 )                                [0][0]']                         \n",
            "                                                                                                  \n",
            " transunet_up3_decode_activatio  (None, 128, 128, 64  0          ['transunet_up3_decode_bn[0][0]']\n",
            " n (ReLU)                       )                                                                 \n",
            "                                                                                                  \n",
            " transunet_up3_conv_before_conc  (None, 128, 128, 64  36864      ['transunet_up3_decode_activation\n",
            " at_0 (Conv2D)                  )                                [0][0]']                         \n",
            "                                                                                                  \n",
            " transunet_up3_conv_before_conc  (None, 128, 128, 64  256        ['transunet_up3_conv_before_conca\n",
            " at_0_bn (BatchNormalization)   )                                t_0[0][0]']                      \n",
            "                                                                                                  \n",
            " transunet_up3_conv_before_conc  (None, 128, 128, 64  0          ['transunet_up3_conv_before_conca\n",
            " at_0_activation (ReLU)         )                                t_0_bn[0][0]']                   \n",
            "                                                                                                  \n",
            " transunet_up3_concat (Concaten  (None, 128, 128, 12  0          ['transunet_up3_conv_before_conca\n",
            " ate)                           8)                               t_0_activation[0][0]',           \n",
            "                                                                  'VGG19_backbone[0][0]']         \n",
            "                                                                                                  \n",
            " transunet_up3_conv_after_conca  (None, 128, 128, 64  73728      ['transunet_up3_concat[0][0]']   \n",
            " t_0 (Conv2D)                   )                                                                 \n",
            "                                                                                                  \n",
            " transunet_up3_conv_after_conca  (None, 128, 128, 64  256        ['transunet_up3_conv_after_concat\n",
            " t_0_bn (BatchNormalization)    )                                _0[0][0]']                       \n",
            "                                                                                                  \n",
            " transunet_up3_conv_after_conca  (None, 128, 128, 64  0          ['transunet_up3_conv_after_concat\n",
            " t_0_activation (ReLU)          )                                _0_bn[0][0]']                    \n",
            "                                                                                                  \n",
            " transunet_up3_conv_after_conca  (None, 128, 128, 64  36864      ['transunet_up3_conv_after_concat\n",
            " t_1 (Conv2D)                   )                                _0_activation[0][0]']            \n",
            "                                                                                                  \n",
            " transunet_up3_conv_after_conca  (None, 128, 128, 64  256        ['transunet_up3_conv_after_concat\n",
            " t_1_bn (BatchNormalization)    )                                _1[0][0]']                       \n",
            "                                                                                                  \n",
            " transunet_up3_conv_after_conca  (None, 128, 128, 64  0          ['transunet_up3_conv_after_concat\n",
            " t_1_activation (ReLU)          )                                _1_bn[0][0]']                    \n",
            "                                                                                                  \n",
            " transunet_output (Conv2D)      (None, 128, 128, 1)  65          ['transunet_up3_conv_after_concat\n",
            "                                                                 _1_activation[0][0]']            \n",
            "                                                                                                  \n",
            " transunet_output_activation (A  (None, 128, 128, 1)  0          ['transunet_output[0][0]']       \n",
            " ctivation)                                                                                       \n",
            "                                                                                                  \n",
            "==================================================================================================\n",
            "Total params: 437,774,145\n",
            "Trainable params: 417,742,081\n",
            "Non-trainable params: 20,032,064\n",
            "__________________________________________________________________________________________________\n",
            "None\n"
          ]
        }
      ]
    },
    {
      "cell_type": "code",
      "source": [
        "\n",
        "    callbacks = [\n",
        "        ModelCheckpoint(model_path, verbose=1, save_best_only=True),\n",
        "        ReduceLROnPlateau(monitor='val_loss', factor=0.1, patience=5, min_lr=1e-7, verbose=1),\n",
        "        CSVLogger(csv_path),\n",
        "        EarlyStopping(monitor='val_loss', patience=15, restore_best_weights=False),\n",
        "    ]\n",
        "\n",
        "    model_tran_unet.fit(\n",
        "        train_dataset,\n",
        "        epochs=num_epochs,\n",
        "        validation_data=valid_dataset,\n",
        "        callbacks=callbacks\n",
        "    )"
      ],
      "metadata": {
        "colab": {
          "base_uri": "https://localhost:8080/"
        },
        "id": "nh5bHUQX6B7l",
        "outputId": "a4740461-5cad-4c42-8a4b-a39d9f05acaa"
      },
      "execution_count": null,
      "outputs": [
        {
          "output_type": "stream",
          "name": "stdout",
          "text": [
            "Epoch 1/30\n",
            "115/115 [==============================] - ETA: 0s - loss: 0.6408 - accuracy: 0.9431 - dice_loss: 0.6408 - iou: 0.2322\n",
            "Epoch 1: val_loss improved from inf to 0.94866, saving model to files/attention_Unet_model.h5\n",
            "115/115 [==============================] - 194s 1s/step - loss: 0.6408 - accuracy: 0.9431 - dice_loss: 0.6408 - iou: 0.2322 - val_loss: 0.9487 - val_accuracy: 0.4026 - val_dice_loss: 0.9489 - val_iou: 0.0263 - lr: 0.0010\n",
            "Epoch 2/30\n",
            "115/115 [==============================] - ETA: 0s - loss: 0.3658 - accuracy: 0.9877 - dice_loss: 0.3658 - iou: 0.4688\n",
            "Epoch 2: val_loss improved from 0.94866 to 0.72304, saving model to files/attention_Unet_model.h5\n",
            "115/115 [==============================] - 161s 1s/step - loss: 0.3658 - accuracy: 0.9877 - dice_loss: 0.3658 - iou: 0.4688 - val_loss: 0.7230 - val_accuracy: 0.9267 - val_dice_loss: 0.7242 - val_iou: 0.1611 - lr: 0.0010\n",
            "Epoch 3/30\n",
            "115/115 [==============================] - ETA: 0s - loss: 0.3073 - accuracy: 0.9895 - dice_loss: 0.3073 - iou: 0.5346\n",
            "Epoch 3: val_loss improved from 0.72304 to 0.41362, saving model to files/attention_Unet_model.h5\n",
            "115/115 [==============================] - 161s 1s/step - loss: 0.3073 - accuracy: 0.9895 - dice_loss: 0.3073 - iou: 0.5346 - val_loss: 0.4136 - val_accuracy: 0.9790 - val_dice_loss: 0.4121 - val_iou: 0.4185 - lr: 0.0010\n",
            "Epoch 4/30\n",
            "115/115 [==============================] - ETA: 0s - loss: 0.2717 - accuracy: 0.9907 - dice_loss: 0.2717 - iou: 0.5760\n",
            "Epoch 4: val_loss did not improve from 0.41362\n",
            "115/115 [==============================] - 139s 1s/step - loss: 0.2717 - accuracy: 0.9907 - dice_loss: 0.2717 - iou: 0.5760 - val_loss: 0.4346 - val_accuracy: 0.9772 - val_dice_loss: 0.4358 - val_iou: 0.3957 - lr: 0.0010\n",
            "Epoch 5/30\n",
            "115/115 [==============================] - ETA: 0s - loss: 0.2534 - accuracy: 0.9912 - dice_loss: 0.2534 - iou: 0.5991\n",
            "Epoch 5: val_loss improved from 0.41362 to 0.26681, saving model to files/attention_Unet_model.h5\n",
            "115/115 [==============================] - 165s 1s/step - loss: 0.2534 - accuracy: 0.9912 - dice_loss: 0.2534 - iou: 0.5991 - val_loss: 0.2668 - val_accuracy: 0.9898 - val_dice_loss: 0.2676 - val_iou: 0.5805 - lr: 0.0010\n",
            "Epoch 6/30\n",
            "115/115 [==============================] - ETA: 0s - loss: 0.2292 - accuracy: 0.9920 - dice_loss: 0.2292 - iou: 0.6303\n",
            "Epoch 6: val_loss improved from 0.26681 to 0.26269, saving model to files/attention_Unet_model.h5\n",
            "115/115 [==============================] - 164s 1s/step - loss: 0.2292 - accuracy: 0.9920 - dice_loss: 0.2292 - iou: 0.6303 - val_loss: 0.2627 - val_accuracy: 0.9911 - val_dice_loss: 0.2642 - val_iou: 0.5856 - lr: 0.0010\n",
            "Epoch 7/30\n",
            "115/115 [==============================] - ETA: 0s - loss: 0.2263 - accuracy: 0.9921 - dice_loss: 0.2263 - iou: 0.6338\n",
            "Epoch 7: val_loss improved from 0.26269 to 0.24567, saving model to files/attention_Unet_model.h5\n",
            "115/115 [==============================] - 161s 1s/step - loss: 0.2263 - accuracy: 0.9921 - dice_loss: 0.2263 - iou: 0.6338 - val_loss: 0.2457 - val_accuracy: 0.9916 - val_dice_loss: 0.2464 - val_iou: 0.6075 - lr: 0.0010\n",
            "Epoch 8/30\n",
            "115/115 [==============================] - ETA: 0s - loss: 0.2054 - accuracy: 0.9928 - dice_loss: 0.2054 - iou: 0.6620\n",
            "Epoch 8: val_loss did not improve from 0.24567\n",
            "115/115 [==============================] - 139s 1s/step - loss: 0.2054 - accuracy: 0.9928 - dice_loss: 0.2054 - iou: 0.6620 - val_loss: 0.2473 - val_accuracy: 0.9915 - val_dice_loss: 0.2488 - val_iou: 0.6049 - lr: 0.0010\n",
            "Epoch 9/30\n",
            "115/115 [==============================] - ETA: 0s - loss: 0.1895 - accuracy: 0.9933 - dice_loss: 0.1895 - iou: 0.6839\n",
            "Epoch 9: val_loss improved from 0.24567 to 0.23614, saving model to files/attention_Unet_model.h5\n",
            "115/115 [==============================] - 165s 1s/step - loss: 0.1895 - accuracy: 0.9933 - dice_loss: 0.1895 - iou: 0.6839 - val_loss: 0.2361 - val_accuracy: 0.9919 - val_dice_loss: 0.2378 - val_iou: 0.6190 - lr: 0.0010\n",
            "Epoch 10/30\n",
            "115/115 [==============================] - ETA: 0s - loss: 0.1852 - accuracy: 0.9934 - dice_loss: 0.1852 - iou: 0.6900\n",
            "Epoch 10: val_loss did not improve from 0.23614\n",
            "115/115 [==============================] - 138s 1s/step - loss: 0.1852 - accuracy: 0.9934 - dice_loss: 0.1852 - iou: 0.6900 - val_loss: 0.2520 - val_accuracy: 0.9918 - val_dice_loss: 0.2533 - val_iou: 0.6004 - lr: 0.0010\n",
            "Epoch 11/30\n",
            "115/115 [==============================] - ETA: 0s - loss: 0.1844 - accuracy: 0.9935 - dice_loss: 0.1844 - iou: 0.6910\n",
            "Epoch 11: val_loss improved from 0.23614 to 0.23278, saving model to files/attention_Unet_model.h5\n",
            "115/115 [==============================] - 164s 1s/step - loss: 0.1844 - accuracy: 0.9935 - dice_loss: 0.1844 - iou: 0.6910 - val_loss: 0.2328 - val_accuracy: 0.9916 - val_dice_loss: 0.2344 - val_iou: 0.6239 - lr: 0.0010\n",
            "Epoch 12/30\n",
            "115/115 [==============================] - ETA: 0s - loss: 0.1706 - accuracy: 0.9939 - dice_loss: 0.1706 - iou: 0.7107\n",
            "Epoch 12: val_loss did not improve from 0.23278\n",
            "115/115 [==============================] - 140s 1s/step - loss: 0.1706 - accuracy: 0.9939 - dice_loss: 0.1706 - iou: 0.7107 - val_loss: 0.2351 - val_accuracy: 0.9913 - val_dice_loss: 0.2363 - val_iou: 0.6211 - lr: 0.0010\n",
            "Epoch 13/30\n",
            "115/115 [==============================] - ETA: 0s - loss: 0.1661 - accuracy: 0.9940 - dice_loss: 0.1661 - iou: 0.7174\n",
            "Epoch 13: val_loss improved from 0.23278 to 0.21640, saving model to files/attention_Unet_model.h5\n",
            "115/115 [==============================] - 165s 1s/step - loss: 0.1661 - accuracy: 0.9940 - dice_loss: 0.1661 - iou: 0.7174 - val_loss: 0.2164 - val_accuracy: 0.9925 - val_dice_loss: 0.2179 - val_iou: 0.6457 - lr: 0.0010\n",
            "Epoch 14/30\n",
            "115/115 [==============================] - ETA: 0s - loss: 0.1666 - accuracy: 0.9940 - dice_loss: 0.1666 - iou: 0.7168\n",
            "Epoch 14: val_loss did not improve from 0.21640\n",
            "115/115 [==============================] - 138s 1s/step - loss: 0.1666 - accuracy: 0.9940 - dice_loss: 0.1666 - iou: 0.7168 - val_loss: 0.2277 - val_accuracy: 0.9924 - val_dice_loss: 0.2298 - val_iou: 0.6307 - lr: 0.0010\n",
            "Epoch 15/30\n",
            "115/115 [==============================] - ETA: 0s - loss: 0.1615 - accuracy: 0.9942 - dice_loss: 0.1615 - iou: 0.7240\n",
            "Epoch 15: val_loss did not improve from 0.21640\n",
            "115/115 [==============================] - 141s 1s/step - loss: 0.1615 - accuracy: 0.9942 - dice_loss: 0.1615 - iou: 0.7240 - val_loss: 0.2404 - val_accuracy: 0.9921 - val_dice_loss: 0.2419 - val_iou: 0.6140 - lr: 0.0010\n",
            "Epoch 16/30\n",
            "115/115 [==============================] - ETA: 0s - loss: 0.1634 - accuracy: 0.9941 - dice_loss: 0.1634 - iou: 0.7213\n",
            "Epoch 16: val_loss did not improve from 0.21640\n",
            "115/115 [==============================] - 142s 1s/step - loss: 0.1634 - accuracy: 0.9941 - dice_loss: 0.1634 - iou: 0.7213 - val_loss: 0.2348 - val_accuracy: 0.9923 - val_dice_loss: 0.2361 - val_iou: 0.6210 - lr: 0.0010\n",
            "Epoch 17/30\n",
            "115/115 [==============================] - ETA: 0s - loss: 0.1435 - accuracy: 0.9947 - dice_loss: 0.1435 - iou: 0.7506\n",
            "Epoch 17: val_loss did not improve from 0.21640\n",
            "115/115 [==============================] - 143s 1s/step - loss: 0.1435 - accuracy: 0.9947 - dice_loss: 0.1435 - iou: 0.7506 - val_loss: 0.2235 - val_accuracy: 0.9925 - val_dice_loss: 0.2250 - val_iou: 0.6369 - lr: 0.0010\n",
            "Epoch 18/30\n",
            "115/115 [==============================] - ETA: 0s - loss: 0.1428 - accuracy: 0.9947 - dice_loss: 0.1428 - iou: 0.7518\n",
            "Epoch 18: val_loss did not improve from 0.21640\n",
            "\n",
            "Epoch 18: ReduceLROnPlateau reducing learning rate to 0.00010000000474974513.\n",
            "115/115 [==============================] - 138s 1s/step - loss: 0.1428 - accuracy: 0.9947 - dice_loss: 0.1428 - iou: 0.7518 - val_loss: 0.2472 - val_accuracy: 0.9909 - val_dice_loss: 0.2479 - val_iou: 0.6067 - lr: 0.0010\n",
            "Epoch 19/30\n",
            "115/115 [==============================] - ETA: 0s - loss: 0.1311 - accuracy: 0.9951 - dice_loss: 0.1311 - iou: 0.7697\n",
            "Epoch 19: val_loss improved from 0.21640 to 0.20695, saving model to files/attention_Unet_model.h5\n",
            "115/115 [==============================] - 164s 1s/step - loss: 0.1311 - accuracy: 0.9951 - dice_loss: 0.1311 - iou: 0.7697 - val_loss: 0.2069 - val_accuracy: 0.9926 - val_dice_loss: 0.2085 - val_iou: 0.6587 - lr: 1.0000e-04\n",
            "Epoch 20/30\n",
            "115/115 [==============================] - ETA: 0s - loss: 0.1232 - accuracy: 0.9954 - dice_loss: 0.1232 - iou: 0.7820\n",
            "Epoch 20: val_loss did not improve from 0.20695\n",
            "115/115 [==============================] - 138s 1s/step - loss: 0.1232 - accuracy: 0.9954 - dice_loss: 0.1232 - iou: 0.7820 - val_loss: 0.2072 - val_accuracy: 0.9927 - val_dice_loss: 0.2087 - val_iou: 0.6584 - lr: 1.0000e-04\n",
            "Epoch 21/30\n",
            "115/115 [==============================] - ETA: 0s - loss: 0.1197 - accuracy: 0.9955 - dice_loss: 0.1197 - iou: 0.7877\n",
            "Epoch 21: val_loss improved from 0.20695 to 0.20497, saving model to files/attention_Unet_model.h5\n",
            "115/115 [==============================] - 165s 1s/step - loss: 0.1197 - accuracy: 0.9955 - dice_loss: 0.1197 - iou: 0.7877 - val_loss: 0.2050 - val_accuracy: 0.9928 - val_dice_loss: 0.2065 - val_iou: 0.6613 - lr: 1.0000e-04\n",
            "Epoch 22/30\n",
            "115/115 [==============================] - ETA: 0s - loss: 0.1171 - accuracy: 0.9956 - dice_loss: 0.1171 - iou: 0.7918\n",
            "Epoch 22: val_loss improved from 0.20497 to 0.20407, saving model to files/attention_Unet_model.h5\n",
            "115/115 [==============================] - 161s 1s/step - loss: 0.1171 - accuracy: 0.9956 - dice_loss: 0.1171 - iou: 0.7918 - val_loss: 0.2041 - val_accuracy: 0.9928 - val_dice_loss: 0.2057 - val_iou: 0.6625 - lr: 1.0000e-04\n",
            "Epoch 23/30\n",
            "115/115 [==============================] - ETA: 0s - loss: 0.1150 - accuracy: 0.9956 - dice_loss: 0.1150 - iou: 0.7950\n",
            "Epoch 23: val_loss did not improve from 0.20407\n",
            "115/115 [==============================] - 138s 1s/step - loss: 0.1150 - accuracy: 0.9956 - dice_loss: 0.1150 - iou: 0.7950 - val_loss: 0.2051 - val_accuracy: 0.9928 - val_dice_loss: 0.2067 - val_iou: 0.6611 - lr: 1.0000e-04\n",
            "Epoch 24/30\n",
            "115/115 [==============================] - ETA: 0s - loss: 0.1133 - accuracy: 0.9957 - dice_loss: 0.1133 - iou: 0.7978\n",
            "Epoch 24: val_loss did not improve from 0.20407\n",
            "115/115 [==============================] - 141s 1s/step - loss: 0.1133 - accuracy: 0.9957 - dice_loss: 0.1133 - iou: 0.7978 - val_loss: 0.2050 - val_accuracy: 0.9928 - val_dice_loss: 0.2066 - val_iou: 0.6613 - lr: 1.0000e-04\n",
            "Epoch 25/30\n",
            "115/115 [==============================] - ETA: 0s - loss: 0.1119 - accuracy: 0.9957 - dice_loss: 0.1119 - iou: 0.8001\n",
            "Epoch 25: val_loss did not improve from 0.20407\n",
            "115/115 [==============================] - 142s 1s/step - loss: 0.1119 - accuracy: 0.9957 - dice_loss: 0.1119 - iou: 0.8001 - val_loss: 0.2049 - val_accuracy: 0.9928 - val_dice_loss: 0.2064 - val_iou: 0.6614 - lr: 1.0000e-04\n",
            "Epoch 26/30\n",
            "115/115 [==============================] - ETA: 0s - loss: 0.1103 - accuracy: 0.9958 - dice_loss: 0.1103 - iou: 0.8026\n",
            "Epoch 26: val_loss improved from 0.20407 to 0.20336, saving model to files/attention_Unet_model.h5\n",
            "115/115 [==============================] - 162s 1s/step - loss: 0.1103 - accuracy: 0.9958 - dice_loss: 0.1103 - iou: 0.8026 - val_loss: 0.2034 - val_accuracy: 0.9928 - val_dice_loss: 0.2049 - val_iou: 0.6634 - lr: 1.0000e-04\n",
            "Epoch 27/30\n",
            "115/115 [==============================] - ETA: 0s - loss: 0.1091 - accuracy: 0.9958 - dice_loss: 0.1091 - iou: 0.8046\n",
            "Epoch 27: val_loss did not improve from 0.20336\n",
            "115/115 [==============================] - 138s 1s/step - loss: 0.1091 - accuracy: 0.9958 - dice_loss: 0.1091 - iou: 0.8046 - val_loss: 0.2041 - val_accuracy: 0.9928 - val_dice_loss: 0.2057 - val_iou: 0.6624 - lr: 1.0000e-04\n",
            "Epoch 28/30\n",
            "115/115 [==============================] - ETA: 0s - loss: 0.1079 - accuracy: 0.9959 - dice_loss: 0.1079 - iou: 0.8066\n",
            "Epoch 28: val_loss improved from 0.20336 to 0.19980, saving model to files/attention_Unet_model.h5\n",
            "115/115 [==============================] - 165s 1s/step - loss: 0.1079 - accuracy: 0.9959 - dice_loss: 0.1079 - iou: 0.8066 - val_loss: 0.1998 - val_accuracy: 0.9929 - val_dice_loss: 0.2011 - val_iou: 0.6684 - lr: 1.0000e-04\n",
            "Epoch 29/30\n",
            "115/115 [==============================] - ETA: 0s - loss: 0.1066 - accuracy: 0.9959 - dice_loss: 0.1066 - iou: 0.8086\n",
            "Epoch 29: val_loss did not improve from 0.19980\n",
            "115/115 [==============================] - 140s 1s/step - loss: 0.1066 - accuracy: 0.9959 - dice_loss: 0.1066 - iou: 0.8086 - val_loss: 0.2047 - val_accuracy: 0.9928 - val_dice_loss: 0.2062 - val_iou: 0.6616 - lr: 1.0000e-04\n",
            "Epoch 30/30\n",
            "115/115 [==============================] - ETA: 0s - loss: 0.1050 - accuracy: 0.9960 - dice_loss: 0.1050 - iou: 0.8111\n",
            "Epoch 30: val_loss did not improve from 0.19980\n",
            "115/115 [==============================] - 143s 1s/step - loss: 0.1050 - accuracy: 0.9960 - dice_loss: 0.1050 - iou: 0.8111 - val_loss: 0.2049 - val_accuracy: 0.9928 - val_dice_loss: 0.2064 - val_iou: 0.6614 - lr: 1.0000e-04\n"
          ]
        },
        {
          "output_type": "execute_result",
          "data": {
            "text/plain": [
              "<keras.callbacks.History at 0x7f944c26de50>"
            ]
          },
          "metadata": {},
          "execution_count": 6
        }
      ]
    },
    {
      "cell_type": "code",
      "source": [
        "from google.colab import files #this files are \n",
        "files.upload()"
      ],
      "metadata": {
        "colab": {
          "base_uri": "https://localhost:8080/",
          "height": 1000
        },
        "id": "XwCJn-Gg6GpW",
        "outputId": "70548335-be95-48d0-9f24-9a3c43855d95"
      },
      "execution_count": null,
      "outputs": [
        {
          "output_type": "display_data",
          "data": {
            "text/plain": [
              "<IPython.core.display.HTML object>"
            ],
            "text/html": [
              "\n",
              "     <input type=\"file\" id=\"files-1ad20920-03ef-4c2f-891c-8f2ab180e380\" name=\"files[]\" multiple disabled\n",
              "        style=\"border:none\" />\n",
              "     <output id=\"result-1ad20920-03ef-4c2f-891c-8f2ab180e380\">\n",
              "      Upload widget is only available when the cell has been executed in the\n",
              "      current browser session. Please rerun this cell to enable.\n",
              "      </output>\n",
              "      <script>// Copyright 2017 Google LLC\n",
              "//\n",
              "// Licensed under the Apache License, Version 2.0 (the \"License\");\n",
              "// you may not use this file except in compliance with the License.\n",
              "// You may obtain a copy of the License at\n",
              "//\n",
              "//      http://www.apache.org/licenses/LICENSE-2.0\n",
              "//\n",
              "// Unless required by applicable law or agreed to in writing, software\n",
              "// distributed under the License is distributed on an \"AS IS\" BASIS,\n",
              "// WITHOUT WARRANTIES OR CONDITIONS OF ANY KIND, either express or implied.\n",
              "// See the License for the specific language governing permissions and\n",
              "// limitations under the License.\n",
              "\n",
              "/**\n",
              " * @fileoverview Helpers for google.colab Python module.\n",
              " */\n",
              "(function(scope) {\n",
              "function span(text, styleAttributes = {}) {\n",
              "  const element = document.createElement('span');\n",
              "  element.textContent = text;\n",
              "  for (const key of Object.keys(styleAttributes)) {\n",
              "    element.style[key] = styleAttributes[key];\n",
              "  }\n",
              "  return element;\n",
              "}\n",
              "\n",
              "// Max number of bytes which will be uploaded at a time.\n",
              "const MAX_PAYLOAD_SIZE = 100 * 1024;\n",
              "\n",
              "function _uploadFiles(inputId, outputId) {\n",
              "  const steps = uploadFilesStep(inputId, outputId);\n",
              "  const outputElement = document.getElementById(outputId);\n",
              "  // Cache steps on the outputElement to make it available for the next call\n",
              "  // to uploadFilesContinue from Python.\n",
              "  outputElement.steps = steps;\n",
              "\n",
              "  return _uploadFilesContinue(outputId);\n",
              "}\n",
              "\n",
              "// This is roughly an async generator (not supported in the browser yet),\n",
              "// where there are multiple asynchronous steps and the Python side is going\n",
              "// to poll for completion of each step.\n",
              "// This uses a Promise to block the python side on completion of each step,\n",
              "// then passes the result of the previous step as the input to the next step.\n",
              "function _uploadFilesContinue(outputId) {\n",
              "  const outputElement = document.getElementById(outputId);\n",
              "  const steps = outputElement.steps;\n",
              "\n",
              "  const next = steps.next(outputElement.lastPromiseValue);\n",
              "  return Promise.resolve(next.value.promise).then((value) => {\n",
              "    // Cache the last promise value to make it available to the next\n",
              "    // step of the generator.\n",
              "    outputElement.lastPromiseValue = value;\n",
              "    return next.value.response;\n",
              "  });\n",
              "}\n",
              "\n",
              "/**\n",
              " * Generator function which is called between each async step of the upload\n",
              " * process.\n",
              " * @param {string} inputId Element ID of the input file picker element.\n",
              " * @param {string} outputId Element ID of the output display.\n",
              " * @return {!Iterable<!Object>} Iterable of next steps.\n",
              " */\n",
              "function* uploadFilesStep(inputId, outputId) {\n",
              "  const inputElement = document.getElementById(inputId);\n",
              "  inputElement.disabled = false;\n",
              "\n",
              "  const outputElement = document.getElementById(outputId);\n",
              "  outputElement.innerHTML = '';\n",
              "\n",
              "  const pickedPromise = new Promise((resolve) => {\n",
              "    inputElement.addEventListener('change', (e) => {\n",
              "      resolve(e.target.files);\n",
              "    });\n",
              "  });\n",
              "\n",
              "  const cancel = document.createElement('button');\n",
              "  inputElement.parentElement.appendChild(cancel);\n",
              "  cancel.textContent = 'Cancel upload';\n",
              "  const cancelPromise = new Promise((resolve) => {\n",
              "    cancel.onclick = () => {\n",
              "      resolve(null);\n",
              "    };\n",
              "  });\n",
              "\n",
              "  // Wait for the user to pick the files.\n",
              "  const files = yield {\n",
              "    promise: Promise.race([pickedPromise, cancelPromise]),\n",
              "    response: {\n",
              "      action: 'starting',\n",
              "    }\n",
              "  };\n",
              "\n",
              "  cancel.remove();\n",
              "\n",
              "  // Disable the input element since further picks are not allowed.\n",
              "  inputElement.disabled = true;\n",
              "\n",
              "  if (!files) {\n",
              "    return {\n",
              "      response: {\n",
              "        action: 'complete',\n",
              "      }\n",
              "    };\n",
              "  }\n",
              "\n",
              "  for (const file of files) {\n",
              "    const li = document.createElement('li');\n",
              "    li.append(span(file.name, {fontWeight: 'bold'}));\n",
              "    li.append(span(\n",
              "        `(${file.type || 'n/a'}) - ${file.size} bytes, ` +\n",
              "        `last modified: ${\n",
              "            file.lastModifiedDate ? file.lastModifiedDate.toLocaleDateString() :\n",
              "                                    'n/a'} - `));\n",
              "    const percent = span('0% done');\n",
              "    li.appendChild(percent);\n",
              "\n",
              "    outputElement.appendChild(li);\n",
              "\n",
              "    const fileDataPromise = new Promise((resolve) => {\n",
              "      const reader = new FileReader();\n",
              "      reader.onload = (e) => {\n",
              "        resolve(e.target.result);\n",
              "      };\n",
              "      reader.readAsArrayBuffer(file);\n",
              "    });\n",
              "    // Wait for the data to be ready.\n",
              "    let fileData = yield {\n",
              "      promise: fileDataPromise,\n",
              "      response: {\n",
              "        action: 'continue',\n",
              "      }\n",
              "    };\n",
              "\n",
              "    // Use a chunked sending to avoid message size limits. See b/62115660.\n",
              "    let position = 0;\n",
              "    do {\n",
              "      const length = Math.min(fileData.byteLength - position, MAX_PAYLOAD_SIZE);\n",
              "      const chunk = new Uint8Array(fileData, position, length);\n",
              "      position += length;\n",
              "\n",
              "      const base64 = btoa(String.fromCharCode.apply(null, chunk));\n",
              "      yield {\n",
              "        response: {\n",
              "          action: 'append',\n",
              "          file: file.name,\n",
              "          data: base64,\n",
              "        },\n",
              "      };\n",
              "\n",
              "      let percentDone = fileData.byteLength === 0 ?\n",
              "          100 :\n",
              "          Math.round((position / fileData.byteLength) * 100);\n",
              "      percent.textContent = `${percentDone}% done`;\n",
              "\n",
              "    } while (position < fileData.byteLength);\n",
              "  }\n",
              "\n",
              "  // All done.\n",
              "  yield {\n",
              "    response: {\n",
              "      action: 'complete',\n",
              "    }\n",
              "  };\n",
              "}\n",
              "\n",
              "scope.google = scope.google || {};\n",
              "scope.google.colab = scope.google.colab || {};\n",
              "scope.google.colab._files = {\n",
              "  _uploadFiles,\n",
              "  _uploadFilesContinue,\n",
              "};\n",
              "})(self);\n",
              "</script> "
            ]
          },
          "metadata": {}
        },
        {
          "output_type": "stream",
          "name": "stdout",
          "text": [
            "Saving activations.py to activations.py\n",
            "Saving transformer_layers.py to transformer_layers.py\n"
          ]
        },
        {
          "output_type": "execute_result",
          "data": {
            "text/plain": [
              "{'activations.py': b\"from tensorflow import math\\r\\nfrom tensorflow.keras.layers import Layer\\r\\nimport tensorflow.keras.backend as K\\r\\n\\r\\n\\r\\ndef gelu_(X):\\r\\n\\r\\n    return 0.5*X*(1.0 + math.tanh(0.7978845608028654*(X + 0.044715*math.pow(X, 3))))\\r\\n\\r\\ndef snake_(X, beta):\\r\\n\\r\\n    return X + (1/beta)*math.square(math.sin(beta*X))\\r\\n\\r\\n\\r\\nclass GELU(Layer):\\r\\n    '''\\r\\n    Gaussian Error Linear Unit (GELU), an alternative of ReLU\\r\\n    \\r\\n    Y = GELU()(X)\\r\\n    \\r\\n    ----------\\r\\n    Hendrycks, D. and Gimpel, K., 2016. Gaussian error linear units (gelus). arXiv preprint arXiv:1606.08415.\\r\\n    \\r\\n    Usage: use it as a tf.keras.Layer\\r\\n    \\r\\n    \\r\\n    '''\\r\\n    def __init__(self, trainable=False, **kwargs):\\r\\n        super(GELU, self).__init__(**kwargs)\\r\\n        self.supports_masking = True\\r\\n        self.trainable = trainable\\r\\n\\r\\n    def build(self, input_shape):\\r\\n        super(GELU, self).build(input_shape)\\r\\n\\r\\n    def call(self, inputs, mask=None):\\r\\n        return gelu_(inputs)\\r\\n\\r\\n    def get_config(self):\\r\\n        config = {'trainable': self.trainable}\\r\\n        base_config = super(GELU, self).get_config()\\r\\n        return dict(list(base_config.items()) + list(config.items()))\\r\\n    def compute_output_shape(self, input_shape):\\r\\n        return input_shape\\r\\n\\r\\n    \\r\\nclass Snake(Layer):\\r\\n    '''\\r\\n    Snake activation function $X + (1/b)*sin^2(b*X)$. Proposed to learn periodic targets.\\r\\n    \\r\\n    Y = Snake(beta=0.5, trainable=False)(X)\\r\\n    \\r\\n    ----------\\r\\n    Ziyin, L., Hartwig, T. and Ueda, M., 2020. Neural networks fail to learn periodic functions \\r\\n    and how to fix it. arXiv preprint arXiv:2006.08195.\\r\\n    \\r\\n    '''\\r\\n    def __init__(self, beta=0.5, trainable=False, **kwargs):\\r\\n        super(Snake, self).__init__(**kwargs)\\r\\n        self.supports_masking = True\\r\\n        self.beta = beta\\r\\n        self.trainable = trainable\\r\\n\\r\\n    def build(self, input_shape):\\r\\n        self.beta_factor = K.variable(self.beta, dtype=K.floatx(), name='beta_factor')\\r\\n        if self.trainable:\\r\\n            self._trainable_weights.append(self.beta_factor)\\r\\n\\r\\n        super(Snake, self).build(input_shape)\\r\\n\\r\\n    def call(self, inputs, mask=None):\\r\\n        return snake_(inputs, self.beta_factor)\\r\\n\\r\\n    def get_config(self):\\r\\n        config = {'beta': self.get_weights()[0] if self.trainable else self.beta, 'trainable': self.trainable}\\r\\n        base_config = super(Snake, self).get_config()\\r\\n        return dict(list(base_config.items()) + list(config.items()))\\r\\n\\r\\n    def compute_output_shape(self, input_shape):\\r\\n        return \",\n",
              " 'transformer_layers.py': b\"from __future__ import absolute_import\\r\\n\\r\\nimport numpy as np\\r\\nimport tensorflow as tf\\r\\nfrom tensorflow.nn import depth_to_space\\r\\nfrom tensorflow.image import extract_patches\\r\\nfrom tensorflow.keras.layers import Conv2D, Layer, Dense, Embedding, Dropout, Conv2D, LayerNormalization\\r\\nfrom tensorflow.keras.activations import softmax\\r\\n\\r\\nclass patch_extract(Layer):\\r\\n    '''\\r\\n    Extract patches from the input feature map.\\r\\n    \\r\\n    patches = patch_extract(patch_size)(feature_map)\\r\\n    \\r\\n    ----------\\r\\n    Dosovitskiy, A., Beyer, L., Kolesnikov, A., Weissenborn, D., Zhai, X., Unterthiner, \\r\\n    T., Dehghani, M., Minderer, M., Heigold, G., Gelly, S. and Uszkoreit, J., 2020. \\r\\n    An image is worth 16x16 words: Transformers for image recognition at scale. \\r\\n    arXiv preprint arXiv:2010.11929.\\r\\n    \\r\\n    Input\\r\\n    ----------\\r\\n        feature_map: a four-dimensional tensor of (num_sample, width, height, channel)\\r\\n        patch_size: size of split patches (width=height)\\r\\n        \\r\\n    Output\\r\\n    ----------\\r\\n        patches: a two-dimensional tensor of (num_sample*num_patch, patch_size*patch_size)\\r\\n                 where `num_patch = (width // patch_size) * (height // patch_size)`\\r\\n                 \\r\\n    For further information see: https://www.tensorflow.org/api_docs/python/tf/image/extract_patches\\r\\n        \\r\\n    '''\\r\\n    \\r\\n    def __init__(self, patch_size, **kwargs):\\r\\n        super(patch_extract, self).__init__(**kwargs)\\r\\n        self.patch_size = patch_size\\r\\n        self.patch_size_x = patch_size[0]\\r\\n        self.patch_size_y = patch_size[0]\\r\\n    \\r\\n    def call(self, images):\\r\\n        \\r\\n        batch_size = tf.shape(images)[0]\\r\\n        \\r\\n        patches = extract_patches(images=images,\\r\\n                                  sizes=(1, self.patch_size_x, self.patch_size_y, 1),\\r\\n                                  strides=(1, self.patch_size_x, self.patch_size_y, 1),\\r\\n                                  rates=(1, 1, 1, 1), padding='VALID',)\\r\\n        # patches.shape = (num_sample, patch_num, patch_num, patch_size*channel)\\r\\n        \\r\\n        patch_dim = patches.shape[-1]\\r\\n        patch_num = patches.shape[1]\\r\\n        patches = tf.reshape(patches, (batch_size, patch_num*patch_num, patch_dim))\\r\\n        # patches.shape = (num_sample, patch_num*patch_num, patch_size*channel)\\r\\n        \\r\\n        return patches\\r\\n    \\r\\n    def get_config(self):\\r\\n        config = super().get_config().copy()\\r\\n        config.update({'patch_size': self.patch_size,})\\r\\n        return config\\r\\n    \\r\\n    @classmethod\\r\\n    def from_config(cls, config):\\r\\n        return cls(**config)\\r\\n    \\r\\nclass patch_embedding(Layer):\\r\\n    '''\\r\\n    Embed patches to tokens.\\r\\n    \\r\\n    patches_embed = patch_embedding(num_patch, embed_dim)(pathes)\\r\\n    \\r\\n    ----------\\r\\n    Dosovitskiy, A., Beyer, L., Kolesnikov, A., Weissenborn, D., Zhai, X., Unterthiner, \\r\\n    T., Dehghani, M., Minderer, M., Heigold, G., Gelly, S. and Uszkoreit, J., 2020. \\r\\n    An image is worth 16x16 words: Transformers for image recognition at scale. \\r\\n    arXiv preprint arXiv:2010.11929.\\r\\n    \\r\\n    Input\\r\\n    ----------\\r\\n        num_patch: number of patches to be embedded.\\r\\n        embed_dim: number of embedded dimensions. \\r\\n        \\r\\n    Output\\r\\n    ----------\\r\\n        embed: Embedded patches.\\r\\n    \\r\\n    For further information see: https://keras.io/api/layers/core_layers/embedding/\\r\\n    \\r\\n    '''\\r\\n    \\r\\n    def __init__(self, num_patch, embed_dim, **kwargs):\\r\\n        \\r\\n        super(patch_embedding, self).__init__(**kwargs)\\r\\n        self.num_patch = num_patch\\r\\n        self.embed_dim = embed_dim\\r\\n        self.proj = Dense(embed_dim)\\r\\n        self.pos_embed = Embedding(input_dim=num_patch, output_dim=embed_dim)\\r\\n\\r\\n    def get_config(self):\\r\\n        config = super().get_config().copy()\\r\\n        config.update({\\r\\n            'num_patch': self.num_patch,\\r\\n            'embed_dim': self.embed_dim,\\r\\n        })\\r\\n        return config\\r\\n    \\r\\n    @classmethod\\r\\n    def from_config(cls, config):\\r\\n        return cls(**config)\\r\\n    \\r\\n    def call(self, patch):\\r\\n        pos = tf.range(start=0, limit=self.num_patch, delta=1)\\r\\n        embed = self.proj(patch) + self.pos_embed(pos)\\r\\n        return embed\\r\\n\\r\\nclass patch_merging(tf.keras.layers.Layer):\\r\\n    '''\\r\\n    Downsample embedded patches; it halfs the number of patches\\r\\n    and double the embedded dimensions (c.f. pooling layers).\\r\\n    \\r\\n    Input\\r\\n    ----------\\r\\n        num_patch: number of patches to be embedded.\\r\\n        embed_dim: number of embedded dimensions. \\r\\n        \\r\\n    Output\\r\\n    ----------\\r\\n        x: downsampled patches.\\r\\n    \\r\\n    '''\\r\\n    def __init__(self, num_patch, embed_dim, name='', **kwargs):\\r\\n        super(patch_merging, self).__init__(**kwargs)\\r\\n        \\r\\n        self.num_patch = num_patch\\r\\n        self.embed_dim = embed_dim\\r\\n        \\r\\n        # A linear transform that doubles the channels \\r\\n        self.linear_trans = Dense(2*embed_dim, use_bias=False, name='{}_linear_trans'.format(name))\\r\\n\\r\\n    def get_config(self):\\r\\n        config = super().get_config().copy()\\r\\n        config.update({\\r\\n            'num_patch': self.num_patch,\\r\\n            'embed_dim': self.embed_dim,\\r\\n            'name':self.name\\r\\n        })\\r\\n        return config\\r\\n\\r\\n    @classmethod\\r\\n    def from_config(cls, config):\\r\\n        return cls(**config)\\r\\n    \\r\\n    def call(self, x):\\r\\n        \\r\\n        H, W = self.num_patch\\r\\n        B, L, C = x.get_shape().as_list()\\r\\n        \\r\\n        assert (L == H * W), 'input feature has wrong size'\\r\\n        assert (H % 2 == 0 and W % 2 == 0), '{}-by-{} patches received, they are not even.'.format(H, W)\\r\\n        \\r\\n        # Convert the patch sequence to aligned patches\\r\\n        x = tf.reshape(x, shape=(-1, H, W, C))\\r\\n        \\r\\n        # Downsample\\r\\n        x0 = x[:, 0::2, 0::2, :]  # B H/2 W/2 C\\r\\n        x1 = x[:, 1::2, 0::2, :]  # B H/2 W/2 C\\r\\n        x2 = x[:, 0::2, 1::2, :]  # B H/2 W/2 C\\r\\n        x3 = x[:, 1::2, 1::2, :]  # B H/2 W/2 C\\r\\n        x = tf.concat((x0, x1, x2, x3), axis=-1)\\r\\n        \\r\\n        # Convert to the patch squence\\r\\n        x = tf.reshape(x, shape=(-1, (H//2)*(W//2), 4*C))\\r\\n       \\r\\n        # Linear transform\\r\\n        x = self.linear_trans(x)\\r\\n\\r\\n        return x\\r\\n\\r\\nclass patch_expanding(tf.keras.layers.Layer):\\r\\n    '''\\r\\n    Upsample embedded patches with a given rate (e.g., x2, x4, x8, ...) \\r\\n    the number of patches is increased, and the embedded dimensions are reduced.\\r\\n    \\r\\n    Input\\r\\n    ----------\\r\\n        num_patch: number of patches.\\r\\n        embed_dim: number of embedded dimensions.\\r\\n        upsample_rate: the factor of patches expanding, \\r\\n                       e.g., upsample_rate=2 doubles input patches and halfs embedded dimensions.\\r\\n        return_vector: the indicator of returning a sequence of tokens (return_vector=True)  \\r\\n                       or two-dimentional, spatially aligned tokens (return_vector=False)\\r\\n                       \\r\\n    For further information see: https://www.tensorflow.org/api_docs/python/tf/nn/depth_to_space\\r\\n    '''\\r\\n\\r\\n    def __init__(self, num_patch, embed_dim, upsample_rate, return_vector=True, name='patch_expand', **kwargs):\\r\\n        super(patch_expanding, self).__init__(**kwargs)\\r\\n        \\r\\n        self.num_patch = num_patch\\r\\n        self.embed_dim = embed_dim\\r\\n        self.upsample_rate = upsample_rate\\r\\n        self.return_vector = return_vector\\r\\n        \\r\\n        # Linear transformations that doubles the channels \\r\\n        self.linear_trans1 = Conv2D(upsample_rate*embed_dim, kernel_size=1, use_bias=False, name='{}_linear_trans1'.format(name))\\r\\n        # \\r\\n        self.linear_trans2 = Conv2D(upsample_rate*embed_dim, kernel_size=1, use_bias=False, name='{}_linear_trans1'.format(name))\\r\\n        self.prefix = name\\r\\n        \\r\\n    def get_config(self):\\r\\n        config = super().get_config().copy()\\r\\n        config.update({\\r\\n            'num_patch': self.num_patch,\\r\\n            'embed_dim': self.embed_dim,\\r\\n            'upsample_rate': self.upsample_rate,\\r\\n            'return_vector': self.return_vector,\\r\\n            'name':self.name,\\r\\n        })\\r\\n        return config\\r\\n\\r\\n    @classmethod\\r\\n    def from_config(cls, config):\\r\\n        return cls(**config)\\r\\n    \\r\\n    def call(self, x):\\r\\n        \\r\\n        H, W = self.num_patch\\r\\n        B, L, C = x.get_shape().as_list()\\r\\n        \\r\\n        assert (L == H * W), 'input feature has wrong size'\\r\\n\\r\\n        x = tf.reshape(x, (-1, H, W, C))\\r\\n        \\r\\n        x = self.linear_trans1(x)\\r\\n        \\r\\n        # rearange depth to number of patches\\r\\n        x = depth_to_space(x, self.upsample_rate, data_format='NHWC', name='{}_d_to_space'.format(self.prefix))\\r\\n        \\r\\n        if self.return_vector:\\r\\n            # Convert aligned patches to a patch sequence\\r\\n            x = tf.reshape(x, (-1, L*self.upsample_rate*self.upsample_rate, C//2))\\r\\n\\r\\n        return x\\r\\n    \\r\\n# ========== Swin-Transformer only ========== #\\r\\n# TODO: documentation.\\r\\n\\r\\ndef window_partition(x, window_size):\\r\\n    \\r\\n    # Get the static shape of the input tensor\\r\\n    # (Sample, Height, Width, Channel)\\r\\n    _, H, W, C = x.get_shape().as_list()\\r\\n    \\r\\n    # Subset tensors to patches\\r\\n    patch_num_H = H//window_size\\r\\n    patch_num_W = W//window_size\\r\\n    x = tf.reshape(x, shape=(-1, patch_num_H, window_size, patch_num_W, window_size, C))\\r\\n    x = tf.transpose(x, (0, 1, 3, 2, 4, 5))\\r\\n    \\r\\n    # Reshape patches to a patch sequence\\r\\n    windows = tf.reshape(x, shape=(-1, window_size, window_size, C))\\r\\n    \\r\\n    return windows\\r\\n\\r\\ndef window_reverse(windows, window_size, H, W, C):\\r\\n    \\r\\n    # Reshape a patch sequence to aligned patched \\r\\n    patch_num_H = H//window_size\\r\\n    patch_num_W = W//window_size\\r\\n    x = tf.reshape(windows, shape=(-1, patch_num_H, patch_num_W, window_size, window_size, C))\\r\\n    x = tf.transpose(x, perm=(0, 1, 3, 2, 4, 5))\\r\\n    \\r\\n    # Merge patches to spatial frames\\r\\n    x = tf.reshape(x, shape=(-1, H, W, C))\\r\\n    \\r\\n    return x\\r\\n\\r\\ndef drop_path_(inputs, drop_prob, is_training):\\r\\n    \\r\\n    # Bypass in non-training mode\\r\\n    if (not is_training) or (drop_prob == 0.):\\r\\n        return inputs\\r\\n\\r\\n    # Compute keep_prob\\r\\n    keep_prob = 1.0 - drop_prob\\r\\n\\r\\n    # Compute drop_connect tensor\\r\\n    input_shape = tf.shape(inputs)\\r\\n    batch_num = input_shape[0]; rank = len(input_shape)\\r\\n    \\r\\n    shape = (batch_num,) + (1,) * (rank - 1)\\r\\n    random_tensor = keep_prob + tf.random.uniform(shape, dtype=inputs.dtype)\\r\\n    path_mask = tf.floor(random_tensor)\\r\\n    output = tf.math.divide(inputs, keep_prob) * path_mask\\r\\n    return output\\r\\n\\r\\nclass drop_path(Layer):\\r\\n    def __init__(self, drop_prob=None, **kwargs):\\r\\n        super(drop_path, self).__init__(**kwargs)\\r\\n        self.drop_prob = drop_prob\\r\\n\\r\\n    def get_config(self):\\r\\n        config = super().get_config().copy()\\r\\n        config.update({'drop_prob': self.drop_prob})\\r\\n        return config\\r\\n\\r\\n    @classmethod\\r\\n    def from_config(cls, config):\\r\\n        return cls(**config)\\r\\n    \\r\\n    def call(self, x, training=None):\\r\\n        return drop_path_(x, self.drop_prob, training)\\r\\n\\r\\nclass Mlp(tf.keras.layers.Layer):\\r\\n    def __init__(self, filter_num, drop=0., name='mlp', **kwargs):\\r\\n        \\r\\n        super(Mlp, self).__init__(**kwargs)\\r\\n        \\r\\n        self.filter_num = filter_num\\r\\n        self.drop = drop\\r\\n        \\r\\n        # MLP layers\\r\\n        self.fc1 = Dense(filter_num[0], name='{}_mlp_0'.format(name))\\r\\n        self.fc2 = Dense(filter_num[1], name='{}_mlp_1'.format(name))\\r\\n        \\r\\n        # Dropout layer\\r\\n        self.drop = Dropout(drop)\\r\\n        \\r\\n        # GELU activation\\r\\n        self.activation = tf.keras.activations.gelu\\r\\n        \\r\\n    def get_config(self):\\r\\n        config = super().get_config().copy()\\r\\n        config.update({\\r\\n            'filter_num': self.filter_num,\\r\\n            'drop': self.drop,\\r\\n            'name': self.name,\\r\\n        })\\r\\n        return config\\r\\n\\r\\n    @classmethod\\r\\n    def from_config(cls, config):\\r\\n        return cls(**config)\\r\\n    \\r\\n    def call(self, x):\\r\\n        \\r\\n        # MLP --> GELU --> Drop --> MLP --> Drop\\r\\n        x = self.fc1(x)\\r\\n        x = self.activation(x)\\r\\n        x = self.drop(x)\\r\\n        x = self.fc2(x)\\r\\n        x = self.drop(x)\\r\\n        \\r\\n        return x\\r\\n\\r\\nclass WindowAttention(tf.keras.layers.Layer):\\r\\n    def __init__(self, dim, window_size, num_heads, qkv_bias=True, qk_scale=None, \\r\\n                 attn_drop=0, proj_drop=0., name='swin_atten', **kwargs):\\r\\n        super(WindowAttention, self).__init__(**kwargs)\\r\\n        \\r\\n        self.dim = dim # number of input dimensions\\r\\n        self.window_size = window_size # size of the attention window\\r\\n        self.num_heads = num_heads # number of self-attention heads\\r\\n        self.qkv_bias = qkv_bias\\r\\n        self.qk_scale = qk_scale\\r\\n        self.attn_drop = attn_drop\\r\\n        self.proj_drop = proj_drop\\r\\n        \\r\\n        head_dim = dim // num_heads\\r\\n        self.scale = qk_scale or head_dim ** -0.5 # query scaling factor\\r\\n        \\r\\n        self.prefix = name\\r\\n        \\r\\n        # Layers\\r\\n        self.qkv = Dense(dim * 3, use_bias=qkv_bias, name='{}_attn_qkv'.format(self.prefix))\\r\\n        self.attn_drop = Dropout(attn_drop)\\r\\n        self.proj = Dense(dim, name='{}_attn_proj'.format(self.prefix))\\r\\n        self.proj_drop = Dropout(proj_drop)\\r\\n\\r\\n    def get_config(self):\\r\\n        config = super().get_config().copy()\\r\\n        config.update({\\r\\n            'dim':self.dim, \\r\\n            'window_size':self.window_size, \\r\\n            'num_heads':self.num_heads, \\r\\n            'qkv_bias':self.qkv_bias, \\r\\n            'qk_scale':self.qk_scale, \\r\\n            'attn_drop':self.attn_drop, \\r\\n            'proj_drop':self.proj_drop, \\r\\n            'name':self.prefix\\r\\n        })\\r\\n        return config\\r\\n\\r\\n    @classmethod\\r\\n    def from_config(cls, config):\\r\\n        return cls(**config)\\r\\n        \\r\\n    def build(self, input_shape):\\r\\n        \\r\\n        # zero initialization\\r\\n        num_window_elements = (2*self.window_size[0] - 1) * (2*self.window_size[1] - 1)\\r\\n        self.relative_position_bias_table = self.add_weight('{}_attn_pos'.format(self.prefix),\\r\\n                                                            shape=(num_window_elements, self.num_heads),\\r\\n                                                            initializer=tf.initializers.Zeros(), trainable=True)\\r\\n        \\r\\n        # Indices of relative positions\\r\\n        coords_h = np.arange(self.window_size[0])\\r\\n        coords_w = np.arange(self.window_size[1])\\r\\n        coords_matrix = np.meshgrid(coords_h, coords_w, indexing='ij')\\r\\n        coords = np.stack(coords_matrix)\\r\\n        coords_flatten = coords.reshape(2, -1)\\r\\n        relative_coords = coords_flatten[:, :, None] - coords_flatten[:, None, :]\\r\\n        relative_coords = relative_coords.transpose([1, 2, 0])\\r\\n        relative_coords[:, :, 0] += self.window_size[0] - 1\\r\\n        relative_coords[:, :, 1] += self.window_size[1] - 1\\r\\n        relative_coords[:, :, 0] *= 2 * self.window_size[1] - 1\\r\\n        relative_position_index = relative_coords.sum(-1)\\r\\n        \\r\\n        # convert to the tf variable\\r\\n        self.relative_position_index = tf.Variable(\\r\\n            initial_value=tf.convert_to_tensor(relative_position_index), trainable=False, name='{}_attn_pos_ind'.format(self.prefix))\\r\\n        \\r\\n        self.built = True\\r\\n\\r\\n    def call(self, x, mask=None):\\r\\n        \\r\\n        # Get input tensor static shape\\r\\n        _, N, C = x.get_shape().as_list()\\r\\n        head_dim = C//self.num_heads\\r\\n        \\r\\n        x_qkv = self.qkv(x)\\r\\n        x_qkv = tf.reshape(x_qkv, shape=(-1, N, 3, self.num_heads, head_dim))\\r\\n        x_qkv = tf.transpose(x_qkv, perm=(2, 0, 3, 1, 4))\\r\\n        q, k, v = x_qkv[0], x_qkv[1], x_qkv[2]\\r\\n        \\r\\n        # Query rescaling\\r\\n        q = q * self.scale\\r\\n        \\r\\n        # multi-headed self-attention\\r\\n        k = tf.transpose(k, perm=(0, 1, 3, 2))\\r\\n        attn = (q @ k)\\r\\n        \\r\\n        # Shift window\\r\\n        num_window_elements = self.window_size[0] * self.window_size[1]\\r\\n        relative_position_index_flat = tf.reshape(self.relative_position_index, shape=(-1,))\\r\\n        relative_position_bias = tf.gather(self.relative_position_bias_table, relative_position_index_flat)\\r\\n        relative_position_bias = tf.reshape(relative_position_bias, shape=(num_window_elements, num_window_elements, -1))\\r\\n        relative_position_bias = tf.transpose(relative_position_bias, perm=(2, 0, 1))\\r\\n        attn = attn + tf.expand_dims(relative_position_bias, axis=0)\\r\\n\\r\\n        if mask is not None:\\r\\n            nW = mask.get_shape()[0]\\r\\n            mask_float = tf.cast(tf.expand_dims(tf.expand_dims(mask, axis=1), axis=0), tf.float32)\\r\\n            attn = tf.reshape(attn, shape=(-1, nW, self.num_heads, N, N)) + mask_float\\r\\n            attn = tf.reshape(attn, shape=(-1, self.num_heads, N, N))\\r\\n            attn = softmax(attn, axis=-1)\\r\\n        else:\\r\\n            attn = softmax(attn, axis=-1)\\r\\n        \\r\\n        # Dropout after attention\\r\\n        attn = self.attn_drop(attn)\\r\\n        \\r\\n        # Merge qkv vectors\\r\\n        x_qkv = (attn @ v)\\r\\n        x_qkv = tf.transpose(x_qkv, perm=(0, 2, 1, 3))\\r\\n        x_qkv = tf.reshape(x_qkv, shape=(-1, N, C))\\r\\n        \\r\\n        # Linear projection\\r\\n        x_qkv = self.proj(x_qkv)\\r\\n        \\r\\n        # Dropout after projection\\r\\n        x_qkv = self.proj_drop(x_qkv)\\r\\n        \\r\\n        return x_qkv\\r\\n\\r\\nclass SwinTransformerBlock(tf.keras.layers.Layer):\\r\\n    def __init__(self, dim, num_patch, num_heads, window_size=7, shift_size=0, \\r\\n                 num_mlp=1024, qkv_bias=True, qk_scale=None, mlp_drop=0, attn_drop=0, \\r\\n                 proj_drop=0, drop_path_prob=0, name='swin_block', **kwargs):\\r\\n        \\r\\n        super(SwinTransformerBlock, self).__init__(**kwargs)\\r\\n        \\r\\n        self.dim = dim # number of input dimensions\\r\\n        self.num_patch = num_patch # number of embedded patches; a tuple of  (heigh, width)\\r\\n        self.num_heads = num_heads # number of attention heads\\r\\n        self.window_size = window_size # size of window\\r\\n        self.shift_size = shift_size # size of window shift\\r\\n        self.num_mlp = num_mlp # number of MLP nodes\\r\\n        self.qkv_bias = qkv_bias\\r\\n        self.qk_scale = qk_scale\\r\\n        self.mlp_drop = mlp_drop\\r\\n        self.attn_drop = attn_drop\\r\\n        self.proj_drop = proj_drop\\r\\n        self.drop_path_prob = drop_path_prob\\r\\n        \\r\\n        self.prefix = name\\r\\n        \\r\\n        # Layers\\r\\n        self.norm1 = LayerNormalization(epsilon=1e-5, name='{}_norm1'.format(self.prefix))\\r\\n        self.attn = WindowAttention(dim, window_size=(self.window_size, self.window_size), num_heads=num_heads,\\r\\n                                    qkv_bias=qkv_bias, qk_scale=qk_scale, attn_drop=attn_drop, proj_drop=proj_drop, name=self.prefix)\\r\\n        self.drop_path = drop_path(drop_path_prob)\\r\\n        self.norm2 = LayerNormalization(epsilon=1e-5, name='{}_norm2'.format(self.prefix))\\r\\n        self.mlp = Mlp([num_mlp, dim], drop=mlp_drop, name=self.prefix)\\r\\n        \\r\\n        # Assertions\\r\\n        assert 0 <= self.shift_size, 'shift_size >= 0 is required'\\r\\n        assert self.shift_size < self.window_size, 'shift_size < window_size is required'\\r\\n        \\r\\n        # <---!!!\\r\\n        # Handling too-small patch numbers\\r\\n        if min(self.num_patch) < self.window_size:\\r\\n            self.shift_size = 0\\r\\n            self.window_size = min(self.num_patch)\\r\\n    \\r\\n    def get_config(self):\\r\\n        config = super().get_config().copy()\\r\\n        config.update({\\r\\n            'dim':self.dim, \\r\\n            'num_patch':self.num_patch, \\r\\n            'num_heads':self.num_heads, \\r\\n            'window_size':self.window_size, \\r\\n            'shift_size':self.shift_size, \\r\\n            'num_mlp':self.num_mlp,\\r\\n            'qkv_bias':self.qkv_bias, \\r\\n            'qk_scale':self.qk_scale, \\r\\n            'mlp_drop':self.mlp_drop, \\r\\n            'attn_drop':self.attn_drop, \\r\\n            'proj_drop':self.proj_drop, \\r\\n            'drop_path_prob':self.drop_path_prob, \\r\\n            'name':self.prefix\\r\\n        })\\r\\n        return config\\r\\n\\r\\n    @classmethod\\r\\n    def from_config(cls, config):\\r\\n        return cls(**config)\\r\\n    \\r\\n    def build(self, input_shape):\\r\\n        if self.shift_size > 0:\\r\\n            H, W = self.num_patch\\r\\n            h_slices = (slice(0, -self.window_size), slice(-self.window_size, -self.shift_size), slice(-self.shift_size, None))\\r\\n            w_slices = (slice(0, -self.window_size), slice(-self.window_size, -self.shift_size), slice(-self.shift_size, None))\\r\\n            \\r\\n            # attention mask\\r\\n            mask_array = np.zeros((1, H, W, 1))\\r\\n            \\r\\n            ## initialization\\r\\n            count = 0\\r\\n            for h in h_slices:\\r\\n                for w in w_slices:\\r\\n                    mask_array[:, h, w, :] = count\\r\\n                    count += 1\\r\\n            mask_array = tf.convert_to_tensor(mask_array)\\r\\n            \\r\\n            # mask array to windows\\r\\n            mask_windows = window_partition(mask_array, self.window_size)\\r\\n            mask_windows = tf.reshape(mask_windows, shape=[-1, self.window_size * self.window_size])\\r\\n            attn_mask = tf.expand_dims(mask_windows, axis=1) - tf.expand_dims(mask_windows, axis=2)\\r\\n            attn_mask = tf.where(attn_mask != 0, -100.0, attn_mask)\\r\\n            attn_mask = tf.where(attn_mask == 0, 0.0, attn_mask)\\r\\n            self.attn_mask = tf.Variable(initial_value=attn_mask, trainable=False, name='{}_attn_mask'.format(self.prefix))\\r\\n        else:\\r\\n            self.attn_mask = None\\r\\n\\r\\n        self.built = True\\r\\n\\r\\n    def call(self, x):\\r\\n        H, W = self.num_patch\\r\\n        B, L, C = x.get_shape().as_list()\\r\\n        \\r\\n        # Checking num_path and tensor sizes\\r\\n        assert L == H * W, 'Number of patches before and after Swin-MSA are mismatched.'\\r\\n        \\r\\n        # Skip connection I (start)\\r\\n        x_skip = x\\r\\n        \\r\\n        # Layer normalization\\r\\n        x = self.norm1(x)\\r\\n        \\r\\n        # Convert to aligned patches\\r\\n        x = tf.reshape(x, shape=(-1, H, W, C))\\r\\n\\r\\n        # Cyclic shift\\r\\n        if self.shift_size > 0:\\r\\n            shifted_x = tf.roll(x, shift=[-self.shift_size, -self.shift_size], axis=[1, 2])\\r\\n        else:\\r\\n            shifted_x = x\\r\\n\\r\\n        # Window partition \\r\\n        x_windows = window_partition(shifted_x, self.window_size)\\r\\n        x_windows = tf.reshape(x_windows, shape=(-1, self.window_size * self.window_size, C))\\r\\n\\r\\n        # Window-based multi-headed self-attention\\r\\n        attn_windows = self.attn(x_windows, mask=self.attn_mask)\\r\\n\\r\\n        # Merge windows\\r\\n        attn_windows = tf.reshape(attn_windows, shape=(-1, self.window_size, self.window_size, C))\\r\\n        shifted_x = window_reverse(attn_windows, self.window_size, H, W, C)\\r\\n\\r\\n        # Reverse cyclic shift\\r\\n        if self.shift_size > 0:\\r\\n            x = tf.roll(shifted_x, shift=[self.shift_size, self.shift_size], axis=[1, 2])\\r\\n        else:\\r\\n            x = shifted_x\\r\\n            \\r\\n        # Convert back to the patch sequence\\r\\n        x = tf.reshape(x, shape=(-1, H*W, C))\\r\\n\\r\\n        # Drop-path\\r\\n        ## if drop_path_prob = 0, it will not drop\\r\\n        x = self.drop_path(x)\\r\\n        \\r\\n        # Skip connection I (end)\\r\\n        x = x_skip +  x\\r\\n        \\r\\n        # Skip connection II (start)\\r\\n        x_skip = x\\r\\n        \\r\\n        x = self.norm2(x)\\r\\n        x = self.mlp(x)\\r\\n        x = self.drop_path(x)\\r\\n        \\r\\n        # Skip connection II (end)\\r\\n        x = x_skip + x\\r\\n\\r\\n        return x\"}"
            ]
          },
          "metadata": {},
          "execution_count": 7
        }
      ]
    },
    {
      "cell_type": "code",
      "source": [
        "import os\n",
        "os.environ[\"TF_CPP_MIN_LOG_LEVEL\"] = \"2\"\n",
        "import numpy as np\n",
        "import cv2\n",
        "from glob import glob\n",
        "from tqdm import tqdm\n",
        "import tensorflow as tf\n",
        "from tensorflow.keras.utils import CustomObjectScope\n",
        "from transformer_layers import patch_extract, patch_embedding\n",
        "from activations import GELU, Snake\n",
        " \n",
        "if __name__ == \"__main__\":\n",
        " \n",
        "\n",
        "    # with CustomObjectScope({'iou': iou, 'dice_coef': dice_coef, 'dice_loss': dice_loss}):\n",
        "    #     model = tf.keras.models.load_model(\"files/trans_Unet_model.h5\")\n",
        "\n",
        "    with CustomObjectScope({'patch_extract': patch_extract,'patch_embedding':patch_embedding,'GELU':GELU}):\n",
        "       model = tf.keras.models.load_model(\"/content/files/trans_Unet_model.h5\",compile=False)\n",
        "\n",
        "\n",
        "\n",
        "    create_dir(\"output\")\n",
        "    i=0\n",
        "    for x, y  in tqdm(zip(test_x,test_y), total=len(test_x)):\n",
        "\n",
        "        \"\"\" Reading the image \"\"\"\n",
        "        img = cv2.imread(x, cv2.IMREAD_COLOR)\n",
        "        img = cv2.resize(img, (128, 128))\n",
        "        x = img/255.0\n",
        "        x = x.astype(np.float32)\n",
        "        x = np.expand_dims(x, axis=0)\n",
        "\n",
        "        \"\"\" Reading the mask \"\"\"\n",
        "        img_y = cv2.imread(y, cv2.IMREAD_GRAYSCALE)\n",
        "        img_y = cv2.resize(img_y, (128, 128))\n",
        "        img_y = np.expand_dims(img_y, axis=-1)  \n",
        "        img_y = np.concatenate([img_y, img_y, img_y], axis=-1)  \n",
        "\n",
        "        \"\"\" Predicting the mask. \"\"\"\n",
        "        y_pred = model.predict(x)[0] > 0.5\n",
        "        y_pred = y_pred.astype(np.int32)\n",
        "\n",
        "        \"\"\" Saving the predicted mask along with the image and GT \"\"\"\n",
        "        y_pred = np.concatenate([y_pred, y_pred, y_pred], axis=-1)\n",
        "\n",
        "        sep_line = np.ones((128, 10, 3)) * 255\n",
        "        output_image = np.concatenate([img, sep_line, img_y, sep_line, y_pred*255], axis=1)\n",
        "        cv2.imwrite(f\"/content/output/{i}.png\", output_image)\n",
        "        i=i+1"
      ],
      "metadata": {
        "colab": {
          "base_uri": "https://localhost:8080/"
        },
        "id": "u-4nMNPwWiy0",
        "outputId": "994bd25a-dcd8-440f-9e34-8a33241dcf47"
      },
      "execution_count": null,
      "outputs": [
        {
          "output_type": "stream",
          "name": "stderr",
          "text": [
            "\r  0%|          | 0/612 [00:00<?, ?it/s]"
          ]
        },
        {
          "output_type": "stream",
          "name": "stdout",
          "text": [
            "1/1 [==============================] - 5s 5s/step\n"
          ]
        },
        {
          "output_type": "stream",
          "name": "stderr",
          "text": [
            "\r  0%|          | 1/612 [00:04<47:14,  4.64s/it]"
          ]
        },
        {
          "output_type": "stream",
          "name": "stdout",
          "text": [
            "1/1 [==============================] - 0s 69ms/step\n"
          ]
        },
        {
          "output_type": "stream",
          "name": "stderr",
          "text": [
            "\r  0%|          | 2/612 [00:04<20:14,  1.99s/it]"
          ]
        },
        {
          "output_type": "stream",
          "name": "stdout",
          "text": [
            "1/1 [==============================] - 0s 116ms/step\n"
          ]
        },
        {
          "output_type": "stream",
          "name": "stderr",
          "text": [
            "\r  0%|          | 3/612 [00:04<11:58,  1.18s/it]"
          ]
        },
        {
          "output_type": "stream",
          "name": "stdout",
          "text": [
            "1/1 [==============================] - 0s 97ms/step\n"
          ]
        },
        {
          "output_type": "stream",
          "name": "stderr",
          "text": [
            "\r  1%|          | 4/612 [00:05<08:01,  1.26it/s]"
          ]
        },
        {
          "output_type": "stream",
          "name": "stdout",
          "text": [
            "1/1 [==============================] - 0s 66ms/step\n"
          ]
        },
        {
          "output_type": "stream",
          "name": "stderr",
          "text": [
            "\r  1%|          | 5/612 [00:05<05:36,  1.80it/s]"
          ]
        },
        {
          "output_type": "stream",
          "name": "stdout",
          "text": [
            "1/1 [==============================] - 0s 112ms/step\n"
          ]
        },
        {
          "output_type": "stream",
          "name": "stderr",
          "text": [
            "\r  1%|          | 6/612 [00:05<04:34,  2.21it/s]"
          ]
        },
        {
          "output_type": "stream",
          "name": "stdout",
          "text": [
            "1/1 [==============================] - 0s 92ms/step\n"
          ]
        },
        {
          "output_type": "stream",
          "name": "stderr",
          "text": [
            "\r  1%|          | 7/612 [00:05<03:45,  2.69it/s]"
          ]
        },
        {
          "output_type": "stream",
          "name": "stdout",
          "text": [
            "1/1 [==============================] - 0s 70ms/step\n"
          ]
        },
        {
          "output_type": "stream",
          "name": "stderr",
          "text": [
            "\r  1%|▏         | 8/612 [00:05<03:00,  3.35it/s]"
          ]
        },
        {
          "output_type": "stream",
          "name": "stdout",
          "text": [
            "1/1 [==============================] - 0s 62ms/step\n"
          ]
        },
        {
          "output_type": "stream",
          "name": "stderr",
          "text": [
            "\r  1%|▏         | 9/612 [00:06<02:28,  4.05it/s]"
          ]
        },
        {
          "output_type": "stream",
          "name": "stdout",
          "text": [
            "1/1 [==============================] - 0s 177ms/step\n"
          ]
        },
        {
          "output_type": "stream",
          "name": "stderr",
          "text": [
            "\r  2%|▏         | 10/612 [00:06<02:35,  3.86it/s]"
          ]
        },
        {
          "output_type": "stream",
          "name": "stdout",
          "text": [
            "1/1 [==============================] - 0s 121ms/step\n"
          ]
        },
        {
          "output_type": "stream",
          "name": "stderr",
          "text": [
            "\r  2%|▏         | 11/612 [00:06<02:31,  3.97it/s]"
          ]
        },
        {
          "output_type": "stream",
          "name": "stdout",
          "text": [
            "1/1 [==============================] - 0s 82ms/step\n"
          ]
        },
        {
          "output_type": "stream",
          "name": "stderr",
          "text": [
            "\r  2%|▏         | 12/612 [00:06<02:24,  4.15it/s]"
          ]
        },
        {
          "output_type": "stream",
          "name": "stdout",
          "text": [
            "1/1 [==============================] - 0s 84ms/step\n"
          ]
        },
        {
          "output_type": "stream",
          "name": "stderr",
          "text": [
            "\r  2%|▏         | 13/612 [00:07<02:17,  4.35it/s]"
          ]
        },
        {
          "output_type": "stream",
          "name": "stdout",
          "text": [
            "1/1 [==============================] - 0s 111ms/step\n"
          ]
        },
        {
          "output_type": "stream",
          "name": "stderr",
          "text": [
            "\r  2%|▏         | 14/612 [00:07<02:16,  4.38it/s]"
          ]
        },
        {
          "output_type": "stream",
          "name": "stdout",
          "text": [
            "1/1 [==============================] - 0s 62ms/step\n"
          ]
        },
        {
          "output_type": "stream",
          "name": "stderr",
          "text": [
            "\r  2%|▏         | 15/612 [00:07<01:55,  5.17it/s]"
          ]
        },
        {
          "output_type": "stream",
          "name": "stdout",
          "text": [
            "1/1 [==============================] - 0s 83ms/step\n"
          ]
        },
        {
          "output_type": "stream",
          "name": "stderr",
          "text": [
            "\r  3%|▎         | 16/612 [00:07<01:44,  5.71it/s]"
          ]
        },
        {
          "output_type": "stream",
          "name": "stdout",
          "text": [
            "1/1 [==============================] - 0s 88ms/step\n"
          ]
        },
        {
          "output_type": "stream",
          "name": "stderr",
          "text": [
            "\r  3%|▎         | 17/612 [00:07<01:41,  5.89it/s]"
          ]
        },
        {
          "output_type": "stream",
          "name": "stdout",
          "text": [
            "1/1 [==============================] - 0s 78ms/step\n"
          ]
        },
        {
          "output_type": "stream",
          "name": "stderr",
          "text": [
            "\r  3%|▎         | 18/612 [00:07<01:49,  5.41it/s]"
          ]
        },
        {
          "output_type": "stream",
          "name": "stdout",
          "text": [
            "1/1 [==============================] - 0s 79ms/step\n"
          ]
        },
        {
          "output_type": "stream",
          "name": "stderr",
          "text": [
            "\r  3%|▎         | 19/612 [00:07<01:41,  5.82it/s]"
          ]
        },
        {
          "output_type": "stream",
          "name": "stdout",
          "text": [
            "1/1 [==============================] - 0s 83ms/step\n"
          ]
        },
        {
          "output_type": "stream",
          "name": "stderr",
          "text": [
            "\r  3%|▎         | 20/612 [00:08<01:46,  5.58it/s]"
          ]
        },
        {
          "output_type": "stream",
          "name": "stdout",
          "text": [
            "1/1 [==============================] - 0s 101ms/step\n"
          ]
        },
        {
          "output_type": "stream",
          "name": "stderr",
          "text": [
            "\r  3%|▎         | 21/612 [00:08<01:57,  5.03it/s]"
          ]
        },
        {
          "output_type": "stream",
          "name": "stdout",
          "text": [
            "1/1 [==============================] - 0s 88ms/step\n"
          ]
        },
        {
          "output_type": "stream",
          "name": "stderr",
          "text": [
            "\r  4%|▎         | 22/612 [00:08<01:50,  5.34it/s]"
          ]
        },
        {
          "output_type": "stream",
          "name": "stdout",
          "text": [
            "1/1 [==============================] - 0s 69ms/step\n"
          ]
        },
        {
          "output_type": "stream",
          "name": "stderr",
          "text": [
            "\r  4%|▍         | 23/612 [00:08<01:42,  5.76it/s]"
          ]
        },
        {
          "output_type": "stream",
          "name": "stdout",
          "text": [
            "1/1 [==============================] - 0s 70ms/step\n"
          ]
        },
        {
          "output_type": "stream",
          "name": "stderr",
          "text": [
            "\r  4%|▍         | 24/612 [00:08<01:31,  6.43it/s]"
          ]
        },
        {
          "output_type": "stream",
          "name": "stdout",
          "text": [
            "1/1 [==============================] - 0s 85ms/step\n"
          ]
        },
        {
          "output_type": "stream",
          "name": "stderr",
          "text": [
            "\r  4%|▍         | 25/612 [00:08<01:27,  6.71it/s]"
          ]
        },
        {
          "output_type": "stream",
          "name": "stdout",
          "text": [
            "1/1 [==============================] - 0s 89ms/step\n"
          ]
        },
        {
          "output_type": "stream",
          "name": "stderr",
          "text": [
            "\r  4%|▍         | 26/612 [00:09<01:29,  6.54it/s]"
          ]
        },
        {
          "output_type": "stream",
          "name": "stdout",
          "text": [
            "1/1 [==============================] - 0s 93ms/step\n"
          ]
        },
        {
          "output_type": "stream",
          "name": "stderr",
          "text": [
            "\r  4%|▍         | 27/612 [00:09<01:42,  5.73it/s]"
          ]
        },
        {
          "output_type": "stream",
          "name": "stdout",
          "text": [
            "1/1 [==============================] - 0s 77ms/step\n"
          ]
        },
        {
          "output_type": "stream",
          "name": "stderr",
          "text": [
            "\r  5%|▍         | 28/612 [00:09<01:38,  5.95it/s]"
          ]
        },
        {
          "output_type": "stream",
          "name": "stdout",
          "text": [
            "1/1 [==============================] - 0s 83ms/step\n"
          ]
        },
        {
          "output_type": "stream",
          "name": "stderr",
          "text": [
            "\r  5%|▍         | 29/612 [00:09<01:46,  5.45it/s]"
          ]
        },
        {
          "output_type": "stream",
          "name": "stdout",
          "text": [
            "1/1 [==============================] - 0s 84ms/step\n"
          ]
        },
        {
          "output_type": "stream",
          "name": "stderr",
          "text": [
            "\r  5%|▍         | 30/612 [00:09<01:53,  5.14it/s]"
          ]
        },
        {
          "output_type": "stream",
          "name": "stdout",
          "text": [
            "1/1 [==============================] - 0s 124ms/step\n"
          ]
        },
        {
          "output_type": "stream",
          "name": "stderr",
          "text": [
            "\r  5%|▌         | 31/612 [00:10<02:00,  4.80it/s]"
          ]
        },
        {
          "output_type": "stream",
          "name": "stdout",
          "text": [
            "1/1 [==============================] - 0s 133ms/step\n"
          ]
        },
        {
          "output_type": "stream",
          "name": "stderr",
          "text": [
            "\r  5%|▌         | 32/612 [00:10<02:24,  4.00it/s]"
          ]
        },
        {
          "output_type": "stream",
          "name": "stdout",
          "text": [
            "1/1 [==============================] - 0s 81ms/step\n"
          ]
        },
        {
          "output_type": "stream",
          "name": "stderr",
          "text": [
            "\r  5%|▌         | 33/612 [00:10<02:28,  3.90it/s]"
          ]
        },
        {
          "output_type": "stream",
          "name": "stdout",
          "text": [
            "1/1 [==============================] - 0s 71ms/step\n"
          ]
        },
        {
          "output_type": "stream",
          "name": "stderr",
          "text": [
            "\r  6%|▌         | 34/612 [00:10<02:03,  4.67it/s]"
          ]
        },
        {
          "output_type": "stream",
          "name": "stdout",
          "text": [
            "1/1 [==============================] - 0s 72ms/step\n"
          ]
        },
        {
          "output_type": "stream",
          "name": "stderr",
          "text": [
            "\r  6%|▌         | 35/612 [00:11<01:46,  5.43it/s]"
          ]
        },
        {
          "output_type": "stream",
          "name": "stdout",
          "text": [
            "1/1 [==============================] - 0s 62ms/step\n"
          ]
        },
        {
          "output_type": "stream",
          "name": "stderr",
          "text": [
            "\r  6%|▌         | 36/612 [00:11<01:34,  6.12it/s]"
          ]
        },
        {
          "output_type": "stream",
          "name": "stdout",
          "text": [
            "1/1 [==============================] - 0s 61ms/step\n"
          ]
        },
        {
          "output_type": "stream",
          "name": "stderr",
          "text": [
            "\r  6%|▌         | 37/612 [00:11<01:24,  6.77it/s]"
          ]
        },
        {
          "output_type": "stream",
          "name": "stdout",
          "text": [
            "1/1 [==============================] - 0s 61ms/step\n"
          ]
        },
        {
          "output_type": "stream",
          "name": "stderr",
          "text": [
            "\r  6%|▌         | 38/612 [00:11<01:18,  7.32it/s]"
          ]
        },
        {
          "output_type": "stream",
          "name": "stdout",
          "text": [
            "1/1 [==============================] - 0s 65ms/step\n"
          ]
        },
        {
          "output_type": "stream",
          "name": "stderr",
          "text": [
            "\r  6%|▋         | 39/612 [00:11<01:13,  7.79it/s]"
          ]
        },
        {
          "output_type": "stream",
          "name": "stdout",
          "text": [
            "1/1 [==============================] - 0s 63ms/step\n"
          ]
        },
        {
          "output_type": "stream",
          "name": "stderr",
          "text": [
            "\r  7%|▋         | 40/612 [00:11<01:11,  8.03it/s]"
          ]
        },
        {
          "output_type": "stream",
          "name": "stdout",
          "text": [
            "1/1 [==============================] - 0s 73ms/step\n"
          ]
        },
        {
          "output_type": "stream",
          "name": "stderr",
          "text": [
            "\r  7%|▋         | 41/612 [00:11<01:10,  8.15it/s]"
          ]
        },
        {
          "output_type": "stream",
          "name": "stdout",
          "text": [
            "1/1 [==============================] - 0s 66ms/step\n"
          ]
        },
        {
          "output_type": "stream",
          "name": "stderr",
          "text": [
            "\r  7%|▋         | 42/612 [00:11<01:09,  8.21it/s]"
          ]
        },
        {
          "output_type": "stream",
          "name": "stdout",
          "text": [
            "1/1 [==============================] - 0s 65ms/step\n"
          ]
        },
        {
          "output_type": "stream",
          "name": "stderr",
          "text": [
            "\r  7%|▋         | 43/612 [00:11<01:07,  8.46it/s]"
          ]
        },
        {
          "output_type": "stream",
          "name": "stdout",
          "text": [
            "1/1 [==============================] - 0s 64ms/step\n"
          ]
        },
        {
          "output_type": "stream",
          "name": "stderr",
          "text": [
            "\r  7%|▋         | 44/612 [00:12<01:05,  8.66it/s]"
          ]
        },
        {
          "output_type": "stream",
          "name": "stdout",
          "text": [
            "1/1 [==============================] - 0s 64ms/step\n"
          ]
        },
        {
          "output_type": "stream",
          "name": "stderr",
          "text": [
            "\r  7%|▋         | 45/612 [00:12<01:04,  8.73it/s]"
          ]
        },
        {
          "output_type": "stream",
          "name": "stdout",
          "text": [
            "1/1 [==============================] - 0s 63ms/step\n"
          ]
        },
        {
          "output_type": "stream",
          "name": "stderr",
          "text": [
            "\r  8%|▊         | 46/612 [00:12<01:04,  8.76it/s]"
          ]
        },
        {
          "output_type": "stream",
          "name": "stdout",
          "text": [
            "1/1 [==============================] - 0s 61ms/step\n"
          ]
        },
        {
          "output_type": "stream",
          "name": "stderr",
          "text": [
            "\r  8%|▊         | 47/612 [00:12<01:02,  8.99it/s]"
          ]
        },
        {
          "output_type": "stream",
          "name": "stdout",
          "text": [
            "1/1 [==============================] - 0s 64ms/step\n"
          ]
        },
        {
          "output_type": "stream",
          "name": "stderr",
          "text": [
            "\r  8%|▊         | 48/612 [00:12<01:02,  8.95it/s]"
          ]
        },
        {
          "output_type": "stream",
          "name": "stdout",
          "text": [
            "1/1 [==============================] - 0s 67ms/step\n"
          ]
        },
        {
          "output_type": "stream",
          "name": "stderr",
          "text": [
            "\r  8%|▊         | 49/612 [00:12<01:02,  9.03it/s]"
          ]
        },
        {
          "output_type": "stream",
          "name": "stdout",
          "text": [
            "1/1 [==============================] - 0s 63ms/step\n"
          ]
        },
        {
          "output_type": "stream",
          "name": "stderr",
          "text": [
            "\r  8%|▊         | 50/612 [00:12<01:01,  9.07it/s]"
          ]
        },
        {
          "output_type": "stream",
          "name": "stdout",
          "text": [
            "1/1 [==============================] - 0s 61ms/step\n"
          ]
        },
        {
          "output_type": "stream",
          "name": "stderr",
          "text": [
            "\r  8%|▊         | 51/612 [00:12<01:01,  9.08it/s]"
          ]
        },
        {
          "output_type": "stream",
          "name": "stdout",
          "text": [
            "1/1 [==============================] - 0s 60ms/step\n"
          ]
        },
        {
          "output_type": "stream",
          "name": "stderr",
          "text": [
            "\r  8%|▊         | 52/612 [00:12<01:00,  9.22it/s]"
          ]
        },
        {
          "output_type": "stream",
          "name": "stdout",
          "text": [
            "1/1 [==============================] - 0s 67ms/step\n"
          ]
        },
        {
          "output_type": "stream",
          "name": "stderr",
          "text": [
            "\r  9%|▊         | 53/612 [00:13<01:01,  9.13it/s]"
          ]
        },
        {
          "output_type": "stream",
          "name": "stdout",
          "text": [
            "1/1 [==============================] - 0s 64ms/step\n"
          ]
        },
        {
          "output_type": "stream",
          "name": "stderr",
          "text": [
            "\r  9%|▉         | 54/612 [00:13<01:00,  9.16it/s]"
          ]
        },
        {
          "output_type": "stream",
          "name": "stdout",
          "text": [
            "1/1 [==============================] - 0s 63ms/step\n"
          ]
        },
        {
          "output_type": "stream",
          "name": "stderr",
          "text": [
            "\r  9%|▉         | 55/612 [00:13<01:00,  9.22it/s]"
          ]
        },
        {
          "output_type": "stream",
          "name": "stdout",
          "text": [
            "1/1 [==============================] - 0s 60ms/step\n"
          ]
        },
        {
          "output_type": "stream",
          "name": "stderr",
          "text": [
            "\r  9%|▉         | 56/612 [00:13<01:01,  8.99it/s]"
          ]
        },
        {
          "output_type": "stream",
          "name": "stdout",
          "text": [
            "1/1 [==============================] - 0s 60ms/step\n"
          ]
        },
        {
          "output_type": "stream",
          "name": "stderr",
          "text": [
            "\r  9%|▉         | 57/612 [00:13<01:01,  9.08it/s]"
          ]
        },
        {
          "output_type": "stream",
          "name": "stdout",
          "text": [
            "1/1 [==============================] - 0s 61ms/step\n"
          ]
        },
        {
          "output_type": "stream",
          "name": "stderr",
          "text": [
            "\r  9%|▉         | 58/612 [00:13<01:01,  9.07it/s]"
          ]
        },
        {
          "output_type": "stream",
          "name": "stdout",
          "text": [
            "1/1 [==============================] - 0s 61ms/step\n"
          ]
        },
        {
          "output_type": "stream",
          "name": "stderr",
          "text": [
            "\r 10%|▉         | 59/612 [00:13<01:01,  9.02it/s]"
          ]
        },
        {
          "output_type": "stream",
          "name": "stdout",
          "text": [
            "1/1 [==============================] - 0s 62ms/step\n"
          ]
        },
        {
          "output_type": "stream",
          "name": "stderr",
          "text": [
            "\r 10%|▉         | 60/612 [00:13<01:01,  9.03it/s]"
          ]
        },
        {
          "output_type": "stream",
          "name": "stdout",
          "text": [
            "1/1 [==============================] - 0s 63ms/step\n"
          ]
        },
        {
          "output_type": "stream",
          "name": "stderr",
          "text": [
            "\r 10%|▉         | 61/612 [00:13<01:00,  9.13it/s]"
          ]
        },
        {
          "output_type": "stream",
          "name": "stdout",
          "text": [
            "1/1 [==============================] - 0s 65ms/step\n"
          ]
        },
        {
          "output_type": "stream",
          "name": "stderr",
          "text": [
            "\r 10%|█         | 62/612 [00:14<01:00,  9.11it/s]"
          ]
        },
        {
          "output_type": "stream",
          "name": "stdout",
          "text": [
            "1/1 [==============================] - 0s 62ms/step\n"
          ]
        },
        {
          "output_type": "stream",
          "name": "stderr",
          "text": [
            "\r 10%|█         | 63/612 [00:14<01:01,  8.97it/s]"
          ]
        },
        {
          "output_type": "stream",
          "name": "stdout",
          "text": [
            "1/1 [==============================] - 0s 67ms/step\n"
          ]
        },
        {
          "output_type": "stream",
          "name": "stderr",
          "text": [
            "\r 10%|█         | 64/612 [00:14<01:01,  8.95it/s]"
          ]
        },
        {
          "output_type": "stream",
          "name": "stdout",
          "text": [
            "1/1 [==============================] - 0s 65ms/step\n"
          ]
        },
        {
          "output_type": "stream",
          "name": "stderr",
          "text": [
            "\r 11%|█         | 65/612 [00:14<01:00,  8.97it/s]"
          ]
        },
        {
          "output_type": "stream",
          "name": "stdout",
          "text": [
            "1/1 [==============================] - 0s 61ms/step\n"
          ]
        },
        {
          "output_type": "stream",
          "name": "stderr",
          "text": [
            "\r 11%|█         | 66/612 [00:14<01:01,  8.89it/s]"
          ]
        },
        {
          "output_type": "stream",
          "name": "stdout",
          "text": [
            "1/1 [==============================] - 0s 64ms/step\n"
          ]
        },
        {
          "output_type": "stream",
          "name": "stderr",
          "text": [
            "\r 11%|█         | 67/612 [00:14<00:59,  9.09it/s]"
          ]
        },
        {
          "output_type": "stream",
          "name": "stdout",
          "text": [
            "1/1 [==============================] - 0s 61ms/step\n"
          ]
        },
        {
          "output_type": "stream",
          "name": "stderr",
          "text": [
            "\r 11%|█         | 68/612 [00:14<01:00,  9.03it/s]"
          ]
        },
        {
          "output_type": "stream",
          "name": "stdout",
          "text": [
            "1/1 [==============================] - 0s 63ms/step\n"
          ]
        },
        {
          "output_type": "stream",
          "name": "stderr",
          "text": [
            "\r 11%|█▏        | 69/612 [00:14<01:00,  8.97it/s]"
          ]
        },
        {
          "output_type": "stream",
          "name": "stdout",
          "text": [
            "1/1 [==============================] - 0s 60ms/step\n"
          ]
        },
        {
          "output_type": "stream",
          "name": "stderr",
          "text": [
            "\r 11%|█▏        | 70/612 [00:14<00:59,  9.15it/s]"
          ]
        },
        {
          "output_type": "stream",
          "name": "stdout",
          "text": [
            "1/1 [==============================] - 0s 64ms/step\n"
          ]
        },
        {
          "output_type": "stream",
          "name": "stderr",
          "text": [
            "\r 12%|█▏        | 71/612 [00:15<01:00,  8.91it/s]"
          ]
        },
        {
          "output_type": "stream",
          "name": "stdout",
          "text": [
            "1/1 [==============================] - 0s 63ms/step\n"
          ]
        },
        {
          "output_type": "stream",
          "name": "stderr",
          "text": [
            "\r 12%|█▏        | 72/612 [00:15<01:01,  8.79it/s]"
          ]
        },
        {
          "output_type": "stream",
          "name": "stdout",
          "text": [
            "1/1 [==============================] - 0s 63ms/step\n"
          ]
        },
        {
          "output_type": "stream",
          "name": "stderr",
          "text": [
            "\r 12%|█▏        | 73/612 [00:15<01:00,  8.95it/s]"
          ]
        },
        {
          "output_type": "stream",
          "name": "stdout",
          "text": [
            "1/1 [==============================] - 0s 60ms/step\n"
          ]
        },
        {
          "output_type": "stream",
          "name": "stderr",
          "text": [
            "\r 12%|█▏        | 74/612 [00:15<00:58,  9.16it/s]"
          ]
        },
        {
          "output_type": "stream",
          "name": "stdout",
          "text": [
            "1/1 [==============================] - 0s 64ms/step\n"
          ]
        },
        {
          "output_type": "stream",
          "name": "stderr",
          "text": [
            "\r 12%|█▏        | 75/612 [00:15<00:59,  9.03it/s]"
          ]
        },
        {
          "output_type": "stream",
          "name": "stdout",
          "text": [
            "1/1 [==============================] - 0s 62ms/step\n"
          ]
        },
        {
          "output_type": "stream",
          "name": "stderr",
          "text": [
            "\r 12%|█▏        | 76/612 [00:15<00:58,  9.18it/s]"
          ]
        },
        {
          "output_type": "stream",
          "name": "stdout",
          "text": [
            "1/1 [==============================] - 0s 61ms/step\n"
          ]
        },
        {
          "output_type": "stream",
          "name": "stderr",
          "text": [
            "\r 13%|█▎        | 77/612 [00:15<00:59,  8.97it/s]"
          ]
        },
        {
          "output_type": "stream",
          "name": "stdout",
          "text": [
            "1/1 [==============================] - 0s 61ms/step\n"
          ]
        },
        {
          "output_type": "stream",
          "name": "stderr",
          "text": [
            "\r 13%|█▎        | 78/612 [00:15<00:58,  9.09it/s]"
          ]
        },
        {
          "output_type": "stream",
          "name": "stdout",
          "text": [
            "1/1 [==============================] - 0s 62ms/step\n"
          ]
        },
        {
          "output_type": "stream",
          "name": "stderr",
          "text": [
            "\r 13%|█▎        | 79/612 [00:15<00:58,  9.04it/s]"
          ]
        },
        {
          "output_type": "stream",
          "name": "stdout",
          "text": [
            "1/1 [==============================] - 0s 61ms/step\n"
          ]
        },
        {
          "output_type": "stream",
          "name": "stderr",
          "text": [
            "\r 13%|█▎        | 80/612 [00:16<00:59,  8.99it/s]"
          ]
        },
        {
          "output_type": "stream",
          "name": "stdout",
          "text": [
            "1/1 [==============================] - 0s 65ms/step\n"
          ]
        },
        {
          "output_type": "stream",
          "name": "stderr",
          "text": [
            "\r 13%|█▎        | 81/612 [00:16<00:58,  9.08it/s]"
          ]
        },
        {
          "output_type": "stream",
          "name": "stdout",
          "text": [
            "1/1 [==============================] - 0s 64ms/step\n"
          ]
        },
        {
          "output_type": "stream",
          "name": "stderr",
          "text": [
            "\r 13%|█▎        | 82/612 [00:16<00:58,  9.05it/s]"
          ]
        },
        {
          "output_type": "stream",
          "name": "stdout",
          "text": [
            "1/1 [==============================] - 0s 62ms/step\n"
          ]
        },
        {
          "output_type": "stream",
          "name": "stderr",
          "text": [
            "\r 14%|█▎        | 83/612 [00:16<00:57,  9.12it/s]"
          ]
        },
        {
          "output_type": "stream",
          "name": "stdout",
          "text": [
            "1/1 [==============================] - 0s 63ms/step\n"
          ]
        },
        {
          "output_type": "stream",
          "name": "stderr",
          "text": [
            "\r 14%|█▎        | 84/612 [00:16<00:58,  9.06it/s]"
          ]
        },
        {
          "output_type": "stream",
          "name": "stdout",
          "text": [
            "1/1 [==============================] - 0s 62ms/step\n"
          ]
        },
        {
          "output_type": "stream",
          "name": "stderr",
          "text": [
            "\r 14%|█▍        | 85/612 [00:16<00:58,  8.99it/s]"
          ]
        },
        {
          "output_type": "stream",
          "name": "stdout",
          "text": [
            "1/1 [==============================] - 0s 61ms/step\n"
          ]
        },
        {
          "output_type": "stream",
          "name": "stderr",
          "text": [
            "\r 14%|█▍        | 86/612 [00:16<00:58,  9.01it/s]"
          ]
        },
        {
          "output_type": "stream",
          "name": "stdout",
          "text": [
            "1/1 [==============================] - 0s 61ms/step\n"
          ]
        },
        {
          "output_type": "stream",
          "name": "stderr",
          "text": [
            "\r 14%|█▍        | 87/612 [00:16<00:58,  8.95it/s]"
          ]
        },
        {
          "output_type": "stream",
          "name": "stdout",
          "text": [
            "1/1 [==============================] - 0s 59ms/step\n"
          ]
        },
        {
          "output_type": "stream",
          "name": "stderr",
          "text": [
            "\r 14%|█▍        | 88/612 [00:16<00:58,  8.94it/s]"
          ]
        },
        {
          "output_type": "stream",
          "name": "stdout",
          "text": [
            "1/1 [==============================] - 0s 62ms/step\n"
          ]
        },
        {
          "output_type": "stream",
          "name": "stderr",
          "text": [
            "\r 15%|█▍        | 89/612 [00:17<00:57,  9.15it/s]"
          ]
        },
        {
          "output_type": "stream",
          "name": "stdout",
          "text": [
            "1/1 [==============================] - 0s 72ms/step\n"
          ]
        },
        {
          "output_type": "stream",
          "name": "stderr",
          "text": [
            "\r 15%|█▍        | 90/612 [00:17<00:57,  9.02it/s]"
          ]
        },
        {
          "output_type": "stream",
          "name": "stdout",
          "text": [
            "1/1 [==============================] - 0s 71ms/step\n"
          ]
        },
        {
          "output_type": "stream",
          "name": "stderr",
          "text": [
            "\r 15%|█▍        | 91/612 [00:17<00:58,  8.91it/s]"
          ]
        },
        {
          "output_type": "stream",
          "name": "stdout",
          "text": [
            "1/1 [==============================] - 0s 94ms/step\n"
          ]
        },
        {
          "output_type": "stream",
          "name": "stderr",
          "text": [
            "\r 15%|█▌        | 92/612 [00:17<01:15,  6.87it/s]"
          ]
        },
        {
          "output_type": "stream",
          "name": "stdout",
          "text": [
            "1/1 [==============================] - 0s 76ms/step\n"
          ]
        },
        {
          "output_type": "stream",
          "name": "stderr",
          "text": [
            "\r 15%|█▌        | 93/612 [00:17<01:13,  7.04it/s]"
          ]
        },
        {
          "output_type": "stream",
          "name": "stdout",
          "text": [
            "1/1 [==============================] - 0s 81ms/step\n"
          ]
        },
        {
          "output_type": "stream",
          "name": "stderr",
          "text": [
            "\r 15%|█▌        | 94/612 [00:17<01:12,  7.11it/s]"
          ]
        },
        {
          "output_type": "stream",
          "name": "stdout",
          "text": [
            "1/1 [==============================] - 0s 80ms/step\n"
          ]
        },
        {
          "output_type": "stream",
          "name": "stderr",
          "text": [
            "\r 16%|█▌        | 95/612 [00:17<01:23,  6.17it/s]"
          ]
        },
        {
          "output_type": "stream",
          "name": "stdout",
          "text": [
            "1/1 [==============================] - 0s 79ms/step\n"
          ]
        },
        {
          "output_type": "stream",
          "name": "stderr",
          "text": [
            "\r 16%|█▌        | 96/612 [00:18<01:31,  5.61it/s]"
          ]
        },
        {
          "output_type": "stream",
          "name": "stdout",
          "text": [
            "1/1 [==============================] - 0s 85ms/step\n"
          ]
        },
        {
          "output_type": "stream",
          "name": "stderr",
          "text": [
            "\r 16%|█▌        | 97/612 [00:18<01:28,  5.83it/s]"
          ]
        },
        {
          "output_type": "stream",
          "name": "stdout",
          "text": [
            "1/1 [==============================] - 0s 85ms/step\n"
          ]
        },
        {
          "output_type": "stream",
          "name": "stderr",
          "text": [
            "\r 16%|█▌        | 98/612 [00:18<01:34,  5.45it/s]"
          ]
        },
        {
          "output_type": "stream",
          "name": "stdout",
          "text": [
            "1/1 [==============================] - 0s 78ms/step\n"
          ]
        },
        {
          "output_type": "stream",
          "name": "stderr",
          "text": [
            "\r 16%|█▌        | 99/612 [00:18<01:39,  5.17it/s]"
          ]
        },
        {
          "output_type": "stream",
          "name": "stdout",
          "text": [
            "1/1 [==============================] - 0s 81ms/step\n"
          ]
        },
        {
          "output_type": "stream",
          "name": "stderr",
          "text": [
            "\r 16%|█▋        | 100/612 [00:18<01:42,  4.98it/s]"
          ]
        },
        {
          "output_type": "stream",
          "name": "stdout",
          "text": [
            "1/1 [==============================] - 0s 85ms/step\n"
          ]
        },
        {
          "output_type": "stream",
          "name": "stderr",
          "text": [
            "\r 17%|█▋        | 101/612 [00:19<01:33,  5.46it/s]"
          ]
        },
        {
          "output_type": "stream",
          "name": "stdout",
          "text": [
            "1/1 [==============================] - 0s 87ms/step\n"
          ]
        },
        {
          "output_type": "stream",
          "name": "stderr",
          "text": [
            "\r 17%|█▋        | 102/612 [00:19<01:30,  5.66it/s]"
          ]
        },
        {
          "output_type": "stream",
          "name": "stdout",
          "text": [
            "1/1 [==============================] - 0s 69ms/step\n"
          ]
        },
        {
          "output_type": "stream",
          "name": "stderr",
          "text": [
            "\r 17%|█▋        | 103/612 [00:19<01:21,  6.22it/s]"
          ]
        },
        {
          "output_type": "stream",
          "name": "stdout",
          "text": [
            "1/1 [==============================] - 0s 68ms/step\n"
          ]
        },
        {
          "output_type": "stream",
          "name": "stderr",
          "text": [
            "\r 17%|█▋        | 104/612 [00:19<01:14,  6.81it/s]"
          ]
        },
        {
          "output_type": "stream",
          "name": "stdout",
          "text": [
            "1/1 [==============================] - 0s 68ms/step\n"
          ]
        },
        {
          "output_type": "stream",
          "name": "stderr",
          "text": [
            "\r 17%|█▋        | 105/612 [00:19<01:21,  6.24it/s]"
          ]
        },
        {
          "output_type": "stream",
          "name": "stdout",
          "text": [
            "1/1 [==============================] - 0s 71ms/step\n"
          ]
        },
        {
          "output_type": "stream",
          "name": "stderr",
          "text": [
            "\r 17%|█▋        | 106/612 [00:19<01:26,  5.86it/s]"
          ]
        },
        {
          "output_type": "stream",
          "name": "stdout",
          "text": [
            "1/1 [==============================] - 0s 74ms/step\n"
          ]
        },
        {
          "output_type": "stream",
          "name": "stderr",
          "text": [
            "\r 17%|█▋        | 107/612 [00:20<01:31,  5.54it/s]"
          ]
        },
        {
          "output_type": "stream",
          "name": "stdout",
          "text": [
            "1/1 [==============================] - 0s 73ms/step\n"
          ]
        },
        {
          "output_type": "stream",
          "name": "stderr",
          "text": [
            "\r 18%|█▊        | 108/612 [00:20<01:35,  5.28it/s]"
          ]
        },
        {
          "output_type": "stream",
          "name": "stdout",
          "text": [
            "1/1 [==============================] - 0s 76ms/step\n"
          ]
        },
        {
          "output_type": "stream",
          "name": "stderr",
          "text": [
            "\r 18%|█▊        | 109/612 [00:20<01:32,  5.43it/s]"
          ]
        },
        {
          "output_type": "stream",
          "name": "stdout",
          "text": [
            "1/1 [==============================] - 0s 72ms/step\n"
          ]
        },
        {
          "output_type": "stream",
          "name": "stderr",
          "text": [
            "\r 18%|█▊        | 110/612 [00:20<01:33,  5.35it/s]"
          ]
        },
        {
          "output_type": "stream",
          "name": "stdout",
          "text": [
            "1/1 [==============================] - 0s 69ms/step\n"
          ]
        },
        {
          "output_type": "stream",
          "name": "stderr",
          "text": [
            "\r 18%|█▊        | 111/612 [00:20<01:34,  5.30it/s]"
          ]
        },
        {
          "output_type": "stream",
          "name": "stdout",
          "text": [
            "1/1 [==============================] - 0s 92ms/step\n"
          ]
        },
        {
          "output_type": "stream",
          "name": "stderr",
          "text": [
            "\r 18%|█▊        | 112/612 [00:21<01:34,  5.27it/s]"
          ]
        },
        {
          "output_type": "stream",
          "name": "stdout",
          "text": [
            "1/1 [==============================] - 0s 73ms/step\n"
          ]
        },
        {
          "output_type": "stream",
          "name": "stderr",
          "text": [
            "\r 18%|█▊        | 113/612 [00:21<01:38,  5.07it/s]"
          ]
        },
        {
          "output_type": "stream",
          "name": "stdout",
          "text": [
            "1/1 [==============================] - 0s 70ms/step\n"
          ]
        },
        {
          "output_type": "stream",
          "name": "stderr",
          "text": [
            "\r 19%|█▊        | 114/612 [00:21<01:26,  5.79it/s]"
          ]
        },
        {
          "output_type": "stream",
          "name": "stdout",
          "text": [
            "1/1 [==============================] - 0s 71ms/step\n"
          ]
        },
        {
          "output_type": "stream",
          "name": "stderr",
          "text": [
            "\r 19%|█▉        | 115/612 [00:21<01:17,  6.42it/s]"
          ]
        },
        {
          "output_type": "stream",
          "name": "stdout",
          "text": [
            "1/1 [==============================] - 0s 65ms/step\n"
          ]
        },
        {
          "output_type": "stream",
          "name": "stderr",
          "text": [
            "\r 19%|█▉        | 116/612 [00:21<01:10,  7.00it/s]"
          ]
        },
        {
          "output_type": "stream",
          "name": "stdout",
          "text": [
            "1/1 [==============================] - 0s 99ms/step\n"
          ]
        },
        {
          "output_type": "stream",
          "name": "stderr",
          "text": [
            "\r 19%|█▉        | 117/612 [00:21<01:12,  6.85it/s]"
          ]
        },
        {
          "output_type": "stream",
          "name": "stdout",
          "text": [
            "1/1 [==============================] - 0s 69ms/step\n"
          ]
        },
        {
          "output_type": "stream",
          "name": "stderr",
          "text": [
            "\r 19%|█▉        | 118/612 [00:21<01:11,  6.88it/s]"
          ]
        },
        {
          "output_type": "stream",
          "name": "stdout",
          "text": [
            "1/1 [==============================] - 0s 64ms/step\n"
          ]
        },
        {
          "output_type": "stream",
          "name": "stderr",
          "text": [
            "\r 19%|█▉        | 119/612 [00:22<01:07,  7.35it/s]"
          ]
        },
        {
          "output_type": "stream",
          "name": "stdout",
          "text": [
            "1/1 [==============================] - 0s 67ms/step\n"
          ]
        },
        {
          "output_type": "stream",
          "name": "stderr",
          "text": [
            "\r 20%|█▉        | 120/612 [00:22<01:03,  7.78it/s]"
          ]
        },
        {
          "output_type": "stream",
          "name": "stdout",
          "text": [
            "1/1 [==============================] - 0s 72ms/step\n"
          ]
        },
        {
          "output_type": "stream",
          "name": "stderr",
          "text": [
            "\r 20%|█▉        | 121/612 [00:22<01:01,  8.00it/s]"
          ]
        },
        {
          "output_type": "stream",
          "name": "stdout",
          "text": [
            "1/1 [==============================] - 0s 64ms/step\n"
          ]
        },
        {
          "output_type": "stream",
          "name": "stderr",
          "text": [
            "\r 20%|█▉        | 122/612 [00:22<00:59,  8.25it/s]"
          ]
        },
        {
          "output_type": "stream",
          "name": "stdout",
          "text": [
            "1/1 [==============================] - 0s 68ms/step\n"
          ]
        },
        {
          "output_type": "stream",
          "name": "stderr",
          "text": [
            "\r 20%|██        | 123/612 [00:22<00:58,  8.38it/s]"
          ]
        },
        {
          "output_type": "stream",
          "name": "stdout",
          "text": [
            "1/1 [==============================] - 0s 60ms/step\n"
          ]
        },
        {
          "output_type": "stream",
          "name": "stderr",
          "text": [
            "\r 20%|██        | 124/612 [00:22<00:57,  8.55it/s]"
          ]
        },
        {
          "output_type": "stream",
          "name": "stdout",
          "text": [
            "1/1 [==============================] - 0s 64ms/step\n"
          ]
        },
        {
          "output_type": "stream",
          "name": "stderr",
          "text": [
            "\r 20%|██        | 125/612 [00:22<00:55,  8.70it/s]"
          ]
        },
        {
          "output_type": "stream",
          "name": "stdout",
          "text": [
            "1/1 [==============================] - 0s 61ms/step\n"
          ]
        },
        {
          "output_type": "stream",
          "name": "stderr",
          "text": [
            "\r 21%|██        | 126/612 [00:22<00:54,  8.91it/s]"
          ]
        },
        {
          "output_type": "stream",
          "name": "stdout",
          "text": [
            "1/1 [==============================] - 0s 60ms/step\n"
          ]
        },
        {
          "output_type": "stream",
          "name": "stderr",
          "text": [
            "\r 21%|██        | 127/612 [00:22<00:54,  8.88it/s]"
          ]
        },
        {
          "output_type": "stream",
          "name": "stdout",
          "text": [
            "1/1 [==============================] - 0s 62ms/step\n"
          ]
        },
        {
          "output_type": "stream",
          "name": "stderr",
          "text": [
            "\r 21%|██        | 128/612 [00:23<00:53,  9.01it/s]"
          ]
        },
        {
          "output_type": "stream",
          "name": "stdout",
          "text": [
            "1/1 [==============================] - 0s 62ms/step\n"
          ]
        },
        {
          "output_type": "stream",
          "name": "stderr",
          "text": [
            "\r 21%|██        | 129/612 [00:23<00:52,  9.12it/s]"
          ]
        },
        {
          "output_type": "stream",
          "name": "stdout",
          "text": [
            "1/1 [==============================] - 0s 66ms/step\n"
          ]
        },
        {
          "output_type": "stream",
          "name": "stderr",
          "text": [
            "\r 21%|██        | 130/612 [00:23<00:53,  9.06it/s]"
          ]
        },
        {
          "output_type": "stream",
          "name": "stdout",
          "text": [
            "1/1 [==============================] - 0s 61ms/step\n"
          ]
        },
        {
          "output_type": "stream",
          "name": "stderr",
          "text": [
            "\r 21%|██▏       | 131/612 [00:23<00:53,  9.03it/s]"
          ]
        },
        {
          "output_type": "stream",
          "name": "stdout",
          "text": [
            "1/1 [==============================] - 0s 64ms/step\n"
          ]
        },
        {
          "output_type": "stream",
          "name": "stderr",
          "text": [
            "\r 22%|██▏       | 132/612 [00:23<00:52,  9.07it/s]"
          ]
        },
        {
          "output_type": "stream",
          "name": "stdout",
          "text": [
            "1/1 [==============================] - 0s 67ms/step\n"
          ]
        },
        {
          "output_type": "stream",
          "name": "stderr",
          "text": [
            "\r 22%|██▏       | 133/612 [00:23<00:53,  9.03it/s]"
          ]
        },
        {
          "output_type": "stream",
          "name": "stdout",
          "text": [
            "1/1 [==============================] - 0s 63ms/step\n"
          ]
        },
        {
          "output_type": "stream",
          "name": "stderr",
          "text": [
            "\r 22%|██▏       | 134/612 [00:23<00:53,  8.96it/s]"
          ]
        },
        {
          "output_type": "stream",
          "name": "stdout",
          "text": [
            "1/1 [==============================] - 0s 61ms/step\n"
          ]
        },
        {
          "output_type": "stream",
          "name": "stderr",
          "text": [
            "\r 22%|██▏       | 135/612 [00:23<00:52,  9.12it/s]"
          ]
        },
        {
          "output_type": "stream",
          "name": "stdout",
          "text": [
            "1/1 [==============================] - 0s 61ms/step\n"
          ]
        },
        {
          "output_type": "stream",
          "name": "stderr",
          "text": [
            "\r 22%|██▏       | 136/612 [00:23<00:51,  9.17it/s]"
          ]
        },
        {
          "output_type": "stream",
          "name": "stdout",
          "text": [
            "1/1 [==============================] - 0s 63ms/step\n"
          ]
        },
        {
          "output_type": "stream",
          "name": "stderr",
          "text": [
            "\r 22%|██▏       | 137/612 [00:24<00:53,  8.93it/s]"
          ]
        },
        {
          "output_type": "stream",
          "name": "stdout",
          "text": [
            "1/1 [==============================] - 0s 62ms/step\n"
          ]
        },
        {
          "output_type": "stream",
          "name": "stderr",
          "text": [
            "\r 23%|██▎       | 138/612 [00:24<00:54,  8.68it/s]"
          ]
        },
        {
          "output_type": "stream",
          "name": "stdout",
          "text": [
            "1/1 [==============================] - 0s 69ms/step\n"
          ]
        },
        {
          "output_type": "stream",
          "name": "stderr",
          "text": [
            "\r 23%|██▎       | 139/612 [00:24<00:54,  8.65it/s]"
          ]
        },
        {
          "output_type": "stream",
          "name": "stdout",
          "text": [
            "1/1 [==============================] - 0s 61ms/step\n"
          ]
        },
        {
          "output_type": "stream",
          "name": "stderr",
          "text": [
            "\r 23%|██▎       | 140/612 [00:24<00:54,  8.71it/s]"
          ]
        },
        {
          "output_type": "stream",
          "name": "stdout",
          "text": [
            "1/1 [==============================] - 0s 60ms/step\n"
          ]
        },
        {
          "output_type": "stream",
          "name": "stderr",
          "text": [
            "\r 23%|██▎       | 141/612 [00:24<00:52,  8.99it/s]"
          ]
        },
        {
          "output_type": "stream",
          "name": "stdout",
          "text": [
            "1/1 [==============================] - 0s 64ms/step\n"
          ]
        },
        {
          "output_type": "stream",
          "name": "stderr",
          "text": [
            "\r 23%|██▎       | 142/612 [00:24<00:52,  9.00it/s]"
          ]
        },
        {
          "output_type": "stream",
          "name": "stdout",
          "text": [
            "1/1 [==============================] - 0s 62ms/step\n"
          ]
        },
        {
          "output_type": "stream",
          "name": "stderr",
          "text": [
            "\r 23%|██▎       | 143/612 [00:24<00:52,  8.95it/s]"
          ]
        },
        {
          "output_type": "stream",
          "name": "stdout",
          "text": [
            "1/1 [==============================] - 0s 60ms/step\n"
          ]
        },
        {
          "output_type": "stream",
          "name": "stderr",
          "text": [
            "\r 24%|██▎       | 144/612 [00:24<00:51,  9.09it/s]"
          ]
        },
        {
          "output_type": "stream",
          "name": "stdout",
          "text": [
            "1/1 [==============================] - 0s 62ms/step\n"
          ]
        },
        {
          "output_type": "stream",
          "name": "stderr",
          "text": [
            "\r 24%|██▎       | 145/612 [00:24<00:51,  9.12it/s]"
          ]
        },
        {
          "output_type": "stream",
          "name": "stdout",
          "text": [
            "1/1 [==============================] - 0s 61ms/step\n"
          ]
        },
        {
          "output_type": "stream",
          "name": "stderr",
          "text": [
            "\r 24%|██▍       | 146/612 [00:25<00:51,  9.11it/s]"
          ]
        },
        {
          "output_type": "stream",
          "name": "stdout",
          "text": [
            "1/1 [==============================] - 0s 61ms/step\n"
          ]
        },
        {
          "output_type": "stream",
          "name": "stderr",
          "text": [
            "\r 24%|██▍       | 147/612 [00:25<00:50,  9.23it/s]"
          ]
        },
        {
          "output_type": "stream",
          "name": "stdout",
          "text": [
            "1/1 [==============================] - 0s 66ms/step\n"
          ]
        },
        {
          "output_type": "stream",
          "name": "stderr",
          "text": [
            "\r 24%|██▍       | 148/612 [00:25<00:51,  8.99it/s]"
          ]
        },
        {
          "output_type": "stream",
          "name": "stdout",
          "text": [
            "1/1 [==============================] - 0s 61ms/step\n"
          ]
        },
        {
          "output_type": "stream",
          "name": "stderr",
          "text": [
            "\r 24%|██▍       | 149/612 [00:25<00:51,  9.00it/s]"
          ]
        },
        {
          "output_type": "stream",
          "name": "stdout",
          "text": [
            "1/1 [==============================] - 0s 63ms/step\n"
          ]
        },
        {
          "output_type": "stream",
          "name": "stderr",
          "text": [
            "\r 25%|██▍       | 150/612 [00:25<00:51,  9.05it/s]"
          ]
        },
        {
          "output_type": "stream",
          "name": "stdout",
          "text": [
            "1/1 [==============================] - 0s 62ms/step\n"
          ]
        },
        {
          "output_type": "stream",
          "name": "stderr",
          "text": [
            "\r 25%|██▍       | 151/612 [00:25<00:50,  9.15it/s]"
          ]
        },
        {
          "output_type": "stream",
          "name": "stdout",
          "text": [
            "1/1 [==============================] - 0s 68ms/step\n"
          ]
        },
        {
          "output_type": "stream",
          "name": "stderr",
          "text": [
            "\r 25%|██▍       | 152/612 [00:25<00:50,  9.05it/s]"
          ]
        },
        {
          "output_type": "stream",
          "name": "stdout",
          "text": [
            "1/1 [==============================] - 0s 62ms/step\n"
          ]
        },
        {
          "output_type": "stream",
          "name": "stderr",
          "text": [
            "\r 25%|██▌       | 153/612 [00:25<00:50,  9.17it/s]"
          ]
        },
        {
          "output_type": "stream",
          "name": "stdout",
          "text": [
            "1/1 [==============================] - 0s 62ms/step\n"
          ]
        },
        {
          "output_type": "stream",
          "name": "stderr",
          "text": [
            "\r 25%|██▌       | 154/612 [00:25<00:50,  9.12it/s]"
          ]
        },
        {
          "output_type": "stream",
          "name": "stdout",
          "text": [
            "1/1 [==============================] - 0s 61ms/step\n"
          ]
        },
        {
          "output_type": "stream",
          "name": "stderr",
          "text": [
            "\r 25%|██▌       | 155/612 [00:26<00:49,  9.28it/s]"
          ]
        },
        {
          "output_type": "stream",
          "name": "stdout",
          "text": [
            "1/1 [==============================] - 0s 63ms/step\n"
          ]
        },
        {
          "output_type": "stream",
          "name": "stderr",
          "text": [
            "\r 25%|██▌       | 156/612 [00:26<00:49,  9.27it/s]"
          ]
        },
        {
          "output_type": "stream",
          "name": "stdout",
          "text": [
            "1/1 [==============================] - 0s 63ms/step\n"
          ]
        },
        {
          "output_type": "stream",
          "name": "stderr",
          "text": [
            "\r 26%|██▌       | 157/612 [00:26<00:49,  9.13it/s]"
          ]
        },
        {
          "output_type": "stream",
          "name": "stdout",
          "text": [
            "1/1 [==============================] - 0s 62ms/step\n"
          ]
        },
        {
          "output_type": "stream",
          "name": "stderr",
          "text": [
            "\r 26%|██▌       | 158/612 [00:26<00:52,  8.68it/s]"
          ]
        },
        {
          "output_type": "stream",
          "name": "stdout",
          "text": [
            "1/1 [==============================] - 0s 60ms/step\n"
          ]
        },
        {
          "output_type": "stream",
          "name": "stderr",
          "text": [
            "\r 26%|██▌       | 159/612 [00:26<00:52,  8.68it/s]"
          ]
        },
        {
          "output_type": "stream",
          "name": "stdout",
          "text": [
            "1/1 [==============================] - 0s 61ms/step\n"
          ]
        },
        {
          "output_type": "stream",
          "name": "stderr",
          "text": [
            "\r 26%|██▌       | 160/612 [00:26<00:51,  8.76it/s]"
          ]
        },
        {
          "output_type": "stream",
          "name": "stdout",
          "text": [
            "1/1 [==============================] - 0s 60ms/step\n"
          ]
        },
        {
          "output_type": "stream",
          "name": "stderr",
          "text": [
            "\r 26%|██▋       | 161/612 [00:26<00:51,  8.79it/s]"
          ]
        },
        {
          "output_type": "stream",
          "name": "stdout",
          "text": [
            "1/1 [==============================] - 0s 61ms/step\n"
          ]
        },
        {
          "output_type": "stream",
          "name": "stderr",
          "text": [
            "\r 26%|██▋       | 162/612 [00:26<00:51,  8.81it/s]"
          ]
        },
        {
          "output_type": "stream",
          "name": "stdout",
          "text": [
            "1/1 [==============================] - 0s 62ms/step\n"
          ]
        },
        {
          "output_type": "stream",
          "name": "stderr",
          "text": [
            "\r 27%|██▋       | 163/612 [00:26<00:50,  8.86it/s]"
          ]
        },
        {
          "output_type": "stream",
          "name": "stdout",
          "text": [
            "1/1 [==============================] - 0s 68ms/step\n"
          ]
        },
        {
          "output_type": "stream",
          "name": "stderr",
          "text": [
            "\r 27%|██▋       | 164/612 [00:27<01:01,  7.28it/s]"
          ]
        },
        {
          "output_type": "stream",
          "name": "stdout",
          "text": [
            "1/1 [==============================] - 0s 61ms/step\n"
          ]
        },
        {
          "output_type": "stream",
          "name": "stderr",
          "text": [
            "\r 27%|██▋       | 165/612 [00:27<00:58,  7.69it/s]"
          ]
        },
        {
          "output_type": "stream",
          "name": "stdout",
          "text": [
            "1/1 [==============================] - 0s 67ms/step\n"
          ]
        },
        {
          "output_type": "stream",
          "name": "stderr",
          "text": [
            "\r 27%|██▋       | 166/612 [00:27<00:55,  7.99it/s]"
          ]
        },
        {
          "output_type": "stream",
          "name": "stdout",
          "text": [
            "1/1 [==============================] - 0s 62ms/step\n"
          ]
        },
        {
          "output_type": "stream",
          "name": "stderr",
          "text": [
            "\r 27%|██▋       | 167/612 [00:27<00:53,  8.25it/s]"
          ]
        },
        {
          "output_type": "stream",
          "name": "stdout",
          "text": [
            "1/1 [==============================] - 0s 63ms/step\n"
          ]
        },
        {
          "output_type": "stream",
          "name": "stderr",
          "text": [
            "\r 27%|██▋       | 168/612 [00:27<00:52,  8.46it/s]"
          ]
        },
        {
          "output_type": "stream",
          "name": "stdout",
          "text": [
            "1/1 [==============================] - 0s 64ms/step\n"
          ]
        },
        {
          "output_type": "stream",
          "name": "stderr",
          "text": [
            "\r 28%|██▊       | 169/612 [00:27<00:51,  8.66it/s]"
          ]
        },
        {
          "output_type": "stream",
          "name": "stdout",
          "text": [
            "1/1 [==============================] - 0s 68ms/step\n"
          ]
        },
        {
          "output_type": "stream",
          "name": "stderr",
          "text": [
            "\r 28%|██▊       | 170/612 [00:27<00:50,  8.77it/s]"
          ]
        },
        {
          "output_type": "stream",
          "name": "stdout",
          "text": [
            "1/1 [==============================] - 0s 66ms/step\n"
          ]
        },
        {
          "output_type": "stream",
          "name": "stderr",
          "text": [
            "\r 28%|██▊       | 171/612 [00:27<00:50,  8.77it/s]"
          ]
        },
        {
          "output_type": "stream",
          "name": "stdout",
          "text": [
            "1/1 [==============================] - 0s 69ms/step\n"
          ]
        },
        {
          "output_type": "stream",
          "name": "stderr",
          "text": [
            "\r 28%|██▊       | 172/612 [00:28<01:00,  7.26it/s]"
          ]
        },
        {
          "output_type": "stream",
          "name": "stdout",
          "text": [
            "1/1 [==============================] - 0s 62ms/step\n"
          ]
        },
        {
          "output_type": "stream",
          "name": "stderr",
          "text": [
            "\r 28%|██▊       | 173/612 [00:28<00:56,  7.77it/s]"
          ]
        },
        {
          "output_type": "stream",
          "name": "stdout",
          "text": [
            "1/1 [==============================] - 0s 68ms/step\n"
          ]
        },
        {
          "output_type": "stream",
          "name": "stderr",
          "text": [
            "\r 28%|██▊       | 174/612 [00:28<00:54,  8.09it/s]"
          ]
        },
        {
          "output_type": "stream",
          "name": "stdout",
          "text": [
            "1/1 [==============================] - 0s 68ms/step\n"
          ]
        },
        {
          "output_type": "stream",
          "name": "stderr",
          "text": [
            "\r 29%|██▊       | 175/612 [00:28<01:03,  6.90it/s]"
          ]
        },
        {
          "output_type": "stream",
          "name": "stdout",
          "text": [
            "1/1 [==============================] - 0s 64ms/step\n"
          ]
        },
        {
          "output_type": "stream",
          "name": "stderr",
          "text": [
            "\r 29%|██▉       | 176/612 [00:28<00:58,  7.50it/s]"
          ]
        },
        {
          "output_type": "stream",
          "name": "stdout",
          "text": [
            "1/1 [==============================] - 0s 60ms/step\n"
          ]
        },
        {
          "output_type": "stream",
          "name": "stderr",
          "text": [
            "\r 29%|██▉       | 177/612 [00:28<00:54,  7.98it/s]"
          ]
        },
        {
          "output_type": "stream",
          "name": "stdout",
          "text": [
            "1/1 [==============================] - 0s 61ms/step\n"
          ]
        },
        {
          "output_type": "stream",
          "name": "stderr",
          "text": [
            "\r 29%|██▉       | 178/612 [00:28<00:53,  8.13it/s]"
          ]
        },
        {
          "output_type": "stream",
          "name": "stdout",
          "text": [
            "1/1 [==============================] - 0s 61ms/step\n"
          ]
        },
        {
          "output_type": "stream",
          "name": "stderr",
          "text": [
            "\r 29%|██▉       | 179/612 [00:28<00:51,  8.34it/s]"
          ]
        },
        {
          "output_type": "stream",
          "name": "stdout",
          "text": [
            "1/1 [==============================] - 0s 68ms/step\n"
          ]
        },
        {
          "output_type": "stream",
          "name": "stderr",
          "text": [
            "\r 29%|██▉       | 180/612 [00:29<01:01,  7.06it/s]"
          ]
        },
        {
          "output_type": "stream",
          "name": "stdout",
          "text": [
            "1/1 [==============================] - 0s 60ms/step\n"
          ]
        },
        {
          "output_type": "stream",
          "name": "stderr",
          "text": [
            "\r 30%|██▉       | 181/612 [00:29<00:57,  7.46it/s]"
          ]
        },
        {
          "output_type": "stream",
          "name": "stdout",
          "text": [
            "1/1 [==============================] - 0s 94ms/step\n"
          ]
        },
        {
          "output_type": "stream",
          "name": "stderr",
          "text": [
            "\r 30%|██▉       | 182/612 [00:29<00:58,  7.33it/s]"
          ]
        },
        {
          "output_type": "stream",
          "name": "stdout",
          "text": [
            "1/1 [==============================] - 0s 76ms/step\n"
          ]
        },
        {
          "output_type": "stream",
          "name": "stderr",
          "text": [
            "\r 30%|██▉       | 183/612 [00:29<00:58,  7.28it/s]"
          ]
        },
        {
          "output_type": "stream",
          "name": "stdout",
          "text": [
            "1/1 [==============================] - 0s 79ms/step\n"
          ]
        },
        {
          "output_type": "stream",
          "name": "stderr",
          "text": [
            "\r 30%|███       | 184/612 [00:29<00:59,  7.22it/s]"
          ]
        },
        {
          "output_type": "stream",
          "name": "stdout",
          "text": [
            "1/1 [==============================] - 0s 77ms/step\n"
          ]
        },
        {
          "output_type": "stream",
          "name": "stderr",
          "text": [
            "\r 30%|███       | 185/612 [00:29<01:09,  6.14it/s]"
          ]
        },
        {
          "output_type": "stream",
          "name": "stdout",
          "text": [
            "1/1 [==============================] - 0s 80ms/step\n"
          ]
        },
        {
          "output_type": "stream",
          "name": "stderr",
          "text": [
            "\r 30%|███       | 186/612 [00:30<01:06,  6.38it/s]"
          ]
        },
        {
          "output_type": "stream",
          "name": "stdout",
          "text": [
            "1/1 [==============================] - 0s 76ms/step\n"
          ]
        },
        {
          "output_type": "stream",
          "name": "stderr",
          "text": [
            "\r 31%|███       | 187/612 [00:30<01:05,  6.53it/s]"
          ]
        },
        {
          "output_type": "stream",
          "name": "stdout",
          "text": [
            "1/1 [==============================] - 0s 90ms/step\n"
          ]
        },
        {
          "output_type": "stream",
          "name": "stderr",
          "text": [
            "\r 31%|███       | 188/612 [00:30<01:14,  5.71it/s]"
          ]
        },
        {
          "output_type": "stream",
          "name": "stdout",
          "text": [
            "1/1 [==============================] - 0s 97ms/step\n"
          ]
        },
        {
          "output_type": "stream",
          "name": "stderr",
          "text": [
            "\r 31%|███       | 189/612 [00:30<01:11,  5.93it/s]"
          ]
        },
        {
          "output_type": "stream",
          "name": "stdout",
          "text": [
            "1/1 [==============================] - 0s 82ms/step\n"
          ]
        },
        {
          "output_type": "stream",
          "name": "stderr",
          "text": [
            "\r 31%|███       | 190/612 [00:30<01:17,  5.48it/s]"
          ]
        },
        {
          "output_type": "stream",
          "name": "stdout",
          "text": [
            "1/1 [==============================] - 0s 95ms/step\n"
          ]
        },
        {
          "output_type": "stream",
          "name": "stderr",
          "text": [
            "\r 31%|███       | 191/612 [00:30<01:13,  5.75it/s]"
          ]
        },
        {
          "output_type": "stream",
          "name": "stdout",
          "text": [
            "1/1 [==============================] - 0s 88ms/step\n"
          ]
        },
        {
          "output_type": "stream",
          "name": "stderr",
          "text": [
            "\r 31%|███▏      | 192/612 [00:31<01:19,  5.29it/s]"
          ]
        },
        {
          "output_type": "stream",
          "name": "stdout",
          "text": [
            "1/1 [==============================] - 0s 95ms/step\n"
          ]
        },
        {
          "output_type": "stream",
          "name": "stderr",
          "text": [
            "\r 32%|███▏      | 193/612 [00:31<01:23,  5.04it/s]"
          ]
        },
        {
          "output_type": "stream",
          "name": "stdout",
          "text": [
            "1/1 [==============================] - 0s 73ms/step\n"
          ]
        },
        {
          "output_type": "stream",
          "name": "stderr",
          "text": [
            "\r 32%|███▏      | 194/612 [00:31<01:22,  5.04it/s]"
          ]
        },
        {
          "output_type": "stream",
          "name": "stdout",
          "text": [
            "1/1 [==============================] - 0s 69ms/step\n"
          ]
        },
        {
          "output_type": "stream",
          "name": "stderr",
          "text": [
            "\r 32%|███▏      | 195/612 [00:31<01:22,  5.08it/s]"
          ]
        },
        {
          "output_type": "stream",
          "name": "stdout",
          "text": [
            "1/1 [==============================] - 0s 75ms/step\n"
          ]
        },
        {
          "output_type": "stream",
          "name": "stderr",
          "text": [
            "\r 32%|███▏      | 196/612 [00:32<01:21,  5.10it/s]"
          ]
        },
        {
          "output_type": "stream",
          "name": "stdout",
          "text": [
            "1/1 [==============================] - 0s 75ms/step\n"
          ]
        },
        {
          "output_type": "stream",
          "name": "stderr",
          "text": [
            "\r 32%|███▏      | 197/612 [00:32<01:20,  5.13it/s]"
          ]
        },
        {
          "output_type": "stream",
          "name": "stdout",
          "text": [
            "1/1 [==============================] - 0s 69ms/step\n"
          ]
        },
        {
          "output_type": "stream",
          "name": "stderr",
          "text": [
            "\r 32%|███▏      | 198/612 [00:32<01:21,  5.11it/s]"
          ]
        },
        {
          "output_type": "stream",
          "name": "stdout",
          "text": [
            "1/1 [==============================] - 0s 70ms/step\n"
          ]
        },
        {
          "output_type": "stream",
          "name": "stderr",
          "text": [
            "\r 33%|███▎      | 199/612 [00:32<01:12,  5.73it/s]"
          ]
        },
        {
          "output_type": "stream",
          "name": "stdout",
          "text": [
            "1/1 [==============================] - 0s 69ms/step\n"
          ]
        },
        {
          "output_type": "stream",
          "name": "stderr",
          "text": [
            "\r 33%|███▎      | 200/612 [00:32<01:14,  5.53it/s]"
          ]
        },
        {
          "output_type": "stream",
          "name": "stdout",
          "text": [
            "1/1 [==============================] - 0s 74ms/step\n"
          ]
        },
        {
          "output_type": "stream",
          "name": "stderr",
          "text": [
            "\r 33%|███▎      | 201/612 [00:32<01:06,  6.15it/s]"
          ]
        },
        {
          "output_type": "stream",
          "name": "stdout",
          "text": [
            "1/1 [==============================] - 0s 68ms/step\n"
          ]
        },
        {
          "output_type": "stream",
          "name": "stderr",
          "text": [
            "\r 33%|███▎      | 202/612 [00:32<01:01,  6.71it/s]"
          ]
        },
        {
          "output_type": "stream",
          "name": "stdout",
          "text": [
            "1/1 [==============================] - 0s 69ms/step\n"
          ]
        },
        {
          "output_type": "stream",
          "name": "stderr",
          "text": [
            "\r 33%|███▎      | 203/612 [00:33<01:06,  6.18it/s]"
          ]
        },
        {
          "output_type": "stream",
          "name": "stdout",
          "text": [
            "1/1 [==============================] - 0s 67ms/step\n"
          ]
        },
        {
          "output_type": "stream",
          "name": "stderr",
          "text": [
            "\r 33%|███▎      | 204/612 [00:33<01:00,  6.77it/s]"
          ]
        },
        {
          "output_type": "stream",
          "name": "stdout",
          "text": [
            "1/1 [==============================] - 0s 68ms/step\n"
          ]
        },
        {
          "output_type": "stream",
          "name": "stderr",
          "text": [
            "\r 33%|███▎      | 205/612 [00:33<01:05,  6.22it/s]"
          ]
        },
        {
          "output_type": "stream",
          "name": "stdout",
          "text": [
            "1/1 [==============================] - 0s 65ms/step\n"
          ]
        },
        {
          "output_type": "stream",
          "name": "stderr",
          "text": [
            "\r 34%|███▎      | 206/612 [00:33<00:59,  6.85it/s]"
          ]
        },
        {
          "output_type": "stream",
          "name": "stdout",
          "text": [
            "1/1 [==============================] - 0s 61ms/step\n"
          ]
        },
        {
          "output_type": "stream",
          "name": "stderr",
          "text": [
            "\r 34%|███▍      | 207/612 [00:33<00:55,  7.35it/s]"
          ]
        },
        {
          "output_type": "stream",
          "name": "stdout",
          "text": [
            "1/1 [==============================] - 0s 65ms/step\n"
          ]
        },
        {
          "output_type": "stream",
          "name": "stderr",
          "text": [
            "\r 34%|███▍      | 208/612 [00:33<00:52,  7.69it/s]"
          ]
        },
        {
          "output_type": "stream",
          "name": "stdout",
          "text": [
            "1/1 [==============================] - 0s 64ms/step\n"
          ]
        },
        {
          "output_type": "stream",
          "name": "stderr",
          "text": [
            "\r 34%|███▍      | 209/612 [00:33<00:51,  7.89it/s]"
          ]
        },
        {
          "output_type": "stream",
          "name": "stdout",
          "text": [
            "1/1 [==============================] - 0s 65ms/step\n"
          ]
        },
        {
          "output_type": "stream",
          "name": "stderr",
          "text": [
            "\r 34%|███▍      | 210/612 [00:34<00:49,  8.06it/s]"
          ]
        },
        {
          "output_type": "stream",
          "name": "stdout",
          "text": [
            "1/1 [==============================] - 0s 63ms/step\n"
          ]
        },
        {
          "output_type": "stream",
          "name": "stderr",
          "text": [
            "\r 34%|███▍      | 211/612 [00:34<00:48,  8.29it/s]"
          ]
        },
        {
          "output_type": "stream",
          "name": "stdout",
          "text": [
            "1/1 [==============================] - 0s 65ms/step\n"
          ]
        },
        {
          "output_type": "stream",
          "name": "stderr",
          "text": [
            "\r 35%|███▍      | 212/612 [00:34<00:47,  8.43it/s]"
          ]
        },
        {
          "output_type": "stream",
          "name": "stdout",
          "text": [
            "1/1 [==============================] - 0s 62ms/step\n"
          ]
        },
        {
          "output_type": "stream",
          "name": "stderr",
          "text": [
            "\r 35%|███▍      | 213/612 [00:34<00:46,  8.54it/s]"
          ]
        },
        {
          "output_type": "stream",
          "name": "stdout",
          "text": [
            "1/1 [==============================] - 0s 67ms/step\n"
          ]
        },
        {
          "output_type": "stream",
          "name": "stderr",
          "text": [
            "\r 35%|███▍      | 214/612 [00:34<00:46,  8.58it/s]"
          ]
        },
        {
          "output_type": "stream",
          "name": "stdout",
          "text": [
            "1/1 [==============================] - 0s 69ms/step\n"
          ]
        },
        {
          "output_type": "stream",
          "name": "stderr",
          "text": [
            "\r 35%|███▌      | 215/612 [00:34<00:55,  7.15it/s]"
          ]
        },
        {
          "output_type": "stream",
          "name": "stdout",
          "text": [
            "1/1 [==============================] - 0s 63ms/step\n"
          ]
        },
        {
          "output_type": "stream",
          "name": "stderr",
          "text": [
            "\r 35%|███▌      | 216/612 [00:34<00:51,  7.62it/s]"
          ]
        },
        {
          "output_type": "stream",
          "name": "stdout",
          "text": [
            "1/1 [==============================] - 0s 66ms/step\n"
          ]
        },
        {
          "output_type": "stream",
          "name": "stderr",
          "text": [
            "\r 35%|███▌      | 217/612 [00:34<00:48,  8.07it/s]"
          ]
        },
        {
          "output_type": "stream",
          "name": "stdout",
          "text": [
            "1/1 [==============================] - 0s 62ms/step\n"
          ]
        },
        {
          "output_type": "stream",
          "name": "stderr",
          "text": [
            "\r 36%|███▌      | 218/612 [00:35<00:47,  8.26it/s]"
          ]
        },
        {
          "output_type": "stream",
          "name": "stdout",
          "text": [
            "1/1 [==============================] - 0s 60ms/step\n"
          ]
        },
        {
          "output_type": "stream",
          "name": "stderr",
          "text": [
            "\r 36%|███▌      | 219/612 [00:35<00:45,  8.64it/s]"
          ]
        },
        {
          "output_type": "stream",
          "name": "stdout",
          "text": [
            "1/1 [==============================] - 0s 61ms/step\n"
          ]
        },
        {
          "output_type": "stream",
          "name": "stderr",
          "text": [
            "\r 36%|███▌      | 220/612 [00:35<00:45,  8.62it/s]"
          ]
        },
        {
          "output_type": "stream",
          "name": "stdout",
          "text": [
            "1/1 [==============================] - 0s 60ms/step\n"
          ]
        },
        {
          "output_type": "stream",
          "name": "stderr",
          "text": [
            "\r 36%|███▌      | 221/612 [00:35<00:44,  8.78it/s]"
          ]
        },
        {
          "output_type": "stream",
          "name": "stdout",
          "text": [
            "1/1 [==============================] - 0s 71ms/step\n"
          ]
        },
        {
          "output_type": "stream",
          "name": "stderr",
          "text": [
            "\r 36%|███▋      | 222/612 [00:35<00:44,  8.73it/s]"
          ]
        },
        {
          "output_type": "stream",
          "name": "stdout",
          "text": [
            "1/1 [==============================] - 0s 62ms/step\n"
          ]
        },
        {
          "output_type": "stream",
          "name": "stderr",
          "text": [
            "\r 36%|███▋      | 223/612 [00:35<00:45,  8.48it/s]"
          ]
        },
        {
          "output_type": "stream",
          "name": "stdout",
          "text": [
            "1/1 [==============================] - 0s 62ms/step\n"
          ]
        },
        {
          "output_type": "stream",
          "name": "stderr",
          "text": [
            "\r 37%|███▋      | 224/612 [00:35<00:45,  8.60it/s]"
          ]
        },
        {
          "output_type": "stream",
          "name": "stdout",
          "text": [
            "1/1 [==============================] - 0s 65ms/step\n"
          ]
        },
        {
          "output_type": "stream",
          "name": "stderr",
          "text": [
            "\r 37%|███▋      | 225/612 [00:35<00:44,  8.65it/s]"
          ]
        },
        {
          "output_type": "stream",
          "name": "stdout",
          "text": [
            "1/1 [==============================] - 0s 64ms/step\n"
          ]
        },
        {
          "output_type": "stream",
          "name": "stderr",
          "text": [
            "\r 37%|███▋      | 226/612 [00:35<00:43,  8.78it/s]"
          ]
        },
        {
          "output_type": "stream",
          "name": "stdout",
          "text": [
            "1/1 [==============================] - 0s 60ms/step\n"
          ]
        },
        {
          "output_type": "stream",
          "name": "stderr",
          "text": [
            "\r 37%|███▋      | 227/612 [00:36<00:43,  8.93it/s]"
          ]
        },
        {
          "output_type": "stream",
          "name": "stdout",
          "text": [
            "1/1 [==============================] - 0s 67ms/step\n"
          ]
        },
        {
          "output_type": "stream",
          "name": "stderr",
          "text": [
            "\r 37%|███▋      | 228/612 [00:36<00:43,  8.76it/s]"
          ]
        },
        {
          "output_type": "stream",
          "name": "stdout",
          "text": [
            "1/1 [==============================] - 0s 63ms/step\n"
          ]
        },
        {
          "output_type": "stream",
          "name": "stderr",
          "text": [
            "\r 37%|███▋      | 229/612 [00:36<00:43,  8.81it/s]"
          ]
        },
        {
          "output_type": "stream",
          "name": "stdout",
          "text": [
            "1/1 [==============================] - 0s 61ms/step\n"
          ]
        },
        {
          "output_type": "stream",
          "name": "stderr",
          "text": [
            "\r 38%|███▊      | 230/612 [00:36<00:42,  8.93it/s]"
          ]
        },
        {
          "output_type": "stream",
          "name": "stdout",
          "text": [
            "1/1 [==============================] - 0s 63ms/step\n"
          ]
        },
        {
          "output_type": "stream",
          "name": "stderr",
          "text": [
            "\r 38%|███▊      | 231/612 [00:36<00:42,  8.99it/s]"
          ]
        },
        {
          "output_type": "stream",
          "name": "stdout",
          "text": [
            "1/1 [==============================] - 0s 61ms/step\n"
          ]
        },
        {
          "output_type": "stream",
          "name": "stderr",
          "text": [
            "\r 38%|███▊      | 232/612 [00:36<00:43,  8.71it/s]"
          ]
        },
        {
          "output_type": "stream",
          "name": "stdout",
          "text": [
            "1/1 [==============================] - 0s 60ms/step\n"
          ]
        },
        {
          "output_type": "stream",
          "name": "stderr",
          "text": [
            "\r 38%|███▊      | 233/612 [00:36<00:43,  8.77it/s]"
          ]
        },
        {
          "output_type": "stream",
          "name": "stdout",
          "text": [
            "1/1 [==============================] - 0s 71ms/step\n"
          ]
        },
        {
          "output_type": "stream",
          "name": "stderr",
          "text": [
            "\r 38%|███▊      | 234/612 [00:36<00:51,  7.29it/s]"
          ]
        },
        {
          "output_type": "stream",
          "name": "stdout",
          "text": [
            "1/1 [==============================] - 0s 60ms/step\n"
          ]
        },
        {
          "output_type": "stream",
          "name": "stderr",
          "text": [
            "\r 38%|███▊      | 235/612 [00:37<00:49,  7.64it/s]"
          ]
        },
        {
          "output_type": "stream",
          "name": "stdout",
          "text": [
            "1/1 [==============================] - 0s 63ms/step\n"
          ]
        },
        {
          "output_type": "stream",
          "name": "stderr",
          "text": [
            "\r 39%|███▊      | 236/612 [00:37<00:47,  7.97it/s]"
          ]
        },
        {
          "output_type": "stream",
          "name": "stdout",
          "text": [
            "1/1 [==============================] - 0s 60ms/step\n"
          ]
        },
        {
          "output_type": "stream",
          "name": "stderr",
          "text": [
            "\r 39%|███▊      | 237/612 [00:37<00:45,  8.32it/s]"
          ]
        },
        {
          "output_type": "stream",
          "name": "stdout",
          "text": [
            "1/1 [==============================] - 0s 64ms/step\n"
          ]
        },
        {
          "output_type": "stream",
          "name": "stderr",
          "text": [
            "\r 39%|███▉      | 238/612 [00:37<00:44,  8.41it/s]"
          ]
        },
        {
          "output_type": "stream",
          "name": "stdout",
          "text": [
            "1/1 [==============================] - 0s 62ms/step\n"
          ]
        },
        {
          "output_type": "stream",
          "name": "stderr",
          "text": [
            "\r 39%|███▉      | 239/612 [00:37<00:43,  8.59it/s]"
          ]
        },
        {
          "output_type": "stream",
          "name": "stdout",
          "text": [
            "1/1 [==============================] - 0s 68ms/step\n"
          ]
        },
        {
          "output_type": "stream",
          "name": "stderr",
          "text": [
            "\r 39%|███▉      | 240/612 [00:37<00:43,  8.61it/s]"
          ]
        },
        {
          "output_type": "stream",
          "name": "stdout",
          "text": [
            "1/1 [==============================] - 0s 63ms/step\n"
          ]
        },
        {
          "output_type": "stream",
          "name": "stderr",
          "text": [
            "\r 39%|███▉      | 241/612 [00:37<00:42,  8.67it/s]"
          ]
        },
        {
          "output_type": "stream",
          "name": "stdout",
          "text": [
            "1/1 [==============================] - 0s 62ms/step\n"
          ]
        },
        {
          "output_type": "stream",
          "name": "stderr",
          "text": [
            "\r 40%|███▉      | 242/612 [00:37<00:41,  8.82it/s]"
          ]
        },
        {
          "output_type": "stream",
          "name": "stdout",
          "text": [
            "1/1 [==============================] - 0s 62ms/step\n"
          ]
        },
        {
          "output_type": "stream",
          "name": "stderr",
          "text": [
            "\r 40%|███▉      | 243/612 [00:37<00:41,  8.96it/s]"
          ]
        },
        {
          "output_type": "stream",
          "name": "stdout",
          "text": [
            "1/1 [==============================] - 0s 63ms/step\n"
          ]
        },
        {
          "output_type": "stream",
          "name": "stderr",
          "text": [
            "\r 40%|███▉      | 244/612 [00:38<00:40,  9.00it/s]"
          ]
        },
        {
          "output_type": "stream",
          "name": "stdout",
          "text": [
            "1/1 [==============================] - 0s 61ms/step\n"
          ]
        },
        {
          "output_type": "stream",
          "name": "stderr",
          "text": [
            "\r 40%|████      | 245/612 [00:38<00:40,  9.00it/s]"
          ]
        },
        {
          "output_type": "stream",
          "name": "stdout",
          "text": [
            "1/1 [==============================] - 0s 61ms/step\n"
          ]
        },
        {
          "output_type": "stream",
          "name": "stderr",
          "text": [
            "\r 40%|████      | 246/612 [00:38<00:40,  8.95it/s]"
          ]
        },
        {
          "output_type": "stream",
          "name": "stdout",
          "text": [
            "1/1 [==============================] - 0s 62ms/step\n"
          ]
        },
        {
          "output_type": "stream",
          "name": "stderr",
          "text": [
            "\r 40%|████      | 247/612 [00:38<00:40,  9.11it/s]"
          ]
        },
        {
          "output_type": "stream",
          "name": "stdout",
          "text": [
            "1/1 [==============================] - 0s 60ms/step\n"
          ]
        },
        {
          "output_type": "stream",
          "name": "stderr",
          "text": [
            "\r 41%|████      | 248/612 [00:38<00:40,  9.07it/s]"
          ]
        },
        {
          "output_type": "stream",
          "name": "stdout",
          "text": [
            "1/1 [==============================] - 0s 70ms/step\n"
          ]
        },
        {
          "output_type": "stream",
          "name": "stderr",
          "text": [
            "\r 41%|████      | 249/612 [00:38<00:40,  8.94it/s]"
          ]
        },
        {
          "output_type": "stream",
          "name": "stdout",
          "text": [
            "1/1 [==============================] - 0s 66ms/step\n"
          ]
        },
        {
          "output_type": "stream",
          "name": "stderr",
          "text": [
            "\r 41%|████      | 250/612 [00:38<00:40,  8.92it/s]"
          ]
        },
        {
          "output_type": "stream",
          "name": "stdout",
          "text": [
            "1/1 [==============================] - 0s 63ms/step\n"
          ]
        },
        {
          "output_type": "stream",
          "name": "stderr",
          "text": [
            "\r 41%|████      | 251/612 [00:38<00:41,  8.80it/s]"
          ]
        },
        {
          "output_type": "stream",
          "name": "stdout",
          "text": [
            "1/1 [==============================] - 0s 62ms/step\n"
          ]
        },
        {
          "output_type": "stream",
          "name": "stderr",
          "text": [
            "\r 41%|████      | 252/612 [00:38<00:40,  8.81it/s]"
          ]
        },
        {
          "output_type": "stream",
          "name": "stdout",
          "text": [
            "1/1 [==============================] - 0s 62ms/step\n"
          ]
        },
        {
          "output_type": "stream",
          "name": "stderr",
          "text": [
            "\r 41%|████▏     | 253/612 [00:39<00:40,  8.95it/s]"
          ]
        },
        {
          "output_type": "stream",
          "name": "stdout",
          "text": [
            "1/1 [==============================] - 0s 62ms/step\n"
          ]
        },
        {
          "output_type": "stream",
          "name": "stderr",
          "text": [
            "\r 42%|████▏     | 254/612 [00:39<00:39,  8.99it/s]"
          ]
        },
        {
          "output_type": "stream",
          "name": "stdout",
          "text": [
            "1/1 [==============================] - 0s 63ms/step\n"
          ]
        },
        {
          "output_type": "stream",
          "name": "stderr",
          "text": [
            "\r 42%|████▏     | 255/612 [00:39<00:39,  9.00it/s]"
          ]
        },
        {
          "output_type": "stream",
          "name": "stdout",
          "text": [
            "1/1 [==============================] - 0s 64ms/step\n"
          ]
        },
        {
          "output_type": "stream",
          "name": "stderr",
          "text": [
            "\r 42%|████▏     | 256/612 [00:39<00:39,  8.98it/s]"
          ]
        },
        {
          "output_type": "stream",
          "name": "stdout",
          "text": [
            "1/1 [==============================] - 0s 61ms/step\n"
          ]
        },
        {
          "output_type": "stream",
          "name": "stderr",
          "text": [
            "\r 42%|████▏     | 257/612 [00:39<00:39,  9.06it/s]"
          ]
        },
        {
          "output_type": "stream",
          "name": "stdout",
          "text": [
            "1/1 [==============================] - 0s 67ms/step\n"
          ]
        },
        {
          "output_type": "stream",
          "name": "stderr",
          "text": [
            "\r 42%|████▏     | 258/612 [00:39<00:39,  9.02it/s]"
          ]
        },
        {
          "output_type": "stream",
          "name": "stdout",
          "text": [
            "1/1 [==============================] - 0s 60ms/step\n"
          ]
        },
        {
          "output_type": "stream",
          "name": "stderr",
          "text": [
            "\r 42%|████▏     | 259/612 [00:39<00:39,  8.89it/s]"
          ]
        },
        {
          "output_type": "stream",
          "name": "stdout",
          "text": [
            "1/1 [==============================] - 0s 64ms/step\n"
          ]
        },
        {
          "output_type": "stream",
          "name": "stderr",
          "text": [
            "\r 42%|████▏     | 260/612 [00:39<00:39,  8.98it/s]"
          ]
        },
        {
          "output_type": "stream",
          "name": "stdout",
          "text": [
            "1/1 [==============================] - 0s 61ms/step\n"
          ]
        },
        {
          "output_type": "stream",
          "name": "stderr",
          "text": [
            "\r 43%|████▎     | 261/612 [00:39<00:38,  9.00it/s]"
          ]
        },
        {
          "output_type": "stream",
          "name": "stdout",
          "text": [
            "1/1 [==============================] - 0s 62ms/step\n"
          ]
        },
        {
          "output_type": "stream",
          "name": "stderr",
          "text": [
            "\r 43%|████▎     | 262/612 [00:40<00:38,  9.00it/s]"
          ]
        },
        {
          "output_type": "stream",
          "name": "stdout",
          "text": [
            "1/1 [==============================] - 0s 64ms/step\n"
          ]
        },
        {
          "output_type": "stream",
          "name": "stderr",
          "text": [
            "\r 43%|████▎     | 263/612 [00:40<00:38,  8.98it/s]"
          ]
        },
        {
          "output_type": "stream",
          "name": "stdout",
          "text": [
            "1/1 [==============================] - 0s 66ms/step\n"
          ]
        },
        {
          "output_type": "stream",
          "name": "stderr",
          "text": [
            "\r 43%|████▎     | 264/612 [00:40<00:38,  9.04it/s]"
          ]
        },
        {
          "output_type": "stream",
          "name": "stdout",
          "text": [
            "1/1 [==============================] - 0s 64ms/step\n"
          ]
        },
        {
          "output_type": "stream",
          "name": "stderr",
          "text": [
            "\r 43%|████▎     | 265/612 [00:40<00:38,  9.01it/s]"
          ]
        },
        {
          "output_type": "stream",
          "name": "stdout",
          "text": [
            "1/1 [==============================] - 0s 67ms/step\n"
          ]
        },
        {
          "output_type": "stream",
          "name": "stderr",
          "text": [
            "\r 43%|████▎     | 266/612 [00:40<00:39,  8.85it/s]"
          ]
        },
        {
          "output_type": "stream",
          "name": "stdout",
          "text": [
            "1/1 [==============================] - 0s 74ms/step\n"
          ]
        },
        {
          "output_type": "stream",
          "name": "stderr",
          "text": [
            "\r 44%|████▎     | 267/612 [00:40<00:39,  8.69it/s]"
          ]
        },
        {
          "output_type": "stream",
          "name": "stdout",
          "text": [
            "1/1 [==============================] - 0s 67ms/step\n"
          ]
        },
        {
          "output_type": "stream",
          "name": "stderr",
          "text": [
            "\r 44%|████▍     | 268/612 [00:40<00:39,  8.79it/s]"
          ]
        },
        {
          "output_type": "stream",
          "name": "stdout",
          "text": [
            "1/1 [==============================] - 0s 64ms/step\n"
          ]
        },
        {
          "output_type": "stream",
          "name": "stderr",
          "text": [
            "\r 44%|████▍     | 269/612 [00:40<00:39,  8.68it/s]"
          ]
        },
        {
          "output_type": "stream",
          "name": "stdout",
          "text": [
            "1/1 [==============================] - 0s 63ms/step\n"
          ]
        },
        {
          "output_type": "stream",
          "name": "stderr",
          "text": [
            "\r 44%|████▍     | 270/612 [00:40<00:39,  8.68it/s]"
          ]
        },
        {
          "output_type": "stream",
          "name": "stdout",
          "text": [
            "1/1 [==============================] - 0s 63ms/step\n"
          ]
        },
        {
          "output_type": "stream",
          "name": "stderr",
          "text": [
            "\r 44%|████▍     | 271/612 [00:41<00:38,  8.84it/s]"
          ]
        },
        {
          "output_type": "stream",
          "name": "stdout",
          "text": [
            "1/1 [==============================] - 0s 60ms/step\n"
          ]
        },
        {
          "output_type": "stream",
          "name": "stderr",
          "text": [
            "\r 44%|████▍     | 272/612 [00:41<00:38,  8.85it/s]"
          ]
        },
        {
          "output_type": "stream",
          "name": "stdout",
          "text": [
            "1/1 [==============================] - 0s 61ms/step\n"
          ]
        },
        {
          "output_type": "stream",
          "name": "stderr",
          "text": [
            "\r 45%|████▍     | 273/612 [00:41<00:38,  8.79it/s]"
          ]
        },
        {
          "output_type": "stream",
          "name": "stdout",
          "text": [
            "1/1 [==============================] - 0s 64ms/step\n"
          ]
        },
        {
          "output_type": "stream",
          "name": "stderr",
          "text": [
            "\r 45%|████▍     | 274/612 [00:41<00:38,  8.86it/s]"
          ]
        },
        {
          "output_type": "stream",
          "name": "stdout",
          "text": [
            "1/1 [==============================] - 0s 76ms/step\n"
          ]
        },
        {
          "output_type": "stream",
          "name": "stderr",
          "text": [
            "\r 45%|████▍     | 275/612 [00:41<00:46,  7.26it/s]"
          ]
        },
        {
          "output_type": "stream",
          "name": "stdout",
          "text": [
            "1/1 [==============================] - 0s 84ms/step\n"
          ]
        },
        {
          "output_type": "stream",
          "name": "stderr",
          "text": [
            "\r 45%|████▌     | 276/612 [00:41<00:54,  6.13it/s]"
          ]
        },
        {
          "output_type": "stream",
          "name": "stdout",
          "text": [
            "1/1 [==============================] - 0s 74ms/step\n"
          ]
        },
        {
          "output_type": "stream",
          "name": "stderr",
          "text": [
            "\r 45%|████▌     | 277/612 [00:42<01:01,  5.49it/s]"
          ]
        },
        {
          "output_type": "stream",
          "name": "stdout",
          "text": [
            "1/1 [==============================] - 0s 78ms/step\n"
          ]
        },
        {
          "output_type": "stream",
          "name": "stderr",
          "text": [
            "\r 45%|████▌     | 278/612 [00:42<00:56,  5.90it/s]"
          ]
        },
        {
          "output_type": "stream",
          "name": "stdout",
          "text": [
            "1/1 [==============================] - 0s 81ms/step\n"
          ]
        },
        {
          "output_type": "stream",
          "name": "stderr",
          "text": [
            "\r 46%|████▌     | 279/612 [00:42<01:02,  5.30it/s]"
          ]
        },
        {
          "output_type": "stream",
          "name": "stdout",
          "text": [
            "1/1 [==============================] - 0s 82ms/step\n"
          ]
        },
        {
          "output_type": "stream",
          "name": "stderr",
          "text": [
            "\r 46%|████▌     | 280/612 [00:42<01:05,  5.04it/s]"
          ]
        },
        {
          "output_type": "stream",
          "name": "stdout",
          "text": [
            "1/1 [==============================] - 0s 91ms/step\n"
          ]
        },
        {
          "output_type": "stream",
          "name": "stderr",
          "text": [
            "\r 46%|████▌     | 281/612 [00:42<01:01,  5.41it/s]"
          ]
        },
        {
          "output_type": "stream",
          "name": "stdout",
          "text": [
            "1/1 [==============================] - 0s 91ms/step\n"
          ]
        },
        {
          "output_type": "stream",
          "name": "stderr",
          "text": [
            "\r 46%|████▌     | 282/612 [00:42<00:59,  5.58it/s]"
          ]
        },
        {
          "output_type": "stream",
          "name": "stdout",
          "text": [
            "1/1 [==============================] - 0s 103ms/step\n"
          ]
        },
        {
          "output_type": "stream",
          "name": "stderr",
          "text": [
            "\r 46%|████▌     | 283/612 [00:43<00:59,  5.56it/s]"
          ]
        },
        {
          "output_type": "stream",
          "name": "stdout",
          "text": [
            "1/1 [==============================] - 0s 90ms/step\n"
          ]
        },
        {
          "output_type": "stream",
          "name": "stderr",
          "text": [
            "\r 46%|████▋     | 284/612 [00:43<01:03,  5.14it/s]"
          ]
        },
        {
          "output_type": "stream",
          "name": "stdout",
          "text": [
            "1/1 [==============================] - 0s 86ms/step\n"
          ]
        },
        {
          "output_type": "stream",
          "name": "stderr",
          "text": [
            "\r 47%|████▋     | 285/612 [00:43<01:05,  4.97it/s]"
          ]
        },
        {
          "output_type": "stream",
          "name": "stdout",
          "text": [
            "1/1 [==============================] - 0s 75ms/step\n"
          ]
        },
        {
          "output_type": "stream",
          "name": "stderr",
          "text": [
            "\r 47%|████▋     | 286/612 [00:43<00:58,  5.62it/s]"
          ]
        },
        {
          "output_type": "stream",
          "name": "stdout",
          "text": [
            "1/1 [==============================] - 0s 70ms/step\n"
          ]
        },
        {
          "output_type": "stream",
          "name": "stderr",
          "text": [
            "\r 47%|████▋     | 287/612 [00:43<00:59,  5.44it/s]"
          ]
        },
        {
          "output_type": "stream",
          "name": "stdout",
          "text": [
            "1/1 [==============================] - 0s 67ms/step\n"
          ]
        },
        {
          "output_type": "stream",
          "name": "stderr",
          "text": [
            "\r 47%|████▋     | 288/612 [00:44<00:52,  6.11it/s]"
          ]
        },
        {
          "output_type": "stream",
          "name": "stdout",
          "text": [
            "1/1 [==============================] - 0s 66ms/step\n"
          ]
        },
        {
          "output_type": "stream",
          "name": "stderr",
          "text": [
            "\r 47%|████▋     | 289/612 [00:44<00:48,  6.62it/s]"
          ]
        },
        {
          "output_type": "stream",
          "name": "stdout",
          "text": [
            "1/1 [==============================] - 0s 70ms/step\n"
          ]
        },
        {
          "output_type": "stream",
          "name": "stderr",
          "text": [
            "\r 47%|████▋     | 290/612 [00:44<00:45,  7.11it/s]"
          ]
        },
        {
          "output_type": "stream",
          "name": "stdout",
          "text": [
            "1/1 [==============================] - 0s 62ms/step\n"
          ]
        },
        {
          "output_type": "stream",
          "name": "stderr",
          "text": [
            "\r 48%|████▊     | 291/612 [00:44<00:42,  7.60it/s]"
          ]
        },
        {
          "output_type": "stream",
          "name": "stdout",
          "text": [
            "1/1 [==============================] - 0s 62ms/step\n"
          ]
        },
        {
          "output_type": "stream",
          "name": "stderr",
          "text": [
            "\r 48%|████▊     | 292/612 [00:44<00:40,  7.89it/s]"
          ]
        },
        {
          "output_type": "stream",
          "name": "stdout",
          "text": [
            "1/1 [==============================] - 0s 66ms/step\n"
          ]
        },
        {
          "output_type": "stream",
          "name": "stderr",
          "text": [
            "\r 48%|████▊     | 293/612 [00:44<00:39,  8.13it/s]"
          ]
        },
        {
          "output_type": "stream",
          "name": "stdout",
          "text": [
            "1/1 [==============================] - 0s 68ms/step\n"
          ]
        },
        {
          "output_type": "stream",
          "name": "stderr",
          "text": [
            "\r 48%|████▊     | 294/612 [00:44<00:38,  8.26it/s]"
          ]
        },
        {
          "output_type": "stream",
          "name": "stdout",
          "text": [
            "1/1 [==============================] - 0s 62ms/step\n"
          ]
        },
        {
          "output_type": "stream",
          "name": "stderr",
          "text": [
            "\r 48%|████▊     | 295/612 [00:44<00:37,  8.40it/s]"
          ]
        },
        {
          "output_type": "stream",
          "name": "stdout",
          "text": [
            "1/1 [==============================] - 0s 62ms/step\n"
          ]
        },
        {
          "output_type": "stream",
          "name": "stderr",
          "text": [
            "\r 48%|████▊     | 296/612 [00:44<00:36,  8.70it/s]"
          ]
        },
        {
          "output_type": "stream",
          "name": "stdout",
          "text": [
            "1/1 [==============================] - 0s 61ms/step\n"
          ]
        },
        {
          "output_type": "stream",
          "name": "stderr",
          "text": [
            "\r 49%|████▊     | 297/612 [00:45<00:36,  8.60it/s]"
          ]
        },
        {
          "output_type": "stream",
          "name": "stdout",
          "text": [
            "1/1 [==============================] - 0s 62ms/step\n"
          ]
        },
        {
          "output_type": "stream",
          "name": "stderr",
          "text": [
            "\r 49%|████▊     | 298/612 [00:45<00:36,  8.68it/s]"
          ]
        },
        {
          "output_type": "stream",
          "name": "stdout",
          "text": [
            "1/1 [==============================] - 0s 61ms/step\n"
          ]
        },
        {
          "output_type": "stream",
          "name": "stderr",
          "text": [
            "\r 49%|████▉     | 299/612 [00:45<00:35,  8.89it/s]"
          ]
        },
        {
          "output_type": "stream",
          "name": "stdout",
          "text": [
            "1/1 [==============================] - 0s 62ms/step\n"
          ]
        },
        {
          "output_type": "stream",
          "name": "stderr",
          "text": [
            "\r 49%|████▉     | 300/612 [00:45<00:35,  8.78it/s]"
          ]
        },
        {
          "output_type": "stream",
          "name": "stdout",
          "text": [
            "1/1 [==============================] - 0s 63ms/step\n"
          ]
        },
        {
          "output_type": "stream",
          "name": "stderr",
          "text": [
            "\r 49%|████▉     | 301/612 [00:45<00:36,  8.62it/s]"
          ]
        },
        {
          "output_type": "stream",
          "name": "stdout",
          "text": [
            "1/1 [==============================] - 0s 64ms/step\n"
          ]
        },
        {
          "output_type": "stream",
          "name": "stderr",
          "text": [
            "\r 49%|████▉     | 302/612 [00:45<00:35,  8.73it/s]"
          ]
        },
        {
          "output_type": "stream",
          "name": "stdout",
          "text": [
            "1/1 [==============================] - 0s 67ms/step\n"
          ]
        },
        {
          "output_type": "stream",
          "name": "stderr",
          "text": [
            "\r 50%|████▉     | 303/612 [00:45<00:35,  8.76it/s]"
          ]
        },
        {
          "output_type": "stream",
          "name": "stdout",
          "text": [
            "1/1 [==============================] - 0s 63ms/step\n"
          ]
        },
        {
          "output_type": "stream",
          "name": "stderr",
          "text": [
            "\r 50%|████▉     | 304/612 [00:45<00:34,  8.82it/s]"
          ]
        },
        {
          "output_type": "stream",
          "name": "stdout",
          "text": [
            "1/1 [==============================] - 0s 67ms/step\n"
          ]
        },
        {
          "output_type": "stream",
          "name": "stderr",
          "text": [
            "\r 50%|████▉     | 305/612 [00:45<00:34,  8.80it/s]"
          ]
        },
        {
          "output_type": "stream",
          "name": "stdout",
          "text": [
            "1/1 [==============================] - 0s 61ms/step\n"
          ]
        },
        {
          "output_type": "stream",
          "name": "stderr",
          "text": [
            "\r 50%|█████     | 306/612 [00:46<00:34,  8.79it/s]"
          ]
        },
        {
          "output_type": "stream",
          "name": "stdout",
          "text": [
            "1/1 [==============================] - 0s 63ms/step\n"
          ]
        },
        {
          "output_type": "stream",
          "name": "stderr",
          "text": [
            "\r 50%|█████     | 307/612 [00:46<00:34,  8.77it/s]"
          ]
        },
        {
          "output_type": "stream",
          "name": "stdout",
          "text": [
            "1/1 [==============================] - 0s 65ms/step\n"
          ]
        },
        {
          "output_type": "stream",
          "name": "stderr",
          "text": [
            "\r 50%|█████     | 308/612 [00:46<00:34,  8.85it/s]"
          ]
        },
        {
          "output_type": "stream",
          "name": "stdout",
          "text": [
            "1/1 [==============================] - 0s 62ms/step\n"
          ]
        },
        {
          "output_type": "stream",
          "name": "stderr",
          "text": [
            "\r 50%|█████     | 309/612 [00:46<00:34,  8.88it/s]"
          ]
        },
        {
          "output_type": "stream",
          "name": "stdout",
          "text": [
            "1/1 [==============================] - 0s 61ms/step\n"
          ]
        },
        {
          "output_type": "stream",
          "name": "stderr",
          "text": [
            "\r 51%|█████     | 310/612 [00:46<00:34,  8.74it/s]"
          ]
        },
        {
          "output_type": "stream",
          "name": "stdout",
          "text": [
            "1/1 [==============================] - 0s 66ms/step\n"
          ]
        },
        {
          "output_type": "stream",
          "name": "stderr",
          "text": [
            "\r 51%|█████     | 311/612 [00:46<00:34,  8.76it/s]"
          ]
        },
        {
          "output_type": "stream",
          "name": "stdout",
          "text": [
            "1/1 [==============================] - 0s 68ms/step\n"
          ]
        },
        {
          "output_type": "stream",
          "name": "stderr",
          "text": [
            "\r 51%|█████     | 312/612 [00:46<00:34,  8.75it/s]"
          ]
        },
        {
          "output_type": "stream",
          "name": "stdout",
          "text": [
            "1/1 [==============================] - 0s 66ms/step\n"
          ]
        },
        {
          "output_type": "stream",
          "name": "stderr",
          "text": [
            "\r 51%|█████     | 313/612 [00:46<00:34,  8.78it/s]"
          ]
        },
        {
          "output_type": "stream",
          "name": "stdout",
          "text": [
            "1/1 [==============================] - 0s 63ms/step\n"
          ]
        },
        {
          "output_type": "stream",
          "name": "stderr",
          "text": [
            "\r 51%|█████▏    | 314/612 [00:46<00:34,  8.76it/s]"
          ]
        },
        {
          "output_type": "stream",
          "name": "stdout",
          "text": [
            "1/1 [==============================] - 0s 60ms/step\n"
          ]
        },
        {
          "output_type": "stream",
          "name": "stderr",
          "text": [
            "\r 51%|█████▏    | 315/612 [00:47<00:33,  8.82it/s]"
          ]
        },
        {
          "output_type": "stream",
          "name": "stdout",
          "text": [
            "1/1 [==============================] - 0s 62ms/step\n"
          ]
        },
        {
          "output_type": "stream",
          "name": "stderr",
          "text": [
            "\r 52%|█████▏    | 316/612 [00:47<00:33,  8.85it/s]"
          ]
        },
        {
          "output_type": "stream",
          "name": "stdout",
          "text": [
            "1/1 [==============================] - 0s 65ms/step\n"
          ]
        },
        {
          "output_type": "stream",
          "name": "stderr",
          "text": [
            "\r 52%|█████▏    | 317/612 [00:47<00:33,  8.89it/s]"
          ]
        },
        {
          "output_type": "stream",
          "name": "stdout",
          "text": [
            "1/1 [==============================] - 0s 62ms/step\n"
          ]
        },
        {
          "output_type": "stream",
          "name": "stderr",
          "text": [
            "\r 52%|█████▏    | 318/612 [00:47<00:32,  8.91it/s]"
          ]
        },
        {
          "output_type": "stream",
          "name": "stdout",
          "text": [
            "1/1 [==============================] - 0s 63ms/step\n"
          ]
        },
        {
          "output_type": "stream",
          "name": "stderr",
          "text": [
            "\r 52%|█████▏    | 319/612 [00:47<00:33,  8.85it/s]"
          ]
        },
        {
          "output_type": "stream",
          "name": "stdout",
          "text": [
            "1/1 [==============================] - 0s 72ms/step\n"
          ]
        },
        {
          "output_type": "stream",
          "name": "stderr",
          "text": [
            "\r 52%|█████▏    | 320/612 [00:47<00:40,  7.16it/s]"
          ]
        },
        {
          "output_type": "stream",
          "name": "stdout",
          "text": [
            "1/1 [==============================] - 0s 61ms/step\n"
          ]
        },
        {
          "output_type": "stream",
          "name": "stderr",
          "text": [
            "\r 52%|█████▏    | 321/612 [00:47<00:38,  7.62it/s]"
          ]
        },
        {
          "output_type": "stream",
          "name": "stdout",
          "text": [
            "1/1 [==============================] - 0s 67ms/step\n"
          ]
        },
        {
          "output_type": "stream",
          "name": "stderr",
          "text": [
            "\r 53%|█████▎    | 322/612 [00:47<00:36,  7.92it/s]"
          ]
        },
        {
          "output_type": "stream",
          "name": "stdout",
          "text": [
            "1/1 [==============================] - 0s 61ms/step\n"
          ]
        },
        {
          "output_type": "stream",
          "name": "stderr",
          "text": [
            "\r 53%|█████▎    | 323/612 [00:48<00:35,  8.22it/s]"
          ]
        },
        {
          "output_type": "stream",
          "name": "stdout",
          "text": [
            "1/1 [==============================] - 0s 62ms/step\n"
          ]
        },
        {
          "output_type": "stream",
          "name": "stderr",
          "text": [
            "\r 53%|█████▎    | 324/612 [00:48<00:34,  8.43it/s]"
          ]
        },
        {
          "output_type": "stream",
          "name": "stdout",
          "text": [
            "1/1 [==============================] - 0s 63ms/step\n"
          ]
        },
        {
          "output_type": "stream",
          "name": "stderr",
          "text": [
            "\r 53%|█████▎    | 325/612 [00:48<00:33,  8.63it/s]"
          ]
        },
        {
          "output_type": "stream",
          "name": "stdout",
          "text": [
            "1/1 [==============================] - 0s 67ms/step\n"
          ]
        },
        {
          "output_type": "stream",
          "name": "stderr",
          "text": [
            "\r 53%|█████▎    | 326/612 [00:48<00:33,  8.63it/s]"
          ]
        },
        {
          "output_type": "stream",
          "name": "stdout",
          "text": [
            "1/1 [==============================] - 0s 63ms/step\n"
          ]
        },
        {
          "output_type": "stream",
          "name": "stderr",
          "text": [
            "\r 53%|█████▎    | 327/612 [00:48<00:32,  8.76it/s]"
          ]
        },
        {
          "output_type": "stream",
          "name": "stdout",
          "text": [
            "1/1 [==============================] - 0s 63ms/step\n"
          ]
        },
        {
          "output_type": "stream",
          "name": "stderr",
          "text": [
            "\r 54%|█████▎    | 328/612 [00:48<00:32,  8.75it/s]"
          ]
        },
        {
          "output_type": "stream",
          "name": "stdout",
          "text": [
            "1/1 [==============================] - 0s 71ms/step\n"
          ]
        },
        {
          "output_type": "stream",
          "name": "stderr",
          "text": [
            "\r 54%|█████▍    | 329/612 [00:48<00:32,  8.74it/s]"
          ]
        },
        {
          "output_type": "stream",
          "name": "stdout",
          "text": [
            "1/1 [==============================] - 0s 64ms/step\n"
          ]
        },
        {
          "output_type": "stream",
          "name": "stderr",
          "text": [
            "\r 54%|█████▍    | 330/612 [00:48<00:32,  8.66it/s]"
          ]
        },
        {
          "output_type": "stream",
          "name": "stdout",
          "text": [
            "1/1 [==============================] - 0s 64ms/step\n"
          ]
        },
        {
          "output_type": "stream",
          "name": "stderr",
          "text": [
            "\r 54%|█████▍    | 331/612 [00:48<00:32,  8.69it/s]"
          ]
        },
        {
          "output_type": "stream",
          "name": "stdout",
          "text": [
            "1/1 [==============================] - 0s 63ms/step\n"
          ]
        },
        {
          "output_type": "stream",
          "name": "stderr",
          "text": [
            "\r 54%|█████▍    | 332/612 [00:49<00:31,  8.77it/s]"
          ]
        },
        {
          "output_type": "stream",
          "name": "stdout",
          "text": [
            "1/1 [==============================] - 0s 63ms/step\n"
          ]
        },
        {
          "output_type": "stream",
          "name": "stderr",
          "text": [
            "\r 54%|█████▍    | 333/612 [00:49<00:31,  8.84it/s]"
          ]
        },
        {
          "output_type": "stream",
          "name": "stdout",
          "text": [
            "1/1 [==============================] - 0s 60ms/step\n"
          ]
        },
        {
          "output_type": "stream",
          "name": "stderr",
          "text": [
            "\r 55%|█████▍    | 334/612 [00:49<00:31,  8.87it/s]"
          ]
        },
        {
          "output_type": "stream",
          "name": "stdout",
          "text": [
            "1/1 [==============================] - 0s 63ms/step\n"
          ]
        },
        {
          "output_type": "stream",
          "name": "stderr",
          "text": [
            "\r 55%|█████▍    | 335/612 [00:49<00:31,  8.86it/s]"
          ]
        },
        {
          "output_type": "stream",
          "name": "stdout",
          "text": [
            "1/1 [==============================] - 0s 63ms/step\n"
          ]
        },
        {
          "output_type": "stream",
          "name": "stderr",
          "text": [
            "\r 55%|█████▍    | 336/612 [00:49<00:32,  8.51it/s]"
          ]
        },
        {
          "output_type": "stream",
          "name": "stdout",
          "text": [
            "1/1 [==============================] - 0s 62ms/step\n"
          ]
        },
        {
          "output_type": "stream",
          "name": "stderr",
          "text": [
            "\r 55%|█████▌    | 337/612 [00:49<00:31,  8.68it/s]"
          ]
        },
        {
          "output_type": "stream",
          "name": "stdout",
          "text": [
            "1/1 [==============================] - 0s 66ms/step\n"
          ]
        },
        {
          "output_type": "stream",
          "name": "stderr",
          "text": [
            "\r 55%|█████▌    | 338/612 [00:49<00:31,  8.69it/s]"
          ]
        },
        {
          "output_type": "stream",
          "name": "stdout",
          "text": [
            "1/1 [==============================] - 0s 61ms/step\n"
          ]
        },
        {
          "output_type": "stream",
          "name": "stderr",
          "text": [
            "\r 55%|█████▌    | 339/612 [00:49<00:31,  8.76it/s]"
          ]
        },
        {
          "output_type": "stream",
          "name": "stdout",
          "text": [
            "1/1 [==============================] - 0s 67ms/step\n"
          ]
        },
        {
          "output_type": "stream",
          "name": "stderr",
          "text": [
            "\r 56%|█████▌    | 340/612 [00:50<00:31,  8.65it/s]"
          ]
        },
        {
          "output_type": "stream",
          "name": "stdout",
          "text": [
            "1/1 [==============================] - 0s 62ms/step\n"
          ]
        },
        {
          "output_type": "stream",
          "name": "stderr",
          "text": [
            "\r 56%|█████▌    | 341/612 [00:50<00:30,  8.75it/s]"
          ]
        },
        {
          "output_type": "stream",
          "name": "stdout",
          "text": [
            "1/1 [==============================] - 0s 60ms/step\n"
          ]
        },
        {
          "output_type": "stream",
          "name": "stderr",
          "text": [
            "\r 56%|█████▌    | 342/612 [00:50<00:30,  8.82it/s]"
          ]
        },
        {
          "output_type": "stream",
          "name": "stdout",
          "text": [
            "1/1 [==============================] - 0s 61ms/step\n"
          ]
        },
        {
          "output_type": "stream",
          "name": "stderr",
          "text": [
            "\r 56%|█████▌    | 343/612 [00:50<00:30,  8.86it/s]"
          ]
        },
        {
          "output_type": "stream",
          "name": "stdout",
          "text": [
            "1/1 [==============================] - 0s 61ms/step\n"
          ]
        },
        {
          "output_type": "stream",
          "name": "stderr",
          "text": [
            "\r 56%|█████▌    | 344/612 [00:50<00:30,  8.91it/s]"
          ]
        },
        {
          "output_type": "stream",
          "name": "stdout",
          "text": [
            "1/1 [==============================] - 0s 62ms/step\n"
          ]
        },
        {
          "output_type": "stream",
          "name": "stderr",
          "text": [
            "\r 56%|█████▋    | 345/612 [00:50<00:30,  8.83it/s]"
          ]
        },
        {
          "output_type": "stream",
          "name": "stdout",
          "text": [
            "1/1 [==============================] - 0s 67ms/step\n"
          ]
        },
        {
          "output_type": "stream",
          "name": "stderr",
          "text": [
            "\r 57%|█████▋    | 346/612 [00:50<00:30,  8.69it/s]"
          ]
        },
        {
          "output_type": "stream",
          "name": "stdout",
          "text": [
            "1/1 [==============================] - 0s 67ms/step\n"
          ]
        },
        {
          "output_type": "stream",
          "name": "stderr",
          "text": [
            "\r 57%|█████▋    | 347/612 [00:50<00:30,  8.61it/s]"
          ]
        },
        {
          "output_type": "stream",
          "name": "stdout",
          "text": [
            "1/1 [==============================] - 0s 64ms/step\n"
          ]
        },
        {
          "output_type": "stream",
          "name": "stderr",
          "text": [
            "\r 57%|█████▋    | 348/612 [00:50<00:29,  8.81it/s]"
          ]
        },
        {
          "output_type": "stream",
          "name": "stdout",
          "text": [
            "1/1 [==============================] - 0s 60ms/step\n"
          ]
        },
        {
          "output_type": "stream",
          "name": "stderr",
          "text": [
            "\r 57%|█████▋    | 349/612 [00:51<00:29,  8.89it/s]"
          ]
        },
        {
          "output_type": "stream",
          "name": "stdout",
          "text": [
            "1/1 [==============================] - 0s 60ms/step\n"
          ]
        },
        {
          "output_type": "stream",
          "name": "stderr",
          "text": [
            "\r 57%|█████▋    | 350/612 [00:51<00:29,  8.89it/s]"
          ]
        },
        {
          "output_type": "stream",
          "name": "stdout",
          "text": [
            "1/1 [==============================] - 0s 59ms/step\n"
          ]
        },
        {
          "output_type": "stream",
          "name": "stderr",
          "text": [
            "\r 57%|█████▋    | 351/612 [00:51<00:29,  8.79it/s]"
          ]
        },
        {
          "output_type": "stream",
          "name": "stdout",
          "text": [
            "1/1 [==============================] - 0s 68ms/step\n"
          ]
        },
        {
          "output_type": "stream",
          "name": "stderr",
          "text": [
            "\r 58%|█████▊    | 352/612 [00:51<00:29,  8.73it/s]"
          ]
        },
        {
          "output_type": "stream",
          "name": "stdout",
          "text": [
            "1/1 [==============================] - 0s 60ms/step\n"
          ]
        },
        {
          "output_type": "stream",
          "name": "stderr",
          "text": [
            "\r 58%|█████▊    | 353/612 [00:51<00:29,  8.83it/s]"
          ]
        },
        {
          "output_type": "stream",
          "name": "stdout",
          "text": [
            "1/1 [==============================] - 0s 62ms/step\n"
          ]
        },
        {
          "output_type": "stream",
          "name": "stderr",
          "text": [
            "\r 58%|█████▊    | 354/612 [00:51<00:29,  8.79it/s]"
          ]
        },
        {
          "output_type": "stream",
          "name": "stdout",
          "text": [
            "1/1 [==============================] - 0s 62ms/step\n"
          ]
        },
        {
          "output_type": "stream",
          "name": "stderr",
          "text": [
            "\r 58%|█████▊    | 355/612 [00:51<00:29,  8.74it/s]"
          ]
        },
        {
          "output_type": "stream",
          "name": "stdout",
          "text": [
            "1/1 [==============================] - 0s 66ms/step\n"
          ]
        },
        {
          "output_type": "stream",
          "name": "stderr",
          "text": [
            "\r 58%|█████▊    | 356/612 [00:51<00:29,  8.65it/s]"
          ]
        },
        {
          "output_type": "stream",
          "name": "stdout",
          "text": [
            "1/1 [==============================] - 0s 61ms/step\n"
          ]
        },
        {
          "output_type": "stream",
          "name": "stderr",
          "text": [
            "\r 58%|█████▊    | 357/612 [00:51<00:28,  8.82it/s]"
          ]
        },
        {
          "output_type": "stream",
          "name": "stdout",
          "text": [
            "1/1 [==============================] - 0s 61ms/step\n"
          ]
        },
        {
          "output_type": "stream",
          "name": "stderr",
          "text": [
            "\r 58%|█████▊    | 358/612 [00:52<00:28,  8.83it/s]"
          ]
        },
        {
          "output_type": "stream",
          "name": "stdout",
          "text": [
            "1/1 [==============================] - 0s 64ms/step\n"
          ]
        },
        {
          "output_type": "stream",
          "name": "stderr",
          "text": [
            "\r 59%|█████▊    | 359/612 [00:52<00:28,  8.81it/s]"
          ]
        },
        {
          "output_type": "stream",
          "name": "stdout",
          "text": [
            "1/1 [==============================] - 0s 62ms/step\n"
          ]
        },
        {
          "output_type": "stream",
          "name": "stderr",
          "text": [
            "\r 59%|█████▉    | 360/612 [00:52<00:28,  8.89it/s]"
          ]
        },
        {
          "output_type": "stream",
          "name": "stdout",
          "text": [
            "1/1 [==============================] - 0s 67ms/step\n"
          ]
        },
        {
          "output_type": "stream",
          "name": "stderr",
          "text": [
            "\r 59%|█████▉    | 361/612 [00:52<00:29,  8.51it/s]"
          ]
        },
        {
          "output_type": "stream",
          "name": "stdout",
          "text": [
            "1/1 [==============================] - 0s 60ms/step\n"
          ]
        },
        {
          "output_type": "stream",
          "name": "stderr",
          "text": [
            "\r 59%|█████▉    | 362/612 [00:52<00:28,  8.70it/s]"
          ]
        },
        {
          "output_type": "stream",
          "name": "stdout",
          "text": [
            "1/1 [==============================] - 0s 61ms/step\n"
          ]
        },
        {
          "output_type": "stream",
          "name": "stderr",
          "text": [
            "\r 59%|█████▉    | 363/612 [00:52<00:27,  8.92it/s]"
          ]
        },
        {
          "output_type": "stream",
          "name": "stdout",
          "text": [
            "1/1 [==============================] - 0s 60ms/step\n"
          ]
        },
        {
          "output_type": "stream",
          "name": "stderr",
          "text": [
            "\r 59%|█████▉    | 364/612 [00:52<00:27,  8.94it/s]"
          ]
        },
        {
          "output_type": "stream",
          "name": "stdout",
          "text": [
            "1/1 [==============================] - 0s 82ms/step\n"
          ]
        },
        {
          "output_type": "stream",
          "name": "stderr",
          "text": [
            "\r 60%|█████▉    | 365/612 [00:52<00:28,  8.53it/s]"
          ]
        },
        {
          "output_type": "stream",
          "name": "stdout",
          "text": [
            "1/1 [==============================] - 0s 60ms/step\n"
          ]
        },
        {
          "output_type": "stream",
          "name": "stderr",
          "text": [
            "\r 60%|█████▉    | 366/612 [00:52<00:28,  8.69it/s]"
          ]
        },
        {
          "output_type": "stream",
          "name": "stdout",
          "text": [
            "1/1 [==============================] - 0s 63ms/step\n"
          ]
        },
        {
          "output_type": "stream",
          "name": "stderr",
          "text": [
            "\r 60%|█████▉    | 367/612 [00:53<00:27,  8.76it/s]"
          ]
        },
        {
          "output_type": "stream",
          "name": "stdout",
          "text": [
            "1/1 [==============================] - 0s 61ms/step\n"
          ]
        },
        {
          "output_type": "stream",
          "name": "stderr",
          "text": [
            "\r 60%|██████    | 368/612 [00:53<00:27,  8.85it/s]"
          ]
        },
        {
          "output_type": "stream",
          "name": "stdout",
          "text": [
            "1/1 [==============================] - 0s 60ms/step\n"
          ]
        },
        {
          "output_type": "stream",
          "name": "stderr",
          "text": [
            "\r 60%|██████    | 369/612 [00:53<00:27,  8.88it/s]"
          ]
        },
        {
          "output_type": "stream",
          "name": "stdout",
          "text": [
            "1/1 [==============================] - 0s 60ms/step\n"
          ]
        },
        {
          "output_type": "stream",
          "name": "stderr",
          "text": [
            "\r 60%|██████    | 370/612 [00:53<00:27,  8.89it/s]"
          ]
        },
        {
          "output_type": "stream",
          "name": "stdout",
          "text": [
            "1/1 [==============================] - 0s 61ms/step\n"
          ]
        },
        {
          "output_type": "stream",
          "name": "stderr",
          "text": [
            "\r 61%|██████    | 371/612 [00:53<00:27,  8.70it/s]"
          ]
        },
        {
          "output_type": "stream",
          "name": "stdout",
          "text": [
            "1/1 [==============================] - 0s 83ms/step\n"
          ]
        },
        {
          "output_type": "stream",
          "name": "stderr",
          "text": [
            "\r 61%|██████    | 372/612 [00:53<00:29,  8.19it/s]"
          ]
        },
        {
          "output_type": "stream",
          "name": "stdout",
          "text": [
            "1/1 [==============================] - 0s 79ms/step\n"
          ]
        },
        {
          "output_type": "stream",
          "name": "stderr",
          "text": [
            "\r 61%|██████    | 373/612 [00:53<00:31,  7.50it/s]"
          ]
        },
        {
          "output_type": "stream",
          "name": "stdout",
          "text": [
            "1/1 [==============================] - 0s 76ms/step\n"
          ]
        },
        {
          "output_type": "stream",
          "name": "stderr",
          "text": [
            "\r 61%|██████    | 374/612 [00:53<00:32,  7.40it/s]"
          ]
        },
        {
          "output_type": "stream",
          "name": "stdout",
          "text": [
            "1/1 [==============================] - 0s 76ms/step\n"
          ]
        },
        {
          "output_type": "stream",
          "name": "stderr",
          "text": [
            "\r 61%|██████▏   | 375/612 [00:54<00:32,  7.21it/s]"
          ]
        },
        {
          "output_type": "stream",
          "name": "stdout",
          "text": [
            "1/1 [==============================] - 0s 90ms/step\n"
          ]
        },
        {
          "output_type": "stream",
          "name": "stderr",
          "text": [
            "\r 61%|██████▏   | 376/612 [00:54<00:39,  6.00it/s]"
          ]
        },
        {
          "output_type": "stream",
          "name": "stdout",
          "text": [
            "1/1 [==============================] - 0s 82ms/step\n"
          ]
        },
        {
          "output_type": "stream",
          "name": "stderr",
          "text": [
            "\r 62%|██████▏   | 377/612 [00:54<00:42,  5.48it/s]"
          ]
        },
        {
          "output_type": "stream",
          "name": "stdout",
          "text": [
            "1/1 [==============================] - 0s 81ms/step\n"
          ]
        },
        {
          "output_type": "stream",
          "name": "stderr",
          "text": [
            "\r 62%|██████▏   | 378/612 [00:54<00:45,  5.18it/s]"
          ]
        },
        {
          "output_type": "stream",
          "name": "stdout",
          "text": [
            "1/1 [==============================] - 0s 90ms/step\n"
          ]
        },
        {
          "output_type": "stream",
          "name": "stderr",
          "text": [
            "\r 62%|██████▏   | 379/612 [00:54<00:42,  5.47it/s]"
          ]
        },
        {
          "output_type": "stream",
          "name": "stdout",
          "text": [
            "1/1 [==============================] - 0s 85ms/step\n"
          ]
        },
        {
          "output_type": "stream",
          "name": "stderr",
          "text": [
            "\r 62%|██████▏   | 380/612 [00:55<00:41,  5.64it/s]"
          ]
        },
        {
          "output_type": "stream",
          "name": "stdout",
          "text": [
            "1/1 [==============================] - 0s 81ms/step\n"
          ]
        },
        {
          "output_type": "stream",
          "name": "stderr",
          "text": [
            "\r 62%|██████▏   | 381/612 [00:55<00:44,  5.20it/s]"
          ]
        },
        {
          "output_type": "stream",
          "name": "stdout",
          "text": [
            "1/1 [==============================] - 0s 77ms/step\n"
          ]
        },
        {
          "output_type": "stream",
          "name": "stderr",
          "text": [
            "\r 62%|██████▏   | 382/612 [00:55<00:45,  5.03it/s]"
          ]
        },
        {
          "output_type": "stream",
          "name": "stdout",
          "text": [
            "1/1 [==============================] - 0s 83ms/step\n"
          ]
        },
        {
          "output_type": "stream",
          "name": "stderr",
          "text": [
            "\r 63%|██████▎   | 383/612 [00:55<00:41,  5.47it/s]"
          ]
        },
        {
          "output_type": "stream",
          "name": "stdout",
          "text": [
            "1/1 [==============================] - 0s 71ms/step\n"
          ]
        },
        {
          "output_type": "stream",
          "name": "stderr",
          "text": [
            "\r 63%|██████▎   | 384/612 [00:55<00:42,  5.38it/s]"
          ]
        },
        {
          "output_type": "stream",
          "name": "stdout",
          "text": [
            "1/1 [==============================] - 0s 78ms/step\n"
          ]
        },
        {
          "output_type": "stream",
          "name": "stderr",
          "text": [
            "\r 63%|██████▎   | 385/612 [00:56<00:38,  5.97it/s]"
          ]
        },
        {
          "output_type": "stream",
          "name": "stdout",
          "text": [
            "1/1 [==============================] - 0s 71ms/step\n"
          ]
        },
        {
          "output_type": "stream",
          "name": "stderr",
          "text": [
            "\r 63%|██████▎   | 386/612 [00:56<00:39,  5.71it/s]"
          ]
        },
        {
          "output_type": "stream",
          "name": "stdout",
          "text": [
            "1/1 [==============================] - 0s 68ms/step\n"
          ]
        },
        {
          "output_type": "stream",
          "name": "stderr",
          "text": [
            "\r 63%|██████▎   | 387/612 [00:56<00:35,  6.34it/s]"
          ]
        },
        {
          "output_type": "stream",
          "name": "stdout",
          "text": [
            "1/1 [==============================] - 0s 65ms/step\n"
          ]
        },
        {
          "output_type": "stream",
          "name": "stderr",
          "text": [
            "\r 63%|██████▎   | 388/612 [00:56<00:37,  5.90it/s]"
          ]
        },
        {
          "output_type": "stream",
          "name": "stdout",
          "text": [
            "1/1 [==============================] - 0s 69ms/step\n"
          ]
        },
        {
          "output_type": "stream",
          "name": "stderr",
          "text": [
            "\r 64%|██████▎   | 389/612 [00:56<00:39,  5.66it/s]"
          ]
        },
        {
          "output_type": "stream",
          "name": "stdout",
          "text": [
            "1/1 [==============================] - 0s 68ms/step\n"
          ]
        },
        {
          "output_type": "stream",
          "name": "stderr",
          "text": [
            "\r 64%|██████▎   | 390/612 [00:56<00:35,  6.29it/s]"
          ]
        },
        {
          "output_type": "stream",
          "name": "stdout",
          "text": [
            "1/1 [==============================] - 0s 78ms/step\n"
          ]
        },
        {
          "output_type": "stream",
          "name": "stderr",
          "text": [
            "\r 64%|██████▍   | 391/612 [00:56<00:33,  6.65it/s]"
          ]
        },
        {
          "output_type": "stream",
          "name": "stdout",
          "text": [
            "1/1 [==============================] - 0s 65ms/step\n"
          ]
        },
        {
          "output_type": "stream",
          "name": "stderr",
          "text": [
            "\r 64%|██████▍   | 392/612 [00:57<00:36,  6.10it/s]"
          ]
        },
        {
          "output_type": "stream",
          "name": "stdout",
          "text": [
            "1/1 [==============================] - 0s 66ms/step\n"
          ]
        },
        {
          "output_type": "stream",
          "name": "stderr",
          "text": [
            "\r 64%|██████▍   | 393/612 [00:57<00:32,  6.67it/s]"
          ]
        },
        {
          "output_type": "stream",
          "name": "stdout",
          "text": [
            "1/1 [==============================] - 0s 66ms/step\n"
          ]
        },
        {
          "output_type": "stream",
          "name": "stderr",
          "text": [
            "\r 64%|██████▍   | 394/612 [00:57<00:30,  7.15it/s]"
          ]
        },
        {
          "output_type": "stream",
          "name": "stdout",
          "text": [
            "1/1 [==============================] - 0s 66ms/step\n"
          ]
        },
        {
          "output_type": "stream",
          "name": "stderr",
          "text": [
            "\r 65%|██████▍   | 395/612 [00:57<00:28,  7.49it/s]"
          ]
        },
        {
          "output_type": "stream",
          "name": "stdout",
          "text": [
            "1/1 [==============================] - 0s 70ms/step\n"
          ]
        },
        {
          "output_type": "stream",
          "name": "stderr",
          "text": [
            "\r 65%|██████▍   | 396/612 [00:57<00:32,  6.61it/s]"
          ]
        },
        {
          "output_type": "stream",
          "name": "stdout",
          "text": [
            "1/1 [==============================] - 0s 61ms/step\n"
          ]
        },
        {
          "output_type": "stream",
          "name": "stderr",
          "text": [
            "\r 65%|██████▍   | 397/612 [00:57<00:29,  7.20it/s]"
          ]
        },
        {
          "output_type": "stream",
          "name": "stdout",
          "text": [
            "1/1 [==============================] - 0s 72ms/step\n"
          ]
        },
        {
          "output_type": "stream",
          "name": "stderr",
          "text": [
            "\r 65%|██████▌   | 398/612 [00:57<00:28,  7.57it/s]"
          ]
        },
        {
          "output_type": "stream",
          "name": "stdout",
          "text": [
            "1/1 [==============================] - 0s 60ms/step\n"
          ]
        },
        {
          "output_type": "stream",
          "name": "stderr",
          "text": [
            "\r 65%|██████▌   | 399/612 [00:58<00:27,  7.87it/s]"
          ]
        },
        {
          "output_type": "stream",
          "name": "stdout",
          "text": [
            "1/1 [==============================] - 0s 61ms/step\n"
          ]
        },
        {
          "output_type": "stream",
          "name": "stderr",
          "text": [
            "\r 65%|██████▌   | 400/612 [00:58<00:25,  8.18it/s]"
          ]
        },
        {
          "output_type": "stream",
          "name": "stdout",
          "text": [
            "1/1 [==============================] - 0s 66ms/step\n"
          ]
        },
        {
          "output_type": "stream",
          "name": "stderr",
          "text": [
            "\r 66%|██████▌   | 401/612 [00:58<00:25,  8.19it/s]"
          ]
        },
        {
          "output_type": "stream",
          "name": "stdout",
          "text": [
            "1/1 [==============================] - 0s 60ms/step\n"
          ]
        },
        {
          "output_type": "stream",
          "name": "stderr",
          "text": [
            "\r 66%|██████▌   | 402/612 [00:58<00:24,  8.43it/s]"
          ]
        },
        {
          "output_type": "stream",
          "name": "stdout",
          "text": [
            "1/1 [==============================] - 0s 66ms/step\n"
          ]
        },
        {
          "output_type": "stream",
          "name": "stderr",
          "text": [
            "\r 66%|██████▌   | 403/612 [00:58<00:24,  8.58it/s]"
          ]
        },
        {
          "output_type": "stream",
          "name": "stdout",
          "text": [
            "1/1 [==============================] - 0s 60ms/step\n"
          ]
        },
        {
          "output_type": "stream",
          "name": "stderr",
          "text": [
            "\r 66%|██████▌   | 404/612 [00:58<00:23,  8.80it/s]"
          ]
        },
        {
          "output_type": "stream",
          "name": "stdout",
          "text": [
            "1/1 [==============================] - 0s 62ms/step\n"
          ]
        },
        {
          "output_type": "stream",
          "name": "stderr",
          "text": [
            "\r 66%|██████▌   | 405/612 [00:58<00:24,  8.61it/s]"
          ]
        },
        {
          "output_type": "stream",
          "name": "stdout",
          "text": [
            "1/1 [==============================] - 0s 60ms/step\n"
          ]
        },
        {
          "output_type": "stream",
          "name": "stderr",
          "text": [
            "\r 66%|██████▋   | 406/612 [00:58<00:23,  8.76it/s]"
          ]
        },
        {
          "output_type": "stream",
          "name": "stdout",
          "text": [
            "1/1 [==============================] - 0s 71ms/step\n"
          ]
        },
        {
          "output_type": "stream",
          "name": "stderr",
          "text": [
            "\r 67%|██████▋   | 407/612 [00:58<00:23,  8.68it/s]"
          ]
        },
        {
          "output_type": "stream",
          "name": "stdout",
          "text": [
            "1/1 [==============================] - 0s 60ms/step\n"
          ]
        },
        {
          "output_type": "stream",
          "name": "stderr",
          "text": [
            "\r 67%|██████▋   | 408/612 [00:59<00:23,  8.68it/s]"
          ]
        },
        {
          "output_type": "stream",
          "name": "stdout",
          "text": [
            "1/1 [==============================] - 0s 61ms/step\n"
          ]
        },
        {
          "output_type": "stream",
          "name": "stderr",
          "text": [
            "\r 67%|██████▋   | 409/612 [00:59<00:23,  8.73it/s]"
          ]
        },
        {
          "output_type": "stream",
          "name": "stdout",
          "text": [
            "1/1 [==============================] - 0s 62ms/step\n"
          ]
        },
        {
          "output_type": "stream",
          "name": "stderr",
          "text": [
            "\r 67%|██████▋   | 410/612 [00:59<00:23,  8.76it/s]"
          ]
        },
        {
          "output_type": "stream",
          "name": "stdout",
          "text": [
            "1/1 [==============================] - 0s 62ms/step\n"
          ]
        },
        {
          "output_type": "stream",
          "name": "stderr",
          "text": [
            "\r 67%|██████▋   | 411/612 [00:59<00:23,  8.61it/s]"
          ]
        },
        {
          "output_type": "stream",
          "name": "stdout",
          "text": [
            "1/1 [==============================] - 0s 61ms/step\n"
          ]
        },
        {
          "output_type": "stream",
          "name": "stderr",
          "text": [
            "\r 67%|██████▋   | 412/612 [00:59<00:23,  8.68it/s]"
          ]
        },
        {
          "output_type": "stream",
          "name": "stdout",
          "text": [
            "1/1 [==============================] - 0s 68ms/step\n"
          ]
        },
        {
          "output_type": "stream",
          "name": "stderr",
          "text": [
            "\r 67%|██████▋   | 413/612 [00:59<00:23,  8.50it/s]"
          ]
        },
        {
          "output_type": "stream",
          "name": "stdout",
          "text": [
            "1/1 [==============================] - 0s 62ms/step\n"
          ]
        },
        {
          "output_type": "stream",
          "name": "stderr",
          "text": [
            "\r 68%|██████▊   | 414/612 [00:59<00:23,  8.53it/s]"
          ]
        },
        {
          "output_type": "stream",
          "name": "stdout",
          "text": [
            "1/1 [==============================] - 0s 62ms/step\n"
          ]
        },
        {
          "output_type": "stream",
          "name": "stderr",
          "text": [
            "\r 68%|██████▊   | 415/612 [00:59<00:23,  8.56it/s]"
          ]
        },
        {
          "output_type": "stream",
          "name": "stdout",
          "text": [
            "1/1 [==============================] - 0s 68ms/step\n"
          ]
        },
        {
          "output_type": "stream",
          "name": "stderr",
          "text": [
            "\r 68%|██████▊   | 416/612 [01:00<00:22,  8.56it/s]"
          ]
        },
        {
          "output_type": "stream",
          "name": "stdout",
          "text": [
            "1/1 [==============================] - 0s 62ms/step\n"
          ]
        },
        {
          "output_type": "stream",
          "name": "stderr",
          "text": [
            "\r 68%|██████▊   | 417/612 [01:00<00:22,  8.65it/s]"
          ]
        },
        {
          "output_type": "stream",
          "name": "stdout",
          "text": [
            "1/1 [==============================] - 0s 68ms/step\n"
          ]
        },
        {
          "output_type": "stream",
          "name": "stderr",
          "text": [
            "\r 68%|██████▊   | 418/612 [01:00<00:22,  8.60it/s]"
          ]
        },
        {
          "output_type": "stream",
          "name": "stdout",
          "text": [
            "1/1 [==============================] - 0s 60ms/step\n"
          ]
        },
        {
          "output_type": "stream",
          "name": "stderr",
          "text": [
            "\r 68%|██████▊   | 419/612 [01:00<00:22,  8.69it/s]"
          ]
        },
        {
          "output_type": "stream",
          "name": "stdout",
          "text": [
            "1/1 [==============================] - 0s 64ms/step\n"
          ]
        },
        {
          "output_type": "stream",
          "name": "stderr",
          "text": [
            "\r 69%|██████▊   | 420/612 [01:00<00:22,  8.70it/s]"
          ]
        },
        {
          "output_type": "stream",
          "name": "stdout",
          "text": [
            "1/1 [==============================] - 0s 60ms/step\n"
          ]
        },
        {
          "output_type": "stream",
          "name": "stderr",
          "text": [
            "\r 69%|██████▉   | 421/612 [01:00<00:21,  8.74it/s]"
          ]
        },
        {
          "output_type": "stream",
          "name": "stdout",
          "text": [
            "1/1 [==============================] - 0s 64ms/step\n"
          ]
        },
        {
          "output_type": "stream",
          "name": "stderr",
          "text": [
            "\r 69%|██████▉   | 422/612 [01:00<00:21,  8.64it/s]"
          ]
        },
        {
          "output_type": "stream",
          "name": "stdout",
          "text": [
            "1/1 [==============================] - 0s 63ms/step\n"
          ]
        },
        {
          "output_type": "stream",
          "name": "stderr",
          "text": [
            "\r 69%|██████▉   | 423/612 [01:00<00:21,  8.70it/s]"
          ]
        },
        {
          "output_type": "stream",
          "name": "stdout",
          "text": [
            "1/1 [==============================] - 0s 64ms/step\n"
          ]
        },
        {
          "output_type": "stream",
          "name": "stderr",
          "text": [
            "\r 69%|██████▉   | 424/612 [01:00<00:21,  8.66it/s]"
          ]
        },
        {
          "output_type": "stream",
          "name": "stdout",
          "text": [
            "1/1 [==============================] - 0s 67ms/step\n"
          ]
        },
        {
          "output_type": "stream",
          "name": "stderr",
          "text": [
            "\r 69%|██████▉   | 425/612 [01:01<00:21,  8.51it/s]"
          ]
        },
        {
          "output_type": "stream",
          "name": "stdout",
          "text": [
            "1/1 [==============================] - 0s 68ms/step\n"
          ]
        },
        {
          "output_type": "stream",
          "name": "stderr",
          "text": [
            "\r 70%|██████▉   | 426/612 [01:01<00:21,  8.51it/s]"
          ]
        },
        {
          "output_type": "stream",
          "name": "stdout",
          "text": [
            "1/1 [==============================] - 0s 63ms/step\n"
          ]
        },
        {
          "output_type": "stream",
          "name": "stderr",
          "text": [
            "\r 70%|██████▉   | 427/612 [01:01<00:21,  8.60it/s]"
          ]
        },
        {
          "output_type": "stream",
          "name": "stdout",
          "text": [
            "1/1 [==============================] - 0s 61ms/step\n"
          ]
        },
        {
          "output_type": "stream",
          "name": "stderr",
          "text": [
            "\r 70%|██████▉   | 428/612 [01:01<00:21,  8.67it/s]"
          ]
        },
        {
          "output_type": "stream",
          "name": "stdout",
          "text": [
            "1/1 [==============================] - 0s 60ms/step\n"
          ]
        },
        {
          "output_type": "stream",
          "name": "stderr",
          "text": [
            "\r 70%|███████   | 429/612 [01:01<00:21,  8.68it/s]"
          ]
        },
        {
          "output_type": "stream",
          "name": "stdout",
          "text": [
            "1/1 [==============================] - 0s 66ms/step\n"
          ]
        },
        {
          "output_type": "stream",
          "name": "stderr",
          "text": [
            "\r 70%|███████   | 430/612 [01:01<00:25,  7.23it/s]"
          ]
        },
        {
          "output_type": "stream",
          "name": "stdout",
          "text": [
            "1/1 [==============================] - 0s 60ms/step\n"
          ]
        },
        {
          "output_type": "stream",
          "name": "stderr",
          "text": [
            "\r 70%|███████   | 431/612 [01:01<00:23,  7.62it/s]"
          ]
        },
        {
          "output_type": "stream",
          "name": "stdout",
          "text": [
            "1/1 [==============================] - 0s 62ms/step\n"
          ]
        },
        {
          "output_type": "stream",
          "name": "stderr",
          "text": [
            "\r 71%|███████   | 432/612 [01:01<00:22,  7.86it/s]"
          ]
        },
        {
          "output_type": "stream",
          "name": "stdout",
          "text": [
            "1/1 [==============================] - 0s 64ms/step\n"
          ]
        },
        {
          "output_type": "stream",
          "name": "stderr",
          "text": [
            "\r 71%|███████   | 433/612 [01:02<00:39,  4.53it/s]"
          ]
        },
        {
          "output_type": "stream",
          "name": "stdout",
          "text": [
            "1/1 [==============================] - 0s 67ms/step\n"
          ]
        },
        {
          "output_type": "stream",
          "name": "stderr",
          "text": [
            "\r 71%|███████   | 434/612 [01:02<00:34,  5.23it/s]"
          ]
        },
        {
          "output_type": "stream",
          "name": "stdout",
          "text": [
            "1/1 [==============================] - 0s 67ms/step\n"
          ]
        },
        {
          "output_type": "stream",
          "name": "stderr",
          "text": [
            "\r 71%|███████   | 435/612 [01:02<00:30,  5.89it/s]"
          ]
        },
        {
          "output_type": "stream",
          "name": "stdout",
          "text": [
            "1/1 [==============================] - 0s 68ms/step\n"
          ]
        },
        {
          "output_type": "stream",
          "name": "stderr",
          "text": [
            "\r 71%|███████   | 436/612 [01:02<00:31,  5.62it/s]"
          ]
        },
        {
          "output_type": "stream",
          "name": "stdout",
          "text": [
            "1/1 [==============================] - 0s 66ms/step\n"
          ]
        },
        {
          "output_type": "stream",
          "name": "stderr",
          "text": [
            "\r 71%|███████▏  | 437/612 [01:02<00:27,  6.28it/s]"
          ]
        },
        {
          "output_type": "stream",
          "name": "stdout",
          "text": [
            "1/1 [==============================] - 0s 92ms/step\n"
          ]
        },
        {
          "output_type": "stream",
          "name": "stderr",
          "text": [
            "\r 72%|███████▏  | 438/612 [01:03<00:26,  6.45it/s]"
          ]
        },
        {
          "output_type": "stream",
          "name": "stdout",
          "text": [
            "1/1 [==============================] - 0s 67ms/step\n"
          ]
        },
        {
          "output_type": "stream",
          "name": "stderr",
          "text": [
            "\r 72%|███████▏  | 439/612 [01:03<00:24,  6.93it/s]"
          ]
        },
        {
          "output_type": "stream",
          "name": "stdout",
          "text": [
            "1/1 [==============================] - 0s 68ms/step\n"
          ]
        },
        {
          "output_type": "stream",
          "name": "stderr",
          "text": [
            "\r 72%|███████▏  | 440/612 [01:03<00:23,  7.23it/s]"
          ]
        },
        {
          "output_type": "stream",
          "name": "stdout",
          "text": [
            "1/1 [==============================] - 0s 67ms/step\n"
          ]
        },
        {
          "output_type": "stream",
          "name": "stderr",
          "text": [
            "\r 72%|███████▏  | 441/612 [01:03<00:22,  7.55it/s]"
          ]
        },
        {
          "output_type": "stream",
          "name": "stdout",
          "text": [
            "1/1 [==============================] - 0s 69ms/step\n"
          ]
        },
        {
          "output_type": "stream",
          "name": "stderr",
          "text": [
            "\r 72%|███████▏  | 442/612 [01:03<00:22,  7.60it/s]"
          ]
        },
        {
          "output_type": "stream",
          "name": "stdout",
          "text": [
            "1/1 [==============================] - 0s 65ms/step\n"
          ]
        },
        {
          "output_type": "stream",
          "name": "stderr",
          "text": [
            "\r 72%|███████▏  | 443/612 [01:03<00:21,  7.90it/s]"
          ]
        },
        {
          "output_type": "stream",
          "name": "stdout",
          "text": [
            "1/1 [==============================] - 0s 63ms/step\n"
          ]
        },
        {
          "output_type": "stream",
          "name": "stderr",
          "text": [
            "\r 73%|███████▎  | 444/612 [01:03<00:20,  8.07it/s]"
          ]
        },
        {
          "output_type": "stream",
          "name": "stdout",
          "text": [
            "1/1 [==============================] - 0s 65ms/step\n"
          ]
        },
        {
          "output_type": "stream",
          "name": "stderr",
          "text": [
            "\r 73%|███████▎  | 445/612 [01:03<00:20,  8.28it/s]"
          ]
        },
        {
          "output_type": "stream",
          "name": "stdout",
          "text": [
            "1/1 [==============================] - 0s 64ms/step\n"
          ]
        },
        {
          "output_type": "stream",
          "name": "stderr",
          "text": [
            "\r 73%|███████▎  | 446/612 [01:04<00:19,  8.32it/s]"
          ]
        },
        {
          "output_type": "stream",
          "name": "stdout",
          "text": [
            "1/1 [==============================] - 0s 71ms/step\n"
          ]
        },
        {
          "output_type": "stream",
          "name": "stderr",
          "text": [
            "\r 73%|███████▎  | 447/612 [01:04<00:23,  6.95it/s]"
          ]
        },
        {
          "output_type": "stream",
          "name": "stdout",
          "text": [
            "1/1 [==============================] - 0s 62ms/step\n"
          ]
        },
        {
          "output_type": "stream",
          "name": "stderr",
          "text": [
            "\r 73%|███████▎  | 448/612 [01:04<00:22,  7.33it/s]"
          ]
        },
        {
          "output_type": "stream",
          "name": "stdout",
          "text": [
            "1/1 [==============================] - 0s 63ms/step\n"
          ]
        },
        {
          "output_type": "stream",
          "name": "stderr",
          "text": [
            "\r 73%|███████▎  | 449/612 [01:04<00:21,  7.71it/s]"
          ]
        },
        {
          "output_type": "stream",
          "name": "stdout",
          "text": [
            "1/1 [==============================] - 0s 62ms/step\n"
          ]
        },
        {
          "output_type": "stream",
          "name": "stderr",
          "text": [
            "\r 74%|███████▎  | 450/612 [01:04<00:20,  7.96it/s]"
          ]
        },
        {
          "output_type": "stream",
          "name": "stdout",
          "text": [
            "1/1 [==============================] - 0s 62ms/step\n"
          ]
        },
        {
          "output_type": "stream",
          "name": "stderr",
          "text": [
            "\r 74%|███████▎  | 451/612 [01:04<00:19,  8.24it/s]"
          ]
        },
        {
          "output_type": "stream",
          "name": "stdout",
          "text": [
            "1/1 [==============================] - 0s 64ms/step\n"
          ]
        },
        {
          "output_type": "stream",
          "name": "stderr",
          "text": [
            "\r 74%|███████▍  | 452/612 [01:04<00:19,  8.24it/s]"
          ]
        },
        {
          "output_type": "stream",
          "name": "stdout",
          "text": [
            "1/1 [==============================] - 0s 62ms/step\n"
          ]
        },
        {
          "output_type": "stream",
          "name": "stderr",
          "text": [
            "\r 74%|███████▍  | 453/612 [01:04<00:19,  8.31it/s]"
          ]
        },
        {
          "output_type": "stream",
          "name": "stdout",
          "text": [
            "1/1 [==============================] - 0s 66ms/step\n"
          ]
        },
        {
          "output_type": "stream",
          "name": "stderr",
          "text": [
            "\r 74%|███████▍  | 454/612 [01:05<00:19,  8.29it/s]"
          ]
        },
        {
          "output_type": "stream",
          "name": "stdout",
          "text": [
            "1/1 [==============================] - 0s 61ms/step\n"
          ]
        },
        {
          "output_type": "stream",
          "name": "stderr",
          "text": [
            "\r 74%|███████▍  | 455/612 [01:05<00:18,  8.37it/s]"
          ]
        },
        {
          "output_type": "stream",
          "name": "stdout",
          "text": [
            "1/1 [==============================] - 0s 61ms/step\n"
          ]
        },
        {
          "output_type": "stream",
          "name": "stderr",
          "text": [
            "\r 75%|███████▍  | 456/612 [01:05<00:18,  8.55it/s]"
          ]
        },
        {
          "output_type": "stream",
          "name": "stdout",
          "text": [
            "1/1 [==============================] - 0s 60ms/step\n"
          ]
        },
        {
          "output_type": "stream",
          "name": "stderr",
          "text": [
            "\r 75%|███████▍  | 457/612 [01:05<00:17,  8.66it/s]"
          ]
        },
        {
          "output_type": "stream",
          "name": "stdout",
          "text": [
            "1/1 [==============================] - 0s 64ms/step\n"
          ]
        },
        {
          "output_type": "stream",
          "name": "stderr",
          "text": [
            "\r 75%|███████▍  | 458/612 [01:05<00:17,  8.70it/s]"
          ]
        },
        {
          "output_type": "stream",
          "name": "stdout",
          "text": [
            "1/1 [==============================] - 0s 72ms/step\n"
          ]
        },
        {
          "output_type": "stream",
          "name": "stderr",
          "text": [
            "\r 75%|███████▌  | 459/612 [01:05<00:17,  8.55it/s]"
          ]
        },
        {
          "output_type": "stream",
          "name": "stdout",
          "text": [
            "1/1 [==============================] - 0s 88ms/step\n"
          ]
        },
        {
          "output_type": "stream",
          "name": "stderr",
          "text": [
            "\r 75%|███████▌  | 460/612 [01:05<00:22,  6.79it/s]"
          ]
        },
        {
          "output_type": "stream",
          "name": "stdout",
          "text": [
            "1/1 [==============================] - 0s 79ms/step\n"
          ]
        },
        {
          "output_type": "stream",
          "name": "stderr",
          "text": [
            "\r 75%|███████▌  | 461/612 [01:05<00:22,  6.72it/s]"
          ]
        },
        {
          "output_type": "stream",
          "name": "stdout",
          "text": [
            "1/1 [==============================] - 0s 90ms/step\n"
          ]
        },
        {
          "output_type": "stream",
          "name": "stderr",
          "text": [
            "\r 75%|███████▌  | 462/612 [01:06<00:23,  6.32it/s]"
          ]
        },
        {
          "output_type": "stream",
          "name": "stdout",
          "text": [
            "1/1 [==============================] - 0s 82ms/step\n"
          ]
        },
        {
          "output_type": "stream",
          "name": "stderr",
          "text": [
            "\r 76%|███████▌  | 463/612 [01:06<00:23,  6.36it/s]"
          ]
        },
        {
          "output_type": "stream",
          "name": "stdout",
          "text": [
            "1/1 [==============================] - 0s 90ms/step\n"
          ]
        },
        {
          "output_type": "stream",
          "name": "stderr",
          "text": [
            "\r 76%|███████▌  | 464/612 [01:06<00:22,  6.46it/s]"
          ]
        },
        {
          "output_type": "stream",
          "name": "stdout",
          "text": [
            "1/1 [==============================] - 0s 82ms/step\n"
          ]
        },
        {
          "output_type": "stream",
          "name": "stderr",
          "text": [
            "\r 76%|███████▌  | 465/612 [01:06<00:25,  5.66it/s]"
          ]
        },
        {
          "output_type": "stream",
          "name": "stdout",
          "text": [
            "1/1 [==============================] - 0s 86ms/step\n"
          ]
        },
        {
          "output_type": "stream",
          "name": "stderr",
          "text": [
            "\r 76%|███████▌  | 466/612 [01:06<00:24,  5.93it/s]"
          ]
        },
        {
          "output_type": "stream",
          "name": "stdout",
          "text": [
            "1/1 [==============================] - 0s 86ms/step\n"
          ]
        },
        {
          "output_type": "stream",
          "name": "stderr",
          "text": [
            "\r 76%|███████▋  | 467/612 [01:07<00:24,  6.02it/s]"
          ]
        },
        {
          "output_type": "stream",
          "name": "stdout",
          "text": [
            "1/1 [==============================] - 0s 84ms/step\n"
          ]
        },
        {
          "output_type": "stream",
          "name": "stderr",
          "text": [
            "\r 76%|███████▋  | 468/612 [01:07<00:23,  6.18it/s]"
          ]
        },
        {
          "output_type": "stream",
          "name": "stdout",
          "text": [
            "1/1 [==============================] - 0s 91ms/step\n"
          ]
        },
        {
          "output_type": "stream",
          "name": "stderr",
          "text": [
            "\r 77%|███████▋  | 469/612 [01:07<00:22,  6.37it/s]"
          ]
        },
        {
          "output_type": "stream",
          "name": "stdout",
          "text": [
            "1/1 [==============================] - 0s 87ms/step\n"
          ]
        },
        {
          "output_type": "stream",
          "name": "stderr",
          "text": [
            "\r 77%|███████▋  | 470/612 [01:07<00:22,  6.43it/s]"
          ]
        },
        {
          "output_type": "stream",
          "name": "stdout",
          "text": [
            "1/1 [==============================] - 0s 82ms/step\n"
          ]
        },
        {
          "output_type": "stream",
          "name": "stderr",
          "text": [
            "\r 77%|███████▋  | 471/612 [01:07<00:21,  6.58it/s]"
          ]
        },
        {
          "output_type": "stream",
          "name": "stdout",
          "text": [
            "1/1 [==============================] - 0s 91ms/step\n"
          ]
        },
        {
          "output_type": "stream",
          "name": "stderr",
          "text": [
            "\r 77%|███████▋  | 472/612 [01:07<00:22,  6.33it/s]"
          ]
        },
        {
          "output_type": "stream",
          "name": "stdout",
          "text": [
            "1/1 [==============================] - 0s 86ms/step\n"
          ]
        },
        {
          "output_type": "stream",
          "name": "stderr",
          "text": [
            "\r 77%|███████▋  | 473/612 [01:08<00:24,  5.61it/s]"
          ]
        },
        {
          "output_type": "stream",
          "name": "stdout",
          "text": [
            "1/1 [==============================] - 0s 68ms/step\n"
          ]
        },
        {
          "output_type": "stream",
          "name": "stderr",
          "text": [
            "\r 77%|███████▋  | 474/612 [01:08<00:22,  6.24it/s]"
          ]
        },
        {
          "output_type": "stream",
          "name": "stdout",
          "text": [
            "1/1 [==============================] - 0s 68ms/step\n"
          ]
        },
        {
          "output_type": "stream",
          "name": "stderr",
          "text": [
            "\r 78%|███████▊  | 475/612 [01:08<00:23,  5.79it/s]"
          ]
        },
        {
          "output_type": "stream",
          "name": "stdout",
          "text": [
            "1/1 [==============================] - 0s 68ms/step\n"
          ]
        },
        {
          "output_type": "stream",
          "name": "stderr",
          "text": [
            "\r 78%|███████▊  | 476/612 [01:08<00:24,  5.59it/s]"
          ]
        },
        {
          "output_type": "stream",
          "name": "stdout",
          "text": [
            "1/1 [==============================] - 0s 66ms/step\n"
          ]
        },
        {
          "output_type": "stream",
          "name": "stderr",
          "text": [
            "\r 78%|███████▊  | 477/612 [01:08<00:21,  6.20it/s]"
          ]
        },
        {
          "output_type": "stream",
          "name": "stdout",
          "text": [
            "1/1 [==============================] - 0s 70ms/step\n"
          ]
        },
        {
          "output_type": "stream",
          "name": "stderr",
          "text": [
            "\r 78%|███████▊  | 478/612 [01:08<00:19,  6.76it/s]"
          ]
        },
        {
          "output_type": "stream",
          "name": "stdout",
          "text": [
            "1/1 [==============================] - 0s 69ms/step\n"
          ]
        },
        {
          "output_type": "stream",
          "name": "stderr",
          "text": [
            "\r 78%|███████▊  | 479/612 [01:08<00:18,  7.17it/s]"
          ]
        },
        {
          "output_type": "stream",
          "name": "stdout",
          "text": [
            "1/1 [==============================] - 0s 69ms/step\n"
          ]
        },
        {
          "output_type": "stream",
          "name": "stderr",
          "text": [
            "\r 78%|███████▊  | 480/612 [01:09<00:17,  7.46it/s]"
          ]
        },
        {
          "output_type": "stream",
          "name": "stdout",
          "text": [
            "1/1 [==============================] - 0s 61ms/step\n"
          ]
        },
        {
          "output_type": "stream",
          "name": "stderr",
          "text": [
            "\r 79%|███████▊  | 481/612 [01:09<00:16,  7.92it/s]"
          ]
        },
        {
          "output_type": "stream",
          "name": "stdout",
          "text": [
            "1/1 [==============================] - 0s 66ms/step\n"
          ]
        },
        {
          "output_type": "stream",
          "name": "stderr",
          "text": [
            "\r 79%|███████▉  | 482/612 [01:09<00:16,  7.96it/s]"
          ]
        },
        {
          "output_type": "stream",
          "name": "stdout",
          "text": [
            "1/1 [==============================] - 0s 62ms/step\n"
          ]
        },
        {
          "output_type": "stream",
          "name": "stderr",
          "text": [
            "\r 79%|███████▉  | 483/612 [01:09<00:15,  8.15it/s]"
          ]
        },
        {
          "output_type": "stream",
          "name": "stdout",
          "text": [
            "1/1 [==============================] - 0s 62ms/step\n"
          ]
        },
        {
          "output_type": "stream",
          "name": "stderr",
          "text": [
            "\r 79%|███████▉  | 484/612 [01:09<00:15,  8.30it/s]"
          ]
        },
        {
          "output_type": "stream",
          "name": "stdout",
          "text": [
            "1/1 [==============================] - 0s 62ms/step\n"
          ]
        },
        {
          "output_type": "stream",
          "name": "stderr",
          "text": [
            "\r 79%|███████▉  | 485/612 [01:09<00:14,  8.49it/s]"
          ]
        },
        {
          "output_type": "stream",
          "name": "stdout",
          "text": [
            "1/1 [==============================] - 0s 65ms/step\n"
          ]
        },
        {
          "output_type": "stream",
          "name": "stderr",
          "text": [
            "\r 79%|███████▉  | 486/612 [01:09<00:14,  8.60it/s]"
          ]
        },
        {
          "output_type": "stream",
          "name": "stdout",
          "text": [
            "1/1 [==============================] - 0s 66ms/step\n"
          ]
        },
        {
          "output_type": "stream",
          "name": "stderr",
          "text": [
            "\r 80%|███████▉  | 487/612 [01:09<00:14,  8.57it/s]"
          ]
        },
        {
          "output_type": "stream",
          "name": "stdout",
          "text": [
            "1/1 [==============================] - 0s 62ms/step\n"
          ]
        },
        {
          "output_type": "stream",
          "name": "stderr",
          "text": [
            "\r 80%|███████▉  | 488/612 [01:09<00:14,  8.58it/s]"
          ]
        },
        {
          "output_type": "stream",
          "name": "stdout",
          "text": [
            "1/1 [==============================] - 0s 62ms/step\n"
          ]
        },
        {
          "output_type": "stream",
          "name": "stderr",
          "text": [
            "\r 80%|███████▉  | 489/612 [01:10<00:14,  8.70it/s]"
          ]
        },
        {
          "output_type": "stream",
          "name": "stdout",
          "text": [
            "1/1 [==============================] - 0s 62ms/step\n"
          ]
        },
        {
          "output_type": "stream",
          "name": "stderr",
          "text": [
            "\r 80%|████████  | 490/612 [01:10<00:14,  8.71it/s]"
          ]
        },
        {
          "output_type": "stream",
          "name": "stdout",
          "text": [
            "1/1 [==============================] - 0s 68ms/step\n"
          ]
        },
        {
          "output_type": "stream",
          "name": "stderr",
          "text": [
            "\r 80%|████████  | 491/612 [01:10<00:14,  8.62it/s]"
          ]
        },
        {
          "output_type": "stream",
          "name": "stdout",
          "text": [
            "1/1 [==============================] - 0s 64ms/step\n"
          ]
        },
        {
          "output_type": "stream",
          "name": "stderr",
          "text": [
            "\r 80%|████████  | 492/612 [01:10<00:14,  8.44it/s]"
          ]
        },
        {
          "output_type": "stream",
          "name": "stdout",
          "text": [
            "1/1 [==============================] - 0s 63ms/step\n"
          ]
        },
        {
          "output_type": "stream",
          "name": "stderr",
          "text": [
            "\r 81%|████████  | 493/612 [01:10<00:14,  8.39it/s]"
          ]
        },
        {
          "output_type": "stream",
          "name": "stdout",
          "text": [
            "1/1 [==============================] - 0s 68ms/step\n"
          ]
        },
        {
          "output_type": "stream",
          "name": "stderr",
          "text": [
            "\r 81%|████████  | 494/612 [01:10<00:13,  8.49it/s]"
          ]
        },
        {
          "output_type": "stream",
          "name": "stdout",
          "text": [
            "1/1 [==============================] - 0s 62ms/step\n"
          ]
        },
        {
          "output_type": "stream",
          "name": "stderr",
          "text": [
            "\r 81%|████████  | 495/612 [01:10<00:13,  8.70it/s]"
          ]
        },
        {
          "output_type": "stream",
          "name": "stdout",
          "text": [
            "1/1 [==============================] - 0s 61ms/step\n"
          ]
        },
        {
          "output_type": "stream",
          "name": "stderr",
          "text": [
            "\r 81%|████████  | 496/612 [01:10<00:13,  8.68it/s]"
          ]
        },
        {
          "output_type": "stream",
          "name": "stdout",
          "text": [
            "1/1 [==============================] - 0s 62ms/step\n"
          ]
        },
        {
          "output_type": "stream",
          "name": "stderr",
          "text": [
            "\r 81%|████████  | 497/612 [01:10<00:13,  8.75it/s]"
          ]
        },
        {
          "output_type": "stream",
          "name": "stdout",
          "text": [
            "1/1 [==============================] - 0s 61ms/step\n"
          ]
        },
        {
          "output_type": "stream",
          "name": "stderr",
          "text": [
            "\r 81%|████████▏ | 498/612 [01:11<00:13,  8.66it/s]"
          ]
        },
        {
          "output_type": "stream",
          "name": "stdout",
          "text": [
            "1/1 [==============================] - 0s 67ms/step\n"
          ]
        },
        {
          "output_type": "stream",
          "name": "stderr",
          "text": [
            "\r 82%|████████▏ | 499/612 [01:11<00:13,  8.65it/s]"
          ]
        },
        {
          "output_type": "stream",
          "name": "stdout",
          "text": [
            "1/1 [==============================] - 0s 60ms/step\n"
          ]
        },
        {
          "output_type": "stream",
          "name": "stderr",
          "text": [
            "\r 82%|████████▏ | 500/612 [01:11<00:13,  8.49it/s]"
          ]
        },
        {
          "output_type": "stream",
          "name": "stdout",
          "text": [
            "1/1 [==============================] - 0s 62ms/step\n"
          ]
        },
        {
          "output_type": "stream",
          "name": "stderr",
          "text": [
            "\r 82%|████████▏ | 501/612 [01:11<00:13,  8.52it/s]"
          ]
        },
        {
          "output_type": "stream",
          "name": "stdout",
          "text": [
            "1/1 [==============================] - 0s 63ms/step\n"
          ]
        },
        {
          "output_type": "stream",
          "name": "stderr",
          "text": [
            "\r 82%|████████▏ | 502/612 [01:11<00:12,  8.48it/s]"
          ]
        },
        {
          "output_type": "stream",
          "name": "stdout",
          "text": [
            "1/1 [==============================] - 0s 62ms/step\n"
          ]
        },
        {
          "output_type": "stream",
          "name": "stderr",
          "text": [
            "\r 82%|████████▏ | 503/612 [01:11<00:12,  8.62it/s]"
          ]
        },
        {
          "output_type": "stream",
          "name": "stdout",
          "text": [
            "1/1 [==============================] - 0s 62ms/step\n"
          ]
        },
        {
          "output_type": "stream",
          "name": "stderr",
          "text": [
            "\r 82%|████████▏ | 504/612 [01:11<00:12,  8.52it/s]"
          ]
        },
        {
          "output_type": "stream",
          "name": "stdout",
          "text": [
            "1/1 [==============================] - 0s 64ms/step\n"
          ]
        },
        {
          "output_type": "stream",
          "name": "stderr",
          "text": [
            "\r 83%|████████▎ | 505/612 [01:11<00:12,  8.70it/s]"
          ]
        },
        {
          "output_type": "stream",
          "name": "stdout",
          "text": [
            "1/1 [==============================] - 0s 63ms/step\n"
          ]
        },
        {
          "output_type": "stream",
          "name": "stderr",
          "text": [
            "\r 83%|████████▎ | 506/612 [01:12<00:12,  8.72it/s]"
          ]
        },
        {
          "output_type": "stream",
          "name": "stdout",
          "text": [
            "1/1 [==============================] - 0s 61ms/step\n"
          ]
        },
        {
          "output_type": "stream",
          "name": "stderr",
          "text": [
            "\r 83%|████████▎ | 507/612 [01:12<00:12,  8.75it/s]"
          ]
        },
        {
          "output_type": "stream",
          "name": "stdout",
          "text": [
            "1/1 [==============================] - 0s 61ms/step\n"
          ]
        },
        {
          "output_type": "stream",
          "name": "stderr",
          "text": [
            "\r 83%|████████▎ | 508/612 [01:12<00:11,  8.80it/s]"
          ]
        },
        {
          "output_type": "stream",
          "name": "stdout",
          "text": [
            "1/1 [==============================] - 0s 63ms/step\n"
          ]
        },
        {
          "output_type": "stream",
          "name": "stderr",
          "text": [
            "\r 83%|████████▎ | 509/612 [01:12<00:14,  7.11it/s]"
          ]
        },
        {
          "output_type": "stream",
          "name": "stdout",
          "text": [
            "1/1 [==============================] - 0s 64ms/step\n"
          ]
        },
        {
          "output_type": "stream",
          "name": "stderr",
          "text": [
            "\r 83%|████████▎ | 510/612 [01:12<00:13,  7.46it/s]"
          ]
        },
        {
          "output_type": "stream",
          "name": "stdout",
          "text": [
            "1/1 [==============================] - 0s 64ms/step\n"
          ]
        },
        {
          "output_type": "stream",
          "name": "stderr",
          "text": [
            "\r 83%|████████▎ | 511/612 [01:12<00:13,  7.77it/s]"
          ]
        },
        {
          "output_type": "stream",
          "name": "stdout",
          "text": [
            "1/1 [==============================] - 0s 64ms/step\n"
          ]
        },
        {
          "output_type": "stream",
          "name": "stderr",
          "text": [
            "\r 84%|████████▎ | 512/612 [01:12<00:12,  7.92it/s]"
          ]
        },
        {
          "output_type": "stream",
          "name": "stdout",
          "text": [
            "1/1 [==============================] - 0s 63ms/step\n"
          ]
        },
        {
          "output_type": "stream",
          "name": "stderr",
          "text": [
            "\r 84%|████████▍ | 513/612 [01:12<00:12,  7.93it/s]"
          ]
        },
        {
          "output_type": "stream",
          "name": "stdout",
          "text": [
            "1/1 [==============================] - 0s 65ms/step\n"
          ]
        },
        {
          "output_type": "stream",
          "name": "stderr",
          "text": [
            "\r 84%|████████▍ | 514/612 [01:13<00:12,  8.03it/s]"
          ]
        },
        {
          "output_type": "stream",
          "name": "stdout",
          "text": [
            "1/1 [==============================] - 0s 64ms/step\n"
          ]
        },
        {
          "output_type": "stream",
          "name": "stderr",
          "text": [
            "\r 84%|████████▍ | 515/612 [01:13<00:12,  8.03it/s]"
          ]
        },
        {
          "output_type": "stream",
          "name": "stdout",
          "text": [
            "1/1 [==============================] - 0s 71ms/step\n"
          ]
        },
        {
          "output_type": "stream",
          "name": "stderr",
          "text": [
            "\r 84%|████████▍ | 516/612 [01:13<00:11,  8.17it/s]"
          ]
        },
        {
          "output_type": "stream",
          "name": "stdout",
          "text": [
            "1/1 [==============================] - 0s 65ms/step\n"
          ]
        },
        {
          "output_type": "stream",
          "name": "stderr",
          "text": [
            "\r 84%|████████▍ | 517/612 [01:13<00:13,  6.89it/s]"
          ]
        },
        {
          "output_type": "stream",
          "name": "stdout",
          "text": [
            "1/1 [==============================] - 0s 62ms/step\n"
          ]
        },
        {
          "output_type": "stream",
          "name": "stderr",
          "text": [
            "\r 85%|████████▍ | 518/612 [01:13<00:12,  7.36it/s]"
          ]
        },
        {
          "output_type": "stream",
          "name": "stdout",
          "text": [
            "1/1 [==============================] - 0s 69ms/step\n"
          ]
        },
        {
          "output_type": "stream",
          "name": "stderr",
          "text": [
            "\r 85%|████████▍ | 519/612 [01:13<00:12,  7.68it/s]"
          ]
        },
        {
          "output_type": "stream",
          "name": "stdout",
          "text": [
            "1/1 [==============================] - 0s 62ms/step\n"
          ]
        },
        {
          "output_type": "stream",
          "name": "stderr",
          "text": [
            "\r 85%|████████▍ | 520/612 [01:13<00:11,  7.96it/s]"
          ]
        },
        {
          "output_type": "stream",
          "name": "stdout",
          "text": [
            "1/1 [==============================] - 0s 65ms/step\n"
          ]
        },
        {
          "output_type": "stream",
          "name": "stderr",
          "text": [
            "\r 85%|████████▌ | 521/612 [01:13<00:11,  8.20it/s]"
          ]
        },
        {
          "output_type": "stream",
          "name": "stdout",
          "text": [
            "1/1 [==============================] - 0s 64ms/step\n"
          ]
        },
        {
          "output_type": "stream",
          "name": "stderr",
          "text": [
            "\r 85%|████████▌ | 522/612 [01:14<00:10,  8.37it/s]"
          ]
        },
        {
          "output_type": "stream",
          "name": "stdout",
          "text": [
            "1/1 [==============================] - 0s 61ms/step\n"
          ]
        },
        {
          "output_type": "stream",
          "name": "stderr",
          "text": [
            "\r 85%|████████▌ | 523/612 [01:14<00:10,  8.32it/s]"
          ]
        },
        {
          "output_type": "stream",
          "name": "stdout",
          "text": [
            "1/1 [==============================] - 0s 65ms/step\n"
          ]
        },
        {
          "output_type": "stream",
          "name": "stderr",
          "text": [
            "\r 86%|████████▌ | 524/612 [01:14<00:10,  8.47it/s]"
          ]
        },
        {
          "output_type": "stream",
          "name": "stdout",
          "text": [
            "1/1 [==============================] - 0s 64ms/step\n"
          ]
        },
        {
          "output_type": "stream",
          "name": "stderr",
          "text": [
            "\r 86%|████████▌ | 525/612 [01:14<00:10,  8.47it/s]"
          ]
        },
        {
          "output_type": "stream",
          "name": "stdout",
          "text": [
            "1/1 [==============================] - 0s 61ms/step\n"
          ]
        },
        {
          "output_type": "stream",
          "name": "stderr",
          "text": [
            "\r 86%|████████▌ | 526/612 [01:14<00:10,  8.49it/s]"
          ]
        },
        {
          "output_type": "stream",
          "name": "stdout",
          "text": [
            "1/1 [==============================] - 0s 64ms/step\n"
          ]
        },
        {
          "output_type": "stream",
          "name": "stderr",
          "text": [
            "\r 86%|████████▌ | 527/612 [01:14<00:10,  8.50it/s]"
          ]
        },
        {
          "output_type": "stream",
          "name": "stdout",
          "text": [
            "1/1 [==============================] - 0s 62ms/step\n"
          ]
        },
        {
          "output_type": "stream",
          "name": "stderr",
          "text": [
            "\r 86%|████████▋ | 528/612 [01:14<00:09,  8.68it/s]"
          ]
        },
        {
          "output_type": "stream",
          "name": "stdout",
          "text": [
            "1/1 [==============================] - 0s 62ms/step\n"
          ]
        },
        {
          "output_type": "stream",
          "name": "stderr",
          "text": [
            "\r 86%|████████▋ | 529/612 [01:14<00:11,  7.18it/s]"
          ]
        },
        {
          "output_type": "stream",
          "name": "stdout",
          "text": [
            "1/1 [==============================] - 0s 60ms/step\n"
          ]
        },
        {
          "output_type": "stream",
          "name": "stderr",
          "text": [
            "\r 87%|████████▋ | 530/612 [01:15<00:10,  7.59it/s]"
          ]
        },
        {
          "output_type": "stream",
          "name": "stdout",
          "text": [
            "1/1 [==============================] - 0s 61ms/step\n"
          ]
        },
        {
          "output_type": "stream",
          "name": "stderr",
          "text": [
            "\r 87%|████████▋ | 531/612 [01:15<00:10,  7.92it/s]"
          ]
        },
        {
          "output_type": "stream",
          "name": "stdout",
          "text": [
            "1/1 [==============================] - 0s 67ms/step\n"
          ]
        },
        {
          "output_type": "stream",
          "name": "stderr",
          "text": [
            "\r 87%|████████▋ | 532/612 [01:15<00:11,  6.84it/s]"
          ]
        },
        {
          "output_type": "stream",
          "name": "stdout",
          "text": [
            "1/1 [==============================] - 0s 61ms/step\n"
          ]
        },
        {
          "output_type": "stream",
          "name": "stderr",
          "text": [
            "\r 87%|████████▋ | 533/612 [01:15<00:10,  7.23it/s]"
          ]
        },
        {
          "output_type": "stream",
          "name": "stdout",
          "text": [
            "1/1 [==============================] - 0s 61ms/step\n"
          ]
        },
        {
          "output_type": "stream",
          "name": "stderr",
          "text": [
            "\r 87%|████████▋ | 534/612 [01:15<00:10,  7.62it/s]"
          ]
        },
        {
          "output_type": "stream",
          "name": "stdout",
          "text": [
            "1/1 [==============================] - 0s 63ms/step\n"
          ]
        },
        {
          "output_type": "stream",
          "name": "stderr",
          "text": [
            "\r 87%|████████▋ | 535/612 [01:15<00:11,  6.67it/s]"
          ]
        },
        {
          "output_type": "stream",
          "name": "stdout",
          "text": [
            "1/1 [==============================] - 0s 61ms/step\n"
          ]
        },
        {
          "output_type": "stream",
          "name": "stderr",
          "text": [
            "\r 88%|████████▊ | 536/612 [01:15<00:10,  7.17it/s]"
          ]
        },
        {
          "output_type": "stream",
          "name": "stdout",
          "text": [
            "1/1 [==============================] - 0s 62ms/step\n"
          ]
        },
        {
          "output_type": "stream",
          "name": "stderr",
          "text": [
            "\r 88%|████████▊ | 537/612 [01:16<00:10,  7.49it/s]"
          ]
        },
        {
          "output_type": "stream",
          "name": "stdout",
          "text": [
            "1/1 [==============================] - 0s 61ms/step\n"
          ]
        },
        {
          "output_type": "stream",
          "name": "stderr",
          "text": [
            "\r 88%|████████▊ | 538/612 [01:16<00:09,  7.85it/s]"
          ]
        },
        {
          "output_type": "stream",
          "name": "stdout",
          "text": [
            "1/1 [==============================] - 0s 61ms/step\n"
          ]
        },
        {
          "output_type": "stream",
          "name": "stderr",
          "text": [
            "\r 88%|████████▊ | 539/612 [01:16<00:09,  8.07it/s]"
          ]
        },
        {
          "output_type": "stream",
          "name": "stdout",
          "text": [
            "1/1 [==============================] - 0s 67ms/step\n"
          ]
        },
        {
          "output_type": "stream",
          "name": "stderr",
          "text": [
            "\r 88%|████████▊ | 540/612 [01:16<00:08,  8.25it/s]"
          ]
        },
        {
          "output_type": "stream",
          "name": "stdout",
          "text": [
            "1/1 [==============================] - 0s 70ms/step\n"
          ]
        },
        {
          "output_type": "stream",
          "name": "stderr",
          "text": [
            "\r 88%|████████▊ | 541/612 [01:16<00:08,  8.25it/s]"
          ]
        },
        {
          "output_type": "stream",
          "name": "stdout",
          "text": [
            "1/1 [==============================] - 0s 62ms/step\n"
          ]
        },
        {
          "output_type": "stream",
          "name": "stderr",
          "text": [
            "\r 89%|████████▊ | 542/612 [01:16<00:08,  8.36it/s]"
          ]
        },
        {
          "output_type": "stream",
          "name": "stdout",
          "text": [
            "1/1 [==============================] - 0s 63ms/step\n"
          ]
        },
        {
          "output_type": "stream",
          "name": "stderr",
          "text": [
            "\r 89%|████████▊ | 543/612 [01:16<00:08,  8.25it/s]"
          ]
        },
        {
          "output_type": "stream",
          "name": "stdout",
          "text": [
            "1/1 [==============================] - 0s 63ms/step\n"
          ]
        },
        {
          "output_type": "stream",
          "name": "stderr",
          "text": [
            "\r 89%|████████▉ | 544/612 [01:16<00:08,  8.38it/s]"
          ]
        },
        {
          "output_type": "stream",
          "name": "stdout",
          "text": [
            "1/1 [==============================] - 0s 63ms/step\n"
          ]
        },
        {
          "output_type": "stream",
          "name": "stderr",
          "text": [
            "\r 89%|████████▉ | 545/612 [01:16<00:07,  8.48it/s]"
          ]
        },
        {
          "output_type": "stream",
          "name": "stdout",
          "text": [
            "1/1 [==============================] - 0s 60ms/step\n"
          ]
        },
        {
          "output_type": "stream",
          "name": "stderr",
          "text": [
            "\r 89%|████████▉ | 546/612 [01:17<00:07,  8.61it/s]"
          ]
        },
        {
          "output_type": "stream",
          "name": "stdout",
          "text": [
            "1/1 [==============================] - 0s 61ms/step\n"
          ]
        },
        {
          "output_type": "stream",
          "name": "stderr",
          "text": [
            "\r 89%|████████▉ | 547/612 [01:17<00:07,  8.59it/s]"
          ]
        },
        {
          "output_type": "stream",
          "name": "stdout",
          "text": [
            "1/1 [==============================] - 0s 64ms/step\n"
          ]
        },
        {
          "output_type": "stream",
          "name": "stderr",
          "text": [
            "\r 90%|████████▉ | 548/612 [01:17<00:07,  8.56it/s]"
          ]
        },
        {
          "output_type": "stream",
          "name": "stdout",
          "text": [
            "1/1 [==============================] - 0s 70ms/step\n"
          ]
        },
        {
          "output_type": "stream",
          "name": "stderr",
          "text": [
            "\r 90%|████████▉ | 549/612 [01:17<00:07,  8.44it/s]"
          ]
        },
        {
          "output_type": "stream",
          "name": "stdout",
          "text": [
            "1/1 [==============================] - 0s 64ms/step\n"
          ]
        },
        {
          "output_type": "stream",
          "name": "stderr",
          "text": [
            "\r 90%|████████▉ | 550/612 [01:17<00:07,  8.54it/s]"
          ]
        },
        {
          "output_type": "stream",
          "name": "stdout",
          "text": [
            "1/1 [==============================] - 0s 62ms/step\n"
          ]
        },
        {
          "output_type": "stream",
          "name": "stderr",
          "text": [
            "\r 90%|█████████ | 551/612 [01:17<00:07,  8.56it/s]"
          ]
        },
        {
          "output_type": "stream",
          "name": "stdout",
          "text": [
            "1/1 [==============================] - 0s 63ms/step\n"
          ]
        },
        {
          "output_type": "stream",
          "name": "stderr",
          "text": [
            "\r 90%|█████████ | 552/612 [01:17<00:06,  8.57it/s]"
          ]
        },
        {
          "output_type": "stream",
          "name": "stdout",
          "text": [
            "1/1 [==============================] - 0s 61ms/step\n"
          ]
        },
        {
          "output_type": "stream",
          "name": "stderr",
          "text": [
            "\r 90%|█████████ | 553/612 [01:17<00:06,  8.60it/s]"
          ]
        },
        {
          "output_type": "stream",
          "name": "stdout",
          "text": [
            "1/1 [==============================] - 0s 99ms/step\n"
          ]
        },
        {
          "output_type": "stream",
          "name": "stderr",
          "text": [
            "\r 91%|█████████ | 554/612 [01:18<00:07,  7.73it/s]"
          ]
        },
        {
          "output_type": "stream",
          "name": "stdout",
          "text": [
            "1/1 [==============================] - 0s 87ms/step\n"
          ]
        },
        {
          "output_type": "stream",
          "name": "stderr",
          "text": [
            "\r 91%|█████████ | 555/612 [01:18<00:07,  7.40it/s]"
          ]
        },
        {
          "output_type": "stream",
          "name": "stdout",
          "text": [
            "1/1 [==============================] - 0s 78ms/step\n"
          ]
        },
        {
          "output_type": "stream",
          "name": "stderr",
          "text": [
            "\r 91%|█████████ | 556/612 [01:18<00:07,  7.12it/s]"
          ]
        },
        {
          "output_type": "stream",
          "name": "stdout",
          "text": [
            "1/1 [==============================] - 0s 82ms/step\n"
          ]
        },
        {
          "output_type": "stream",
          "name": "stderr",
          "text": [
            "\r 91%|█████████ | 557/612 [01:18<00:09,  6.07it/s]"
          ]
        },
        {
          "output_type": "stream",
          "name": "stdout",
          "text": [
            "1/1 [==============================] - 0s 90ms/step\n"
          ]
        },
        {
          "output_type": "stream",
          "name": "stderr",
          "text": [
            "\r 91%|█████████ | 558/612 [01:18<00:08,  6.14it/s]"
          ]
        },
        {
          "output_type": "stream",
          "name": "stdout",
          "text": [
            "1/1 [==============================] - 0s 77ms/step\n"
          ]
        },
        {
          "output_type": "stream",
          "name": "stderr",
          "text": [
            "\r 91%|█████████▏| 559/612 [01:18<00:08,  6.27it/s]"
          ]
        },
        {
          "output_type": "stream",
          "name": "stdout",
          "text": [
            "1/1 [==============================] - 0s 77ms/step\n"
          ]
        },
        {
          "output_type": "stream",
          "name": "stderr",
          "text": [
            "\r 92%|█████████▏| 560/612 [01:19<00:07,  6.57it/s]"
          ]
        },
        {
          "output_type": "stream",
          "name": "stdout",
          "text": [
            "1/1 [==============================] - 0s 76ms/step\n"
          ]
        },
        {
          "output_type": "stream",
          "name": "stderr",
          "text": [
            "\r 92%|█████████▏| 561/612 [01:19<00:07,  6.64it/s]"
          ]
        },
        {
          "output_type": "stream",
          "name": "stdout",
          "text": [
            "1/1 [==============================] - 0s 88ms/step\n"
          ]
        },
        {
          "output_type": "stream",
          "name": "stderr",
          "text": [
            "\r 92%|█████████▏| 562/612 [01:19<00:07,  6.57it/s]"
          ]
        },
        {
          "output_type": "stream",
          "name": "stdout",
          "text": [
            "1/1 [==============================] - 0s 90ms/step\n"
          ]
        },
        {
          "output_type": "stream",
          "name": "stderr",
          "text": [
            "\r 92%|█████████▏| 563/612 [01:19<00:08,  5.64it/s]"
          ]
        },
        {
          "output_type": "stream",
          "name": "stdout",
          "text": [
            "1/1 [==============================] - 0s 83ms/step\n"
          ]
        },
        {
          "output_type": "stream",
          "name": "stderr",
          "text": [
            "\r 92%|█████████▏| 564/612 [01:19<00:09,  5.25it/s]"
          ]
        },
        {
          "output_type": "stream",
          "name": "stdout",
          "text": [
            "1/1 [==============================] - 0s 88ms/step\n"
          ]
        },
        {
          "output_type": "stream",
          "name": "stderr",
          "text": [
            "\r 92%|█████████▏| 565/612 [01:20<00:09,  5.06it/s]"
          ]
        },
        {
          "output_type": "stream",
          "name": "stdout",
          "text": [
            "1/1 [==============================] - 0s 88ms/step\n"
          ]
        },
        {
          "output_type": "stream",
          "name": "stderr",
          "text": [
            "\r 92%|█████████▏| 566/612 [01:20<00:08,  5.38it/s]"
          ]
        },
        {
          "output_type": "stream",
          "name": "stdout",
          "text": [
            "1/1 [==============================] - 0s 79ms/step\n"
          ]
        },
        {
          "output_type": "stream",
          "name": "stderr",
          "text": [
            "\r 93%|█████████▎| 567/612 [01:20<00:08,  5.12it/s]"
          ]
        },
        {
          "output_type": "stream",
          "name": "stdout",
          "text": [
            "1/1 [==============================] - 0s 74ms/step\n"
          ]
        },
        {
          "output_type": "stream",
          "name": "stderr",
          "text": [
            "\r 93%|█████████▎| 568/612 [01:20<00:08,  5.06it/s]"
          ]
        },
        {
          "output_type": "stream",
          "name": "stdout",
          "text": [
            "1/1 [==============================] - 0s 70ms/step\n"
          ]
        },
        {
          "output_type": "stream",
          "name": "stderr",
          "text": [
            "\r 93%|█████████▎| 569/612 [01:20<00:07,  5.72it/s]"
          ]
        },
        {
          "output_type": "stream",
          "name": "stdout",
          "text": [
            "1/1 [==============================] - 0s 76ms/step\n"
          ]
        },
        {
          "output_type": "stream",
          "name": "stderr",
          "text": [
            "\r 93%|█████████▎| 570/612 [01:20<00:07,  5.54it/s]"
          ]
        },
        {
          "output_type": "stream",
          "name": "stdout",
          "text": [
            "1/1 [==============================] - 0s 72ms/step\n"
          ]
        },
        {
          "output_type": "stream",
          "name": "stderr",
          "text": [
            "\r 93%|█████████▎| 571/612 [01:21<00:06,  6.13it/s]"
          ]
        },
        {
          "output_type": "stream",
          "name": "stdout",
          "text": [
            "1/1 [==============================] - 0s 70ms/step\n"
          ]
        },
        {
          "output_type": "stream",
          "name": "stderr",
          "text": [
            "\r 93%|█████████▎| 572/612 [01:21<00:06,  5.80it/s]"
          ]
        },
        {
          "output_type": "stream",
          "name": "stdout",
          "text": [
            "1/1 [==============================] - 0s 77ms/step\n"
          ]
        },
        {
          "output_type": "stream",
          "name": "stderr",
          "text": [
            "\r 94%|█████████▎| 573/612 [01:21<00:07,  5.53it/s]"
          ]
        },
        {
          "output_type": "stream",
          "name": "stdout",
          "text": [
            "1/1 [==============================] - 0s 74ms/step\n"
          ]
        },
        {
          "output_type": "stream",
          "name": "stderr",
          "text": [
            "\r 94%|█████████▍| 574/612 [01:21<00:06,  6.06it/s]"
          ]
        },
        {
          "output_type": "stream",
          "name": "stdout",
          "text": [
            "1/1 [==============================] - 0s 68ms/step\n"
          ]
        },
        {
          "output_type": "stream",
          "name": "stderr",
          "text": [
            "\r 94%|█████████▍| 575/612 [01:21<00:05,  6.61it/s]"
          ]
        },
        {
          "output_type": "stream",
          "name": "stdout",
          "text": [
            "1/1 [==============================] - 0s 64ms/step\n"
          ]
        },
        {
          "output_type": "stream",
          "name": "stderr",
          "text": [
            "\r 94%|█████████▍| 576/612 [01:21<00:05,  7.05it/s]"
          ]
        },
        {
          "output_type": "stream",
          "name": "stdout",
          "text": [
            "1/1 [==============================] - 0s 65ms/step\n"
          ]
        },
        {
          "output_type": "stream",
          "name": "stderr",
          "text": [
            "\r 94%|█████████▍| 577/612 [01:21<00:05,  6.34it/s]"
          ]
        },
        {
          "output_type": "stream",
          "name": "stdout",
          "text": [
            "1/1 [==============================] - 0s 63ms/step\n"
          ]
        },
        {
          "output_type": "stream",
          "name": "stderr",
          "text": [
            "\r 94%|█████████▍| 578/612 [01:22<00:04,  6.86it/s]"
          ]
        },
        {
          "output_type": "stream",
          "name": "stdout",
          "text": [
            "1/1 [==============================] - 0s 66ms/step\n"
          ]
        },
        {
          "output_type": "stream",
          "name": "stderr",
          "text": [
            "\r 95%|█████████▍| 579/612 [01:22<00:04,  7.28it/s]"
          ]
        },
        {
          "output_type": "stream",
          "name": "stdout",
          "text": [
            "1/1 [==============================] - 0s 67ms/step\n"
          ]
        },
        {
          "output_type": "stream",
          "name": "stderr",
          "text": [
            "\r 95%|█████████▍| 580/612 [01:22<00:04,  7.40it/s]"
          ]
        },
        {
          "output_type": "stream",
          "name": "stdout",
          "text": [
            "1/1 [==============================] - 0s 66ms/step\n"
          ]
        },
        {
          "output_type": "stream",
          "name": "stderr",
          "text": [
            "\r 95%|█████████▍| 581/612 [01:22<00:04,  7.53it/s]"
          ]
        },
        {
          "output_type": "stream",
          "name": "stdout",
          "text": [
            "1/1 [==============================] - 0s 60ms/step\n"
          ]
        },
        {
          "output_type": "stream",
          "name": "stderr",
          "text": [
            "\r 95%|█████████▌| 582/612 [01:22<00:03,  7.76it/s]"
          ]
        },
        {
          "output_type": "stream",
          "name": "stdout",
          "text": [
            "1/1 [==============================] - 0s 62ms/step\n"
          ]
        },
        {
          "output_type": "stream",
          "name": "stderr",
          "text": [
            "\r 95%|█████████▌| 583/612 [01:22<00:03,  8.06it/s]"
          ]
        },
        {
          "output_type": "stream",
          "name": "stdout",
          "text": [
            "1/1 [==============================] - 0s 65ms/step\n"
          ]
        },
        {
          "output_type": "stream",
          "name": "stderr",
          "text": [
            "\r 95%|█████████▌| 584/612 [01:22<00:03,  8.00it/s]"
          ]
        },
        {
          "output_type": "stream",
          "name": "stdout",
          "text": [
            "1/1 [==============================] - 0s 62ms/step\n"
          ]
        },
        {
          "output_type": "stream",
          "name": "stderr",
          "text": [
            "\r 96%|█████████▌| 585/612 [01:22<00:03,  8.22it/s]"
          ]
        },
        {
          "output_type": "stream",
          "name": "stdout",
          "text": [
            "1/1 [==============================] - 0s 61ms/step\n"
          ]
        },
        {
          "output_type": "stream",
          "name": "stderr",
          "text": [
            "\r 96%|█████████▌| 586/612 [01:23<00:03,  8.25it/s]"
          ]
        },
        {
          "output_type": "stream",
          "name": "stdout",
          "text": [
            "1/1 [==============================] - 0s 60ms/step\n"
          ]
        },
        {
          "output_type": "stream",
          "name": "stderr",
          "text": [
            "\r 96%|█████████▌| 587/612 [01:23<00:02,  8.41it/s]"
          ]
        },
        {
          "output_type": "stream",
          "name": "stdout",
          "text": [
            "1/1 [==============================] - 0s 62ms/step\n"
          ]
        },
        {
          "output_type": "stream",
          "name": "stderr",
          "text": [
            "\r 96%|█████████▌| 588/612 [01:23<00:02,  8.48it/s]"
          ]
        },
        {
          "output_type": "stream",
          "name": "stdout",
          "text": [
            "1/1 [==============================] - 0s 63ms/step\n"
          ]
        },
        {
          "output_type": "stream",
          "name": "stderr",
          "text": [
            "\r 96%|█████████▌| 589/612 [01:23<00:02,  8.38it/s]"
          ]
        },
        {
          "output_type": "stream",
          "name": "stdout",
          "text": [
            "1/1 [==============================] - 0s 69ms/step\n"
          ]
        },
        {
          "output_type": "stream",
          "name": "stderr",
          "text": [
            "\r 96%|█████████▋| 590/612 [01:23<00:03,  7.04it/s]"
          ]
        },
        {
          "output_type": "stream",
          "name": "stdout",
          "text": [
            "1/1 [==============================] - 0s 65ms/step\n"
          ]
        },
        {
          "output_type": "stream",
          "name": "stderr",
          "text": [
            "\r 97%|█████████▋| 591/612 [01:23<00:02,  7.58it/s]"
          ]
        },
        {
          "output_type": "stream",
          "name": "stdout",
          "text": [
            "1/1 [==============================] - 0s 63ms/step\n"
          ]
        },
        {
          "output_type": "stream",
          "name": "stderr",
          "text": [
            "\r 97%|█████████▋| 592/612 [01:23<00:02,  7.80it/s]"
          ]
        },
        {
          "output_type": "stream",
          "name": "stdout",
          "text": [
            "1/1 [==============================] - 0s 62ms/step\n"
          ]
        },
        {
          "output_type": "stream",
          "name": "stderr",
          "text": [
            "\r 97%|█████████▋| 593/612 [01:23<00:02,  8.05it/s]"
          ]
        },
        {
          "output_type": "stream",
          "name": "stdout",
          "text": [
            "1/1 [==============================] - 0s 61ms/step\n"
          ]
        },
        {
          "output_type": "stream",
          "name": "stderr",
          "text": [
            "\r 97%|█████████▋| 594/612 [01:24<00:02,  8.11it/s]"
          ]
        },
        {
          "output_type": "stream",
          "name": "stdout",
          "text": [
            "1/1 [==============================] - 0s 63ms/step\n"
          ]
        },
        {
          "output_type": "stream",
          "name": "stderr",
          "text": [
            "\r 97%|█████████▋| 595/612 [01:24<00:02,  8.31it/s]"
          ]
        },
        {
          "output_type": "stream",
          "name": "stdout",
          "text": [
            "1/1 [==============================] - 0s 61ms/step\n"
          ]
        },
        {
          "output_type": "stream",
          "name": "stderr",
          "text": [
            "\r 97%|█████████▋| 596/612 [01:24<00:01,  8.47it/s]"
          ]
        },
        {
          "output_type": "stream",
          "name": "stdout",
          "text": [
            "1/1 [==============================] - 0s 61ms/step\n"
          ]
        },
        {
          "output_type": "stream",
          "name": "stderr",
          "text": [
            "\r 98%|█████████▊| 597/612 [01:24<00:01,  8.58it/s]"
          ]
        },
        {
          "output_type": "stream",
          "name": "stdout",
          "text": [
            "1/1 [==============================] - 0s 82ms/step\n"
          ]
        },
        {
          "output_type": "stream",
          "name": "stderr",
          "text": [
            "\r 98%|█████████▊| 598/612 [01:24<00:01,  8.33it/s]"
          ]
        },
        {
          "output_type": "stream",
          "name": "stdout",
          "text": [
            "1/1 [==============================] - 0s 66ms/step\n"
          ]
        },
        {
          "output_type": "stream",
          "name": "stderr",
          "text": [
            "\r 98%|█████████▊| 599/612 [01:24<00:01,  8.21it/s]"
          ]
        },
        {
          "output_type": "stream",
          "name": "stdout",
          "text": [
            "1/1 [==============================] - 0s 62ms/step\n"
          ]
        },
        {
          "output_type": "stream",
          "name": "stderr",
          "text": [
            "\r 98%|█████████▊| 600/612 [01:24<00:01,  8.33it/s]"
          ]
        },
        {
          "output_type": "stream",
          "name": "stdout",
          "text": [
            "1/1 [==============================] - 0s 64ms/step\n"
          ]
        },
        {
          "output_type": "stream",
          "name": "stderr",
          "text": [
            "\r 98%|█████████▊| 601/612 [01:24<00:01,  6.96it/s]"
          ]
        },
        {
          "output_type": "stream",
          "name": "stdout",
          "text": [
            "1/1 [==============================] - 0s 62ms/step\n"
          ]
        },
        {
          "output_type": "stream",
          "name": "stderr",
          "text": [
            "\r 98%|█████████▊| 602/612 [01:25<00:01,  7.45it/s]"
          ]
        },
        {
          "output_type": "stream",
          "name": "stdout",
          "text": [
            "1/1 [==============================] - 0s 61ms/step\n"
          ]
        },
        {
          "output_type": "stream",
          "name": "stderr",
          "text": [
            "\r 99%|█████████▊| 603/612 [01:25<00:01,  7.86it/s]"
          ]
        },
        {
          "output_type": "stream",
          "name": "stdout",
          "text": [
            "1/1 [==============================] - 0s 62ms/step\n"
          ]
        },
        {
          "output_type": "stream",
          "name": "stderr",
          "text": [
            "\r 99%|█████████▊| 604/612 [01:25<00:01,  7.87it/s]"
          ]
        },
        {
          "output_type": "stream",
          "name": "stdout",
          "text": [
            "1/1 [==============================] - 0s 62ms/step\n"
          ]
        },
        {
          "output_type": "stream",
          "name": "stderr",
          "text": [
            "\r 99%|█████████▉| 605/612 [01:25<00:00,  8.13it/s]"
          ]
        },
        {
          "output_type": "stream",
          "name": "stdout",
          "text": [
            "1/1 [==============================] - 0s 67ms/step\n"
          ]
        },
        {
          "output_type": "stream",
          "name": "stderr",
          "text": [
            "\r 99%|█████████▉| 606/612 [01:25<00:00,  8.32it/s]"
          ]
        },
        {
          "output_type": "stream",
          "name": "stdout",
          "text": [
            "1/1 [==============================] - 0s 61ms/step\n"
          ]
        },
        {
          "output_type": "stream",
          "name": "stderr",
          "text": [
            "\r 99%|█████████▉| 607/612 [01:25<00:00,  8.39it/s]"
          ]
        },
        {
          "output_type": "stream",
          "name": "stdout",
          "text": [
            "1/1 [==============================] - 0s 61ms/step\n"
          ]
        },
        {
          "output_type": "stream",
          "name": "stderr",
          "text": [
            "\r 99%|█████████▉| 608/612 [01:25<00:00,  8.48it/s]"
          ]
        },
        {
          "output_type": "stream",
          "name": "stdout",
          "text": [
            "1/1 [==============================] - 0s 62ms/step\n"
          ]
        },
        {
          "output_type": "stream",
          "name": "stderr",
          "text": [
            "\r100%|█████████▉| 609/612 [01:25<00:00,  8.52it/s]"
          ]
        },
        {
          "output_type": "stream",
          "name": "stdout",
          "text": [
            "1/1 [==============================] - 0s 60ms/step\n"
          ]
        },
        {
          "output_type": "stream",
          "name": "stderr",
          "text": [
            "\r100%|█████████▉| 610/612 [01:26<00:00,  8.43it/s]"
          ]
        },
        {
          "output_type": "stream",
          "name": "stdout",
          "text": [
            "1/1 [==============================] - 0s 63ms/step\n"
          ]
        },
        {
          "output_type": "stream",
          "name": "stderr",
          "text": [
            "\r100%|█████████▉| 611/612 [01:26<00:00,  8.52it/s]"
          ]
        },
        {
          "output_type": "stream",
          "name": "stdout",
          "text": [
            "1/1 [==============================] - 0s 65ms/step\n"
          ]
        },
        {
          "output_type": "stream",
          "name": "stderr",
          "text": [
            "100%|██████████| 612/612 [01:26<00:00,  7.09it/s]\n"
          ]
        }
      ]
    },
    {
      "cell_type": "code",
      "source": [
        "import cv2\n",
        "import matplotlib.pyplot as plt\n",
        "\n",
        "x=cv2.imread(\"/content/output/10.png\")\n",
        "x=cv2.cvtColor(x, cv2.COLOR_RGB2BGR)\n",
        "plt.imshow(x)"
      ],
      "metadata": {
        "colab": {
          "base_uri": "https://localhost:8080/",
          "height": 175
        },
        "id": "LdAeLO06Wo5H",
        "outputId": "a3b461f6-5666-4d3e-cab3-d17f52315949"
      },
      "execution_count": null,
      "outputs": [
        {
          "output_type": "execute_result",
          "data": {
            "text/plain": [
              "<matplotlib.image.AxesImage at 0x7f94364daaf0>"
            ]
          },
          "metadata": {},
          "execution_count": 11
        },
        {
          "output_type": "display_data",
          "data": {
            "text/plain": [
              "<Figure size 432x288 with 1 Axes>"
            ],
            "image/png": "[encoded data removed]"
          },
          "metadata": {
            "needs_background": "light"
          }
        }
      ]
    },
    {
      "cell_type": "code",
      "source": [
        "import pandas as pd\n",
        "import matplotlib.pyplot as plt\n",
        "x=pd.read_csv(\"/content/files/trans_UNET_data.csv\")\n",
        "epoch=x.iloc[:,0:1].values\n",
        "regular_iou=x.iloc[:,3:4].values\n",
        "val_iou=x.iloc[:,8:9].values \n",
        "plt.plot(epoch,regular_iou,label='regular iou')\n",
        "plt.plot(epoch,val_iou,label='validation iou')\n",
        "plt.legend()\n",
        "plt.show()"
      ],
      "metadata": {
        "colab": {
          "base_uri": "https://localhost:8080/",
          "height": 265
        },
        "id": "SOW1we3zWsGO",
        "outputId": "8e686060-86b3-4956-89ec-de8ebc57220b"
      },
      "execution_count": null,
      "outputs": [
        {
          "output_type": "display_data",
          "data": {
            "text/plain": [
              "<Figure size 432x288 with 1 Axes>"
            ],
            "image/png": "[encoded data removed]"
          },
          "metadata": {
            "needs_background": "light"
          }
        }
      ]
    },
    {
      "cell_type": "code",
      "source": [],
      "metadata": {
        "id": "6PZ9J4qfWsLj"
      },
      "execution_count": null,
      "outputs": []
    }
  ]
}