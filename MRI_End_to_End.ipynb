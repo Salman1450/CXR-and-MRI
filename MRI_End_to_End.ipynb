{
  "nbformat": 4,
  "nbformat_minor": 0,
  "metadata": {
    "colab": {
      "provenance": [],
      "authorship_tag": "ABX9TyOFfXTFlHWb5EGFemX8kNrJ",
      "include_colab_link": true
    },
    "kernelspec": {
      "name": "python3",
      "display_name": "Python 3"
    },
    "language_info": {
      "name": "python"
    },
    "gpuClass": "standard",
    "accelerator": "GPU"
  },
  "cells": [
    {
      "cell_type": "markdown",
      "metadata": {
        "id": "view-in-github",
        "colab_type": "text"
      },
      "source": [
        "<a href=\"https://colab.research.google.com/github/Salman1450/CXR-and-MRI/blob/main/MRI_End_to_End.ipynb\" target=\"_parent\"><img src=\"https://colab.research.google.com/assets/colab-badge.svg\" alt=\"Open In Colab\"/></a>"
      ]
    },
    {
      "cell_type": "code",
      "execution_count": null,
      "metadata": {
        "id": "uPbx3We68dtx"
      },
      "outputs": [],
      "source": [
        "#First Run the segmentation then classification then annotation.\n",
        "import matplotlib.pyplot as plt\n",
        "from tensorflow.keras.models import Model\n",
        "from tensorflow.keras.layers import GlobalAveragePooling2D, Dense\n",
        "from tensorflow.keras.applications import vgg16\n",
        "from tensorflow.keras.optimizers import Adam, SGD\n",
        "import scipy  #Used to upsample our image\n",
        "\n",
        "import os\n",
        "import cv2\n",
        "from PIL import Image\n",
        "import numpy as np"
      ]
    },
    {
      "cell_type": "code",
      "source": [
        "from google.colab import drive\n",
        "drive.mount('/content/drive')"
      ],
      "metadata": {
        "colab": {
          "base_uri": "https://localhost:8080/"
        },
        "id": "4__FDQS5_LVa",
        "outputId": "d4b98c74-cd95-48e5-f57c-08a3df670ae7"
      },
      "execution_count": null,
      "outputs": [
        {
          "output_type": "stream",
          "name": "stdout",
          "text": [
            "Mounted at /content/drive\n"
          ]
        }
      ]
    },
    {
      "cell_type": "code",
      "source": [
        "image_directory = '/content/drive/MyDrive/Nickparver_156MB/Training/'\n",
        "SIZE = 224\n",
        "dataset = []  #Many ways to handle data, you can use pandas. Here, we are using a list format.  \n",
        "label = []  #Placeholders to define add labels. We will add [0,1,2,3] to [glioma,meningioma,no tumor,pituitary]"
      ],
      "metadata": {
        "id": "NEybomK6_RaC"
      },
      "execution_count": null,
      "outputs": []
    },
    {
      "cell_type": "code",
      "source": [
        "glioma_images = os.listdir(image_directory + 'glioma/')\n",
        "for i, image_name in enumerate(glioma_images):    \n",
        "    \n",
        "    if (image_name.split('.')[1] == 'jpg'):\n",
        "        image = cv2.imread(image_directory + 'glioma/' + image_name)\n",
        "        image = Image.fromarray(image, 'RGB')\n",
        "        image = image.resize((SIZE, SIZE))\n",
        "        dataset.append(np.array(image))\n",
        "        label.append(0)\n",
        "\n",
        "\n",
        "\n",
        "meningioma_images = os.listdir(image_directory + 'meningioma/')\n",
        "for i, image_name in enumerate(meningioma_images):\n",
        "    if (image_name.split('.')[1] == 'jpg'):\n",
        "        image = cv2.imread(image_directory + 'meningioma/' + image_name)\n",
        "        image = Image.fromarray(image, 'RGB')\n",
        "        image = image.resize((SIZE, SIZE))\n",
        "        dataset.append(np.array(image))\n",
        "        label.append(1)\n",
        "\n",
        "notumor_images = os.listdir(image_directory + 'notumor/')\n",
        "for i, image_name in enumerate(notumor_images):\n",
        "    if (image_name.split('.')[1] == 'jpg'):\n",
        "        image = cv2.imread(image_directory + 'notumor/' + image_name)\n",
        "        image = Image.fromarray(image, 'RGB')\n",
        "        image = image.resize((SIZE, SIZE))\n",
        "        dataset.append(np.array(image))\n",
        "        label.append(2)\n",
        "\n",
        "pituitary_images = os.listdir(image_directory + 'pituitary/')\n",
        "for i, image_name in enumerate(pituitary_images):\n",
        "    if (image_name.split('.')[1] == 'jpg'):\n",
        "        image = cv2.imread(image_directory + 'pituitary/' + image_name)\n",
        "        image = Image.fromarray(image, 'RGB')\n",
        "        image = image.resize((SIZE, SIZE))\n",
        "        dataset.append(np.array(image))\n",
        "        label.append(3)"
      ],
      "metadata": {
        "id": "NHzZ9RMl_dXb"
      },
      "execution_count": null,
      "outputs": []
    },
    {
      "cell_type": "code",
      "source": [
        "dataset = np.array(dataset)\n",
        "label = np.array(label)"
      ],
      "metadata": {
        "id": "eQmkZvOK_g5R"
      },
      "execution_count": null,
      "outputs": []
    },
    {
      "cell_type": "code",
      "source": [
        "#Split into train and test data sets\n",
        "from sklearn.model_selection import train_test_split\n",
        "X_train, X_test, y_train, y_test = train_test_split(dataset, label, test_size = 0.20, random_state = 0)"
      ],
      "metadata": {
        "id": "8tPGbKwJAIgM"
      },
      "execution_count": null,
      "outputs": []
    },
    {
      "cell_type": "code",
      "source": [
        "#Let us setup the model as multiclass with total classes as 4.\n",
        "#This way the model can be used for other multiclass examples. \n",
        "#Since we will be using categorical cross entropy loss, we need to convert our Y values to categorical. \n",
        "from tensorflow.keras.utils import to_categorical\n",
        "y_train = to_categorical(y_train)\n",
        "y_test = to_categorical(y_test)"
      ],
      "metadata": {
        "id": "JfAeX7mCALfe"
      },
      "execution_count": null,
      "outputs": []
    },
    {
      "cell_type": "code",
      "source": [
        "#Define the model. \n",
        "#Here, we use pre-trained VGG16 layers and add GlobalAveragePooling and dense prediction layers.\n",
        "#You can define any model. \n",
        "#Also, here we set the first few convolutional blocks as non-trainable and only train the last block.\n",
        "#This is just to speed up the training. You can train all layers if you want. \n",
        "def get_model(input_shape = (224,224,3)):\n",
        "    \n",
        "    vgg = vgg16.VGG16(weights='imagenet', include_top=False, input_shape = input_shape)\n",
        "\n",
        "    \n",
        "    for layer in vgg.layers[:-5]:    #Set block5 trainable, all others as non-trainable\n",
        "        print(layer.name)\n",
        "        layer.trainable = False #All others as non-trainable.\n",
        "\n",
        "    x = vgg.output\n",
        "    x = GlobalAveragePooling2D()(x) #Use GlobalAveragePooling and NOT flatten. \n",
        "    x = Dense(4, activation=\"softmax\")(x)  #We are defining this as multiclass problem. \n",
        "\n",
        "    model = Model(vgg.input, x)\n",
        "    model.compile(loss = \"categorical_crossentropy\", \n",
        "                  optimizer = SGD(lr=0.0001, momentum=0.9), metrics=[\"accuracy\"])\n",
        "    \n",
        "    return model\n",
        "   \n",
        "model = get_model(input_shape = (224,224,3))\n",
        "print(model.summary())"
      ],
      "metadata": {
        "id": "09i3FuzJAOFG",
        "colab": {
          "base_uri": "https://localhost:8080/"
        },
        "outputId": "758c6387-0621-4097-bcf4-e47363b1332b"
      },
      "execution_count": null,
      "outputs": [
        {
          "output_type": "stream",
          "name": "stdout",
          "text": [
            "Downloading data from https://storage.googleapis.com/tensorflow/keras-applications/vgg16/vgg16_weights_tf_dim_ordering_tf_kernels_notop.h5\n",
            "58889256/58889256 [==============================] - 4s 0us/step\n",
            "input_3\n",
            "block1_conv1\n",
            "block1_conv2\n",
            "block1_pool\n",
            "block2_conv1\n",
            "block2_conv2\n",
            "block2_pool\n",
            "block3_conv1\n",
            "block3_conv2\n",
            "block3_conv3\n",
            "block3_pool\n",
            "block4_conv1\n",
            "block4_conv2\n",
            "block4_conv3\n",
            "Model: \"model\"\n",
            "_________________________________________________________________\n",
            " Layer (type)                Output Shape              Param #   \n",
            "=================================================================\n",
            " input_3 (InputLayer)        [(None, 224, 224, 3)]     0         \n",
            "                                                                 \n",
            " block1_conv1 (Conv2D)       (None, 224, 224, 64)      1792      \n",
            "                                                                 \n",
            " block1_conv2 (Conv2D)       (None, 224, 224, 64)      36928     \n",
            "                                                                 \n",
            " block1_pool (MaxPooling2D)  (None, 112, 112, 64)      0         \n",
            "                                                                 \n",
            " block2_conv1 (Conv2D)       (None, 112, 112, 128)     73856     \n",
            "                                                                 \n",
            " block2_conv2 (Conv2D)       (None, 112, 112, 128)     147584    \n",
            "                                                                 \n",
            " block2_pool (MaxPooling2D)  (None, 56, 56, 128)       0         \n",
            "                                                                 \n",
            " block3_conv1 (Conv2D)       (None, 56, 56, 256)       295168    \n",
            "                                                                 \n",
            " block3_conv2 (Conv2D)       (None, 56, 56, 256)       590080    \n",
            "                                                                 \n",
            " block3_conv3 (Conv2D)       (None, 56, 56, 256)       590080    \n",
            "                                                                 \n",
            " block3_pool (MaxPooling2D)  (None, 28, 28, 256)       0         \n",
            "                                                                 \n",
            " block4_conv1 (Conv2D)       (None, 28, 28, 512)       1180160   \n",
            "                                                                 \n",
            " block4_conv2 (Conv2D)       (None, 28, 28, 512)       2359808   \n",
            "                                                                 \n",
            " block4_conv3 (Conv2D)       (None, 28, 28, 512)       2359808   \n",
            "                                                                 \n",
            " block4_pool (MaxPooling2D)  (None, 14, 14, 512)       0         \n",
            "                                                                 \n",
            " block5_conv1 (Conv2D)       (None, 14, 14, 512)       2359808   \n",
            "                                                                 \n",
            " block5_conv2 (Conv2D)       (None, 14, 14, 512)       2359808   \n",
            "                                                                 \n",
            " block5_conv3 (Conv2D)       (None, 14, 14, 512)       2359808   \n",
            "                                                                 \n",
            " block5_pool (MaxPooling2D)  (None, 7, 7, 512)         0         \n",
            "                                                                 \n",
            " global_average_pooling2d (G  (None, 512)              0         \n",
            " lobalAveragePooling2D)                                          \n",
            "                                                                 \n",
            " dense (Dense)               (None, 4)                 2052      \n",
            "                                                                 \n",
            "=================================================================\n",
            "Total params: 14,716,740\n",
            "Trainable params: 7,081,476\n",
            "Non-trainable params: 7,635,264\n",
            "_________________________________________________________________\n",
            "None\n"
          ]
        },
        {
          "output_type": "stream",
          "name": "stderr",
          "text": [
            "/usr/local/lib/python3.8/dist-packages/keras/optimizers/optimizer_v2/gradient_descent.py:108: UserWarning: The `lr` argument is deprecated, use `learning_rate` instead.\n",
            "  super(SGD, self).__init__(name, **kwargs)\n"
          ]
        }
      ]
    },
    {
      "cell_type": "code",
      "source": [
        "history = model.fit(X_train, y_train, batch_size=16, epochs=10, verbose = 1, \n",
        "                    validation_data=(X_test,y_test))"
      ],
      "metadata": {
        "id": "lSKc95JPAbHy",
        "colab": {
          "base_uri": "https://localhost:8080/"
        },
        "outputId": "0630924c-04d8-4653-c9c5-25772244a3d1"
      },
      "execution_count": null,
      "outputs": [
        {
          "output_type": "stream",
          "name": "stdout",
          "text": [
            "Epoch 1/10\n",
            "288/288 [==============================] - 39s 127ms/step - loss: 0.4209 - accuracy: 0.8597 - val_loss: 0.2150 - val_accuracy: 0.9270\n",
            "Epoch 2/10\n",
            "288/288 [==============================] - 32s 111ms/step - loss: 0.1398 - accuracy: 0.9511 - val_loss: 0.1997 - val_accuracy: 0.9288\n",
            "Epoch 3/10\n",
            "288/288 [==============================] - 32s 112ms/step - loss: 0.0720 - accuracy: 0.9776 - val_loss: 0.1239 - val_accuracy: 0.9609\n",
            "Epoch 4/10\n",
            "288/288 [==============================] - 33s 114ms/step - loss: 0.0459 - accuracy: 0.9868 - val_loss: 0.1416 - val_accuracy: 0.9540\n",
            "Epoch 5/10\n",
            "288/288 [==============================] - 32s 111ms/step - loss: 0.0256 - accuracy: 0.9950 - val_loss: 0.1109 - val_accuracy: 0.9661\n",
            "Epoch 6/10\n",
            "288/288 [==============================] - 32s 112ms/step - loss: 0.0159 - accuracy: 0.9976 - val_loss: 0.1131 - val_accuracy: 0.9713\n",
            "Epoch 7/10\n",
            "288/288 [==============================] - 32s 113ms/step - loss: 0.0106 - accuracy: 0.9993 - val_loss: 0.1141 - val_accuracy: 0.9661\n",
            "Epoch 8/10\n",
            "288/288 [==============================] - 32s 112ms/step - loss: 0.0086 - accuracy: 0.9996 - val_loss: 0.1135 - val_accuracy: 0.9705\n",
            "Epoch 9/10\n",
            "288/288 [==============================] - 32s 112ms/step - loss: 0.0059 - accuracy: 0.9998 - val_loss: 0.1155 - val_accuracy: 0.9679\n",
            "Epoch 10/10\n",
            "288/288 [==============================] - 32s 112ms/step - loss: 0.0043 - accuracy: 0.9998 - val_loss: 0.1162 - val_accuracy: 0.9661\n"
          ]
        }
      ]
    },
    {
      "cell_type": "code",
      "source": [
        "# save it as a h5 file\n",
        "from tensorflow.keras.models import load_model\n",
        "model.save('model_mri.h5')"
      ],
      "metadata": {
        "id": "wL7cOBb_Anq8"
      },
      "execution_count": null,
      "outputs": []
    },
    {
      "cell_type": "code",
      "source": [
        "#plot the training and validation accuracy and loss at each epoch\n",
        "loss = history.history['loss']\n",
        "val_loss = history.history['val_loss']\n",
        "epochs = range(1, len(loss) + 1)\n",
        "plt.plot(epochs, loss, 'y', label='Training loss')\n",
        "plt.plot(epochs, val_loss, 'r', label='Validation loss')\n",
        "plt.title('Training and validation loss')\n",
        "plt.xlabel('Epochs')\n",
        "plt.ylabel('Loss')\n",
        "plt.legend()\n",
        "plt.show()"
      ],
      "metadata": {
        "colab": {
          "base_uri": "https://localhost:8080/",
          "height": 295
        },
        "id": "ZJpnLu4kCLMX",
        "outputId": "b29db887-6068-42a1-bdbc-09a0a96e9218"
      },
      "execution_count": null,
      "outputs": [
        {
          "output_type": "display_data",
          "data": {
            "text/plain": [
              "<Figure size 432x288 with 1 Axes>"
            ],
            "image/png": "[encoded data removed]"
          },
          "metadata": {
            "needs_background": "light"
          }
        }
      ]
    },
    {
      "cell_type": "code",
      "source": [
        "acc = history.history['accuracy']\n",
        "val_acc = history.history['val_accuracy']\n",
        "plt.plot(epochs, acc, 'y', label='Training acc')\n",
        "plt.plot(epochs, val_acc, 'r', label='Validation acc')\n",
        "plt.title('Training and validation accuracy')\n",
        "plt.xlabel('Epochs')\n",
        "plt.ylabel('Accuracy')\n",
        "plt.legend()\n",
        "plt.show()"
      ],
      "metadata": {
        "colab": {
          "base_uri": "https://localhost:8080/",
          "height": 295
        },
        "id": "kvcRxNn7CYxl",
        "outputId": "8c4a68f4-f7bd-45b4-d621-d57555ac0ea1"
      },
      "execution_count": null,
      "outputs": [
        {
          "output_type": "display_data",
          "data": {
            "text/plain": [
              "<Figure size 432x288 with 1 Axes>"
            ],
            "image/png": "[encoded data removed]"
          },
          "metadata": {
            "needs_background": "light"
          }
        }
      ]
    },
    {
      "cell_type": "code",
      "source": [
        "#model = tf.keras.models.load_model(\"/content/model_mri.h5\")\n",
        "#Test on single image.\n",
        "n=10  #Select the index of image to be loaded for testing\n",
        "img = X_test[n]\n",
        "plt.imshow(img)\n",
        "input_img = np.expand_dims(img, axis=0) #Expand dims so the input is (num images, x, y, class)\n",
        "print(\"The prediction for this image is: \", np.argmax(model.predict(input_img)))\n",
        "print(\"The actual label for this image is: \", np.argmax(y_test[n]))"
      ],
      "metadata": {
        "colab": {
          "base_uri": "https://localhost:8080/",
          "height": 321
        },
        "id": "yoR9T4JUCbuV",
        "outputId": "8486c465-af55-4979-9b47-d18d216398a9"
      },
      "execution_count": null,
      "outputs": [
        {
          "output_type": "stream",
          "name": "stdout",
          "text": [
            "1/1 [==============================] - 1s 779ms/step\n",
            "The prediction for this image is:  0\n",
            "The actual label for this image is:  0\n"
          ]
        },
        {
          "output_type": "display_data",
          "data": {
            "text/plain": [
              "<Figure size 432x288 with 1 Axes>"
            ],
            "image/png": "[encoded data removed]"
          },
          "metadata": {
            "needs_background": "light"
          }
        }
      ]
    },
    {
      "cell_type": "code",
      "source": [
        "#Test on single image from other sources.\n",
        "  \n",
        "img = '/content/drive/MyDrive/Nickparver_156MB/Testing/pituitary/Te-piTr_0000.jpg'\n",
        "image = cv2.imread(img)\n",
        "image = Image.fromarray(image, 'RGB')\n",
        "image = image.resize((SIZE, SIZE))\n",
        "plt.imshow(image)\n",
        "input_img = np.expand_dims(image, axis=0) #Expand dims so the input is (num images, x, y, class)\n",
        "print(\"The prediction for this image is: \", np.argmax(model.predict(input_img)))"
      ],
      "metadata": {
        "colab": {
          "base_uri": "https://localhost:8080/",
          "height": 304
        },
        "id": "qnnmCsj4CgCq",
        "outputId": "dafa1423-a188-4a2e-b636-96002bd1937b"
      },
      "execution_count": null,
      "outputs": [
        {
          "output_type": "stream",
          "name": "stdout",
          "text": [
            "1/1 [==============================] - 0s 16ms/step\n",
            "The prediction for this image is:  3\n"
          ]
        },
        {
          "output_type": "display_data",
          "data": {
            "text/plain": [
              "<Figure size 432x288 with 1 Axes>"
            ],
            "image/png": "[encoded data removed]"
          },
          "metadata": {
            "needs_background": "light"
          }
        }
      ]
    },
    {
      "cell_type": "code",
      "source": [
        "#Writing the type of tumor on the MRI image\n",
        "prediction = np.argmax(model.predict(input_img))\n",
        "print(prediction)"
      ],
      "metadata": {
        "colab": {
          "base_uri": "https://localhost:8080/"
        },
        "id": "t_2e-fwMCkq2",
        "outputId": "b4b9c7a9-13bb-4131-d749-ab5deb0583a5"
      },
      "execution_count": null,
      "outputs": [
        {
          "output_type": "stream",
          "name": "stdout",
          "text": [
            "1/1 [==============================] - 0s 19ms/step\n",
            "3\n"
          ]
        }
      ]
    },
    {
      "cell_type": "code",
      "source": [
        "if prediction==0:\n",
        "  tumor = 'Glioma'\n",
        "elif prediction==1:\n",
        "  tumor = 'Meningioma'\n",
        "elif prediction==2:\n",
        "  tumor = 'No Tumor'\n",
        "else:\n",
        "  tumor = 'pituitary' \n",
        "  "
      ],
      "metadata": {
        "id": "wiEDZFCYDY07"
      },
      "execution_count": null,
      "outputs": []
    },
    {
      "cell_type": "code",
      "source": [
        "print(tumor)"
      ],
      "metadata": {
        "colab": {
          "base_uri": "https://localhost:8080/"
        },
        "id": "MMeGfT9CEWn3",
        "outputId": "70339e37-7837-477c-e687-19c7aa4192e1"
      },
      "execution_count": null,
      "outputs": [
        {
          "output_type": "stream",
          "name": "stdout",
          "text": [
            "pituitary\n"
          ]
        }
      ]
    },
    {
      "cell_type": "code",
      "source": [
        "from matplotlib import colors\n",
        "import matplotlib.pyplot as plt\n",
        "\n",
        "img = '/content/drive/MyDrive/Nickparver_156MB/Testing/pituitary/Te-piTr_0000.jpg'\n",
        "image = cv2.imread(img)\n",
        "image = Image.fromarray(image, 'RGB')\n",
        "image = image.resize((SIZE, SIZE))\n",
        "plt.text(150,100,tumor,{\"color\":\"r\"})\n",
        "plt.imshow(image)"
      ],
      "metadata": {
        "colab": {
          "base_uri": "https://localhost:8080/",
          "height": 286
        },
        "id": "i32UGspoEfhb",
        "outputId": "c7ced25f-7595-47fd-e393-350bba832818"
      },
      "execution_count": null,
      "outputs": [
        {
          "output_type": "execute_result",
          "data": {
            "text/plain": [
              "<matplotlib.image.AxesImage at 0x7f5d0e208750>"
            ]
          },
          "metadata": {},
          "execution_count": 86
        },
        {
          "output_type": "display_data",
          "data": {
            "text/plain": [
              "<Figure size 432x288 with 1 Axes>"
            ],
            "image/png": "[encoded data removed]"
          },
          "metadata": {
            "needs_background": "light"
          }
        }
      ]
    },
    {
      "cell_type": "code",
      "source": [
        "#Print confusion matrix\n",
        "from sklearn.metrics import classification_report, confusion_matrix, ConfusionMatrixDisplay\n",
        "import seaborn as sns\n",
        "\n",
        "y_pred = np.argmax(model.predict(X_test), axis=1)\n",
        "cm=confusion_matrix(np.argmax(y_test, axis=1), y_pred)  \n",
        "ax = sns.heatmap(cm, annot=True, fmt = 'd')\n",
        "ax.xaxis.set_ticklabels(['glioma', 'meningioma','no_tumor', 'pituitary'])\n",
        "ax.yaxis.set_ticklabels(['glioma', 'meningioma','no_tumor', 'pituitary']) "
      ],
      "metadata": {
        "colab": {
          "base_uri": "https://localhost:8080/",
          "height": 353
        },
        "id": "Tt8s83ouPLdr",
        "outputId": "ba070d41-ce9a-41fc-af88-3125ac7c27ba"
      },
      "execution_count": null,
      "outputs": [
        {
          "output_type": "stream",
          "name": "stdout",
          "text": [
            "36/36 [==============================] - 5s 153ms/step\n"
          ]
        },
        {
          "output_type": "execute_result",
          "data": {
            "text/plain": [
              "[Text(0, 0.5, 'glioma'),\n",
              " Text(0, 1.5, 'meningioma'),\n",
              " Text(0, 2.5, 'no_tumor'),\n",
              " Text(0, 3.5, 'pituitary')]"
            ]
          },
          "metadata": {},
          "execution_count": 87
        },
        {
          "output_type": "display_data",
          "data": {
            "text/plain": [
              "<Figure size 432x288 with 2 Axes>"
            ],
            "image/png": "[encoded data removed]"
          },
          "metadata": {
            "needs_background": "light"
          }
        }
      ]
    },
    {
      "cell_type": "code",
      "source": [
        "#Classifiction Report\n",
        "classification_report = classification_report(np.argmax(y_test, axis=1), y_pred, target_names=['glioma', 'meningioma','no_tumor', 'pituitary'])\n",
        "print(classification_report)"
      ],
      "metadata": {
        "colab": {
          "base_uri": "https://localhost:8080/"
        },
        "id": "hWH5sLQYPUl6",
        "outputId": "8c98791c-67bb-43c5-c087-3ef0a4d46a0d"
      },
      "execution_count": null,
      "outputs": [
        {
          "output_type": "stream",
          "name": "stdout",
          "text": [
            "              precision    recall  f1-score   support\n",
            "\n",
            "      glioma       0.99      0.94      0.96       257\n",
            "  meningioma       0.90      0.98      0.94       276\n",
            "    no_tumor       0.99      0.98      0.98       325\n",
            "   pituitary       0.99      0.97      0.98       285\n",
            "\n",
            "    accuracy                           0.97      1143\n",
            "   macro avg       0.97      0.97      0.97      1143\n",
            "weighted avg       0.97      0.97      0.97      1143\n",
            "\n"
          ]
        }
      ]
    },
    {
      "cell_type": "code",
      "source": [
        "#Segmenting the tumor with U net"
      ],
      "metadata": {
        "id": "Ar1owfLFGa53"
      },
      "execution_count": null,
      "outputs": []
    },
    {
      "cell_type": "code",
      "source": [
        "from tensorflow.keras.layers import Conv2D, BatchNormalization, Activation, MaxPool2D, Conv2DTranspose, Concatenate, Input\n",
        "from tensorflow.keras.models import Model"
      ],
      "metadata": {
        "id": "p3V1e6hmPDiF"
      },
      "execution_count": null,
      "outputs": []
    },
    {
      "cell_type": "code",
      "source": [
        " def conv_block(input, num_filters):\n",
        "    x = Conv2D(num_filters, 3, padding=\"same\")(input)\n",
        "    x = BatchNormalization()(x)\n",
        "    x = Activation(\"relu\")(x)\n",
        "\n",
        "    x = Conv2D(num_filters, 3, padding=\"same\")(x)\n",
        "    x = BatchNormalization()(x)\n",
        "    x = Activation(\"relu\")(x)\n",
        "\n",
        "    return x"
      ],
      "metadata": {
        "id": "a2IvmAMBPeOj"
      },
      "execution_count": null,
      "outputs": []
    },
    {
      "cell_type": "code",
      "source": [
        "def encoder_block(input, num_filters):\n",
        "    x = conv_block(input, num_filters)\n",
        "    p = MaxPool2D((2, 2))(x)\n",
        "    return x, p"
      ],
      "metadata": {
        "id": "4QztyDeIPgv6"
      },
      "execution_count": null,
      "outputs": []
    },
    {
      "cell_type": "code",
      "source": [
        "def decoder_block(input, skip_features, num_filters):\n",
        "    x = Conv2DTranspose(num_filters, (2, 2), strides=2, padding=\"same\")(input)\n",
        "    x = Concatenate()([x, skip_features])\n",
        "    x = conv_block(x, num_filters)\n",
        "    return x"
      ],
      "metadata": {
        "id": "6joseEiGPinh"
      },
      "execution_count": null,
      "outputs": []
    },
    {
      "cell_type": "code",
      "source": [
        "def build_unet(input_shape):\n",
        "    inputs = Input(input_shape)\n",
        "\n",
        "    s1, p1 = encoder_block(inputs, 64)\n",
        "    s2, p2 = encoder_block(p1, 128)\n",
        "    s3, p3 = encoder_block(p2, 256)\n",
        "    s4, p4 = encoder_block(p3, 512)\n",
        "\n",
        "    b1 = conv_block(p4, 1024)\n",
        "\n",
        "    d1 = decoder_block(b1, s4, 512)\n",
        "    d2 = decoder_block(d1, s3, 256)\n",
        "    d3 = decoder_block(d2, s2, 128)\n",
        "    d4 = decoder_block(d3, s1, 64)\n",
        "\n",
        "    outputs = Conv2D(1, 1, padding=\"same\", activation=\"sigmoid\")(d4)\n",
        "\n",
        "    u_model = Model(inputs, outputs, name=\"U-Net\")\n",
        "    return u_model"
      ],
      "metadata": {
        "id": "wHvhZa7nPlFw"
      },
      "execution_count": null,
      "outputs": []
    },
    {
      "cell_type": "code",
      "source": [
        "if __name__ == \"__main__\":\n",
        "    input_shape = (512, 512, 3)\n",
        "    u_model = build_unet(input_shape)\n",
        "    u_model.summary()"
      ],
      "metadata": {
        "colab": {
          "base_uri": "https://localhost:8080/"
        },
        "id": "7OotVrQzPoF4",
        "outputId": "739b6443-49d4-480b-b6c1-4c4810f43a39"
      },
      "execution_count": null,
      "outputs": [
        {
          "output_type": "stream",
          "name": "stdout",
          "text": [
            "Model: \"U-Net\"\n",
            "__________________________________________________________________________________________________\n",
            " Layer (type)                   Output Shape         Param #     Connected to                     \n",
            "==================================================================================================\n",
            " input_1 (InputLayer)           [(None, 512, 512, 3  0           []                               \n",
            "                                )]                                                                \n",
            "                                                                                                  \n",
            " conv2d (Conv2D)                (None, 512, 512, 64  1792        ['input_1[0][0]']                \n",
            "                                )                                                                 \n",
            "                                                                                                  \n",
            " batch_normalization (BatchNorm  (None, 512, 512, 64  256        ['conv2d[0][0]']                 \n",
            " alization)                     )                                                                 \n",
            "                                                                                                  \n",
            " activation (Activation)        (None, 512, 512, 64  0           ['batch_normalization[0][0]']    \n",
            "                                )                                                                 \n",
            "                                                                                                  \n",
            " conv2d_1 (Conv2D)              (None, 512, 512, 64  36928       ['activation[0][0]']             \n",
            "                                )                                                                 \n",
            "                                                                                                  \n",
            " batch_normalization_1 (BatchNo  (None, 512, 512, 64  256        ['conv2d_1[0][0]']               \n",
            " rmalization)                   )                                                                 \n",
            "                                                                                                  \n",
            " activation_1 (Activation)      (None, 512, 512, 64  0           ['batch_normalization_1[0][0]']  \n",
            "                                )                                                                 \n",
            "                                                                                                  \n",
            " max_pooling2d (MaxPooling2D)   (None, 256, 256, 64  0           ['activation_1[0][0]']           \n",
            "                                )                                                                 \n",
            "                                                                                                  \n",
            " conv2d_2 (Conv2D)              (None, 256, 256, 12  73856       ['max_pooling2d[0][0]']          \n",
            "                                8)                                                                \n",
            "                                                                                                  \n",
            " batch_normalization_2 (BatchNo  (None, 256, 256, 12  512        ['conv2d_2[0][0]']               \n",
            " rmalization)                   8)                                                                \n",
            "                                                                                                  \n",
            " activation_2 (Activation)      (None, 256, 256, 12  0           ['batch_normalization_2[0][0]']  \n",
            "                                8)                                                                \n",
            "                                                                                                  \n",
            " conv2d_3 (Conv2D)              (None, 256, 256, 12  147584      ['activation_2[0][0]']           \n",
            "                                8)                                                                \n",
            "                                                                                                  \n",
            " batch_normalization_3 (BatchNo  (None, 256, 256, 12  512        ['conv2d_3[0][0]']               \n",
            " rmalization)                   8)                                                                \n",
            "                                                                                                  \n",
            " activation_3 (Activation)      (None, 256, 256, 12  0           ['batch_normalization_3[0][0]']  \n",
            "                                8)                                                                \n",
            "                                                                                                  \n",
            " max_pooling2d_1 (MaxPooling2D)  (None, 128, 128, 12  0          ['activation_3[0][0]']           \n",
            "                                8)                                                                \n",
            "                                                                                                  \n",
            " conv2d_4 (Conv2D)              (None, 128, 128, 25  295168      ['max_pooling2d_1[0][0]']        \n",
            "                                6)                                                                \n",
            "                                                                                                  \n",
            " batch_normalization_4 (BatchNo  (None, 128, 128, 25  1024       ['conv2d_4[0][0]']               \n",
            " rmalization)                   6)                                                                \n",
            "                                                                                                  \n",
            " activation_4 (Activation)      (None, 128, 128, 25  0           ['batch_normalization_4[0][0]']  \n",
            "                                6)                                                                \n",
            "                                                                                                  \n",
            " conv2d_5 (Conv2D)              (None, 128, 128, 25  590080      ['activation_4[0][0]']           \n",
            "                                6)                                                                \n",
            "                                                                                                  \n",
            " batch_normalization_5 (BatchNo  (None, 128, 128, 25  1024       ['conv2d_5[0][0]']               \n",
            " rmalization)                   6)                                                                \n",
            "                                                                                                  \n",
            " activation_5 (Activation)      (None, 128, 128, 25  0           ['batch_normalization_5[0][0]']  \n",
            "                                6)                                                                \n",
            "                                                                                                  \n",
            " max_pooling2d_2 (MaxPooling2D)  (None, 64, 64, 256)  0          ['activation_5[0][0]']           \n",
            "                                                                                                  \n",
            " conv2d_6 (Conv2D)              (None, 64, 64, 512)  1180160     ['max_pooling2d_2[0][0]']        \n",
            "                                                                                                  \n",
            " batch_normalization_6 (BatchNo  (None, 64, 64, 512)  2048       ['conv2d_6[0][0]']               \n",
            " rmalization)                                                                                     \n",
            "                                                                                                  \n",
            " activation_6 (Activation)      (None, 64, 64, 512)  0           ['batch_normalization_6[0][0]']  \n",
            "                                                                                                  \n",
            " conv2d_7 (Conv2D)              (None, 64, 64, 512)  2359808     ['activation_6[0][0]']           \n",
            "                                                                                                  \n",
            " batch_normalization_7 (BatchNo  (None, 64, 64, 512)  2048       ['conv2d_7[0][0]']               \n",
            " rmalization)                                                                                     \n",
            "                                                                                                  \n",
            " activation_7 (Activation)      (None, 64, 64, 512)  0           ['batch_normalization_7[0][0]']  \n",
            "                                                                                                  \n",
            " max_pooling2d_3 (MaxPooling2D)  (None, 32, 32, 512)  0          ['activation_7[0][0]']           \n",
            "                                                                                                  \n",
            " conv2d_8 (Conv2D)              (None, 32, 32, 1024  4719616     ['max_pooling2d_3[0][0]']        \n",
            "                                )                                                                 \n",
            "                                                                                                  \n",
            " batch_normalization_8 (BatchNo  (None, 32, 32, 1024  4096       ['conv2d_8[0][0]']               \n",
            " rmalization)                   )                                                                 \n",
            "                                                                                                  \n",
            " activation_8 (Activation)      (None, 32, 32, 1024  0           ['batch_normalization_8[0][0]']  \n",
            "                                )                                                                 \n",
            "                                                                                                  \n",
            " conv2d_9 (Conv2D)              (None, 32, 32, 1024  9438208     ['activation_8[0][0]']           \n",
            "                                )                                                                 \n",
            "                                                                                                  \n",
            " batch_normalization_9 (BatchNo  (None, 32, 32, 1024  4096       ['conv2d_9[0][0]']               \n",
            " rmalization)                   )                                                                 \n",
            "                                                                                                  \n",
            " activation_9 (Activation)      (None, 32, 32, 1024  0           ['batch_normalization_9[0][0]']  \n",
            "                                )                                                                 \n",
            "                                                                                                  \n",
            " conv2d_transpose (Conv2DTransp  (None, 64, 64, 512)  2097664    ['activation_9[0][0]']           \n",
            " ose)                                                                                             \n",
            "                                                                                                  \n",
            " concatenate (Concatenate)      (None, 64, 64, 1024  0           ['conv2d_transpose[0][0]',       \n",
            "                                )                                 'activation_7[0][0]']           \n",
            "                                                                                                  \n",
            " conv2d_10 (Conv2D)             (None, 64, 64, 512)  4719104     ['concatenate[0][0]']            \n",
            "                                                                                                  \n",
            " batch_normalization_10 (BatchN  (None, 64, 64, 512)  2048       ['conv2d_10[0][0]']              \n",
            " ormalization)                                                                                    \n",
            "                                                                                                  \n",
            " activation_10 (Activation)     (None, 64, 64, 512)  0           ['batch_normalization_10[0][0]'] \n",
            "                                                                                                  \n",
            " conv2d_11 (Conv2D)             (None, 64, 64, 512)  2359808     ['activation_10[0][0]']          \n",
            "                                                                                                  \n",
            " batch_normalization_11 (BatchN  (None, 64, 64, 512)  2048       ['conv2d_11[0][0]']              \n",
            " ormalization)                                                                                    \n",
            "                                                                                                  \n",
            " activation_11 (Activation)     (None, 64, 64, 512)  0           ['batch_normalization_11[0][0]'] \n",
            "                                                                                                  \n",
            " conv2d_transpose_1 (Conv2DTran  (None, 128, 128, 25  524544     ['activation_11[0][0]']          \n",
            " spose)                         6)                                                                \n",
            "                                                                                                  \n",
            " concatenate_1 (Concatenate)    (None, 128, 128, 51  0           ['conv2d_transpose_1[0][0]',     \n",
            "                                2)                                'activation_5[0][0]']           \n",
            "                                                                                                  \n",
            " conv2d_12 (Conv2D)             (None, 128, 128, 25  1179904     ['concatenate_1[0][0]']          \n",
            "                                6)                                                                \n",
            "                                                                                                  \n",
            " batch_normalization_12 (BatchN  (None, 128, 128, 25  1024       ['conv2d_12[0][0]']              \n",
            " ormalization)                  6)                                                                \n",
            "                                                                                                  \n",
            " activation_12 (Activation)     (None, 128, 128, 25  0           ['batch_normalization_12[0][0]'] \n",
            "                                6)                                                                \n",
            "                                                                                                  \n",
            " conv2d_13 (Conv2D)             (None, 128, 128, 25  590080      ['activation_12[0][0]']          \n",
            "                                6)                                                                \n",
            "                                                                                                  \n",
            " batch_normalization_13 (BatchN  (None, 128, 128, 25  1024       ['conv2d_13[0][0]']              \n",
            " ormalization)                  6)                                                                \n",
            "                                                                                                  \n",
            " activation_13 (Activation)     (None, 128, 128, 25  0           ['batch_normalization_13[0][0]'] \n",
            "                                6)                                                                \n",
            "                                                                                                  \n",
            " conv2d_transpose_2 (Conv2DTran  (None, 256, 256, 12  131200     ['activation_13[0][0]']          \n",
            " spose)                         8)                                                                \n",
            "                                                                                                  \n",
            " concatenate_2 (Concatenate)    (None, 256, 256, 25  0           ['conv2d_transpose_2[0][0]',     \n",
            "                                6)                                'activation_3[0][0]']           \n",
            "                                                                                                  \n",
            " conv2d_14 (Conv2D)             (None, 256, 256, 12  295040      ['concatenate_2[0][0]']          \n",
            "                                8)                                                                \n",
            "                                                                                                  \n",
            " batch_normalization_14 (BatchN  (None, 256, 256, 12  512        ['conv2d_14[0][0]']              \n",
            " ormalization)                  8)                                                                \n",
            "                                                                                                  \n",
            " activation_14 (Activation)     (None, 256, 256, 12  0           ['batch_normalization_14[0][0]'] \n",
            "                                8)                                                                \n",
            "                                                                                                  \n",
            " conv2d_15 (Conv2D)             (None, 256, 256, 12  147584      ['activation_14[0][0]']          \n",
            "                                8)                                                                \n",
            "                                                                                                  \n",
            " batch_normalization_15 (BatchN  (None, 256, 256, 12  512        ['conv2d_15[0][0]']              \n",
            " ormalization)                  8)                                                                \n",
            "                                                                                                  \n",
            " activation_15 (Activation)     (None, 256, 256, 12  0           ['batch_normalization_15[0][0]'] \n",
            "                                8)                                                                \n",
            "                                                                                                  \n",
            " conv2d_transpose_3 (Conv2DTran  (None, 512, 512, 64  32832      ['activation_15[0][0]']          \n",
            " spose)                         )                                                                 \n",
            "                                                                                                  \n",
            " concatenate_3 (Concatenate)    (None, 512, 512, 12  0           ['conv2d_transpose_3[0][0]',     \n",
            "                                8)                                'activation_1[0][0]']           \n",
            "                                                                                                  \n",
            " conv2d_16 (Conv2D)             (None, 512, 512, 64  73792       ['concatenate_3[0][0]']          \n",
            "                                )                                                                 \n",
            "                                                                                                  \n",
            " batch_normalization_16 (BatchN  (None, 512, 512, 64  256        ['conv2d_16[0][0]']              \n",
            " ormalization)                  )                                                                 \n",
            "                                                                                                  \n",
            " activation_16 (Activation)     (None, 512, 512, 64  0           ['batch_normalization_16[0][0]'] \n",
            "                                )                                                                 \n",
            "                                                                                                  \n",
            " conv2d_17 (Conv2D)             (None, 512, 512, 64  36928       ['activation_16[0][0]']          \n",
            "                                )                                                                 \n",
            "                                                                                                  \n",
            " batch_normalization_17 (BatchN  (None, 512, 512, 64  256        ['conv2d_17[0][0]']              \n",
            " ormalization)                  )                                                                 \n",
            "                                                                                                  \n",
            " activation_17 (Activation)     (None, 512, 512, 64  0           ['batch_normalization_17[0][0]'] \n",
            "                                )                                                                 \n",
            "                                                                                                  \n",
            " conv2d_18 (Conv2D)             (None, 512, 512, 1)  65          ['activation_17[0][0]']          \n",
            "                                                                                                  \n",
            "==================================================================================================\n",
            "Total params: 31,055,297\n",
            "Trainable params: 31,043,521\n",
            "Non-trainable params: 11,776\n",
            "__________________________________________________________________________________________________\n"
          ]
        }
      ]
    },
    {
      "cell_type": "code",
      "source": [
        "import numpy as np\n",
        "import tensorflow as tf\n",
        "from tensorflow.keras import backend as K\n",
        "\n",
        "def iou(y_true, y_pred):\n",
        "    def f(y_true, y_pred):\n",
        "        intersection = (y_true * y_pred).sum()\n",
        "        union = y_true.sum() + y_pred.sum() - intersection\n",
        "        x = (intersection + 1e-15) / (union + 1e-15)\n",
        "        x = x.astype(np.float32)\n",
        "        return x\n",
        "    return tf.numpy_function(f, [y_true, y_pred], tf.float32)\n",
        "\n",
        "smooth = 1e-15\n",
        "def dice_coef(y_true, y_pred):\n",
        "    y_true = tf.keras.layers.Flatten()(y_true)\n",
        "    y_pred = tf.keras.layers.Flatten()(y_pred)\n",
        "    intersection = tf.reduce_sum(y_true * y_pred)\n",
        "    return (2. * intersection + smooth) / (tf.reduce_sum(y_true) + tf.reduce_sum(y_pred) + smooth)\n",
        "\n",
        "def dice_loss(y_true, y_pred):\n",
        "    return 1.0 - dice_coef(y_true, y_pred)"
      ],
      "metadata": {
        "id": "cjgiuyelPrza"
      },
      "execution_count": null,
      "outputs": []
    },
    {
      "cell_type": "code",
      "source": [
        "import os\n",
        "os.environ[\"TF_CPP_MIN_LOG_LEVEL\"] = \"2\"\n",
        "\n",
        "import numpy as np\n",
        "import cv2\n",
        "from glob import glob\n",
        "from sklearn.utils import shuffle\n",
        "import tensorflow as tf\n",
        "from tensorflow.keras.callbacks import ModelCheckpoint, CSVLogger, ReduceLROnPlateau, EarlyStopping, TensorBoard\n",
        "from tensorflow.keras.optimizers import Adam\n",
        "from sklearn.model_selection import train_test_split"
      ],
      "metadata": {
        "id": "-ZtyDIyhPysV"
      },
      "execution_count": null,
      "outputs": []
    },
    {
      "cell_type": "code",
      "source": [
        "\"\"\" Global parameters \"\"\"\n",
        "H = 256\n",
        "W = 256\n",
        "\n",
        "def create_dir(path):\n",
        "    if not os.path.exists(path):\n",
        "        os.makedirs(path)\n",
        "\n",
        "def load_dataset(path, split=0.2):\n",
        "    images = sorted(glob(os.path.join(path, \"images\", \"*.png\")))\n",
        "    masks = sorted(glob(os.path.join(path, \"masks\", \"*.png\")))\n",
        "\n",
        "    split_size = int(len(images) * split)\n",
        "\n",
        "    train_x, valid_x = train_test_split(images, test_size=split_size, random_state=42)\n",
        "    train_y, valid_y = train_test_split(masks, test_size=split_size, random_state=42)\n",
        "\n",
        "    train_x, test_x = train_test_split(train_x, test_size=split_size, random_state=42)\n",
        "    train_y, test_y = train_test_split(train_y, test_size=split_size, random_state=42)\n",
        "\n",
        "    return (train_x, train_y), (valid_x, valid_y), (test_x, test_y)\n",
        "\n",
        "def read_image(path):\n",
        "    path = path.decode()\n",
        "    x = cv2.imread(path, cv2.IMREAD_COLOR)\n",
        "    x = cv2.resize(x, (W, H))\n",
        "    x = x / 255.0\n",
        "    x = x.astype(np.float32)\n",
        "    return x\n",
        "\n",
        "def read_mask(path):\n",
        "    path = path.decode()\n",
        "    x = cv2.imread(path, cv2.IMREAD_GRAYSCALE)  ## (h, w)\n",
        "    x = cv2.resize(x, (W, H))   ## (h, w)\n",
        "    x = x / 255.0               ## (h, w)\n",
        "    x = x.astype(np.float32)    ## (h, w)\n",
        "    x = np.expand_dims(x, axis=-1)## (h, w, 1)\n",
        "    return x\n",
        "\n",
        "def tf_parse(x, y):\n",
        "    def _parse(x, y):\n",
        "        x = read_image(x)\n",
        "        y = read_mask(y)\n",
        "        return x, y\n",
        "\n",
        "    x, y = tf.numpy_function(_parse, [x, y], [tf.float32, tf.float32])\n",
        "    x.set_shape([H, W, 3])\n",
        "    y.set_shape([H, W, 1])\n",
        "    return x, y\n",
        "\n",
        "def tf_dataset(X, Y, batch=2):\n",
        "    dataset = tf.data.Dataset.from_tensor_slices((X, Y))\n",
        "    dataset = dataset.map(tf_parse)\n",
        "    dataset = dataset.batch(batch)\n",
        "    dataset = dataset.prefetch(10)\n",
        "    return dataset\n",
        "\n",
        "if __name__ == \"__main__\":\n",
        "    \"\"\" Seeding \"\"\"\n",
        "    np.random.seed(42)\n",
        "    tf.random.set_seed(42)"
      ],
      "metadata": {
        "id": "OsGGlEOJP1w0"
      },
      "execution_count": null,
      "outputs": []
    },
    {
      "cell_type": "code",
      "source": [
        "    \"\"\" Directory for storing files \"\"\"\n",
        "    create_dir(\"files\")\n",
        "\n",
        "    \"\"\" Hyperparameters \"\"\"\n",
        "    batch_size = 32 #16 is also there\n",
        "    lr = 1e-4\n",
        "    num_epochs = 30\n",
        "    model_path = os.path.join(\"files\", \"model.h5\")\n",
        "    csv_path = os.path.join(\"files\", \"log.csv\")"
      ],
      "metadata": {
        "id": "Clg2wEJjP6tB"
      },
      "execution_count": null,
      "outputs": []
    },
    {
      "cell_type": "code",
      "source": [
        "    \"\"\" Dataset \"\"\"\n",
        "    dataset_path = \"/content/drive/MyDrive/Colab Notebooks/Tumor Segmentation\"\n",
        "    (train_x, train_y), (valid_x, valid_y), (test_x, test_y) = load_dataset(dataset_path)\n",
        "\n",
        "    print(f\"Train: {len(train_x)} - {len(train_y)}\")\n",
        "    print(f\"Valid: {len(valid_x)} - {len(valid_y)}\")\n",
        "    print(f\"Test : {len(test_x)} - {len(test_y)}\")\n",
        "\n",
        "    train_dataset = tf_dataset(train_x, train_y, batch=batch_size)\n",
        "    valid_dataset = tf_dataset(valid_x, valid_y, batch=batch_size)"
      ],
      "metadata": {
        "colab": {
          "base_uri": "https://localhost:8080/"
        },
        "id": "ntI5PlPPP-s9",
        "outputId": "880f75c1-f812-4de1-8042-00ab776aabcc"
      },
      "execution_count": null,
      "outputs": [
        {
          "output_type": "stream",
          "name": "stdout",
          "text": [
            "Train: 1852 - 1852\n",
            "Valid: 616 - 616\n",
            "Test : 616 - 616\n"
          ]
        }
      ]
    },
    {
      "cell_type": "code",
      "source": [
        "    \"\"\" Model \"\"\" \n",
        "    #Add IoU, accuracy here\n",
        "    u_model = build_unet((H, W, 3))\n",
        "    metrics = [dice_coef, iou]\n",
        "    u_model.compile(loss=dice_loss, optimizer=Adam(lr), metrics=[\"accuracy\",metrics])\n",
        "\n",
        "    callbacks = [\n",
        "        ModelCheckpoint(model_path, verbose=1, save_best_only=True),\n",
        "        ReduceLROnPlateau(monitor='val_loss', factor=0.1, patience=5, min_lr=1e-7, verbose=1),\n",
        "        CSVLogger(csv_path),\n",
        "        EarlyStopping(monitor='val_loss', patience=6, restore_best_weights=False),\n",
        "    ]\n",
        "\n",
        "    u_model.fit(\n",
        "        train_dataset,\n",
        "        epochs=num_epochs,\n",
        "        validation_data=valid_dataset,\n",
        "        callbacks=callbacks\n",
        "    )"
      ],
      "metadata": {
        "id": "Xa6Y2zQIQBua",
        "colab": {
          "base_uri": "https://localhost:8080/"
        },
        "outputId": "1fa7f086-ae26-49d5-e2e0-d06bf3e66585"
      },
      "execution_count": null,
      "outputs": [
        {
          "output_type": "stream",
          "name": "stdout",
          "text": [
            "Epoch 1/30\n",
            "58/58 [==============================] - ETA: 0s - loss: 0.8969 - accuracy: 0.7428 - dice_coef: 0.1033 - iou: 0.0550 \n",
            "Epoch 1: val_loss improved from inf to 0.97136, saving model to files/model.h5\n",
            "58/58 [==============================] - 1586s 26s/step - loss: 0.8969 - accuracy: 0.7428 - dice_coef: 0.1033 - iou: 0.0550 - val_loss: 0.9714 - val_accuracy: 0.0152 - val_dice_coef: 0.0286 - val_iou: 0.0145 - lr: 1.0000e-04\n",
            "Epoch 2/30\n",
            "58/58 [==============================] - ETA: 0s - loss: 0.7877 - accuracy: 0.9592 - dice_coef: 0.2124 - iou: 0.1192\n",
            "Epoch 2: val_loss did not improve from 0.97136\n",
            "58/58 [==============================] - 115s 2s/step - loss: 0.7877 - accuracy: 0.9592 - dice_coef: 0.2124 - iou: 0.1192 - val_loss: 0.9831 - val_accuracy: 0.6034 - val_dice_coef: 0.0168 - val_iou: 0.0085 - lr: 1.0000e-04\n",
            "Epoch 3/30\n",
            "58/58 [==============================] - ETA: 0s - loss: 0.7323 - accuracy: 0.9727 - dice_coef: 0.2677 - iou: 0.1548\n",
            "Epoch 3: val_loss did not improve from 0.97136\n",
            "58/58 [==============================] - 113s 2s/step - loss: 0.7323 - accuracy: 0.9727 - dice_coef: 0.2677 - iou: 0.1548 - val_loss: 0.9877 - val_accuracy: 0.7908 - val_dice_coef: 0.0122 - val_iou: 0.0061 - lr: 1.0000e-04\n",
            "Epoch 4/30\n",
            "58/58 [==============================] - ETA: 0s - loss: 0.6773 - accuracy: 0.9805 - dice_coef: 0.3228 - iou: 0.1929\n",
            "Epoch 4: val_loss did not improve from 0.97136\n",
            "58/58 [==============================] - 114s 2s/step - loss: 0.6773 - accuracy: 0.9805 - dice_coef: 0.3228 - iou: 0.1929 - val_loss: 0.9924 - val_accuracy: 0.7574 - val_dice_coef: 0.0075 - val_iou: 0.0038 - lr: 1.0000e-04\n",
            "Epoch 5/30\n",
            "58/58 [==============================] - ETA: 0s - loss: 0.6344 - accuracy: 0.9836 - dice_coef: 0.3656 - iou: 0.2242\n",
            "Epoch 5: val_loss did not improve from 0.97136\n",
            "58/58 [==============================] - 114s 2s/step - loss: 0.6344 - accuracy: 0.9836 - dice_coef: 0.3656 - iou: 0.2242 - val_loss: 0.9854 - val_accuracy: 0.8380 - val_dice_coef: 0.0143 - val_iou: 0.0072 - lr: 1.0000e-04\n",
            "Epoch 6/30\n",
            "58/58 [==============================] - ETA: 0s - loss: 0.5842 - accuracy: 0.9866 - dice_coef: 0.4159 - iou: 0.2632\n",
            "Epoch 6: val_loss improved from 0.97136 to 0.94724, saving model to files/model.h5\n",
            "58/58 [==============================] - 114s 2s/step - loss: 0.5842 - accuracy: 0.9866 - dice_coef: 0.4159 - iou: 0.2632 - val_loss: 0.9472 - val_accuracy: 0.9798 - val_dice_coef: 0.0514 - val_iou: 0.0265 - lr: 1.0000e-04\n",
            "Epoch 7/30\n",
            "58/58 [==============================] - ETA: 0s - loss: 0.5317 - accuracy: 0.9892 - dice_coef: 0.4683 - iou: 0.3065\n",
            "Epoch 7: val_loss improved from 0.94724 to 0.86131, saving model to files/model.h5\n",
            "58/58 [==============================] - 114s 2s/step - loss: 0.5317 - accuracy: 0.9892 - dice_coef: 0.4683 - iou: 0.3065 - val_loss: 0.8613 - val_accuracy: 0.9819 - val_dice_coef: 0.1385 - val_iou: 0.0749 - lr: 1.0000e-04\n",
            "Epoch 8/30\n",
            "58/58 [==============================] - ETA: 0s - loss: 0.4851 - accuracy: 0.9905 - dice_coef: 0.5150 - iou: 0.3475\n",
            "Epoch 8: val_loss improved from 0.86131 to 0.69941, saving model to files/model.h5\n",
            "58/58 [==============================] - 116s 2s/step - loss: 0.4851 - accuracy: 0.9905 - dice_coef: 0.5150 - iou: 0.3475 - val_loss: 0.6994 - val_accuracy: 0.9818 - val_dice_coef: 0.2958 - val_iou: 0.1751 - lr: 1.0000e-04\n",
            "Epoch 9/30\n",
            "58/58 [==============================] - ETA: 0s - loss: 0.4449 - accuracy: 0.9913 - dice_coef: 0.5551 - iou: 0.3850\n",
            "Epoch 9: val_loss improved from 0.69941 to 0.61413, saving model to files/model.h5\n",
            "58/58 [==============================] - 114s 2s/step - loss: 0.4449 - accuracy: 0.9913 - dice_coef: 0.5551 - iou: 0.3850 - val_loss: 0.6141 - val_accuracy: 0.9889 - val_dice_coef: 0.3885 - val_iou: 0.2422 - lr: 1.0000e-04\n",
            "Epoch 10/30\n",
            "58/58 [==============================] - ETA: 0s - loss: 0.4116 - accuracy: 0.9919 - dice_coef: 0.5885 - iou: 0.4179\n",
            "Epoch 10: val_loss improved from 0.61413 to 0.48591, saving model to files/model.h5\n",
            "58/58 [==============================] - 115s 2s/step - loss: 0.4116 - accuracy: 0.9919 - dice_coef: 0.5885 - iou: 0.4179 - val_loss: 0.4859 - val_accuracy: 0.9911 - val_dice_coef: 0.5162 - val_iou: 0.3495 - lr: 1.0000e-04\n",
            "Epoch 11/30\n",
            "58/58 [==============================] - ETA: 0s - loss: 0.3654 - accuracy: 0.9931 - dice_coef: 0.6347 - iou: 0.4655\n",
            "Epoch 11: val_loss did not improve from 0.48591\n",
            "58/58 [==============================] - 115s 2s/step - loss: 0.3654 - accuracy: 0.9931 - dice_coef: 0.6347 - iou: 0.4655 - val_loss: 0.5072 - val_accuracy: 0.9862 - val_dice_coef: 0.4939 - val_iou: 0.3293 - lr: 1.0000e-04\n",
            "Epoch 12/30\n",
            "58/58 [==============================] - ETA: 0s - loss: 0.3376 - accuracy: 0.9935 - dice_coef: 0.6624 - iou: 0.4961\n",
            "Epoch 12: val_loss improved from 0.48591 to 0.42454, saving model to files/model.h5\n",
            "58/58 [==============================] - 116s 2s/step - loss: 0.3376 - accuracy: 0.9935 - dice_coef: 0.6624 - iou: 0.4961 - val_loss: 0.4245 - val_accuracy: 0.9917 - val_dice_coef: 0.5774 - val_iou: 0.4072 - lr: 1.0000e-04\n",
            "Epoch 13/30\n",
            "58/58 [==============================] - ETA: 0s - loss: 0.3035 - accuracy: 0.9941 - dice_coef: 0.6965 - iou: 0.5351\n",
            "Epoch 13: val_loss improved from 0.42454 to 0.37375, saving model to files/model.h5\n",
            "58/58 [==============================] - 117s 2s/step - loss: 0.3035 - accuracy: 0.9941 - dice_coef: 0.6965 - iou: 0.5351 - val_loss: 0.3738 - val_accuracy: 0.9920 - val_dice_coef: 0.6265 - val_iou: 0.4571 - lr: 1.0000e-04\n",
            "Epoch 14/30\n",
            "58/58 [==============================] - ETA: 0s - loss: 0.2778 - accuracy: 0.9945 - dice_coef: 0.7223 - iou: 0.5661\n",
            "Epoch 14: val_loss did not improve from 0.37375\n",
            "58/58 [==============================] - 114s 2s/step - loss: 0.2778 - accuracy: 0.9945 - dice_coef: 0.7223 - iou: 0.5661 - val_loss: 0.3773 - val_accuracy: 0.9924 - val_dice_coef: 0.6247 - val_iou: 0.4554 - lr: 1.0000e-04\n",
            "Epoch 15/30\n",
            "58/58 [==============================] - ETA: 0s - loss: 0.2554 - accuracy: 0.9948 - dice_coef: 0.7446 - iou: 0.5936\n",
            "Epoch 15: val_loss did not improve from 0.37375\n",
            "58/58 [==============================] - 114s 2s/step - loss: 0.2554 - accuracy: 0.9948 - dice_coef: 0.7446 - iou: 0.5936 - val_loss: 0.4084 - val_accuracy: 0.9914 - val_dice_coef: 0.5974 - val_iou: 0.4274 - lr: 1.0000e-04\n",
            "Epoch 16/30\n",
            "58/58 [==============================] - ETA: 0s - loss: 0.2414 - accuracy: 0.9948 - dice_coef: 0.7587 - iou: 0.6120\n",
            "Epoch 16: val_loss improved from 0.37375 to 0.37337, saving model to files/model.h5\n",
            "58/58 [==============================] - 115s 2s/step - loss: 0.2414 - accuracy: 0.9948 - dice_coef: 0.7587 - iou: 0.6120 - val_loss: 0.3734 - val_accuracy: 0.9921 - val_dice_coef: 0.6296 - val_iou: 0.4617 - lr: 1.0000e-04\n",
            "Epoch 17/30\n",
            "58/58 [==============================] - ETA: 0s - loss: 0.2183 - accuracy: 0.9953 - dice_coef: 0.7818 - iou: 0.6423\n",
            "Epoch 17: val_loss improved from 0.37337 to 0.30923, saving model to files/model.h5\n",
            "58/58 [==============================] - 113s 2s/step - loss: 0.2183 - accuracy: 0.9953 - dice_coef: 0.7818 - iou: 0.6423 - val_loss: 0.3092 - val_accuracy: 0.9926 - val_dice_coef: 0.6933 - val_iou: 0.5316 - lr: 1.0000e-04\n",
            "Epoch 18/30\n",
            "58/58 [==============================] - ETA: 0s - loss: 0.2079 - accuracy: 0.9953 - dice_coef: 0.7921 - iou: 0.6564\n",
            "Epoch 18: val_loss did not improve from 0.30923\n",
            "58/58 [==============================] - 113s 2s/step - loss: 0.2079 - accuracy: 0.9953 - dice_coef: 0.7921 - iou: 0.6564 - val_loss: 0.3610 - val_accuracy: 0.9906 - val_dice_coef: 0.6398 - val_iou: 0.4718 - lr: 1.0000e-04\n",
            "Epoch 19/30\n",
            "58/58 [==============================] - ETA: 0s - loss: 0.1917 - accuracy: 0.9956 - dice_coef: 0.8083 - iou: 0.6788\n",
            "Epoch 19: val_loss did not improve from 0.30923\n",
            "58/58 [==============================] - 113s 2s/step - loss: 0.1917 - accuracy: 0.9956 - dice_coef: 0.8083 - iou: 0.6788 - val_loss: 0.3104 - val_accuracy: 0.9926 - val_dice_coef: 0.6928 - val_iou: 0.5311 - lr: 1.0000e-04\n",
            "Epoch 20/30\n",
            "58/58 [==============================] - ETA: 0s - loss: 0.1734 - accuracy: 0.9959 - dice_coef: 0.8266 - iou: 0.7049\n",
            "Epoch 20: val_loss improved from 0.30923 to 0.27684, saving model to files/model.h5\n",
            "58/58 [==============================] - 113s 2s/step - loss: 0.1734 - accuracy: 0.9959 - dice_coef: 0.8266 - iou: 0.7049 - val_loss: 0.2768 - val_accuracy: 0.9931 - val_dice_coef: 0.7236 - val_iou: 0.5676 - lr: 1.0000e-04\n",
            "Epoch 21/30\n",
            "58/58 [==============================] - ETA: 0s - loss: 0.1627 - accuracy: 0.9961 - dice_coef: 0.8373 - iou: 0.7204\n",
            "Epoch 21: val_loss did not improve from 0.27684\n",
            "58/58 [==============================] - 114s 2s/step - loss: 0.1627 - accuracy: 0.9961 - dice_coef: 0.8373 - iou: 0.7204 - val_loss: 0.3062 - val_accuracy: 0.9909 - val_dice_coef: 0.6939 - val_iou: 0.5322 - lr: 1.0000e-04\n",
            "Epoch 22/30\n",
            "58/58 [==============================] - ETA: 0s - loss: 0.1559 - accuracy: 0.9961 - dice_coef: 0.8441 - iou: 0.7307\n",
            "Epoch 22: val_loss did not improve from 0.27684\n",
            "58/58 [==============================] - 115s 2s/step - loss: 0.1559 - accuracy: 0.9961 - dice_coef: 0.8441 - iou: 0.7307 - val_loss: 0.3010 - val_accuracy: 0.9926 - val_dice_coef: 0.7015 - val_iou: 0.5417 - lr: 1.0000e-04\n",
            "Epoch 23/30\n",
            "58/58 [==============================] - ETA: 0s - loss: 0.1437 - accuracy: 0.9964 - dice_coef: 0.8564 - iou: 0.7492\n",
            "Epoch 23: val_loss did not improve from 0.27684\n",
            "58/58 [==============================] - 113s 2s/step - loss: 0.1437 - accuracy: 0.9964 - dice_coef: 0.8564 - iou: 0.7492 - val_loss: 0.2982 - val_accuracy: 0.9929 - val_dice_coef: 0.7052 - val_iou: 0.5461 - lr: 1.0000e-04\n",
            "Epoch 24/30\n",
            "58/58 [==============================] - ETA: 0s - loss: 0.1333 - accuracy: 0.9966 - dice_coef: 0.8667 - iou: 0.7651\n",
            "Epoch 24: val_loss did not improve from 0.27684\n",
            "58/58 [==============================] - 114s 2s/step - loss: 0.1333 - accuracy: 0.9966 - dice_coef: 0.8667 - iou: 0.7651 - val_loss: 0.2856 - val_accuracy: 0.9929 - val_dice_coef: 0.7169 - val_iou: 0.5597 - lr: 1.0000e-04\n",
            "Epoch 25/30\n",
            "58/58 [==============================] - ETA: 0s - loss: 0.1264 - accuracy: 0.9967 - dice_coef: 0.8736 - iou: 0.7758\n",
            "Epoch 25: val_loss improved from 0.27684 to 0.26748, saving model to files/model.h5\n",
            "58/58 [==============================] - 115s 2s/step - loss: 0.1264 - accuracy: 0.9967 - dice_coef: 0.8736 - iou: 0.7758 - val_loss: 0.2675 - val_accuracy: 0.9931 - val_dice_coef: 0.7347 - val_iou: 0.5814 - lr: 1.0000e-04\n",
            "Epoch 26/30\n",
            "58/58 [==============================] - ETA: 0s - loss: 0.1183 - accuracy: 0.9968 - dice_coef: 0.8817 - iou: 0.7887\n",
            "Epoch 26: val_loss improved from 0.26748 to 0.24761, saving model to files/model.h5\n",
            "58/58 [==============================] - 114s 2s/step - loss: 0.1183 - accuracy: 0.9968 - dice_coef: 0.8817 - iou: 0.7887 - val_loss: 0.2476 - val_accuracy: 0.9932 - val_dice_coef: 0.7529 - val_iou: 0.6045 - lr: 1.0000e-04\n",
            "Epoch 27/30\n",
            "58/58 [==============================] - ETA: 0s - loss: 0.1113 - accuracy: 0.9969 - dice_coef: 0.8887 - iou: 0.7999\n",
            "Epoch 27: val_loss improved from 0.24761 to 0.24227, saving model to files/model.h5\n",
            "58/58 [==============================] - 117s 2s/step - loss: 0.1113 - accuracy: 0.9969 - dice_coef: 0.8887 - iou: 0.7999 - val_loss: 0.2423 - val_accuracy: 0.9932 - val_dice_coef: 0.7581 - val_iou: 0.6113 - lr: 1.0000e-04\n",
            "Epoch 28/30\n",
            "58/58 [==============================] - ETA: 0s - loss: 0.1045 - accuracy: 0.9971 - dice_coef: 0.8955 - iou: 0.8110\n",
            "Epoch 28: val_loss improved from 0.24227 to 0.23790, saving model to files/model.h5\n",
            "58/58 [==============================] - 115s 2s/step - loss: 0.1045 - accuracy: 0.9971 - dice_coef: 0.8955 - iou: 0.8110 - val_loss: 0.2379 - val_accuracy: 0.9932 - val_dice_coef: 0.7630 - val_iou: 0.6176 - lr: 1.0000e-04\n",
            "Epoch 29/30\n",
            "58/58 [==============================] - ETA: 0s - loss: 0.1020 - accuracy: 0.9971 - dice_coef: 0.8980 - iou: 0.8152\n",
            "Epoch 29: val_loss did not improve from 0.23790\n",
            "58/58 [==============================] - 112s 2s/step - loss: 0.1020 - accuracy: 0.9971 - dice_coef: 0.8980 - iou: 0.8152 - val_loss: 0.2481 - val_accuracy: 0.9928 - val_dice_coef: 0.7524 - val_iou: 0.6044 - lr: 1.0000e-04\n",
            "Epoch 30/30\n",
            "58/58 [==============================] - ETA: 0s - loss: 0.1000 - accuracy: 0.9970 - dice_coef: 0.9000 - iou: 0.8184\n",
            "Epoch 30: val_loss did not improve from 0.23790\n",
            "58/58 [==============================] - 113s 2s/step - loss: 0.1000 - accuracy: 0.9970 - dice_coef: 0.9000 - iou: 0.8184 - val_loss: 0.2576 - val_accuracy: 0.9919 - val_dice_coef: 0.7400 - val_iou: 0.5885 - lr: 1.0000e-04\n"
          ]
        },
        {
          "output_type": "execute_result",
          "data": {
            "text/plain": [
              "<keras.callbacks.History at 0x7fe5f2d78460>"
            ]
          },
          "metadata": {},
          "execution_count": 14
        }
      ]
    },
    {
      "cell_type": "code",
      "source": [
        "import os\n",
        "os.environ[\"TF_CPP_MIN_LOG_LEVEL\"] = \"2\"\n",
        "import numpy as np\n",
        "import cv2\n",
        "from glob import glob\n",
        "from tqdm import tqdm\n",
        "import tensorflow as tf\n",
        "from tensorflow.keras.utils import CustomObjectScope "
      ],
      "metadata": {
        "id": "qILV-DhMQdYu"
      },
      "execution_count": null,
      "outputs": []
    },
    {
      "cell_type": "code",
      "source": [
        "if __name__ == \"__main__\":\n",
        " \n",
        "    \"\"\" Loading model \"\"\"\n",
        "    with CustomObjectScope({'iou': iou, 'dice_coef': dice_coef, 'dice_loss': dice_loss}):\n",
        "        u_model = tf.keras.models.load_model(\"files/model.h5\")\n",
        "\n",
        "    \"\"\" Dataset \"\"\"\n",
        "    path = \"/content/drive/MyDrive/Colab Notebooks/Test Tumors/with mask\"\n",
        "    test_img=sorted(glob(os.path.join(path,\"MRI\" ,\"*.png\")))\n",
        "    ground_truth=sorted(glob(os.path.join(path,\"Mask\" ,\"*.png\")))\n",
        "    t=1\n",
        "    \"\"\" Predicting the mask \"\"\"\n",
        "    for x, y  in tqdm(zip(test_img,ground_truth), total=len(test_img)):\n",
        "        \"\"\" Extracing the image name. \"\"\"\n",
        "        image_name = x.split(\"/\")[-1]\n",
        "\n",
        "        \"\"\" Reading the image \"\"\"\n",
        "        img = cv2.imread(x, cv2.IMREAD_COLOR)\n",
        "        img = cv2.resize(img, (W, H))\n",
        "        img = cv2.cvtColor(img, cv2.COLOR_BGR2RGB)\n",
        "        x = img/255.0\n",
        "        x = x.astype(np.float32)\n",
        "        x = np.expand_dims(x, axis=0)\n",
        "\n",
        "        \"\"\" Reading the mask \"\"\"\n",
        "        img_y = cv2.imread(y, cv2.IMREAD_GRAYSCALE)\n",
        "        img_y = cv2.resize(img_y, (W, H))\n",
        "        img_y = np.expand_dims(img_y, axis=-1) \n",
        "        img_y = np.concatenate([img_y, img_y, img_y], axis=-1) \n",
        "\n",
        "        \"\"\" Predicting the mask. \"\"\"\n",
        "        y_pred = u_model.predict(x)[0] > 0.5\n",
        "        y_pred = y_pred.astype(np.int32)\n",
        "\n",
        "        \"\"\" Saving the predicted mask along with the image and GT \"\"\"\n",
        "        save_image_path = f\"/content/drive/MyDrive/Colab Notebooks/Results/{image_name}\"\n",
        "        y_pred = np.concatenate([y_pred, y_pred, y_pred], axis=-1)\n",
        "\n",
        "        sep_line = np.ones((H, 10, 3)) * 255\n",
        "\n",
        "        output_image = np.concatenate([img, sep_line, img_y, sep_line, y_pred*255], axis=1)\n",
        "        cv2.imwrite(save_image_path, output_image)"
      ],
      "metadata": {
        "colab": {
          "base_uri": "https://localhost:8080/"
        },
        "id": "FjDlBKjQUZo9",
        "outputId": "7a680e96-9d18-4074-ba63-eb59a5efced9"
      },
      "execution_count": null,
      "outputs": [
        {
          "output_type": "stream",
          "name": "stderr",
          "text": [
            "\r  0%|          | 0/7 [00:00<?, ?it/s]"
          ]
        },
        {
          "output_type": "stream",
          "name": "stdout",
          "text": [
            "1/1 [==============================] - 2s 2s/step\n"
          ]
        },
        {
          "output_type": "stream",
          "name": "stderr",
          "text": [
            "\r 14%|█▍        | 1/7 [00:03<00:20,  3.46s/it]"
          ]
        },
        {
          "output_type": "stream",
          "name": "stdout",
          "text": [
            "1/1 [==============================] - 0s 19ms/step\n"
          ]
        },
        {
          "output_type": "stream",
          "name": "stderr",
          "text": [
            "\r 29%|██▊       | 2/7 [00:04<00:11,  2.27s/it]"
          ]
        },
        {
          "output_type": "stream",
          "name": "stdout",
          "text": [
            "1/1 [==============================] - 0s 17ms/step\n"
          ]
        },
        {
          "output_type": "stream",
          "name": "stderr",
          "text": [
            "\r 43%|████▎     | 3/7 [00:06<00:07,  1.83s/it]"
          ]
        },
        {
          "output_type": "stream",
          "name": "stdout",
          "text": [
            "1/1 [==============================] - 0s 18ms/step\n"
          ]
        },
        {
          "output_type": "stream",
          "name": "stderr",
          "text": [
            "\r 57%|█████▋    | 4/7 [00:07<00:04,  1.64s/it]"
          ]
        },
        {
          "output_type": "stream",
          "name": "stdout",
          "text": [
            "1/1 [==============================] - 0s 19ms/step\n"
          ]
        },
        {
          "output_type": "stream",
          "name": "stderr",
          "text": [
            "\r 71%|███████▏  | 5/7 [00:08<00:03,  1.57s/it]"
          ]
        },
        {
          "output_type": "stream",
          "name": "stdout",
          "text": [
            "1/1 [==============================] - 0s 17ms/step\n"
          ]
        },
        {
          "output_type": "stream",
          "name": "stderr",
          "text": [
            "\r 86%|████████▌ | 6/7 [00:10<00:01,  1.50s/it]"
          ]
        },
        {
          "output_type": "stream",
          "name": "stdout",
          "text": [
            "1/1 [==============================] - 0s 19ms/step\n"
          ]
        },
        {
          "output_type": "stream",
          "name": "stderr",
          "text": [
            "100%|██████████| 7/7 [00:11<00:00,  1.68s/it]\n"
          ]
        }
      ]
    },
    {
      "cell_type": "code",
      "source": [
        "#For random image\n",
        "if __name__ == \"__main__\":\n",
        "\n",
        "    \"\"\" Loading model \"\"\"\n",
        "    with CustomObjectScope({'iou': iou, 'dice_coef': dice_coef, 'dice_loss': dice_loss}):\n",
        "        model = tf.keras.models.load_model(\"files/model.h5\")\n",
        "\n",
        "    img = cv2.imread(\"/content/drive/MyDrive/Nickparver_156MB/Testing/meningioma/Te-me_0014.jpg\", cv2.IMREAD_COLOR)\n",
        "    img = cv2.resize(img, (W, H))\n",
        "    x = img/255.0\n",
        "    x = x.astype(np.float32)\n",
        "    x = np.expand_dims(x, axis=0)\n",
        "\n",
        "    y_pred = u_model.predict(x)[0] > 0.7\n",
        "    y_pred = y_pred.astype(np.int32)\n",
        "    y_pred = np.concatenate([y_pred, y_pred, y_pred], axis=-1)\n",
        "\n",
        "    sep_line = np.ones((H, 10, 3)) * 255\n",
        "    output_img = np.concatenate([img,sep_line,y_pred*255], axis=1)\n",
        "    cv2.imwrite(\"Output_d.png\", output_img)"
      ],
      "metadata": {
        "colab": {
          "base_uri": "https://localhost:8080/"
        },
        "id": "4ssT_7_IUhOO",
        "outputId": "ca356531-87ae-49c5-e0c4-618d1690425b"
      },
      "execution_count": null,
      "outputs": [
        {
          "output_type": "stream",
          "name": "stdout",
          "text": [
            "1/1 [==============================] - 0s 18ms/step\n"
          ]
        }
      ]
    },
    {
      "cell_type": "markdown",
      "source": [
        "\n",
        "\n",
        "```\n",
        "# **Annotate tumor type with Bounding Box**\n",
        "```\n",
        "\n",
        "\n",
        "\n"
      ],
      "metadata": {
        "id": "wiKVp7Lrk6v7"
      }
    },
    {
      "cell_type": "code",
      "source": [
        "import os\n",
        "import numpy as np\n",
        "import cv2\n",
        "from glob import glob\n",
        "from tqdm import tqdm\n",
        "from skimage.measure import label, regionprops, find_contours"
      ],
      "metadata": {
        "id": "ZcS6MkBChGSQ"
      },
      "execution_count": null,
      "outputs": []
    },
    {
      "cell_type": "code",
      "source": [
        "\"\"\" Creating a directory \"\"\"\n",
        "def create_dir(path):\n",
        "    if not os.path.exists(path):\n",
        "        os.makedirs(path)"
      ],
      "metadata": {
        "id": "CIT88Ws3hJIh"
      },
      "execution_count": null,
      "outputs": []
    },
    {
      "cell_type": "code",
      "source": [
        "\"\"\" Convert a mask to border image \"\"\"\n",
        "def mask_to_border(mask):\n",
        "    h, w = mask.shape\n",
        "    border = np.zeros((h, w))\n",
        "\n",
        "    contours = find_contours(mask, 128)\n",
        "    for contour in contours:\n",
        "        for c in contour:\n",
        "            x = int(c[0])\n",
        "            y = int(c[1])\n",
        "            border[x][y] = 255\n",
        "\n",
        "    return border"
      ],
      "metadata": {
        "id": "Ie9hxTvUhNOt"
      },
      "execution_count": null,
      "outputs": []
    },
    {
      "cell_type": "code",
      "source": [
        "\"\"\" Mask to bounding boxes \"\"\"\n",
        "def mask_to_bbox(mask):\n",
        "    bboxes = []\n",
        "\n",
        "    mask = mask_to_border(mask)\n",
        "    lbl = label(mask)\n",
        "    props = regionprops(lbl)\n",
        "    for prop in props:\n",
        "        x1 = prop.bbox[1]\n",
        "        y1 = prop.bbox[0]\n",
        "\n",
        "        x2 = prop.bbox[3]\n",
        "        y2 = prop.bbox[2]\n",
        "\n",
        "        bboxes.append([x1, y1, x2, y2])\n",
        "\n",
        "    return bboxes"
      ],
      "metadata": {
        "id": "VbONA28ghRFJ"
      },
      "execution_count": null,
      "outputs": []
    },
    {
      "cell_type": "code",
      "source": [
        "def parse_mask(mask):\n",
        "    mask = np.expand_dims(mask, axis=-1)\n",
        "    mask = np.concatenate([mask, mask, mask], axis=-1)\n",
        "    return mask"
      ],
      "metadata": {
        "id": "Rm6M-GaVhWmf"
      },
      "execution_count": null,
      "outputs": []
    },
    {
      "cell_type": "code",
      "source": [
        "##Not required\n",
        "\n",
        "if __name__ == \"__main__\":\n",
        "    \"\"\" Load the dataset \"\"\"\n",
        "    path1 = \"/content/drive/MyDrive/Colab Notebooks/Test Tumors/with mask\"\n",
        "    images = sorted(glob(os.path.join(path1, \"MRI\", \"*.png\")))\n",
        "    masks = sorted(glob(os.path.join(path1, \"Mask\", \"*.png\")))\n",
        "\n",
        "    \"\"\" Create folder to save images \"\"\"\n",
        "    create_dir(\"results\")\n",
        "\n",
        "    \"\"\" Loop over the dataset \"\"\"\n",
        "    for x, y in tqdm(zip(images, masks), total=len(images)):\n",
        "        \"\"\" Extract the name \"\"\"\n",
        "        name = x.split(\"/\")[-1].split(\".\")[0]\n",
        "\n",
        "        \"\"\" Read image and mask \"\"\"\n",
        "        x = cv2.imread(x, cv2.IMREAD_COLOR)\n",
        "        y = cv2.imread(y, cv2.IMREAD_GRAYSCALE)\n",
        "\n",
        "        \"\"\" Detecting bounding boxes \"\"\"\n",
        "        bboxes = mask_to_bbox(y)\n",
        "\n",
        "        \"\"\" marking bounding box on image \"\"\"\n",
        "        for bbox in bboxes:\n",
        "            x = cv2.rectangle(x, (bbox[0], bbox[1]), (bbox[2], bbox[3]), (255, 0, 0), 2)\n",
        "\n",
        "        \"\"\" Saving the image \"\"\"\n",
        "        cat_image = np.concatenate([x, parse_mask(y)], axis=1)\n",
        "        cv2.imwrite(f\"results/{name}.png\", cat_image)"
      ],
      "metadata": {
        "colab": {
          "base_uri": "https://localhost:8080/"
        },
        "id": "ae_Vsc3BhZnB",
        "outputId": "6385c7fc-4066-430e-aeca-7bf5edeb2c99"
      },
      "execution_count": null,
      "outputs": [
        {
          "output_type": "stream",
          "name": "stderr",
          "text": [
            "100%|██████████| 7/7 [00:04<00:00,  1.46it/s]\n"
          ]
        }
      ]
    },
    {
      "cell_type": "code",
      "source": [
        "#Annotate the type of tumor"
      ],
      "metadata": {
        "id": "_0MFScT6i0-m"
      },
      "execution_count": null,
      "outputs": []
    },
    {
      "cell_type": "code",
      "source": [
        "from matplotlib import colors\n",
        "import matplotlib.pyplot as plt\n",
        "\n",
        "#first predict the tumor class\n",
        "test_mri_path = \"/content/drive/MyDrive/Colab Notebooks/Test_SOMC/Meningioma/SOMC_men_11.jpg\"\n",
        "img = test_mri_path\n",
        "image = cv2.imread(img)\n",
        "image = Image.fromarray(image, 'RGB')\n",
        "image = image.resize((SIZE, SIZE))\n",
        "plt.imshow(image)\n",
        "input_img = np.expand_dims(image, axis=0) #Expand dims so the input is (num images, x, y, class)\n",
        "print(\"The prediction for this image is: \", np.argmax(model.predict(input_img)))\n",
        "\n"
      ],
      "metadata": {
        "colab": {
          "base_uri": "https://localhost:8080/",
          "height": 304
        },
        "id": "FGK4JQhNjAt7",
        "outputId": "685bb3b5-d075-4f14-ce71-d71cbb2a1284"
      },
      "execution_count": null,
      "outputs": [
        {
          "output_type": "stream",
          "name": "stdout",
          "text": [
            "1/1 [==============================] - 0s 18ms/step\n",
            "The prediction for this image is:  1\n"
          ]
        },
        {
          "output_type": "display_data",
          "data": {
            "text/plain": [
              "<Figure size 432x288 with 1 Axes>"
            ],
            "image/png": "[encoded data removed]"
          },
          "metadata": {
            "needs_background": "light"
          }
        }
      ]
    },
    {
      "cell_type": "code",
      "source": [
        "#then show the tumor type"
      ],
      "metadata": {
        "id": "Nv3FXWpIqMdh"
      },
      "execution_count": null,
      "outputs": []
    },
    {
      "cell_type": "code",
      "source": [
        "prediction = np.argmax(model.predict(input_img))\n",
        "#print(prediction)\n",
        "if prediction==0:\n",
        "  tumor = 'Glioma'\n",
        "elif prediction==1:\n",
        "  tumor = 'Meningioma'\n",
        "elif prediction==2:\n",
        "  tumor = 'No Tumor'\n",
        "else:\n",
        "  tumor = 'pituitary'\n",
        "\n",
        "\n",
        "print(tumor)"
      ],
      "metadata": {
        "colab": {
          "base_uri": "https://localhost:8080/"
        },
        "id": "2eQgMsFcqXJY",
        "outputId": "da7e803c-4167-40d5-c6ed-3b039476eee5"
      },
      "execution_count": null,
      "outputs": [
        {
          "output_type": "stream",
          "name": "stdout",
          "text": [
            "1/1 [==============================] - 0s 17ms/step\n",
            "Meningioma\n"
          ]
        }
      ]
    },
    {
      "cell_type": "code",
      "source": [
        "#Now Segment the tumor part"
      ],
      "metadata": {
        "id": "u1hdn8VBrKWZ"
      },
      "execution_count": null,
      "outputs": []
    },
    {
      "cell_type": "code",
      "source": [
        "img = cv2.imread(img, cv2.IMREAD_COLOR)\n",
        "img = cv2.resize(img, (W, H))\n",
        "x = img/255.0\n",
        "x = x.astype(np.float32)\n",
        "x = np.expand_dims(x, axis=0)\n",
        "\n",
        "\n",
        "y_pred = u_model.predict(x)[0] > 0.7\n",
        "y_pred = y_pred.astype(np.int32)\n",
        "y_pred = np.concatenate([y_pred, y_pred, y_pred], axis=-1)\n",
        "\n",
        "sep_line = np.ones((H, 10, 3)) * 255\n",
        "output_img = np.concatenate([img,sep_line,y_pred*255], axis=1)\n",
        "cv2.imwrite(\"seg_result.png\", output_img)\n",
        "cv2.imwrite(\"seg_tumor_mask.png\", y_pred*255)#Save this for further use"
      ],
      "metadata": {
        "colab": {
          "base_uri": "https://localhost:8080/"
        },
        "id": "ebBWysu4rXQd",
        "outputId": "eeac4753-0eba-4253-a902-031a946a7754"
      },
      "execution_count": null,
      "outputs": [
        {
          "output_type": "stream",
          "name": "stdout",
          "text": [
            "1/1 [==============================] - 0s 21ms/step\n"
          ]
        },
        {
          "output_type": "execute_result",
          "data": {
            "text/plain": [
              "True"
            ]
          },
          "metadata": {},
          "execution_count": 168
        }
      ]
    },
    {
      "cell_type": "code",
      "source": [
        "#Create the bounding box "
      ],
      "metadata": {
        "id": "Rn-gnAF-rXUV"
      },
      "execution_count": null,
      "outputs": []
    },
    {
      "cell_type": "code",
      "source": [
        "images = test_mri_path\n",
        "img = cv2.imread(images, cv2.IMREAD_COLOR)\n",
        "img = cv2.resize(img, (256, 256))\n",
        "#cv2.imwrite(\"new.jpg\",img)"
      ],
      "metadata": {
        "id": "4wiErH4b5Spt"
      },
      "execution_count": null,
      "outputs": []
    },
    {
      "cell_type": "code",
      "source": [
        "mask1 = \"/content/seg_tumor_mask.png\"\n",
        "mask_1 = cv2.imread(mask1, cv2.IMREAD_GRAYSCALE)\n",
        "mask_1 = cv2.resize(mask_1, (256,256))#make sure mri and mask sizes are identical"
      ],
      "metadata": {
        "id": "E4L8vgm484fv"
      },
      "execution_count": null,
      "outputs": []
    },
    {
      "cell_type": "code",
      "source": [
        "\n",
        "        #\"\"\" Detecting bounding boxes \"\"\"\n",
        "bboxes = mask_to_bbox(mask_1)\n",
        "\n",
        "        #\"\"\" marking bounding box on image \"\"\"\n",
        "for bbox in bboxes:\n",
        "      img = cv2.rectangle(img, (bbox[0], bbox[1]), (bbox[2], bbox[3]), (255, 0, 0), 2)\n",
        "\n",
        "        #\"\"\" Saving the image \"\"\"\n",
        "cat_image = np.concatenate([img, parse_mask(mask_1)], axis=1)\n",
        "Tumor = tumor #taken from prediction\n",
        "cv2.putText(cat_image,Tumor, (bbox[0], bbox[1]), cv2.FONT_HERSHEY_SIMPLEX, 0.5, (255,255,255))\n",
        "cv2.imwrite(f\"output.png\", cat_image)"
      ],
      "metadata": {
        "colab": {
          "base_uri": "https://localhost:8080/"
        },
        "id": "liop4sS09fSM",
        "outputId": "9e086600-6017-4866-9f59-f9d753bdb81f"
      },
      "execution_count": null,
      "outputs": [
        {
          "output_type": "execute_result",
          "data": {
            "text/plain": [
              "True"
            ]
          },
          "metadata": {},
          "execution_count": 172
        }
      ]
    },
    {
      "cell_type": "code",
      "source": [],
      "metadata": {
        "id": "rASlRbeUB0zV"
      },
      "execution_count": null,
      "outputs": []
    }
  ]
}